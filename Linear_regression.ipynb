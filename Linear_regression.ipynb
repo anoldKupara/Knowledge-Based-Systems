{
  "nbformat": 4,
  "nbformat_minor": 0,
  "metadata": {
    "colab": {
      "name": " Linear regression.ipynb",
      "provenance": [],
      "collapsed_sections": [],
      "mount_file_id": "1z4kSlC9OvADBLUqvnk8aeiezdoE7zemd",
      "authorship_tag": "ABX9TyPF4w2GhxaSI3ez5JqfPRE9",
      "include_colab_link": true
    },
    "kernelspec": {
      "name": "python3",
      "display_name": "Python 3"
    },
    "language_info": {
      "name": "python"
    }
  },
  "cells": [
    {
      "cell_type": "markdown",
      "metadata": {
        "id": "view-in-github",
        "colab_type": "text"
      },
      "source": [
        "<a href=\"https://colab.research.google.com/github/anoldKupara/Machine-Learning-Course/blob/main/Linear_regression.ipynb\" target=\"_parent\"><img src=\"https://colab.research.google.com/assets/colab-badge.svg\" alt=\"Open In Colab\"/></a>"
      ]
    },
    {
      "cell_type": "code",
      "metadata": {
        "id": "BBYZuA4pDAkQ"
      },
      "source": [
        "import numpy as np\n",
        "import matplotlib.pyplot as plt\n",
        "import matplotlib.ticker as ticker\n",
        "\n",
        "from mpl_toolkits.mplot3d import Axes3D\n",
        "from sklearn.linear_model import LinearRegression\n",
        "from sklearn.pipeline import Pipeline\n",
        "from sklearn.preprocessing import StandardScaler\n",
        "\n",
        "%matplotlib inline"
      ],
      "execution_count": 3,
      "outputs": []
    },
    {
      "cell_type": "code",
      "metadata": {
        "id": "idcZrwO8DNvR"
      },
      "source": [
        "# Load data from CSV file\n",
        "# - column 1: population (x)\n",
        "# - column 2: profit (y)\n",
        "data = np.loadtxt('/content/drive/MyDrive/Colab Notebooks/Datasets/data/ml-ex1/ex1data1.txt', delimiter=',')"
      ],
      "execution_count": 4,
      "outputs": []
    },
    {
      "cell_type": "code",
      "metadata": {
        "id": "tjICjEpXDN3e"
      },
      "source": [
        "# Separate features (x) from target (y)\n",
        "X, y = np.hsplit(data, 2)"
      ],
      "execution_count": 5,
      "outputs": []
    },
    {
      "cell_type": "code",
      "metadata": {
        "id": "xVvjf5skDN8n"
      },
      "source": [
        "# Number of examples\n",
        "m = y.size"
      ],
      "execution_count": 6,
      "outputs": []
    },
    {
      "cell_type": "code",
      "metadata": {
        "id": "egX9qz2ADOAL",
        "colab": {
          "base_uri": "https://localhost:8080/"
        },
        "outputId": "05550dbd-f478-403b-c458-0431ebdd9bd5"
      },
      "source": [
        "# Fit a linear regression model (without regularization)\n",
        "model = LinearRegression()\n",
        "model.fit(X, y)"
      ],
      "execution_count": 7,
      "outputs": [
        {
          "output_type": "execute_result",
          "data": {
            "text/plain": [
              "LinearRegression(copy_X=True, fit_intercept=True, n_jobs=None, normalize=False)"
            ]
          },
          "metadata": {},
          "execution_count": 7
        }
      ]
    },
    {
      "cell_type": "code",
      "metadata": {
        "id": "RYvDztZ0DODg",
        "colab": {
          "base_uri": "https://localhost:8080/"
        },
        "outputId": "32d1176b-5516-4942-d101-bc5e4b833a67"
      },
      "source": [
        "# Obtain coefficients theta0 and theta1 from model\n",
        "theta0, theta1 = model.intercept_, model.coef_[0]\n",
        "theta0, theta1"
      ],
      "execution_count": 8,
      "outputs": [
        {
          "output_type": "execute_result",
          "data": {
            "text/plain": [
              "(array([-3.89578088]), array([1.19303364]))"
            ]
          },
          "metadata": {},
          "execution_count": 8
        }
      ]
    },
    {
      "cell_type": "code",
      "metadata": {
        "id": "m5c6irD8DOGq",
        "colab": {
          "base_uri": "https://localhost:8080/",
          "height": 298
        },
        "outputId": "be8a5020-e6c8-4b7a-ea83-ae5432f20e3a"
      },
      "source": [
        "# Plot data and regression line\n",
        "plt.plot(X, y, 'bx', label='Data')\n",
        "plt.plot(X, model.predict(X), 'r-', label='Regression')\n",
        "plt.xlabel('Population')\n",
        "plt.ylabel('Profit')\n",
        "plt.legend()"
      ],
      "execution_count": 9,
      "outputs": [
        {
          "output_type": "execute_result",
          "data": {
            "text/plain": [
              "<matplotlib.legend.Legend at 0x7f5540821350>"
            ]
          },
          "metadata": {},
          "execution_count": 9
        },
        {
          "output_type": "display_data",
          "data": {
            "image/png": "[encoded data removed]",
            "text/plain": [
              "<Figure size 432x288 with 1 Axes>"
            ]
          },
          "metadata": {
            "needs_background": "light"
          }
        }
      ]
    },
    {
      "cell_type": "code",
      "metadata": {
        "id": "VIQnerzEDOJd",
        "colab": {
          "base_uri": "https://localhost:8080/"
        },
        "outputId": "3227b1db-4024-47f4-ba23-ca9e970a11c2"
      },
      "source": [
        "# Training mean squared error\n",
        "np.mean((model.predict(X) - y) ** 2)"
      ],
      "execution_count": 10,
      "outputs": [
        {
          "output_type": "execute_result",
          "data": {
            "text/plain": [
              "8.953942751950358"
            ]
          },
          "metadata": {},
          "execution_count": 10
        }
      ]
    },
    {
      "cell_type": "code",
      "metadata": {
        "id": "90GgVsXiDONo",
        "colab": {
          "base_uri": "https://localhost:8080/"
        },
        "outputId": "de625873-1f3b-47e7-df69-219f39902192"
      },
      "source": [
        "# Training score\n",
        "model.score(X, y)"
      ],
      "execution_count": 11,
      "outputs": [
        {
          "output_type": "execute_result",
          "data": {
            "text/plain": [
              "0.7020315537841397"
            ]
          },
          "metadata": {},
          "execution_count": 11
        }
      ]
    },
    {
      "cell_type": "code",
      "metadata": {
        "id": "Lv9oUkCnDORy",
        "colab": {
          "base_uri": "https://localhost:8080/"
        },
        "outputId": "49975ea8-324d-45fc-fe71-ed1b8cdf0cd5"
      },
      "source": [
        "# Predict profit for populations of 35.000 and 70.000 \n",
        "model.predict(np.array([[3.5], [7.0]])) * 10000"
      ],
      "execution_count": 12,
      "outputs": [
        {
          "output_type": "execute_result",
          "data": {
            "text/plain": [
              "array([[ 2798.36876352],\n",
              "       [44554.54631015]])"
            ]
          },
          "metadata": {},
          "execution_count": 12
        }
      ]
    },
    {
      "cell_type": "code",
      "metadata": {
        "id": "XF79wwg6DOWf"
      },
      "source": [
        "# LinearRegression above internally added a column vector of 1s.\n",
        "# For the following calculations, this must be done explicitly.\n",
        "X = np.c_[np.ones(m), X]"
      ],
      "execution_count": 13,
      "outputs": []
    },
    {
      "cell_type": "code",
      "metadata": {
        "id": "QFSazdXUDqFQ",
        "colab": {
          "base_uri": "https://localhost:8080/"
        },
        "outputId": "31c204f4-7e33-4a1a-fec2-a8a40fa78fc4"
      },
      "source": [
        "# Compute least-squares solution with np.linalg.lstsq. \n",
        "# This is what LinearRegression actually does under the hood.\n",
        "Theta = np.linalg.lstsq(X, y)[0]\n",
        "Theta"
      ],
      "execution_count": 14,
      "outputs": [
        {
          "output_type": "stream",
          "text": [
            "/usr/local/lib/python3.7/dist-packages/ipykernel_launcher.py:3: FutureWarning: `rcond` parameter will change to the default of machine precision times ``max(M, N)`` where M and N are the input matrix dimensions.\n",
            "To use the future default and silence this warning we advise to pass `rcond=None`, to keep using the old, explicitly pass `rcond=-1`.\n",
            "  This is separate from the ipykernel package so we can avoid doing imports until\n"
          ],
          "name": "stderr"
        },
        {
          "output_type": "execute_result",
          "data": {
            "text/plain": [
              "array([[-3.89578088],\n",
              "       [ 1.19303364]])"
            ]
          },
          "metadata": {},
          "execution_count": 14
        }
      ]
    },
    {
      "cell_type": "code",
      "metadata": {
        "id": "gvwIkr7ODqJ3",
        "colab": {
          "base_uri": "https://localhost:8080/"
        },
        "outputId": "ac15628a-1956-4479-dbb0-a6225fc5c0da"
      },
      "source": [
        "# Solve analytically (without explicit inverse)\n",
        "Theta = np.linalg.solve(X.T.dot(X), X.T.dot(y))\n",
        "Theta"
      ],
      "execution_count": 15,
      "outputs": [
        {
          "output_type": "execute_result",
          "data": {
            "text/plain": [
              "array([[-3.89578088],\n",
              "       [ 1.19303364]])"
            ]
          },
          "metadata": {},
          "execution_count": 15
        }
      ]
    },
    {
      "cell_type": "code",
      "metadata": {
        "id": "sueCG9WwDqOJ",
        "colab": {
          "base_uri": "https://localhost:8080/"
        },
        "outputId": "1e5fa5ce-252e-48b7-b136-1c4d5b10e362"
      },
      "source": [
        "# Solve normal equation (explicit inverse)\n",
        "Theta = np.linalg.inv(X.T.dot(X)).dot(X.T).dot(y)\n",
        "Theta"
      ],
      "execution_count": 16,
      "outputs": [
        {
          "output_type": "execute_result",
          "data": {
            "text/plain": [
              "array([[-3.89578088],\n",
              "       [ 1.19303364]])"
            ]
          },
          "metadata": {},
          "execution_count": 16
        }
      ]
    },
    {
      "cell_type": "code",
      "metadata": {
        "id": "BK5SPu1fDqRf",
        "colab": {
          "base_uri": "https://localhost:8080/"
        },
        "outputId": "b7994a57-c0ec-48b0-a394-e78887e5864e"
      },
      "source": [
        "# Solve normal equation (explicit pseudo-inverse)\n",
        "Theta = np.linalg.pinv(X.T.dot(X)).dot(X.T).dot(y)\n",
        "Theta"
      ],
      "execution_count": 17,
      "outputs": [
        {
          "output_type": "execute_result",
          "data": {
            "text/plain": [
              "array([[-3.89578088],\n",
              "       [ 1.19303364]])"
            ]
          },
          "metadata": {},
          "execution_count": 17
        }
      ]
    },
    {
      "cell_type": "code",
      "metadata": {
        "id": "02i4OQYiDOZn"
      },
      "source": [
        "# Cost function (mean squared error)\n",
        "def cost(X, y, Theta):\n",
        "    diff = X.dot(Theta) - y\n",
        "    return np.sum(diff * diff, axis=0) / y.size"
      ],
      "execution_count": 18,
      "outputs": []
    },
    {
      "cell_type": "code",
      "metadata": {
        "id": "i2p2dEZ7DOdC",
        "colab": {
          "base_uri": "https://localhost:8080/",
          "height": 313
        },
        "outputId": "6f79f51c-d2d8-4b0a-de74-fa483197b022"
      },
      "source": [
        "# Create a 50*50 grid for Theta0 and Theta1 ranges\n",
        "Theta_grid = np.mgrid[-10:10:50j, -1:4:50j]\n",
        "\n",
        "# Theta values in an array of shape (2500,2)\n",
        "Thetas = np.c_[Theta_grid[0].ravel(), Theta_grid[1].ravel()]\n",
        "\n",
        "# Compute costs on grid points\n",
        "costs = cost(X, y, Thetas.T)\n",
        "\n",
        "# Cost values reshaped to grid\n",
        "cost_grid = costs.reshape(Theta_grid[0].shape)\n",
        "\n",
        "# Contour plot of cost function\n",
        "plt.contour(Theta_grid[0], Theta_grid[1], cost_grid, levels=[20, 40, 80, 160, 320, 640, 1280])\n",
        "\n",
        "# Plot optmimum\n",
        "plt.plot(Theta[0], Theta[1], 'rx')\n",
        "\n",
        "# Title and axis labels\n",
        "plt.xlabel('Theta0')\n",
        "plt.xlabel('Theta1')\n",
        "plt.title('Cost function')"
      ],
      "execution_count": 19,
      "outputs": [
        {
          "output_type": "execute_result",
          "data": {
            "text/plain": [
              "Text(0.5, 1.0, 'Cost function')"
            ]
          },
          "metadata": {},
          "execution_count": 19
        },
        {
          "output_type": "display_data",
          "data": {
            "image/png": "[encoded data removed]",
            "text/plain": [
              "<Figure size 432x288 with 1 Axes>"
            ]
          },
          "metadata": {
            "needs_background": "light"
          }
        }
      ]
    },
    {
      "cell_type": "code",
      "metadata": {
        "id": "tITZ0otjD51W"
      },
      "source": [
        "#Linear regression with multiple variables\n",
        "\n",
        "# Load data from CSV file\n",
        "# - column 1: house size in feet**2 (x1)\n",
        "# - column 2: number of bedrooms (x2)\n",
        "# - column 3: house price (y)\n",
        "data = np.loadtxt('/content/drive/MyDrive/Colab Notebooks/Datasets/data/ml-ex1/ex1data2.txt', delimiter=',')"
      ],
      "execution_count": 20,
      "outputs": []
    },
    {
      "cell_type": "code",
      "metadata": {
        "id": "xWzrMbl1ET1w"
      },
      "source": [
        "# Separate features (x1, x2) from target (y)\n",
        "X, y = np.hsplit(data, np.array([2]))"
      ],
      "execution_count": 21,
      "outputs": []
    },
    {
      "cell_type": "code",
      "metadata": {
        "id": "vQyXPBwqEXuX"
      },
      "source": [
        "# Number of examples\n",
        "m = y.size"
      ],
      "execution_count": 22,
      "outputs": []
    },
    {
      "cell_type": "code",
      "metadata": {
        "id": "PFQNCJR9EXyg"
      },
      "source": [
        "# Pipeline components\n",
        "scaler = StandardScaler()\n",
        "regr = LinearRegression()\n",
        "\n",
        "# Pipeline of feature scaler and linear regressor\n",
        "model = Pipeline([('scaler', scaler), ('regr', regr)])"
      ],
      "execution_count": 23,
      "outputs": []
    },
    {
      "cell_type": "code",
      "metadata": {
        "id": "MkxzqU_-EdZK",
        "colab": {
          "base_uri": "https://localhost:8080/"
        },
        "outputId": "74c892ac-c81f-49ea-b4a9-a569166c9339"
      },
      "source": [
        "# Run linear regression on scaled features\n",
        "model.fit(X, y)"
      ],
      "execution_count": 24,
      "outputs": [
        {
          "output_type": "execute_result",
          "data": {
            "text/plain": [
              "Pipeline(memory=None,\n",
              "         steps=[('scaler',\n",
              "                 StandardScaler(copy=True, with_mean=True, with_std=True)),\n",
              "                ('regr',\n",
              "                 LinearRegression(copy_X=True, fit_intercept=True, n_jobs=None,\n",
              "                                  normalize=False))],\n",
              "         verbose=False)"
            ]
          },
          "metadata": {},
          "execution_count": 24
        }
      ]
    },
    {
      "cell_type": "code",
      "metadata": {
        "id": "Z1rhKjhREdio",
        "colab": {
          "base_uri": "https://localhost:8080/",
          "height": 574
        },
        "outputId": "60d3c508-b532-4ab0-d2bc-760d012c7725"
      },
      "source": [
        "# Create a grid from feature min and max values\n",
        "grid_range = np.vstack([X.min(axis=0), X.max(axis=0)])\n",
        "grid = np.meshgrid(grid_range[:,0], grid_range[:,1])\n",
        "\n",
        "# Compute predictions from grid values\n",
        "X_grid = np.c_[grid[0].ravel(), grid[1].ravel()]\n",
        "y_grid = model.predict(X_grid).reshape(grid[0].shape)\n",
        "\n",
        "def plot_data_and_regression(fig, fignum, view_angle):\n",
        "    sp = fig.add_subplot(2, 1, fignum, projection='3d')\n",
        "    sp.view_init(view_angle, 90)\n",
        "    sp.set_xlabel('Square feet')\n",
        "    sp.set_ylabel('Bedrooms')\n",
        "    sp.set_zlabel('Price')\n",
        "    sp.set_title(f'angle = {view_angle}')\n",
        "    # Customize tick locators\n",
        "    sp.yaxis.set_major_locator(ticker.MultipleLocator(1.00))\n",
        "    sp.zaxis.set_major_locator(ticker.MultipleLocator(200000))\n",
        "    # Plot examples\n",
        "    sp.scatter(X[:,0], X[:,1], y)\n",
        "    # Plot regression area\n",
        "    sp.plot_surface(grid[0], grid[1], y_grid, color='y', alpha=0.2)\n",
        "\n",
        "# Create new figure\n",
        "fig = plt.figure(2, figsize=[9, 10])\n",
        " \n",
        "# Plot data and regression from two different angles\n",
        "plot_data_and_regression(fig, fignum=1, view_angle=20)\n",
        "plot_data_and_regression(fig, fignum=2, view_angle=75)"
      ],
      "execution_count": 25,
      "outputs": [
        {
          "output_type": "display_data",
          "data": {
            "image/png": "[encoded data removed]",
            "text/plain": [
              "<Figure size 648x720 with 2 Axes>"
            ]
          },
          "metadata": {
            "needs_background": "light"
          }
        }
      ]
    },
    {
      "cell_type": "code",
      "metadata": {
        "id": "92BShTZTEdn9",
        "colab": {
          "base_uri": "https://localhost:8080/"
        },
        "outputId": "3352e150-3099-4df3-872a-5f0cc5d9e6bf"
      },
      "source": [
        "# Training mean squared error\n",
        "np.mean((model.predict(X) - y) ** 2)"
      ],
      "execution_count": 26,
      "outputs": [
        {
          "output_type": "execute_result",
          "data": {
            "text/plain": [
              "4086560101.205656"
            ]
          },
          "metadata": {},
          "execution_count": 26
        }
      ]
    },
    {
      "cell_type": "code",
      "metadata": {
        "id": "0LeszoHEEdrX",
        "colab": {
          "base_uri": "https://localhost:8080/"
        },
        "outputId": "809018bc-242b-4afa-d819-7f811956c289"
      },
      "source": [
        "# Training score\n",
        "model.score(X, y)"
      ],
      "execution_count": 27,
      "outputs": [
        {
          "output_type": "execute_result",
          "data": {
            "text/plain": [
              "0.7329450180289143"
            ]
          },
          "metadata": {},
          "execution_count": 27
        }
      ]
    },
    {
      "cell_type": "code",
      "metadata": {
        "id": "OE_VH0bvEdvL"
      },
      "source": [
        "# Add a column of 1s\n",
        "X = np.c_[np.ones(m), X]"
      ],
      "execution_count": 28,
      "outputs": []
    },
    {
      "cell_type": "code",
      "metadata": {
        "id": "b3GiXcVIEX2q",
        "colab": {
          "base_uri": "https://localhost:8080/"
        },
        "outputId": "3d5ae8b9-06bb-41ff-cfd2-d695ea6fa71b"
      },
      "source": [
        "# Solve analytically (without explicit inverse)\n",
        "Theta = np.linalg.solve(X.T.dot(X), X.T.dot(y))\n",
        "Theta"
      ],
      "execution_count": 29,
      "outputs": [
        {
          "output_type": "execute_result",
          "data": {
            "text/plain": [
              "array([[89597.9095428 ],\n",
              "       [  139.21067402],\n",
              "       [-8738.01911233]])"
            ]
          },
          "metadata": {},
          "execution_count": 29
        }
      ]
    },
    {
      "cell_type": "code",
      "metadata": {
        "id": "6Zx0XMuZErq7",
        "colab": {
          "base_uri": "https://localhost:8080/"
        },
        "outputId": "786bd8c1-e1b4-4b22-a009-88357613ca95"
      },
      "source": [
        "# Solve normal equation (explicit pseudo-inverse)\n",
        "Theta = np.linalg.pinv(X.T.dot(X)).dot(X.T).dot(y)\n",
        "Theta"
      ],
      "execution_count": 30,
      "outputs": [
        {
          "output_type": "execute_result",
          "data": {
            "text/plain": [
              "array([[89597.90954361],\n",
              "       [  139.21067402],\n",
              "       [-8738.01911255]])"
            ]
          },
          "metadata": {},
          "execution_count": 30
        }
      ]
    },
    {
      "cell_type": "code",
      "metadata": {
        "id": "IFhjCqU2ErxW",
        "colab": {
          "base_uri": "https://localhost:8080/"
        },
        "outputId": "40aa4d35-a5bb-42ef-c1c2-5c5ff0b8c06b"
      },
      "source": [
        "# Compute cost of solution\n",
        "cost(X, y, Theta)"
      ],
      "execution_count": 31,
      "outputs": [
        {
          "output_type": "execute_result",
          "data": {
            "text/plain": [
              "array([4.0865601e+09])"
            ]
          },
          "metadata": {},
          "execution_count": 31
        }
      ]
    }
  ]
}