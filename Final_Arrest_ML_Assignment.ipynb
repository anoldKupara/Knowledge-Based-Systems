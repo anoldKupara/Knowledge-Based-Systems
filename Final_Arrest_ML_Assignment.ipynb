{
  "nbformat": 4,
  "nbformat_minor": 0,
  "metadata": {
    "colab": {
      "name": "Final_Arrest_ML_Assignment.ipynb",
      "provenance": [],
      "collapsed_sections": [],
      "authorship_tag": "ABX9TyMB3oTy4vkbQcD5b0Gn3Jca",
      "include_colab_link": true
    },
    "kernelspec": {
      "name": "python3",
      "display_name": "Python 3"
    },
    "language_info": {
      "name": "python"
    }
  },
  "cells": [
    {
      "cell_type": "markdown",
      "metadata": {
        "id": "view-in-github",
        "colab_type": "text"
      },
      "source": [
        "<a href=\"https://colab.research.google.com/github/anoldKupara/Machine-Learning-Course/blob/main/Final_Arrest_ML_Assignment.ipynb\" target=\"_parent\"><img src=\"https://colab.research.google.com/assets/colab-badge.svg\" alt=\"Open In Colab\"/></a>"
      ]
    },
    {
      "cell_type": "code",
      "metadata": {
        "id": "VaHAcEUhfSx7"
      },
      "source": [
        "import seaborn as sns\n",
        "import matplotlib.pyplot as plt\n",
        "import warnings\n",
        "warnings.filterwarnings('ignore')\n",
        "import pandas as pd\n",
        "from pandas.plotting import autocorrelation_plot\n",
        "from pandas import DataFrame\n",
        "from statsmodels.tsa.arima_model import ARIMA\n",
        "from matplotlib import pyplot\n",
        "from pandas import datetime\n",
        "from matplotlib import pyplot\n",
        "from statsmodels.tsa.arima_model import ARIMA\n",
        "from sklearn.metrics import mean_squared_error\n",
        "from sklearn.metrics import mean_absolute_error\n",
        "from sklearn.preprocessing import LabelEncoder\n",
        "from sklearn.linear_model import LinearRegression"
      ],
      "execution_count": 14,
      "outputs": []
    },
    {
      "cell_type": "code",
      "metadata": {
        "id": "s3xFeCTMfTcV",
        "colab": {
          "base_uri": "https://localhost:8080/",
          "height": 364
        },
        "outputId": "b92401b5-0ea2-4769-e5e2-f5d38953d1db"
      },
      "source": [
        "data = pd.read_csv('/content/drive/MyDrive/Colab Notebooks/Datasets/Copy of Arrest_Data_from_2010_to_Present.csv')\n",
        "data.head(5)"
      ],
      "execution_count": 15,
      "outputs": [
        {
          "output_type": "execute_result",
          "data": {
            "text/html": [
              "<div>\n",
              "<style scoped>\n",
              "    .dataframe tbody tr th:only-of-type {\n",
              "        vertical-align: middle;\n",
              "    }\n",
              "\n",
              "    .dataframe tbody tr th {\n",
              "        vertical-align: top;\n",
              "    }\n",
              "\n",
              "    .dataframe thead th {\n",
              "        text-align: right;\n",
              "    }\n",
              "</style>\n",
              "<table border=\"1\" class=\"dataframe\">\n",
              "  <thead>\n",
              "    <tr style=\"text-align: right;\">\n",
              "      <th></th>\n",
              "      <th>Report ID</th>\n",
              "      <th>Arrest Date</th>\n",
              "      <th>Time</th>\n",
              "      <th>Area ID</th>\n",
              "      <th>Area Name</th>\n",
              "      <th>Reporting District</th>\n",
              "      <th>Age</th>\n",
              "      <th>Sex Code</th>\n",
              "      <th>Descent Code</th>\n",
              "      <th>Charge Group Code</th>\n",
              "      <th>Charge Group Description</th>\n",
              "      <th>Arrest Type Code</th>\n",
              "      <th>Charge</th>\n",
              "      <th>Charge Description</th>\n",
              "      <th>Address</th>\n",
              "      <th>Cross Street</th>\n",
              "      <th>Location</th>\n",
              "    </tr>\n",
              "  </thead>\n",
              "  <tbody>\n",
              "    <tr>\n",
              "      <th>0</th>\n",
              "      <td>4248313</td>\n",
              "      <td>02/24/2015</td>\n",
              "      <td>1310.0</td>\n",
              "      <td>20.0</td>\n",
              "      <td>Olympic</td>\n",
              "      <td>2022.0</td>\n",
              "      <td>37.0</td>\n",
              "      <td>M</td>\n",
              "      <td>H</td>\n",
              "      <td>5.0</td>\n",
              "      <td>Burglary</td>\n",
              "      <td>F</td>\n",
              "      <td>459PC</td>\n",
              "      <td>BURGLARY</td>\n",
              "      <td>5TH</td>\n",
              "      <td>WILTON</td>\n",
              "      <td>(34.0653, -118.314)</td>\n",
              "    </tr>\n",
              "    <tr>\n",
              "      <th>1</th>\n",
              "      <td>191811472</td>\n",
              "      <td>05/03/2019</td>\n",
              "      <td>1700.0</td>\n",
              "      <td>18.0</td>\n",
              "      <td>Southeast</td>\n",
              "      <td>1802.0</td>\n",
              "      <td>23.0</td>\n",
              "      <td>F</td>\n",
              "      <td>B</td>\n",
              "      <td>NaN</td>\n",
              "      <td>NaN</td>\n",
              "      <td>M</td>\n",
              "      <td>653.22 PC</td>\n",
              "      <td>NaN</td>\n",
              "      <td>91ST</td>\n",
              "      <td>FIGUEROA</td>\n",
              "      <td>(33.9543, -118.2827)</td>\n",
              "    </tr>\n",
              "    <tr>\n",
              "      <th>2</th>\n",
              "      <td>4254777</td>\n",
              "      <td>02/26/2015</td>\n",
              "      <td>2010.0</td>\n",
              "      <td>19.0</td>\n",
              "      <td>Mission</td>\n",
              "      <td>1985.0</td>\n",
              "      <td>22.0</td>\n",
              "      <td>M</td>\n",
              "      <td>H</td>\n",
              "      <td>6.0</td>\n",
              "      <td>Larceny</td>\n",
              "      <td>M</td>\n",
              "      <td>459.5PC</td>\n",
              "      <td>SHOPLIFTING</td>\n",
              "      <td>8300    VAN NUYS                     BL</td>\n",
              "      <td>NaN</td>\n",
              "      <td>(34.2216, -118.4488)</td>\n",
              "    </tr>\n",
              "    <tr>\n",
              "      <th>3</th>\n",
              "      <td>5614161</td>\n",
              "      <td>04/29/2019</td>\n",
              "      <td>1040.0</td>\n",
              "      <td>8.0</td>\n",
              "      <td>West LA</td>\n",
              "      <td>842.0</td>\n",
              "      <td>41.0</td>\n",
              "      <td>M</td>\n",
              "      <td>H</td>\n",
              "      <td>3.0</td>\n",
              "      <td>Robbery</td>\n",
              "      <td>F</td>\n",
              "      <td>211PC</td>\n",
              "      <td>ROBBERY</td>\n",
              "      <td>11600    WILSHIRE                     BL</td>\n",
              "      <td>NaN</td>\n",
              "      <td>(34.0508, -118.4592)</td>\n",
              "    </tr>\n",
              "    <tr>\n",
              "      <th>4</th>\n",
              "      <td>5615197</td>\n",
              "      <td>04/30/2019</td>\n",
              "      <td>615.0</td>\n",
              "      <td>6.0</td>\n",
              "      <td>Hollywood</td>\n",
              "      <td>663.0</td>\n",
              "      <td>27.0</td>\n",
              "      <td>M</td>\n",
              "      <td>O</td>\n",
              "      <td>5.0</td>\n",
              "      <td>Burglary</td>\n",
              "      <td>F</td>\n",
              "      <td>459PC</td>\n",
              "      <td>BURGLARY</td>\n",
              "      <td>LA BREA</td>\n",
              "      <td>LEXINGTON</td>\n",
              "      <td>(34.0907, -118.3384)</td>\n",
              "    </tr>\n",
              "  </tbody>\n",
              "</table>\n",
              "</div>"
            ],
            "text/plain": [
              "   Report ID Arrest Date  ...  Cross Street              Location\n",
              "0    4248313  02/24/2015  ...        WILTON   (34.0653, -118.314)\n",
              "1  191811472  05/03/2019  ...      FIGUEROA  (33.9543, -118.2827)\n",
              "2    4254777  02/26/2015  ...           NaN  (34.2216, -118.4488)\n",
              "3    5614161  04/29/2019  ...           NaN  (34.0508, -118.4592)\n",
              "4    5615197  04/30/2019  ...     LEXINGTON  (34.0907, -118.3384)\n",
              "\n",
              "[5 rows x 17 columns]"
            ]
          },
          "metadata": {},
          "execution_count": 15
        }
      ]
    },
    {
      "cell_type": "code",
      "metadata": {
        "id": "2UXqmcPufThC",
        "colab": {
          "base_uri": "https://localhost:8080/"
        },
        "outputId": "b68dc014-dd7d-49b1-8d21-38a37e69e657"
      },
      "source": [
        "data.info()"
      ],
      "execution_count": 16,
      "outputs": [
        {
          "output_type": "stream",
          "text": [
            "<class 'pandas.core.frame.DataFrame'>\n",
            "RangeIndex: 1227521 entries, 0 to 1227520\n",
            "Data columns (total 17 columns):\n",
            " #   Column                    Non-Null Count    Dtype  \n",
            "---  ------                    --------------    -----  \n",
            " 0   Report ID                 1227521 non-null  object \n",
            " 1   Arrest Date               1227517 non-null  object \n",
            " 2   Time                      1227322 non-null  float64\n",
            " 3   Area ID                   1227517 non-null  float64\n",
            " 4   Area Name                 1227517 non-null  object \n",
            " 5   Reporting District        1227517 non-null  float64\n",
            " 6   Age                       1227517 non-null  float64\n",
            " 7   Sex Code                  1227517 non-null  object \n",
            " 8   Descent Code              1227517 non-null  object \n",
            " 9   Charge Group Code         1139951 non-null  float64\n",
            " 10  Charge Group Description  1139515 non-null  object \n",
            " 11  Arrest Type Code          1227516 non-null  object \n",
            " 12  Charge                    1227516 non-null  object \n",
            " 13  Charge Description        1139987 non-null  object \n",
            " 14  Address                   1227516 non-null  object \n",
            " 15  Cross Street              707334 non-null   object \n",
            " 16  Location                  1227516 non-null  object \n",
            "dtypes: float64(5), object(12)\n",
            "memory usage: 159.2+ MB\n"
          ],
          "name": "stdout"
        }
      ]
    },
    {
      "cell_type": "code",
      "metadata": {
        "id": "EvINm-tRfTo0",
        "colab": {
          "base_uri": "https://localhost:8080/",
          "height": 586
        },
        "outputId": "1a5513ba-8249-4801-db35-768c21a7fd94"
      },
      "source": [
        "#Data Cleaning\n",
        "\n",
        "to_drop =['Charge Group Code','Charge Description','Cross Street']\n",
        "data.drop(columns=to_drop,axis=1,inplace=True)\n",
        "data.head(10)"
      ],
      "execution_count": 17,
      "outputs": [
        {
          "output_type": "execute_result",
          "data": {
            "text/html": [
              "<div>\n",
              "<style scoped>\n",
              "    .dataframe tbody tr th:only-of-type {\n",
              "        vertical-align: middle;\n",
              "    }\n",
              "\n",
              "    .dataframe tbody tr th {\n",
              "        vertical-align: top;\n",
              "    }\n",
              "\n",
              "    .dataframe thead th {\n",
              "        text-align: right;\n",
              "    }\n",
              "</style>\n",
              "<table border=\"1\" class=\"dataframe\">\n",
              "  <thead>\n",
              "    <tr style=\"text-align: right;\">\n",
              "      <th></th>\n",
              "      <th>Report ID</th>\n",
              "      <th>Arrest Date</th>\n",
              "      <th>Time</th>\n",
              "      <th>Area ID</th>\n",
              "      <th>Area Name</th>\n",
              "      <th>Reporting District</th>\n",
              "      <th>Age</th>\n",
              "      <th>Sex Code</th>\n",
              "      <th>Descent Code</th>\n",
              "      <th>Charge Group Description</th>\n",
              "      <th>Arrest Type Code</th>\n",
              "      <th>Charge</th>\n",
              "      <th>Address</th>\n",
              "      <th>Location</th>\n",
              "    </tr>\n",
              "  </thead>\n",
              "  <tbody>\n",
              "    <tr>\n",
              "      <th>0</th>\n",
              "      <td>4248313</td>\n",
              "      <td>02/24/2015</td>\n",
              "      <td>1310.0</td>\n",
              "      <td>20.0</td>\n",
              "      <td>Olympic</td>\n",
              "      <td>2022.0</td>\n",
              "      <td>37.0</td>\n",
              "      <td>M</td>\n",
              "      <td>H</td>\n",
              "      <td>Burglary</td>\n",
              "      <td>F</td>\n",
              "      <td>459PC</td>\n",
              "      <td>5TH</td>\n",
              "      <td>(34.0653, -118.314)</td>\n",
              "    </tr>\n",
              "    <tr>\n",
              "      <th>1</th>\n",
              "      <td>191811472</td>\n",
              "      <td>05/03/2019</td>\n",
              "      <td>1700.0</td>\n",
              "      <td>18.0</td>\n",
              "      <td>Southeast</td>\n",
              "      <td>1802.0</td>\n",
              "      <td>23.0</td>\n",
              "      <td>F</td>\n",
              "      <td>B</td>\n",
              "      <td>NaN</td>\n",
              "      <td>M</td>\n",
              "      <td>653.22 PC</td>\n",
              "      <td>91ST</td>\n",
              "      <td>(33.9543, -118.2827)</td>\n",
              "    </tr>\n",
              "    <tr>\n",
              "      <th>2</th>\n",
              "      <td>4254777</td>\n",
              "      <td>02/26/2015</td>\n",
              "      <td>2010.0</td>\n",
              "      <td>19.0</td>\n",
              "      <td>Mission</td>\n",
              "      <td>1985.0</td>\n",
              "      <td>22.0</td>\n",
              "      <td>M</td>\n",
              "      <td>H</td>\n",
              "      <td>Larceny</td>\n",
              "      <td>M</td>\n",
              "      <td>459.5PC</td>\n",
              "      <td>8300    VAN NUYS                     BL</td>\n",
              "      <td>(34.2216, -118.4488)</td>\n",
              "    </tr>\n",
              "    <tr>\n",
              "      <th>3</th>\n",
              "      <td>5614161</td>\n",
              "      <td>04/29/2019</td>\n",
              "      <td>1040.0</td>\n",
              "      <td>8.0</td>\n",
              "      <td>West LA</td>\n",
              "      <td>842.0</td>\n",
              "      <td>41.0</td>\n",
              "      <td>M</td>\n",
              "      <td>H</td>\n",
              "      <td>Robbery</td>\n",
              "      <td>F</td>\n",
              "      <td>211PC</td>\n",
              "      <td>11600    WILSHIRE                     BL</td>\n",
              "      <td>(34.0508, -118.4592)</td>\n",
              "    </tr>\n",
              "    <tr>\n",
              "      <th>4</th>\n",
              "      <td>5615197</td>\n",
              "      <td>04/30/2019</td>\n",
              "      <td>615.0</td>\n",
              "      <td>6.0</td>\n",
              "      <td>Hollywood</td>\n",
              "      <td>663.0</td>\n",
              "      <td>27.0</td>\n",
              "      <td>M</td>\n",
              "      <td>O</td>\n",
              "      <td>Burglary</td>\n",
              "      <td>F</td>\n",
              "      <td>459PC</td>\n",
              "      <td>LA BREA</td>\n",
              "      <td>(34.0907, -118.3384)</td>\n",
              "    </tr>\n",
              "    <tr>\n",
              "      <th>5</th>\n",
              "      <td>5615701</td>\n",
              "      <td>04/30/2019</td>\n",
              "      <td>1100.0</td>\n",
              "      <td>9.0</td>\n",
              "      <td>Van Nuys</td>\n",
              "      <td>901.0</td>\n",
              "      <td>2.0</td>\n",
              "      <td>F</td>\n",
              "      <td>H</td>\n",
              "      <td>NaN</td>\n",
              "      <td>D</td>\n",
              "      <td>300(B)WIC</td>\n",
              "      <td>RAYMER</td>\n",
              "      <td>(34.2149, -118.4674)</td>\n",
              "    </tr>\n",
              "    <tr>\n",
              "      <th>6</th>\n",
              "      <td>4256466</td>\n",
              "      <td>02/28/2015</td>\n",
              "      <td>1430.0</td>\n",
              "      <td>18.0</td>\n",
              "      <td>Southeast</td>\n",
              "      <td>1824.0</td>\n",
              "      <td>22.0</td>\n",
              "      <td>M</td>\n",
              "      <td>B</td>\n",
              "      <td>Burglary</td>\n",
              "      <td>F</td>\n",
              "      <td>459PC</td>\n",
              "      <td>103RD</td>\n",
              "      <td>(33.947, -118.2594)</td>\n",
              "    </tr>\n",
              "    <tr>\n",
              "      <th>7</th>\n",
              "      <td>4256564</td>\n",
              "      <td>02/28/2015</td>\n",
              "      <td>1715.0</td>\n",
              "      <td>10.0</td>\n",
              "      <td>West Valley</td>\n",
              "      <td>1039.0</td>\n",
              "      <td>16.0</td>\n",
              "      <td>M</td>\n",
              "      <td>H</td>\n",
              "      <td>Robbery</td>\n",
              "      <td>F</td>\n",
              "      <td>211PC</td>\n",
              "      <td>VANOWEN</td>\n",
              "      <td>(34.1939, -118.4836)</td>\n",
              "    </tr>\n",
              "    <tr>\n",
              "      <th>8</th>\n",
              "      <td>5616892</td>\n",
              "      <td>05/01/2019</td>\n",
              "      <td>1710.0</td>\n",
              "      <td>12.0</td>\n",
              "      <td>77th Street</td>\n",
              "      <td>1245.0</td>\n",
              "      <td>28.0</td>\n",
              "      <td>F</td>\n",
              "      <td>B</td>\n",
              "      <td>Robbery</td>\n",
              "      <td>F</td>\n",
              "      <td>211PC</td>\n",
              "      <td>VERMONT</td>\n",
              "      <td>(33.9746, -118.2918)</td>\n",
              "    </tr>\n",
              "    <tr>\n",
              "      <th>9</th>\n",
              "      <td>5617003</td>\n",
              "      <td>05/01/2019</td>\n",
              "      <td>1010.0</td>\n",
              "      <td>16.0</td>\n",
              "      <td>Foothill</td>\n",
              "      <td>1601.0</td>\n",
              "      <td>39.0</td>\n",
              "      <td>M</td>\n",
              "      <td>H</td>\n",
              "      <td>NaN</td>\n",
              "      <td>O</td>\n",
              "      <td>21 841A1US</td>\n",
              "      <td>FOOTHILL                     BL</td>\n",
              "      <td>(34.2868, -118.4081)</td>\n",
              "    </tr>\n",
              "  </tbody>\n",
              "</table>\n",
              "</div>"
            ],
            "text/plain": [
              "   Report ID  ...              Location\n",
              "0    4248313  ...   (34.0653, -118.314)\n",
              "1  191811472  ...  (33.9543, -118.2827)\n",
              "2    4254777  ...  (34.2216, -118.4488)\n",
              "3    5614161  ...  (34.0508, -118.4592)\n",
              "4    5615197  ...  (34.0907, -118.3384)\n",
              "5    5615701  ...  (34.2149, -118.4674)\n",
              "6    4256466  ...   (33.947, -118.2594)\n",
              "7    4256564  ...  (34.1939, -118.4836)\n",
              "8    5616892  ...  (33.9746, -118.2918)\n",
              "9    5617003  ...  (34.2868, -118.4081)\n",
              "\n",
              "[10 rows x 14 columns]"
            ]
          },
          "metadata": {},
          "execution_count": 17
        }
      ]
    },
    {
      "cell_type": "code",
      "metadata": {
        "id": "UUd84GgsfTtq",
        "colab": {
          "base_uri": "https://localhost:8080/"
        },
        "outputId": "42b2762c-094e-44be-8258-6c53d357376e"
      },
      "source": [
        "data['Arrest Date']= data['Arrest Date'].fillna(data['Arrest Date'].min)\n",
        "data['Area Name']= data['Area Name'].fillna(data['Area Name'].min)\n",
        "data['Reporting District']= data['Reporting District'].fillna(data['Reporting District'].min)\n",
        "data['Charge Group Description']= data['Charge Group Description'].dropna()\n",
        "data['Time']= data['Time'].interpolate()\n",
        "data = data.dropna()\n",
        "data['Charge Group Description'].isnull().sum()"
      ],
      "execution_count": 18,
      "outputs": [
        {
          "output_type": "execute_result",
          "data": {
            "text/plain": [
              "0"
            ]
          },
          "metadata": {},
          "execution_count": 18
        }
      ]
    },
    {
      "cell_type": "code",
      "metadata": {
        "id": "sUPLLdr9fTy4",
        "colab": {
          "base_uri": "https://localhost:8080/"
        },
        "outputId": "ec68ad7e-3955-41cc-985a-b828ee83f25c"
      },
      "source": [
        "data.isnull().sum()"
      ],
      "execution_count": 19,
      "outputs": [
        {
          "output_type": "execute_result",
          "data": {
            "text/plain": [
              "Report ID                   0\n",
              "Arrest Date                 0\n",
              "Time                        0\n",
              "Area ID                     0\n",
              "Area Name                   0\n",
              "Reporting District          0\n",
              "Age                         0\n",
              "Sex Code                    0\n",
              "Descent Code                0\n",
              "Charge Group Description    0\n",
              "Arrest Type Code            0\n",
              "Charge                      0\n",
              "Address                     0\n",
              "Location                    0\n",
              "dtype: int64"
            ]
          },
          "metadata": {},
          "execution_count": 19
        }
      ]
    },
    {
      "cell_type": "code",
      "metadata": {
        "id": "XTzCfaoxfT33",
        "colab": {
          "base_uri": "https://localhost:8080/"
        },
        "outputId": "485a39a0-ea82-4e88-e28d-a1c65b0e4eed"
      },
      "source": [
        "data['Arrest Date'] = pd.to_datetime(data['Arrest Date'])\n",
        "data.info()"
      ],
      "execution_count": 20,
      "outputs": [
        {
          "output_type": "stream",
          "text": [
            "<class 'pandas.core.frame.DataFrame'>\n",
            "Int64Index: 1139514 entries, 0 to 1227515\n",
            "Data columns (total 14 columns):\n",
            " #   Column                    Non-Null Count    Dtype         \n",
            "---  ------                    --------------    -----         \n",
            " 0   Report ID                 1139514 non-null  object        \n",
            " 1   Arrest Date               1139514 non-null  datetime64[ns]\n",
            " 2   Time                      1139514 non-null  float64       \n",
            " 3   Area ID                   1139514 non-null  float64       \n",
            " 4   Area Name                 1139514 non-null  object        \n",
            " 5   Reporting District        1139514 non-null  object        \n",
            " 6   Age                       1139514 non-null  float64       \n",
            " 7   Sex Code                  1139514 non-null  object        \n",
            " 8   Descent Code              1139514 non-null  object        \n",
            " 9   Charge Group Description  1139514 non-null  object        \n",
            " 10  Arrest Type Code          1139514 non-null  object        \n",
            " 11  Charge                    1139514 non-null  object        \n",
            " 12  Address                   1139514 non-null  object        \n",
            " 13  Location                  1139514 non-null  object        \n",
            "dtypes: datetime64[ns](1), float64(3), object(10)\n",
            "memory usage: 130.4+ MB\n"
          ],
          "name": "stdout"
        }
      ]
    },
    {
      "cell_type": "code",
      "metadata": {
        "id": "IIj-DHt8fT8P"
      },
      "source": [
        "data['year'] = data['Arrest Date'].dt.year\n",
        "data['month'] = data['Arrest Date'].dt.month"
      ],
      "execution_count": 21,
      "outputs": []
    },
    {
      "cell_type": "code",
      "metadata": {
        "id": "YjPiKXQblV0m"
      },
      "source": [
        "#creation of datasets\n",
        "data_2010to2018=data[(data['year']>=2010) & (data['year']<=2018) ]\n",
        "new_datasets= data[data['year']==2018]"
      ],
      "execution_count": 22,
      "outputs": []
    },
    {
      "cell_type": "code",
      "metadata": {
        "id": "6zXlRCCtfT_8",
        "colab": {
          "base_uri": "https://localhost:8080/"
        },
        "outputId": "bc830699-1b55-4a1d-aa43-4a4ad3442735"
      },
      "source": [
        "#Q1. How many bookings of arrestees were made in 2018?¶\n",
        "\n",
        "new_datasets['Report ID'].count()"
      ],
      "execution_count": 23,
      "outputs": [
        {
          "output_type": "execute_result",
          "data": {
            "text/plain": [
              "30332"
            ]
          },
          "metadata": {},
          "execution_count": 23
        }
      ]
    },
    {
      "cell_type": "code",
      "metadata": {
        "id": "2qRLmhAMfUD-",
        "colab": {
          "base_uri": "https://localhost:8080/",
          "height": 362
        },
        "outputId": "10d681fe-f71f-4a36-9b1c-88267e6a4cae"
      },
      "source": [
        "#Q2.How many bookings of arrestees were made in the area with the most arrests in 2018?\n",
        "\n",
        "new_datasets.groupby('Area Name')['Report ID'].count().reset_index().sort_values('Report ID',ascending=False).head(10)"
      ],
      "execution_count": 24,
      "outputs": [
        {
          "output_type": "execute_result",
          "data": {
            "text/html": [
              "<div>\n",
              "<style scoped>\n",
              "    .dataframe tbody tr th:only-of-type {\n",
              "        vertical-align: middle;\n",
              "    }\n",
              "\n",
              "    .dataframe tbody tr th {\n",
              "        vertical-align: top;\n",
              "    }\n",
              "\n",
              "    .dataframe thead th {\n",
              "        text-align: right;\n",
              "    }\n",
              "</style>\n",
              "<table border=\"1\" class=\"dataframe\">\n",
              "  <thead>\n",
              "    <tr style=\"text-align: right;\">\n",
              "      <th></th>\n",
              "      <th>Area Name</th>\n",
              "      <th>Report ID</th>\n",
              "    </tr>\n",
              "  </thead>\n",
              "  <tbody>\n",
              "    <tr>\n",
              "      <th>1</th>\n",
              "      <td>Central</td>\n",
              "      <td>5011</td>\n",
              "    </tr>\n",
              "    <tr>\n",
              "      <th>6</th>\n",
              "      <td>Hollywood</td>\n",
              "      <td>2798</td>\n",
              "    </tr>\n",
              "    <tr>\n",
              "      <th>13</th>\n",
              "      <td>Rampart</td>\n",
              "      <td>1935</td>\n",
              "    </tr>\n",
              "    <tr>\n",
              "      <th>12</th>\n",
              "      <td>Pacific</td>\n",
              "      <td>1700</td>\n",
              "    </tr>\n",
              "    <tr>\n",
              "      <th>17</th>\n",
              "      <td>Van Nuys</td>\n",
              "      <td>1532</td>\n",
              "    </tr>\n",
              "    <tr>\n",
              "      <th>9</th>\n",
              "      <td>Newton</td>\n",
              "      <td>1490</td>\n",
              "    </tr>\n",
              "    <tr>\n",
              "      <th>15</th>\n",
              "      <td>Southwest</td>\n",
              "      <td>1424</td>\n",
              "    </tr>\n",
              "    <tr>\n",
              "      <th>4</th>\n",
              "      <td>Harbor</td>\n",
              "      <td>1355</td>\n",
              "    </tr>\n",
              "    <tr>\n",
              "      <th>0</th>\n",
              "      <td>77th Street</td>\n",
              "      <td>1303</td>\n",
              "    </tr>\n",
              "    <tr>\n",
              "      <th>10</th>\n",
              "      <td>Northeast</td>\n",
              "      <td>1299</td>\n",
              "    </tr>\n",
              "  </tbody>\n",
              "</table>\n",
              "</div>"
            ],
            "text/plain": [
              "      Area Name  Report ID\n",
              "1       Central       5011\n",
              "6     Hollywood       2798\n",
              "13      Rampart       1935\n",
              "12      Pacific       1700\n",
              "17     Van Nuys       1532\n",
              "9        Newton       1490\n",
              "15    Southwest       1424\n",
              "4        Harbor       1355\n",
              "0   77th Street       1303\n",
              "10    Northeast       1299"
            ]
          },
          "metadata": {},
          "execution_count": 24
        }
      ]
    },
    {
      "cell_type": "code",
      "metadata": {
        "id": "dybAXEfafUHo",
        "colab": {
          "base_uri": "https://localhost:8080/",
          "height": 831
        },
        "outputId": "fae297b7-3d3b-4b93-dc19-49b7cb67414c"
      },
      "source": [
        "#Q3.There are differences between the average age of an arrestee for the various charge groups. Find the average age of arrestees per each charge group.\n",
        "\n",
        "new_datasets.groupby('Charge Group Description')['Age'].mean().reset_index().sort_values('Age',ascending=False).drop(index=[19,17])"
      ],
      "execution_count": 25,
      "outputs": [
        {
          "output_type": "execute_result",
          "data": {
            "text/html": [
              "<div>\n",
              "<style scoped>\n",
              "    .dataframe tbody tr th:only-of-type {\n",
              "        vertical-align: middle;\n",
              "    }\n",
              "\n",
              "    .dataframe tbody tr th {\n",
              "        vertical-align: top;\n",
              "    }\n",
              "\n",
              "    .dataframe thead th {\n",
              "        text-align: right;\n",
              "    }\n",
              "</style>\n",
              "<table border=\"1\" class=\"dataframe\">\n",
              "  <thead>\n",
              "    <tr style=\"text-align: right;\">\n",
              "      <th></th>\n",
              "      <th>Charge Group Description</th>\n",
              "      <th>Age</th>\n",
              "    </tr>\n",
              "  </thead>\n",
              "  <tbody>\n",
              "    <tr>\n",
              "      <th>6</th>\n",
              "      <td>Drunkeness</td>\n",
              "      <td>44.219972</td>\n",
              "    </tr>\n",
              "    <tr>\n",
              "      <th>13</th>\n",
              "      <td>Liquor Laws</td>\n",
              "      <td>42.540955</td>\n",
              "    </tr>\n",
              "    <tr>\n",
              "      <th>3</th>\n",
              "      <td>Disorderly Conduct</td>\n",
              "      <td>41.924290</td>\n",
              "    </tr>\n",
              "    <tr>\n",
              "      <th>10</th>\n",
              "      <td>Gambling</td>\n",
              "      <td>40.557047</td>\n",
              "    </tr>\n",
              "    <tr>\n",
              "      <th>4</th>\n",
              "      <td>Disturbing the Peace</td>\n",
              "      <td>39.727273</td>\n",
              "    </tr>\n",
              "    <tr>\n",
              "      <th>0</th>\n",
              "      <td>Against Family/Child</td>\n",
              "      <td>36.950355</td>\n",
              "    </tr>\n",
              "    <tr>\n",
              "      <th>24</th>\n",
              "      <td>Sex (except rape/prst)</td>\n",
              "      <td>36.555838</td>\n",
              "    </tr>\n",
              "    <tr>\n",
              "      <th>14</th>\n",
              "      <td>Miscellaneous Other Violations</td>\n",
              "      <td>36.252076</td>\n",
              "    </tr>\n",
              "    <tr>\n",
              "      <th>21</th>\n",
              "      <td>Rape</td>\n",
              "      <td>36.203704</td>\n",
              "    </tr>\n",
              "    <tr>\n",
              "      <th>16</th>\n",
              "      <td>Narcotic Drug Laws</td>\n",
              "      <td>36.097954</td>\n",
              "    </tr>\n",
              "    <tr>\n",
              "      <th>9</th>\n",
              "      <td>Fraud/Embezzlement</td>\n",
              "      <td>35.689076</td>\n",
              "    </tr>\n",
              "    <tr>\n",
              "      <th>8</th>\n",
              "      <td>Forgery/Counterfeit</td>\n",
              "      <td>35.066667</td>\n",
              "    </tr>\n",
              "    <tr>\n",
              "      <th>7</th>\n",
              "      <td>Federal Offenses</td>\n",
              "      <td>34.600000</td>\n",
              "    </tr>\n",
              "    <tr>\n",
              "      <th>5</th>\n",
              "      <td>Driving Under Influence</td>\n",
              "      <td>34.428291</td>\n",
              "    </tr>\n",
              "    <tr>\n",
              "      <th>1</th>\n",
              "      <td>Aggravated Assault</td>\n",
              "      <td>33.907359</td>\n",
              "    </tr>\n",
              "    <tr>\n",
              "      <th>22</th>\n",
              "      <td>Receive Stolen Property</td>\n",
              "      <td>33.687500</td>\n",
              "    </tr>\n",
              "    <tr>\n",
              "      <th>18</th>\n",
              "      <td>Other Assaults</td>\n",
              "      <td>33.451139</td>\n",
              "    </tr>\n",
              "    <tr>\n",
              "      <th>15</th>\n",
              "      <td>Moving Traffic Violations</td>\n",
              "      <td>33.085622</td>\n",
              "    </tr>\n",
              "    <tr>\n",
              "      <th>12</th>\n",
              "      <td>Larceny</td>\n",
              "      <td>32.725796</td>\n",
              "    </tr>\n",
              "    <tr>\n",
              "      <th>20</th>\n",
              "      <td>Prostitution/Allied</td>\n",
              "      <td>31.620470</td>\n",
              "    </tr>\n",
              "    <tr>\n",
              "      <th>11</th>\n",
              "      <td>Homicide</td>\n",
              "      <td>30.896552</td>\n",
              "    </tr>\n",
              "    <tr>\n",
              "      <th>2</th>\n",
              "      <td>Burglary</td>\n",
              "      <td>30.366755</td>\n",
              "    </tr>\n",
              "    <tr>\n",
              "      <th>25</th>\n",
              "      <td>Vehicle Theft</td>\n",
              "      <td>30.095624</td>\n",
              "    </tr>\n",
              "    <tr>\n",
              "      <th>26</th>\n",
              "      <td>Weapon (carry/poss)</td>\n",
              "      <td>29.477178</td>\n",
              "    </tr>\n",
              "    <tr>\n",
              "      <th>23</th>\n",
              "      <td>Robbery</td>\n",
              "      <td>27.538739</td>\n",
              "    </tr>\n",
              "  </tbody>\n",
              "</table>\n",
              "</div>"
            ],
            "text/plain": [
              "          Charge Group Description        Age\n",
              "6                       Drunkeness  44.219972\n",
              "13                     Liquor Laws  42.540955\n",
              "3               Disorderly Conduct  41.924290\n",
              "10                        Gambling  40.557047\n",
              "4             Disturbing the Peace  39.727273\n",
              "0             Against Family/Child  36.950355\n",
              "24          Sex (except rape/prst)  36.555838\n",
              "14  Miscellaneous Other Violations  36.252076\n",
              "21                            Rape  36.203704\n",
              "16              Narcotic Drug Laws  36.097954\n",
              "9               Fraud/Embezzlement  35.689076\n",
              "8              Forgery/Counterfeit  35.066667\n",
              "7                 Federal Offenses  34.600000\n",
              "5          Driving Under Influence  34.428291\n",
              "1               Aggravated Assault  33.907359\n",
              "22         Receive Stolen Property  33.687500\n",
              "18                  Other Assaults  33.451139\n",
              "15       Moving Traffic Violations  33.085622\n",
              "12                         Larceny  32.725796\n",
              "20             Prostitution/Allied  31.620470\n",
              "11                        Homicide  30.896552\n",
              "2                         Burglary  30.366755\n",
              "25                   Vehicle Theft  30.095624\n",
              "26             Weapon (carry/poss)  29.477178\n",
              "23                         Robbery  27.538739"
            ]
          },
          "metadata": {},
          "execution_count": 25
        }
      ]
    },
    {
      "cell_type": "code",
      "metadata": {
        "id": "GVH7h-18fULE",
        "colab": {
          "base_uri": "https://localhost:8080/"
        },
        "outputId": "61e08d3c-2872-4885-a514-be4b8d5208d2"
      },
      "source": [
        "#Q4 What is the 95% quantile of the age of the arrestee in 2018? Only consider the following charge groups for your analysis\n",
        "\n",
        "columns= ['Vehicle Theft' ,\n",
        "'Robbery',\n",
        "'Burglary',\n",
        "'Receive Stolen Property']\n",
        "my_quantile = new_datasets[new_datasets['Charge Group Description'].isin(columns)]['Age'].quantile(0.95)\n",
        "my_quantile"
      ],
      "execution_count": 26,
      "outputs": [
        {
          "output_type": "execute_result",
          "data": {
            "text/plain": [
              "52.0"
            ]
          },
          "metadata": {},
          "execution_count": 26
        }
      ]
    },
    {
      "cell_type": "code",
      "metadata": {
        "id": "wiTSeDr7fUO-",
        "colab": {
          "base_uri": "https://localhost:8080/",
          "height": 266
        },
        "outputId": "e2cc69b8-5e3c-4293-918c-39bb60289dee"
      },
      "source": [
        "new_datasets['Area Name'].value_counts().head().plot(kind='pie')"
      ],
      "execution_count": 27,
      "outputs": [
        {
          "output_type": "execute_result",
          "data": {
            "text/plain": [
              "<matplotlib.axes._subplots.AxesSubplot at 0x7f635b84b3d0>"
            ]
          },
          "metadata": {},
          "execution_count": 27
        },
        {
          "output_type": "display_data",
          "data": {
            "image/png": "[encoded data removed]",
            "text/plain": [
              "<Figure size 432x288 with 1 Axes>"
            ]
          },
          "metadata": {}
        }
      ]
    },
    {
      "cell_type": "code",
      "metadata": {
        "id": "YPed6lWWfUS3",
        "colab": {
          "base_uri": "https://localhost:8080/",
          "height": 338
        },
        "outputId": "a6f86da1-b686-4289-c0d0-df2769550fb9"
      },
      "source": [
        "new_datasets['Charge'].value_counts().head().plot(kind='bar')"
      ],
      "execution_count": 28,
      "outputs": [
        {
          "output_type": "execute_result",
          "data": {
            "text/plain": [
              "<matplotlib.axes._subplots.AxesSubplot at 0x7f634ebccb10>"
            ]
          },
          "metadata": {},
          "execution_count": 28
        },
        {
          "output_type": "display_data",
          "data": {
            "image/png": "[encoded data removed]",
            "text/plain": [
              "<Figure size 432x288 with 1 Axes>"
            ]
          },
          "metadata": {
            "needs_background": "light"
          }
        }
      ]
    },
    {
      "cell_type": "code",
      "metadata": {
        "id": "gbhnGvpQfUWU"
      },
      "source": [
        "#Q5. Felony arrest incidents have been dropping over the years. Using a trend line (linear estimation) for the data from 2010 and 2018 (inclusive), what is the projected number of felony arrests in 2019? Round to the nearest integer. Note, the data set includes arrests for misdemeanor, felonies, etc.\n",
        "#Disclaimer we select felony crime from our datasets but some crime can be classifed for both felony and misdemeanor\n",
        "\n",
        "i = data_2010to2018[(data_2010to2018['Charge Group Description'] == 'Larceny')].index\n",
        "data_2010to2018.drop(i,inplace =True)\n",
        "i = data_2010to2018[(data_2010to2018['Charge Group Description'] == 'Other Assaults')].index\n",
        "data_2010to2018.drop(i,inplace =True)\n",
        "i = data_2010to2018[(data_2010to2018['Charge Group Description'] == 'Receive Stolen Property')].index\n",
        "data_2010to2018.drop(i,inplace =True)\n",
        "i = data_2010to2018[(data_2010to2018['Charge Group Description'] == 'Driving Under Influence')].index\n",
        "data_2010to2018.drop(i,inplace =True)\n",
        "i = data_2010to2018[(data_2010to2018['Charge Group Description'] == 'Prostitution/Allied')].index\n",
        "data_2010to2018.drop(i,inplace =True)\n",
        "i = data_2010to2018[(data_2010to2018['Charge Group Description'] == 'Moving Traffic Violations')].index\n",
        "data_2010to2018.drop(i,inplace =True)\n",
        "i = data_2010to2018[(data_2010to2018['Charge Group Description'] == 'Liquor Laws')].index\n",
        "data_2010to2018.drop(i,inplace =True)\n",
        "i = data_2010to2018[(data_2010to2018['Charge Group Description'] == 'Drunkeness')].index\n",
        "data_2010to2018.drop(i,inplace =True)\n",
        "i = data_2010to2018[(data_2010to2018['Charge Group Description'] == 'Disturbing the Peace')].index\n",
        "data_2010to2018.drop(i,inplace =True)\n",
        "i = data_2010to2018[(data_2010to2018['Charge Group Description'] == 'Gambling')].index\n",
        "data_2010to2018.drop(i,inplace =True)\n",
        "i = data_2010to2018[(data_2010to2018['Charge Group Description'] == 'Non-Criminal Detention')].index\n",
        "data_2010to2018.drop(i,inplace =True)\n",
        "i = data_2010to2018[(data_2010to2018['Charge Group Description'] == 'Pre-Delinquency')].index\n",
        "data_2010to2018.drop(i,inplace =True)"
      ],
      "execution_count": 29,
      "outputs": []
    },
    {
      "cell_type": "code",
      "metadata": {
        "id": "qIfjYX58gQ2G",
        "colab": {
          "base_uri": "https://localhost:8080/"
        },
        "outputId": "e672f274-3cab-49e1-a5de-a56aaeecc1a6"
      },
      "source": [
        "data_2010to2018['Charge Group Description'].unique()"
      ],
      "execution_count": 31,
      "outputs": [
        {
          "output_type": "execute_result",
          "data": {
            "text/plain": [
              "array(['Burglary', 'Robbery', 'Fraud/Embezzlement', 'Homicide',\n",
              "       'Narcotic Drug Laws', 'Weapon (carry/poss)', 'Aggravated Assault',\n",
              "       'Miscellaneous Other Violations', 'Vehicle Theft',\n",
              "       'Against Family/Child', 'Forgery/Counterfeit',\n",
              "       'Sex (except rape/prst)', 'Rape', 'Disorderly Conduct',\n",
              "       'Federal Offenses'], dtype=object)"
            ]
          },
          "metadata": {},
          "execution_count": 31
        }
      ]
    },
    {
      "cell_type": "code",
      "metadata": {
        "id": "-cRO9PHQgQ6-",
        "colab": {
          "base_uri": "https://localhost:8080/",
          "height": 422
        },
        "outputId": "b89ce69c-4000-4baa-bc0a-033a69fd1381"
      },
      "source": [
        "felony_dataset=data_2010to2018.copy()\n",
        "felony_dataset=felony_dataset[['year','Charge Group Description']]\n",
        "felony_dataset"
      ],
      "execution_count": 32,
      "outputs": [
        {
          "output_type": "execute_result",
          "data": {
            "text/html": [
              "<div>\n",
              "<style scoped>\n",
              "    .dataframe tbody tr th:only-of-type {\n",
              "        vertical-align: middle;\n",
              "    }\n",
              "\n",
              "    .dataframe tbody tr th {\n",
              "        vertical-align: top;\n",
              "    }\n",
              "\n",
              "    .dataframe thead th {\n",
              "        text-align: right;\n",
              "    }\n",
              "</style>\n",
              "<table border=\"1\" class=\"dataframe\">\n",
              "  <thead>\n",
              "    <tr style=\"text-align: right;\">\n",
              "      <th></th>\n",
              "      <th>year</th>\n",
              "      <th>Charge Group Description</th>\n",
              "    </tr>\n",
              "  </thead>\n",
              "  <tbody>\n",
              "    <tr>\n",
              "      <th>0</th>\n",
              "      <td>2015</td>\n",
              "      <td>Burglary</td>\n",
              "    </tr>\n",
              "    <tr>\n",
              "      <th>6</th>\n",
              "      <td>2015</td>\n",
              "      <td>Burglary</td>\n",
              "    </tr>\n",
              "    <tr>\n",
              "      <th>7</th>\n",
              "      <td>2015</td>\n",
              "      <td>Robbery</td>\n",
              "    </tr>\n",
              "    <tr>\n",
              "      <th>12</th>\n",
              "      <td>2015</td>\n",
              "      <td>Robbery</td>\n",
              "    </tr>\n",
              "    <tr>\n",
              "      <th>160</th>\n",
              "      <td>2016</td>\n",
              "      <td>Fraud/Embezzlement</td>\n",
              "    </tr>\n",
              "    <tr>\n",
              "      <th>...</th>\n",
              "      <td>...</td>\n",
              "      <td>...</td>\n",
              "    </tr>\n",
              "    <tr>\n",
              "      <th>1227510</th>\n",
              "      <td>2018</td>\n",
              "      <td>Aggravated Assault</td>\n",
              "    </tr>\n",
              "    <tr>\n",
              "      <th>1227511</th>\n",
              "      <td>2018</td>\n",
              "      <td>Vehicle Theft</td>\n",
              "    </tr>\n",
              "    <tr>\n",
              "      <th>1227512</th>\n",
              "      <td>2018</td>\n",
              "      <td>Miscellaneous Other Violations</td>\n",
              "    </tr>\n",
              "    <tr>\n",
              "      <th>1227513</th>\n",
              "      <td>2018</td>\n",
              "      <td>Weapon (carry/poss)</td>\n",
              "    </tr>\n",
              "    <tr>\n",
              "      <th>1227514</th>\n",
              "      <td>2018</td>\n",
              "      <td>Weapon (carry/poss)</td>\n",
              "    </tr>\n",
              "  </tbody>\n",
              "</table>\n",
              "<p>596801 rows × 2 columns</p>\n",
              "</div>"
            ],
            "text/plain": [
              "         year        Charge Group Description\n",
              "0        2015                        Burglary\n",
              "6        2015                        Burglary\n",
              "7        2015                         Robbery\n",
              "12       2015                         Robbery\n",
              "160      2016              Fraud/Embezzlement\n",
              "...       ...                             ...\n",
              "1227510  2018              Aggravated Assault\n",
              "1227511  2018                   Vehicle Theft\n",
              "1227512  2018  Miscellaneous Other Violations\n",
              "1227513  2018             Weapon (carry/poss)\n",
              "1227514  2018             Weapon (carry/poss)\n",
              "\n",
              "[596801 rows x 2 columns]"
            ]
          },
          "metadata": {},
          "execution_count": 32
        }
      ]
    },
    {
      "cell_type": "code",
      "metadata": {
        "id": "IoIAdK3sgRBe"
      },
      "source": [
        "lb= LabelEncoder()"
      ],
      "execution_count": 33,
      "outputs": []
    },
    {
      "cell_type": "code",
      "metadata": {
        "id": "muwk0t-ZgRE4"
      },
      "source": [
        "felony_dataset['Charge Group Description'] = lb.fit_transform(felony_dataset['Charge Group Description'])"
      ],
      "execution_count": 34,
      "outputs": []
    },
    {
      "cell_type": "code",
      "metadata": {
        "id": "ptWscwmsgRIT",
        "colab": {
          "base_uri": "https://localhost:8080/",
          "height": 331
        },
        "outputId": "be94b438-fdf0-4c3a-ec6e-bd6ca3c9a635"
      },
      "source": [
        "gkk= felony_dataset.groupby('year')['Charge Group Description'].sum().reset_index().sort_values('year',ascending=False)\n",
        "gkk"
      ],
      "execution_count": 35,
      "outputs": [
        {
          "output_type": "execute_result",
          "data": {
            "text/html": [
              "<div>\n",
              "<style scoped>\n",
              "    .dataframe tbody tr th:only-of-type {\n",
              "        vertical-align: middle;\n",
              "    }\n",
              "\n",
              "    .dataframe tbody tr th {\n",
              "        vertical-align: top;\n",
              "    }\n",
              "\n",
              "    .dataframe thead th {\n",
              "        text-align: right;\n",
              "    }\n",
              "</style>\n",
              "<table border=\"1\" class=\"dataframe\">\n",
              "  <thead>\n",
              "    <tr style=\"text-align: right;\">\n",
              "      <th></th>\n",
              "      <th>year</th>\n",
              "      <th>Charge Group Description</th>\n",
              "    </tr>\n",
              "  </thead>\n",
              "  <tbody>\n",
              "    <tr>\n",
              "      <th>8</th>\n",
              "      <td>2018</td>\n",
              "      <td>118117</td>\n",
              "    </tr>\n",
              "    <tr>\n",
              "      <th>7</th>\n",
              "      <td>2017</td>\n",
              "      <td>424309</td>\n",
              "    </tr>\n",
              "    <tr>\n",
              "      <th>6</th>\n",
              "      <td>2016</td>\n",
              "      <td>438237</td>\n",
              "    </tr>\n",
              "    <tr>\n",
              "      <th>5</th>\n",
              "      <td>2015</td>\n",
              "      <td>452215</td>\n",
              "    </tr>\n",
              "    <tr>\n",
              "      <th>4</th>\n",
              "      <td>2014</td>\n",
              "      <td>515645</td>\n",
              "    </tr>\n",
              "    <tr>\n",
              "      <th>3</th>\n",
              "      <td>2013</td>\n",
              "      <td>575965</td>\n",
              "    </tr>\n",
              "    <tr>\n",
              "      <th>2</th>\n",
              "      <td>2012</td>\n",
              "      <td>604878</td>\n",
              "    </tr>\n",
              "    <tr>\n",
              "      <th>1</th>\n",
              "      <td>2011</td>\n",
              "      <td>633715</td>\n",
              "    </tr>\n",
              "    <tr>\n",
              "      <th>0</th>\n",
              "      <td>2010</td>\n",
              "      <td>648551</td>\n",
              "    </tr>\n",
              "  </tbody>\n",
              "</table>\n",
              "</div>"
            ],
            "text/plain": [
              "   year  Charge Group Description\n",
              "8  2018                    118117\n",
              "7  2017                    424309\n",
              "6  2016                    438237\n",
              "5  2015                    452215\n",
              "4  2014                    515645\n",
              "3  2013                    575965\n",
              "2  2012                    604878\n",
              "1  2011                    633715\n",
              "0  2010                    648551"
            ]
          },
          "metadata": {},
          "execution_count": 35
        }
      ]
    },
    {
      "cell_type": "code",
      "metadata": {
        "id": "ye0-RHERgROU",
        "colab": {
          "base_uri": "https://localhost:8080/",
          "height": 297
        },
        "outputId": "0fe4d3d3-30ad-4d69-f5d1-cdcf5825e8bc"
      },
      "source": [
        "gkk.plot(x = \"year\", y = \"Charge Group Description\")"
      ],
      "execution_count": 36,
      "outputs": [
        {
          "output_type": "execute_result",
          "data": {
            "text/plain": [
              "<matplotlib.axes._subplots.AxesSubplot at 0x7f634ec75b50>"
            ]
          },
          "metadata": {},
          "execution_count": 36
        },
        {
          "output_type": "display_data",
          "data": {
            "image/png": "[encoded data removed]",
            "text/plain": [
              "<Figure size 432x288 with 1 Axes>"
            ]
          },
          "metadata": {
            "needs_background": "light"
          }
        }
      ]
    },
    {
      "cell_type": "code",
      "metadata": {
        "id": "rALsDHf1gRUT"
      },
      "source": [
        "import numpy as np"
      ],
      "execution_count": 37,
      "outputs": []
    },
    {
      "cell_type": "code",
      "metadata": {
        "id": "Jb9ChXPdgRbA",
        "colab": {
          "base_uri": "https://localhost:8080/"
        },
        "outputId": "4ccce14a-ae01-4d8d-e852-bd6cef148388"
      },
      "source": [
        "#GradientBoostingRegressor\n",
        "\n",
        "from sklearn.ensemble import GradientBoostingRegressor\n",
        "model = GradientBoostingRegressor(n_estimators=10,learning_rate=1)\n",
        "model.fit(gkk[['year']],gkk['Charge Group Description'])"
      ],
      "execution_count": 38,
      "outputs": [
        {
          "output_type": "execute_result",
          "data": {
            "text/plain": [
              "GradientBoostingRegressor(alpha=0.9, ccp_alpha=0.0, criterion='friedman_mse',\n",
              "                          init=None, learning_rate=1, loss='ls', max_depth=3,\n",
              "                          max_features=None, max_leaf_nodes=None,\n",
              "                          min_impurity_decrease=0.0, min_impurity_split=None,\n",
              "                          min_samples_leaf=1, min_samples_split=2,\n",
              "                          min_weight_fraction_leaf=0.0, n_estimators=10,\n",
              "                          n_iter_no_change=None, presort='deprecated',\n",
              "                          random_state=None, subsample=1.0, tol=0.0001,\n",
              "                          validation_fraction=0.1, verbose=0, warm_start=False)"
            ]
          },
          "metadata": {},
          "execution_count": 38
        }
      ]
    },
    {
      "cell_type": "code",
      "metadata": {
        "id": "WF1JEWRigRe8",
        "colab": {
          "base_uri": "https://localhost:8080/"
        },
        "outputId": "153a8d52-6109-4cfe-e837-015f9c401c83"
      },
      "source": [
        "model.score(gkk[['year']],gkk['Charge Group Description'])"
      ],
      "execution_count": 39,
      "outputs": [
        {
          "output_type": "execute_result",
          "data": {
            "text/plain": [
              "1.0"
            ]
          },
          "metadata": {},
          "execution_count": 39
        }
      ]
    },
    {
      "cell_type": "code",
      "metadata": {
        "id": "IfGFKkxSgRpU",
        "colab": {
          "base_uri": "https://localhost:8080/"
        },
        "outputId": "39cf83c4-a2d2-4438-c6f9-704913c5b141"
      },
      "source": [
        "#The projected number of felony arrests in 2019\n",
        "\n",
        "arr= np.array([2019])\n",
        "y_pred= model.predict([arr])\n",
        "y_pred"
      ],
      "execution_count": 40,
      "outputs": [
        {
          "output_type": "execute_result",
          "data": {
            "text/plain": [
              "array([118117.])"
            ]
          },
          "metadata": {},
          "execution_count": 40
        }
      ]
    },
    {
      "cell_type": "code",
      "metadata": {
        "id": "4B_IThslgRtC",
        "colab": {
          "base_uri": "https://localhost:8080/"
        },
        "outputId": "ede248bf-35aa-4aee-b52d-c983068bf0cb"
      },
      "source": [
        "#LinearRegression\n",
        "\n",
        "lr= LinearRegression()\n",
        "lr.fit(gkk[['year']],gkk['Charge Group Description'])"
      ],
      "execution_count": 41,
      "outputs": [
        {
          "output_type": "execute_result",
          "data": {
            "text/plain": [
              "LinearRegression(copy_X=True, fit_intercept=True, n_jobs=None, normalize=False)"
            ]
          },
          "metadata": {},
          "execution_count": 41
        }
      ]
    },
    {
      "cell_type": "code",
      "metadata": {
        "id": "UBdmgf8jgwu1",
        "colab": {
          "base_uri": "https://localhost:8080/"
        },
        "outputId": "fac77b0a-993d-4685-e75b-44040a8ac978"
      },
      "source": [
        "lr.score(gkk[['year']],gkk['Charge Group Description'])"
      ],
      "execution_count": 42,
      "outputs": [
        {
          "output_type": "execute_result",
          "data": {
            "text/plain": [
              "0.8019076026604008"
            ]
          },
          "metadata": {},
          "execution_count": 42
        }
      ]
    },
    {
      "cell_type": "code",
      "metadata": {
        "id": "lDWEoJesgwyu",
        "colab": {
          "base_uri": "https://localhost:8080/"
        },
        "outputId": "2cdf48b4-47c1-4232-a6bc-0a46b406bdc9"
      },
      "source": [
        "lr.coef_"
      ],
      "execution_count": 43,
      "outputs": [
        {
          "output_type": "execute_result",
          "data": {
            "text/plain": [
              "array([-53449.76666667])"
            ]
          },
          "metadata": {},
          "execution_count": 43
        }
      ]
    },
    {
      "cell_type": "code",
      "metadata": {
        "id": "yRjk6z9egw4t",
        "colab": {
          "base_uri": "https://localhost:8080/"
        },
        "outputId": "f5770fbb-9aac-49af-e9cf-338eb401568a"
      },
      "source": [
        "lr.intercept_"
      ],
      "execution_count": 44,
      "outputs": [
        {
          "output_type": "execute_result",
          "data": {
            "text/plain": [
              "108138011.40000002"
            ]
          },
          "metadata": {},
          "execution_count": 44
        }
      ]
    },
    {
      "cell_type": "code",
      "metadata": {
        "id": "HEafWuclgw8V"
      },
      "source": [
        "##equation of line\n",
        "#y=-61389.86x + 124169391.8\n",
        "#y=-61389.86(2019) + 124169391.8\n",
        "#y= 223384.8\n",
        "\n",
        "import numpy as np"
      ],
      "execution_count": 45,
      "outputs": []
    },
    {
      "cell_type": "code",
      "metadata": {
        "id": "5Jpv3Gz-gxC0",
        "colab": {
          "base_uri": "https://localhost:8080/"
        },
        "outputId": "bac73fef-836f-49ac-e3e5-8b48e8434ab4"
      },
      "source": [
        "#The projected number of felony arrests in 2019\n",
        "\n",
        "arr= np.array([2019])\n",
        "y_pred= lr.predict([arr])\n",
        "y_pred"
      ],
      "execution_count": 46,
      "outputs": [
        {
          "output_type": "execute_result",
          "data": {
            "text/plain": [
              "array([222932.5])"
            ]
          },
          "metadata": {},
          "execution_count": 46
        }
      ]
    },
    {
      "cell_type": "code",
      "metadata": {
        "id": "wfn0GxZWgxGb"
      },
      "source": [
        "#Predicitions using Time Series (Learning Purpose(ignore))\n",
        "\n",
        "gkks=gkk.copy()\n",
        "gkks['year']=pd.to_datetime(gkks['year'])\n",
        "gkks.set_index('year',inplace=True)"
      ],
      "execution_count": 47,
      "outputs": []
    },
    {
      "cell_type": "code",
      "metadata": {
        "id": "DBHtGtfSgxMb",
        "colab": {
          "base_uri": "https://localhost:8080/"
        },
        "outputId": "3d7c45ba-5acc-4a09-cf16-89109ccfa1ad"
      },
      "source": [
        "X = gkks.values\n",
        "X"
      ],
      "execution_count": 48,
      "outputs": [
        {
          "output_type": "execute_result",
          "data": {
            "text/plain": [
              "array([[118117],\n",
              "       [424309],\n",
              "       [438237],\n",
              "       [452215],\n",
              "       [515645],\n",
              "       [575965],\n",
              "       [604878],\n",
              "       [633715],\n",
              "       [648551]])"
            ]
          },
          "metadata": {},
          "execution_count": 48
        }
      ]
    },
    {
      "cell_type": "code",
      "metadata": {
        "id": "gwL-k5lqgxQ5",
        "colab": {
          "base_uri": "https://localhost:8080/",
          "height": 301
        },
        "outputId": "fb080f8f-595f-4857-e64f-0ee9657be708"
      },
      "source": [
        "autocorrelation_plot(X)"
      ],
      "execution_count": 49,
      "outputs": [
        {
          "output_type": "execute_result",
          "data": {
            "text/plain": [
              "<matplotlib.axes._subplots.AxesSubplot at 0x7f634eb54f90>"
            ]
          },
          "metadata": {},
          "execution_count": 49
        },
        {
          "output_type": "display_data",
          "data": {
            "image/png": "[encoded data removed]",
            "text/plain": [
              "<Figure size 432x288 with 1 Axes>"
            ]
          },
          "metadata": {
            "needs_background": "light"
          }
        }
      ]
    },
    {
      "cell_type": "code",
      "metadata": {
        "id": "oH3EnsXdgxVD",
        "colab": {
          "base_uri": "https://localhost:8080/",
          "height": 283
        },
        "outputId": "9997eb41-c0c5-40f0-82ed-eb0d4642ffed"
      },
      "source": [
        "from statsmodels.tsa.stattools import acf,pacf\n",
        "autor=acf(X,nlags=3)\n",
        "par=pacf(X,nlags=3,method='ols')\n",
        "pyplot.plot(autor,label='std')"
      ],
      "execution_count": 50,
      "outputs": [
        {
          "output_type": "execute_result",
          "data": {
            "text/plain": [
              "[<matplotlib.lines.Line2D at 0x7f634dc5fe90>]"
            ]
          },
          "metadata": {},
          "execution_count": 50
        },
        {
          "output_type": "display_data",
          "data": {
            "image/png": "[encoded data removed]",
            "text/plain": [
              "<Figure size 432x288 with 1 Axes>"
            ]
          },
          "metadata": {
            "needs_background": "light"
          }
        }
      ]
    },
    {
      "cell_type": "code",
      "metadata": {
        "id": "tJvaJuuofUZ9"
      },
      "source": [
        "import statsmodels.api as sms"
      ],
      "execution_count": 51,
      "outputs": []
    },
    {
      "cell_type": "code",
      "metadata": {
        "id": "4yA8gvt8hVfq",
        "colab": {
          "base_uri": "https://localhost:8080/"
        },
        "outputId": "2fe094ce-05e2-44a2-91e9-59a78679a063"
      },
      "source": [
        "model = sms.tsa.statespace.SARIMAX(X,order=(1,0,0))\n",
        "result = model.fit()\n",
        "print(result.summary())"
      ],
      "execution_count": 52,
      "outputs": [
        {
          "output_type": "stream",
          "text": [
            "                           Statespace Model Results                           \n",
            "==============================================================================\n",
            "Dep. Variable:                      y   No. Observations:                    9\n",
            "Model:               SARIMAX(1, 0, 0)   Log Likelihood                -118.940\n",
            "Date:                Wed, 25 Aug 2021   AIC                            241.880\n",
            "Time:                        23:19:40   BIC                            242.275\n",
            "Sample:                             0   HQIC                           241.029\n",
            "                                  - 9                                         \n",
            "Covariance Type:                  opg                                         \n",
            "==============================================================================\n",
            "                 coef    std err          z      P>|z|      [0.025      0.975]\n",
            "------------------------------------------------------------------------------\n",
            "ar.L1          0.9738      0.053     18.378      0.000       0.870       1.078\n",
            "sigma2      1.149e+10    1.9e-13   6.04e+22      0.000    1.15e+10    1.15e+10\n",
            "===================================================================================\n",
            "Ljung-Box (Q):                         nan   Jarque-Bera (JB):                12.34\n",
            "Prob(Q):                               nan   Prob(JB):                         0.00\n",
            "Heteroskedasticity (H):               0.05   Skew:                             2.27\n",
            "Prob(H) (two-sided):                  0.04   Kurtosis:                         6.51\n",
            "===================================================================================\n",
            "\n",
            "Warnings:\n",
            "[1] Covariance matrix calculated using the outer product of gradients (complex-step).\n",
            "[2] Covariance matrix is singular or near-singular, with condition number 5.24e+38. Standard errors may be unstable.\n"
          ],
          "name": "stdout"
        }
      ]
    },
    {
      "cell_type": "code",
      "metadata": {
        "id": "Kuf5yNJRhVmE",
        "colab": {
          "base_uri": "https://localhost:8080/",
          "height": 395
        },
        "outputId": "9b0cdc2b-1d9e-4cc7-c7fd-eefa42847513"
      },
      "source": [
        "from statsmodels.tsa.statespace.sarimax import SARIMAX\n",
        "from random import random\n",
        "\n",
        "model = SARIMAX(X, order=(1, 3, 2,365))\n",
        "model_fit = model.fit(disp=False)\n",
        "# make prediction\n",
        "yhat = model_fit.predict(len(X), len(X)+1)\n",
        "print(yhat)"
      ],
      "execution_count": 56,
      "outputs": [
        {
          "output_type": "error",
          "ename": "ValueError",
          "evalue": "ignored",
          "traceback": [
            "\u001b[0;31m---------------------------------------------------------------------------\u001b[0m",
            "\u001b[0;31mValueError\u001b[0m                                Traceback (most recent call last)",
            "\u001b[0;32m<ipython-input-56-63b3408a6786>\u001b[0m in \u001b[0;36m<module>\u001b[0;34m()\u001b[0m\n\u001b[1;32m      3\u001b[0m \u001b[0;34m\u001b[0m\u001b[0m\n\u001b[1;32m      4\u001b[0m \u001b[0mmodel\u001b[0m \u001b[0;34m=\u001b[0m \u001b[0mSARIMAX\u001b[0m\u001b[0;34m(\u001b[0m\u001b[0mX\u001b[0m\u001b[0;34m,\u001b[0m \u001b[0morder\u001b[0m\u001b[0;34m=\u001b[0m\u001b[0;34m(\u001b[0m\u001b[0;36m1\u001b[0m\u001b[0;34m,\u001b[0m \u001b[0;36m3\u001b[0m\u001b[0;34m,\u001b[0m \u001b[0;36m2\u001b[0m\u001b[0;34m,\u001b[0m\u001b[0;36m365\u001b[0m\u001b[0;34m)\u001b[0m\u001b[0;34m)\u001b[0m\u001b[0;34m\u001b[0m\u001b[0;34m\u001b[0m\u001b[0m\n\u001b[0;32m----> 5\u001b[0;31m \u001b[0mmodel_fit\u001b[0m \u001b[0;34m=\u001b[0m \u001b[0mmodel\u001b[0m\u001b[0;34m.\u001b[0m\u001b[0mfit\u001b[0m\u001b[0;34m(\u001b[0m\u001b[0mdisp\u001b[0m\u001b[0;34m=\u001b[0m\u001b[0;32mFalse\u001b[0m\u001b[0;34m)\u001b[0m\u001b[0;34m\u001b[0m\u001b[0;34m\u001b[0m\u001b[0m\n\u001b[0m\u001b[1;32m      6\u001b[0m \u001b[0;31m# make prediction\u001b[0m\u001b[0;34m\u001b[0m\u001b[0;34m\u001b[0m\u001b[0;34m\u001b[0m\u001b[0m\n\u001b[1;32m      7\u001b[0m \u001b[0myhat\u001b[0m \u001b[0;34m=\u001b[0m \u001b[0mmodel_fit\u001b[0m\u001b[0;34m.\u001b[0m\u001b[0mpredict\u001b[0m\u001b[0;34m(\u001b[0m\u001b[0mlen\u001b[0m\u001b[0;34m(\u001b[0m\u001b[0mX\u001b[0m\u001b[0;34m)\u001b[0m\u001b[0;34m,\u001b[0m \u001b[0mlen\u001b[0m\u001b[0;34m(\u001b[0m\u001b[0mX\u001b[0m\u001b[0;34m)\u001b[0m\u001b[0;34m+\u001b[0m\u001b[0;36m1\u001b[0m\u001b[0;34m)\u001b[0m\u001b[0;34m\u001b[0m\u001b[0;34m\u001b[0m\u001b[0m\n",
            "\u001b[0;32m/usr/local/lib/python3.7/dist-packages/statsmodels/tsa/statespace/mlemodel.py\u001b[0m in \u001b[0;36mfit\u001b[0;34m(self, start_params, transformed, cov_type, cov_kwds, method, maxiter, full_output, disp, callback, return_params, optim_score, optim_complex_step, optim_hessian, flags, **kwargs)\u001b[0m\n\u001b[1;32m    444\u001b[0m         \"\"\"\n\u001b[1;32m    445\u001b[0m         \u001b[0;32mif\u001b[0m \u001b[0mstart_params\u001b[0m \u001b[0;32mis\u001b[0m \u001b[0;32mNone\u001b[0m\u001b[0;34m:\u001b[0m\u001b[0;34m\u001b[0m\u001b[0;34m\u001b[0m\u001b[0m\n\u001b[0;32m--> 446\u001b[0;31m             \u001b[0mstart_params\u001b[0m \u001b[0;34m=\u001b[0m \u001b[0mself\u001b[0m\u001b[0;34m.\u001b[0m\u001b[0mstart_params\u001b[0m\u001b[0;34m\u001b[0m\u001b[0;34m\u001b[0m\u001b[0m\n\u001b[0m\u001b[1;32m    447\u001b[0m             \u001b[0mtransformed\u001b[0m \u001b[0;34m=\u001b[0m \u001b[0;32mTrue\u001b[0m\u001b[0;34m\u001b[0m\u001b[0;34m\u001b[0m\u001b[0m\n\u001b[1;32m    448\u001b[0m \u001b[0;34m\u001b[0m\u001b[0m\n",
            "\u001b[0;32m/usr/local/lib/python3.7/dist-packages/statsmodels/tsa/statespace/sarimax.py\u001b[0m in \u001b[0;36mstart_params\u001b[0;34m(self)\u001b[0m\n\u001b[1;32m    936\u001b[0m          \u001b[0mparams_variance\u001b[0m\u001b[0;34m)\u001b[0m \u001b[0;34m=\u001b[0m \u001b[0mself\u001b[0m\u001b[0;34m.\u001b[0m\u001b[0m_conditional_sum_squares\u001b[0m\u001b[0;34m(\u001b[0m\u001b[0;34m\u001b[0m\u001b[0;34m\u001b[0m\u001b[0m\n\u001b[1;32m    937\u001b[0m             \u001b[0mendog\u001b[0m\u001b[0;34m,\u001b[0m \u001b[0mself\u001b[0m\u001b[0;34m.\u001b[0m\u001b[0mk_ar\u001b[0m\u001b[0;34m,\u001b[0m \u001b[0mself\u001b[0m\u001b[0;34m.\u001b[0m\u001b[0mpolynomial_ar\u001b[0m\u001b[0;34m,\u001b[0m \u001b[0mself\u001b[0m\u001b[0;34m.\u001b[0m\u001b[0mk_ma\u001b[0m\u001b[0;34m,\u001b[0m\u001b[0;34m\u001b[0m\u001b[0;34m\u001b[0m\u001b[0m\n\u001b[0;32m--> 938\u001b[0;31m             \u001b[0mself\u001b[0m\u001b[0;34m.\u001b[0m\u001b[0mpolynomial_ma\u001b[0m\u001b[0;34m,\u001b[0m \u001b[0mself\u001b[0m\u001b[0;34m.\u001b[0m\u001b[0mk_trend\u001b[0m\u001b[0;34m,\u001b[0m \u001b[0mtrend_data\u001b[0m\u001b[0;34m\u001b[0m\u001b[0;34m\u001b[0m\u001b[0m\n\u001b[0m\u001b[1;32m    939\u001b[0m         )\n\u001b[1;32m    940\u001b[0m \u001b[0;34m\u001b[0m\u001b[0m\n",
            "\u001b[0;32m/usr/local/lib/python3.7/dist-packages/statsmodels/tsa/statespace/sarimax.py\u001b[0m in \u001b[0;36m_conditional_sum_squares\u001b[0;34m(endog, k_ar, polynomial_ar, k_ma, polynomial_ma, k_trend, trend_data)\u001b[0m\n\u001b[1;32m    861\u001b[0m             \u001b[0;32mif\u001b[0m \u001b[0mk_ma\u001b[0m \u001b[0;34m>\u001b[0m \u001b[0;36m0\u001b[0m\u001b[0;34m:\u001b[0m\u001b[0;34m\u001b[0m\u001b[0;34m\u001b[0m\u001b[0m\n\u001b[1;32m    862\u001b[0m                 \u001b[0mcols\u001b[0m \u001b[0;34m=\u001b[0m \u001b[0mpolynomial_ma\u001b[0m\u001b[0;34m.\u001b[0m\u001b[0mnonzero\u001b[0m\u001b[0;34m(\u001b[0m\u001b[0;34m)\u001b[0m\u001b[0;34m[\u001b[0m\u001b[0;36m0\u001b[0m\u001b[0;34m]\u001b[0m\u001b[0;34m[\u001b[0m\u001b[0;36m1\u001b[0m\u001b[0;34m:\u001b[0m\u001b[0;34m]\u001b[0m \u001b[0;34m-\u001b[0m \u001b[0;36m1\u001b[0m\u001b[0;34m\u001b[0m\u001b[0;34m\u001b[0m\u001b[0m\n\u001b[0;32m--> 863\u001b[0;31m                 \u001b[0mX\u001b[0m \u001b[0;34m=\u001b[0m \u001b[0mnp\u001b[0m\u001b[0;34m.\u001b[0m\u001b[0mc_\u001b[0m\u001b[0;34m[\u001b[0m\u001b[0mX\u001b[0m\u001b[0;34m,\u001b[0m \u001b[0mlagmat\u001b[0m\u001b[0;34m(\u001b[0m\u001b[0mresiduals\u001b[0m\u001b[0;34m,\u001b[0m \u001b[0mk_ma\u001b[0m\u001b[0;34m)\u001b[0m\u001b[0;34m[\u001b[0m\u001b[0mr\u001b[0m\u001b[0;34m-\u001b[0m\u001b[0mk\u001b[0m\u001b[0;34m:\u001b[0m\u001b[0;34m,\u001b[0m \u001b[0mcols\u001b[0m\u001b[0;34m]\u001b[0m\u001b[0;34m]\u001b[0m\u001b[0;34m\u001b[0m\u001b[0;34m\u001b[0m\u001b[0m\n\u001b[0m\u001b[1;32m    864\u001b[0m \u001b[0;34m\u001b[0m\u001b[0m\n\u001b[1;32m    865\u001b[0m             \u001b[0;31m# Get the array of [ar_params, ma_params]\u001b[0m\u001b[0;34m\u001b[0m\u001b[0;34m\u001b[0m\u001b[0;34m\u001b[0m\u001b[0m\n",
            "\u001b[0;32m/usr/local/lib/python3.7/dist-packages/statsmodels/tsa/tsatools.py\u001b[0m in \u001b[0;36mlagmat\u001b[0;34m(x, maxlag, trim, original, use_pandas)\u001b[0m\n\u001b[1;32m    406\u001b[0m         \u001b[0mdropidx\u001b[0m \u001b[0;34m=\u001b[0m \u001b[0mnvar\u001b[0m\u001b[0;34m\u001b[0m\u001b[0;34m\u001b[0m\u001b[0m\n\u001b[1;32m    407\u001b[0m     \u001b[0;32mif\u001b[0m \u001b[0mmaxlag\u001b[0m \u001b[0;34m>=\u001b[0m \u001b[0mnobs\u001b[0m\u001b[0;34m:\u001b[0m\u001b[0;34m\u001b[0m\u001b[0;34m\u001b[0m\u001b[0m\n\u001b[0;32m--> 408\u001b[0;31m         \u001b[0;32mraise\u001b[0m \u001b[0mValueError\u001b[0m\u001b[0;34m(\u001b[0m\u001b[0;34m\"maxlag should be < nobs\"\u001b[0m\u001b[0;34m)\u001b[0m\u001b[0;34m\u001b[0m\u001b[0;34m\u001b[0m\u001b[0m\n\u001b[0m\u001b[1;32m    409\u001b[0m     \u001b[0mlm\u001b[0m \u001b[0;34m=\u001b[0m \u001b[0mnp\u001b[0m\u001b[0;34m.\u001b[0m\u001b[0mzeros\u001b[0m\u001b[0;34m(\u001b[0m\u001b[0;34m(\u001b[0m\u001b[0mnobs\u001b[0m \u001b[0;34m+\u001b[0m \u001b[0mmaxlag\u001b[0m\u001b[0;34m,\u001b[0m \u001b[0mnvar\u001b[0m \u001b[0;34m*\u001b[0m \u001b[0;34m(\u001b[0m\u001b[0mmaxlag\u001b[0m \u001b[0;34m+\u001b[0m \u001b[0;36m1\u001b[0m\u001b[0;34m)\u001b[0m\u001b[0;34m)\u001b[0m\u001b[0;34m)\u001b[0m\u001b[0;34m\u001b[0m\u001b[0;34m\u001b[0m\u001b[0m\n\u001b[1;32m    410\u001b[0m     \u001b[0;32mfor\u001b[0m \u001b[0mk\u001b[0m \u001b[0;32min\u001b[0m \u001b[0mrange\u001b[0m\u001b[0;34m(\u001b[0m\u001b[0;36m0\u001b[0m\u001b[0;34m,\u001b[0m \u001b[0mint\u001b[0m\u001b[0;34m(\u001b[0m\u001b[0mmaxlag\u001b[0m \u001b[0;34m+\u001b[0m \u001b[0;36m1\u001b[0m\u001b[0;34m)\u001b[0m\u001b[0;34m)\u001b[0m\u001b[0;34m:\u001b[0m\u001b[0;34m\u001b[0m\u001b[0;34m\u001b[0m\u001b[0m\n",
            "\u001b[0;31mValueError\u001b[0m: maxlag should be < nobs"
          ]
        }
      ]
    },
    {
      "cell_type": "code",
      "metadata": {
        "id": "rGUzV8gJhVpX",
        "colab": {
          "base_uri": "https://localhost:8080/",
          "height": 189
        },
        "outputId": "0967d19e-2afb-4ce2-f07f-6ccd93806562"
      },
      "source": [
        "output = model_fit.forecast(4)[0]\n",
        "print(output)"
      ],
      "execution_count": 57,
      "outputs": [
        {
          "output_type": "error",
          "ename": "NameError",
          "evalue": "ignored",
          "traceback": [
            "\u001b[0;31m---------------------------------------------------------------------------\u001b[0m",
            "\u001b[0;31mNameError\u001b[0m                                 Traceback (most recent call last)",
            "\u001b[0;32m<ipython-input-57-ef5276242e42>\u001b[0m in \u001b[0;36m<module>\u001b[0;34m()\u001b[0m\n\u001b[0;32m----> 1\u001b[0;31m \u001b[0moutput\u001b[0m \u001b[0;34m=\u001b[0m \u001b[0mmodel_fit\u001b[0m\u001b[0;34m.\u001b[0m\u001b[0mforecast\u001b[0m\u001b[0;34m(\u001b[0m\u001b[0;36m4\u001b[0m\u001b[0;34m)\u001b[0m\u001b[0;34m[\u001b[0m\u001b[0;36m0\u001b[0m\u001b[0;34m]\u001b[0m\u001b[0;34m\u001b[0m\u001b[0;34m\u001b[0m\u001b[0m\n\u001b[0m\u001b[1;32m      2\u001b[0m \u001b[0mprint\u001b[0m\u001b[0;34m(\u001b[0m\u001b[0moutput\u001b[0m\u001b[0;34m)\u001b[0m\u001b[0;34m\u001b[0m\u001b[0;34m\u001b[0m\u001b[0m\n",
            "\u001b[0;31mNameError\u001b[0m: name 'model_fit' is not defined"
          ]
        }
      ]
    },
    {
      "cell_type": "code",
      "metadata": {
        "id": "eHLZkiFjhVvi"
      },
      "source": [
        "residuals = DataFrame(model_fit.resid)\n",
        "residuals.plot()\n",
        "pyplot.show()\n",
        "residuals.plot(kind='kde')\n",
        "pyplot.show()\n",
        "print(residuals.describe())"
      ],
      "execution_count": null,
      "outputs": []
    },
    {
      "cell_type": "code",
      "metadata": {
        "id": "BUTHYaodhVzI"
      },
      "source": [
        "#Autoregression (AR)¶\n",
        "\n",
        "from statsmodels.tsa.ar_model import AR\n",
        "from sklearn.metrics import mean_squared_error"
      ],
      "execution_count": null,
      "outputs": []
    },
    {
      "cell_type": "code",
      "metadata": {
        "id": "tx9uuqLuhV3Q"
      },
      "source": [
        "model=AR(X)\n",
        "model_fit=model.fit()\n",
        "model_fit.summary()"
      ],
      "execution_count": null,
      "outputs": []
    },
    {
      "cell_type": "code",
      "metadata": {
        "id": "zWYOOdvbhV6o"
      },
      "source": [
        "yhat = model_fit.predict(len(X), len(X)+1)\n",
        "print(yhat)\n",
        "[689302.35315083 736392.47374395]"
      ],
      "execution_count": null,
      "outputs": []
    },
    {
      "cell_type": "code",
      "metadata": {
        "id": "K9556sf-hpKZ",
        "colab": {
          "base_uri": "https://localhost:8080/",
          "height": 171
        },
        "outputId": "1b5ac64e-4bd9-4a07-f8aa-038bebae4264"
      },
      "source": [
        "model_fit.aic"
      ],
      "execution_count": 61,
      "outputs": [
        {
          "output_type": "error",
          "ename": "NameError",
          "evalue": "ignored",
          "traceback": [
            "\u001b[0;31m---------------------------------------------------------------------------\u001b[0m",
            "\u001b[0;31mNameError\u001b[0m                                 Traceback (most recent call last)",
            "\u001b[0;32m<ipython-input-61-d2e495086f5c>\u001b[0m in \u001b[0;36m<module>\u001b[0;34m()\u001b[0m\n\u001b[0;32m----> 1\u001b[0;31m \u001b[0mmodel_fit\u001b[0m\u001b[0;34m.\u001b[0m\u001b[0maic\u001b[0m\u001b[0;34m\u001b[0m\u001b[0;34m\u001b[0m\u001b[0m\n\u001b[0m",
            "\u001b[0;31mNameError\u001b[0m: name 'model_fit' is not defined"
          ]
        }
      ]
    },
    {
      "cell_type": "code",
      "metadata": {
        "id": "NPcKoqCvhpON"
      },
      "source": [
        "#Q6.How many arrest incidents occurred within 2 km from the Bradbury Building in 2018? Use (34.050536, -118.247861) for the coordinates of the Bradbury Building . For simplicity, please use the spherical Earth projected to a plane equation for calculating distances. Use the radius of the Earth as 6371 km. Note, some arrest records are missing location data and the location is listed as (0, 0). These records should not factor in your calculation.¶\n",
        "\n",
        "from math import radians,degrees , asin,acos, sin,cos,sqrt,atan2,radians"
      ],
      "execution_count": 58,
      "outputs": []
    },
    {
      "cell_type": "code",
      "metadata": {
        "id": "zwqgtnXShpUV"
      },
      "source": [
        "def calculate_distances(coord):\n",
        "    R=6371.0\n",
        "    lat1=radians(34.050536)\n",
        "    lon1=radians(-118.247861)\n",
        "    lat2=radians(coord[0])\n",
        "    lon2=radians(coord[1])\n",
        "    dlon=lon2-lon1\n",
        "    dlat=lat2-lat1\n",
        "\n",
        "    return 6371 * (\n",
        "        acos(sin(lat1) * sin(lat2) + cos(lat1) * cos(lat2) * cos(lon1 - lon2))\n",
        "    )"
      ],
      "execution_count": 59,
      "outputs": []
    },
    {
      "cell_type": "code",
      "metadata": {
        "id": "iOX3Tcd8hpXs",
        "colab": {
          "base_uri": "https://localhost:8080/"
        },
        "outputId": "088009b1-7be2-43ca-b434-584281037bfe"
      },
      "source": [
        "new_datasets[\"distance_Bradbury\"]=new_datasets[(new_datasets['Location']!=\"(0,0)\")&(pd.notna(new_datasets['Location']))]['Location'].apply(lambda x: calculate_distances([float(y) for y in x[1:-1].split(\",\")]))\n",
        "arrests_within_2km = new_datasets[\"distance_Bradbury\"][new_datasets[\"distance_Bradbury\"] <= 2]\n",
        "arrests_within_2km.shape"
      ],
      "execution_count": 60,
      "outputs": [
        {
          "output_type": "execute_result",
          "data": {
            "text/plain": [
              "(5211,)"
            ]
          },
          "metadata": {},
          "execution_count": 60
        }
      ]
    },
    {
      "cell_type": "code",
      "metadata": {
        "id": "XBVewBprhpa5"
      },
      "source": [
        ""
      ],
      "execution_count": null,
      "outputs": []
    },
    {
      "cell_type": "code",
      "metadata": {
        "id": "It65ZxbghpeC"
      },
      "source": [
        ""
      ],
      "execution_count": null,
      "outputs": []
    },
    {
      "cell_type": "code",
      "metadata": {
        "id": "7xevtmQ1hphv"
      },
      "source": [
        ""
      ],
      "execution_count": null,
      "outputs": []
    },
    {
      "cell_type": "code",
      "metadata": {
        "id": "rzpieNDghplA"
      },
      "source": [
        ""
      ],
      "execution_count": null,
      "outputs": []
    }
  ]
}