{
  "nbformat": 4,
  "nbformat_minor": 0,
  "metadata": {
    "colab": {
      "name": " Swedish Motor Insurance - Simple Linear Regression.ipynb",
      "provenance": [],
      "mount_file_id": "1shecegThWu8XgEjvLnScSquer8WCRrYe",
      "authorship_tag": "ABX9TyOYW/KGi0JTDh4vgowaIiK9",
      "include_colab_link": true
    },
    "kernelspec": {
      "name": "python3",
      "display_name": "Python 3"
    },
    "language_info": {
      "name": "python"
    }
  },
  "cells": [
    {
      "cell_type": "markdown",
      "metadata": {
        "id": "view-in-github",
        "colab_type": "text"
      },
      "source": [
        "<a href=\"https://colab.research.google.com/github/anoldKupara/Machine-Learning-Course/blob/main/Swedish_Motor_Insurance_Simple_Linear_Regression.ipynb\" target=\"_parent\"><img src=\"https://colab.research.google.com/assets/colab-badge.svg\" alt=\"Open In Colab\"/></a>"
      ]
    },
    {
      "cell_type": "code",
      "metadata": {
        "id": "NAE0oDdquidf"
      },
      "source": [
        "import numpy as np # linear algebra\n",
        "import pandas as pd # data processing, CSV file I/O (e.g. pd.read_csv)\n",
        "from matplotlib import pyplot as plt\n",
        "from sklearn.model_selection import train_test_split\n",
        "from sklearn.preprocessing import StandardScaler\n",
        "# Input data files are available in the read-only \"../input/\" directory\n",
        "# For example, running this (by clicking run or pressing Shift+Enter) will list all files under the input directory"
      ],
      "execution_count": null,
      "outputs": []
    },
    {
      "cell_type": "code",
      "metadata": {
        "id": "ycomOcUYvPVI"
      },
      "source": [
        "df = pd.read_csv('/content/drive/MyDrive/Colab Notebooks/Datasets/SwedishMotorInsurance.csv')"
      ],
      "execution_count": null,
      "outputs": []
    },
    {
      "cell_type": "code",
      "metadata": {
        "colab": {
          "base_uri": "https://localhost:8080/",
          "height": 204
        },
        "id": "Ql34gvoivPYr",
        "outputId": "269fd53b-d9e3-49a8-9d39-a427d9ddb258"
      },
      "source": [
        "df.head()"
      ],
      "execution_count": null,
      "outputs": [
        {
          "output_type": "execute_result",
          "data": {
            "text/html": [
              "<div>\n",
              "<style scoped>\n",
              "    .dataframe tbody tr th:only-of-type {\n",
              "        vertical-align: middle;\n",
              "    }\n",
              "\n",
              "    .dataframe tbody tr th {\n",
              "        vertical-align: top;\n",
              "    }\n",
              "\n",
              "    .dataframe thead th {\n",
              "        text-align: right;\n",
              "    }\n",
              "</style>\n",
              "<table border=\"1\" class=\"dataframe\">\n",
              "  <thead>\n",
              "    <tr style=\"text-align: right;\">\n",
              "      <th></th>\n",
              "      <th>Kilometres</th>\n",
              "      <th>Zone</th>\n",
              "      <th>Bonus</th>\n",
              "      <th>Make</th>\n",
              "      <th>Insured</th>\n",
              "      <th>Claims</th>\n",
              "      <th>Payment</th>\n",
              "    </tr>\n",
              "  </thead>\n",
              "  <tbody>\n",
              "    <tr>\n",
              "      <th>0</th>\n",
              "      <td>1</td>\n",
              "      <td>1</td>\n",
              "      <td>1</td>\n",
              "      <td>1</td>\n",
              "      <td>455.13</td>\n",
              "      <td>108</td>\n",
              "      <td>392491</td>\n",
              "    </tr>\n",
              "    <tr>\n",
              "      <th>1</th>\n",
              "      <td>1</td>\n",
              "      <td>1</td>\n",
              "      <td>1</td>\n",
              "      <td>2</td>\n",
              "      <td>69.17</td>\n",
              "      <td>19</td>\n",
              "      <td>46221</td>\n",
              "    </tr>\n",
              "    <tr>\n",
              "      <th>2</th>\n",
              "      <td>1</td>\n",
              "      <td>1</td>\n",
              "      <td>1</td>\n",
              "      <td>3</td>\n",
              "      <td>72.88</td>\n",
              "      <td>13</td>\n",
              "      <td>15694</td>\n",
              "    </tr>\n",
              "    <tr>\n",
              "      <th>3</th>\n",
              "      <td>1</td>\n",
              "      <td>1</td>\n",
              "      <td>1</td>\n",
              "      <td>4</td>\n",
              "      <td>1292.39</td>\n",
              "      <td>124</td>\n",
              "      <td>422201</td>\n",
              "    </tr>\n",
              "    <tr>\n",
              "      <th>4</th>\n",
              "      <td>1</td>\n",
              "      <td>1</td>\n",
              "      <td>1</td>\n",
              "      <td>5</td>\n",
              "      <td>191.01</td>\n",
              "      <td>40</td>\n",
              "      <td>119373</td>\n",
              "    </tr>\n",
              "  </tbody>\n",
              "</table>\n",
              "</div>"
            ],
            "text/plain": [
              "   Kilometres  Zone  Bonus  Make  Insured  Claims  Payment\n",
              "0           1     1      1     1   455.13     108   392491\n",
              "1           1     1      1     2    69.17      19    46221\n",
              "2           1     1      1     3    72.88      13    15694\n",
              "3           1     1      1     4  1292.39     124   422201\n",
              "4           1     1      1     5   191.01      40   119373"
            ]
          },
          "metadata": {
            "tags": []
          },
          "execution_count": 3
        }
      ]
    },
    {
      "cell_type": "code",
      "metadata": {
        "id": "GV8tCtgLvPdP"
      },
      "source": [
        "df = df[df['Payment']!= 0]\n",
        "df = df[df['Payment'] <=1000000]"
      ],
      "execution_count": null,
      "outputs": []
    },
    {
      "cell_type": "code",
      "metadata": {
        "id": "sVH4-7FdvPhZ"
      },
      "source": [
        "#Creation of new features\n",
        "\n",
        "df['payment_per_insured'] = df['Payment']/df['Insured']\n",
        "df['payment_per_claims'] = df['Payment']/df['Claims']\n",
        "df['payment_per_insured_per_claims'] = df['Payment']/(df['Claims']*df['Insured'])\n",
        "df['insured_per_claims'] = df['Insured']/df['Claims']\n",
        "df['Payment'] = np.log1p(df['Payment'])"
      ],
      "execution_count": null,
      "outputs": []
    },
    {
      "cell_type": "code",
      "metadata": {
        "colab": {
          "base_uri": "https://localhost:8080/",
          "height": 410
        },
        "id": "NZdREEgVvPlK",
        "outputId": "ea731d08-5733-4516-b7f3-b5ff128b7b09"
      },
      "source": [
        "#Correlation Matrix\n",
        "\n",
        "df.corr()"
      ],
      "execution_count": null,
      "outputs": [
        {
          "output_type": "execute_result",
          "data": {
            "text/html": [
              "<div>\n",
              "<style scoped>\n",
              "    .dataframe tbody tr th:only-of-type {\n",
              "        vertical-align: middle;\n",
              "    }\n",
              "\n",
              "    .dataframe tbody tr th {\n",
              "        vertical-align: top;\n",
              "    }\n",
              "\n",
              "    .dataframe thead th {\n",
              "        text-align: right;\n",
              "    }\n",
              "</style>\n",
              "<table border=\"1\" class=\"dataframe\">\n",
              "  <thead>\n",
              "    <tr style=\"text-align: right;\">\n",
              "      <th></th>\n",
              "      <th>Kilometres</th>\n",
              "      <th>Zone</th>\n",
              "      <th>Bonus</th>\n",
              "      <th>Make</th>\n",
              "      <th>Insured</th>\n",
              "      <th>Claims</th>\n",
              "      <th>Payment</th>\n",
              "      <th>payment_per_insured</th>\n",
              "      <th>payment_per_claims</th>\n",
              "      <th>payment_per_insured_per_claims</th>\n",
              "      <th>insured_per_claims</th>\n",
              "    </tr>\n",
              "  </thead>\n",
              "  <tbody>\n",
              "    <tr>\n",
              "      <th>Kilometres</th>\n",
              "      <td>1.000000</td>\n",
              "      <td>-0.056942</td>\n",
              "      <td>0.023031</td>\n",
              "      <td>0.055079</td>\n",
              "      <td>-0.178110</td>\n",
              "      <td>-0.098518</td>\n",
              "      <td>-0.164910</td>\n",
              "      <td>0.136550</td>\n",
              "      <td>0.039425</td>\n",
              "      <td>0.119145</td>\n",
              "      <td>-0.233829</td>\n",
              "    </tr>\n",
              "    <tr>\n",
              "      <th>Zone</th>\n",
              "      <td>-0.056942</td>\n",
              "      <td>1.000000</td>\n",
              "      <td>0.046076</td>\n",
              "      <td>0.062224</td>\n",
              "      <td>-0.004138</td>\n",
              "      <td>-0.102327</td>\n",
              "      <td>-0.172040</td>\n",
              "      <td>-0.010793</td>\n",
              "      <td>0.057152</td>\n",
              "      <td>0.106675</td>\n",
              "      <td>0.205408</td>\n",
              "    </tr>\n",
              "    <tr>\n",
              "      <th>Bonus</th>\n",
              "      <td>0.023031</td>\n",
              "      <td>0.046076</td>\n",
              "      <td>1.000000</td>\n",
              "      <td>-0.004695</td>\n",
              "      <td>0.321803</td>\n",
              "      <td>0.126637</td>\n",
              "      <td>0.190572</td>\n",
              "      <td>-0.239841</td>\n",
              "      <td>0.022509</td>\n",
              "      <td>-0.129375</td>\n",
              "      <td>0.443198</td>\n",
              "    </tr>\n",
              "    <tr>\n",
              "      <th>Make</th>\n",
              "      <td>0.055079</td>\n",
              "      <td>0.062224</td>\n",
              "      <td>-0.004695</td>\n",
              "      <td>1.000000</td>\n",
              "      <td>0.083255</td>\n",
              "      <td>0.119291</td>\n",
              "      <td>0.014710</td>\n",
              "      <td>0.024667</td>\n",
              "      <td>0.024393</td>\n",
              "      <td>0.040612</td>\n",
              "      <td>-0.017524</td>\n",
              "    </tr>\n",
              "    <tr>\n",
              "      <th>Insured</th>\n",
              "      <td>-0.178110</td>\n",
              "      <td>-0.004138</td>\n",
              "      <td>0.321803</td>\n",
              "      <td>0.083255</td>\n",
              "      <td>1.000000</td>\n",
              "      <td>0.836281</td>\n",
              "      <td>0.605310</td>\n",
              "      <td>-0.139125</td>\n",
              "      <td>-0.018223</td>\n",
              "      <td>-0.118660</td>\n",
              "      <td>0.228662</td>\n",
              "    </tr>\n",
              "    <tr>\n",
              "      <th>Claims</th>\n",
              "      <td>-0.098518</td>\n",
              "      <td>-0.102327</td>\n",
              "      <td>0.126637</td>\n",
              "      <td>0.119291</td>\n",
              "      <td>0.836281</td>\n",
              "      <td>1.000000</td>\n",
              "      <td>0.709060</td>\n",
              "      <td>-0.068511</td>\n",
              "      <td>-0.034963</td>\n",
              "      <td>-0.132207</td>\n",
              "      <td>-0.011641</td>\n",
              "    </tr>\n",
              "    <tr>\n",
              "      <th>Payment</th>\n",
              "      <td>-0.164910</td>\n",
              "      <td>-0.172040</td>\n",
              "      <td>0.190572</td>\n",
              "      <td>0.014710</td>\n",
              "      <td>0.605310</td>\n",
              "      <td>0.709060</td>\n",
              "      <td>1.000000</td>\n",
              "      <td>0.117897</td>\n",
              "      <td>0.306105</td>\n",
              "      <td>-0.080893</td>\n",
              "      <td>-0.037952</td>\n",
              "    </tr>\n",
              "    <tr>\n",
              "      <th>payment_per_insured</th>\n",
              "      <td>0.136550</td>\n",
              "      <td>-0.010793</td>\n",
              "      <td>-0.239841</td>\n",
              "      <td>0.024667</td>\n",
              "      <td>-0.139125</td>\n",
              "      <td>-0.068511</td>\n",
              "      <td>0.117897</td>\n",
              "      <td>1.000000</td>\n",
              "      <td>0.605666</td>\n",
              "      <td>0.870388</td>\n",
              "      <td>-0.314849</td>\n",
              "    </tr>\n",
              "    <tr>\n",
              "      <th>payment_per_claims</th>\n",
              "      <td>0.039425</td>\n",
              "      <td>0.057152</td>\n",
              "      <td>0.022509</td>\n",
              "      <td>0.024393</td>\n",
              "      <td>-0.018223</td>\n",
              "      <td>-0.034963</td>\n",
              "      <td>0.306105</td>\n",
              "      <td>0.605666</td>\n",
              "      <td>1.000000</td>\n",
              "      <td>0.545652</td>\n",
              "      <td>0.058063</td>\n",
              "    </tr>\n",
              "    <tr>\n",
              "      <th>payment_per_insured_per_claims</th>\n",
              "      <td>0.119145</td>\n",
              "      <td>0.106675</td>\n",
              "      <td>-0.129375</td>\n",
              "      <td>0.040612</td>\n",
              "      <td>-0.118660</td>\n",
              "      <td>-0.132207</td>\n",
              "      <td>-0.080893</td>\n",
              "      <td>0.870388</td>\n",
              "      <td>0.545652</td>\n",
              "      <td>1.000000</td>\n",
              "      <td>-0.138616</td>\n",
              "    </tr>\n",
              "    <tr>\n",
              "      <th>insured_per_claims</th>\n",
              "      <td>-0.233829</td>\n",
              "      <td>0.205408</td>\n",
              "      <td>0.443198</td>\n",
              "      <td>-0.017524</td>\n",
              "      <td>0.228662</td>\n",
              "      <td>-0.011641</td>\n",
              "      <td>-0.037952</td>\n",
              "      <td>-0.314849</td>\n",
              "      <td>0.058063</td>\n",
              "      <td>-0.138616</td>\n",
              "      <td>1.000000</td>\n",
              "    </tr>\n",
              "  </tbody>\n",
              "</table>\n",
              "</div>"
            ],
            "text/plain": [
              "                                Kilometres  ...  insured_per_claims\n",
              "Kilometres                        1.000000  ...           -0.233829\n",
              "Zone                             -0.056942  ...            0.205408\n",
              "Bonus                             0.023031  ...            0.443198\n",
              "Make                              0.055079  ...           -0.017524\n",
              "Insured                          -0.178110  ...            0.228662\n",
              "Claims                           -0.098518  ...           -0.011641\n",
              "Payment                          -0.164910  ...           -0.037952\n",
              "payment_per_insured               0.136550  ...           -0.314849\n",
              "payment_per_claims                0.039425  ...            0.058063\n",
              "payment_per_insured_per_claims    0.119145  ...           -0.138616\n",
              "insured_per_claims               -0.233829  ...            1.000000\n",
              "\n",
              "[11 rows x 11 columns]"
            ]
          },
          "metadata": {
            "tags": []
          },
          "execution_count": 6
        }
      ]
    },
    {
      "cell_type": "code",
      "metadata": {
        "colab": {
          "base_uri": "https://localhost:8080/"
        },
        "id": "Iv6kLndhvPoV",
        "outputId": "f8c38dfb-a78a-4c47-b849-b0ff3fe582d1"
      },
      "source": [
        "from sklearn.metrics import r2_score\n",
        "\n",
        "train = df[['Claims','Insured','Payment']]\n",
        "x=train.drop('Payment',axis =1)\n",
        "y=train['Payment']\n",
        "from sklearn.model_selection import train_test_split\n",
        "x_train , x_test , y_train , y_test = train_test_split(x,y, test_size = 0.2 , random_state = 42)\n",
        "\n",
        "from sklearn.ensemble import RandomForestRegressor\n",
        "\n",
        "param_grid = {\n",
        "                 'n_estimators': range(10,110,10),\n",
        "                 'max_depth': range(2,10)\n",
        "             }\n",
        "from sklearn.model_selection import GridSearchCV\n",
        "clf = RandomForestRegressor()\n",
        "grid_clf = GridSearchCV(clf, param_grid, cv=10)\n",
        "grid_clf.fit(x_train, y_train)"
      ],
      "execution_count": null,
      "outputs": [
        {
          "output_type": "execute_result",
          "data": {
            "text/plain": [
              "GridSearchCV(cv=10, error_score=nan,\n",
              "             estimator=RandomForestRegressor(bootstrap=True, ccp_alpha=0.0,\n",
              "                                             criterion='mse', max_depth=None,\n",
              "                                             max_features='auto',\n",
              "                                             max_leaf_nodes=None,\n",
              "                                             max_samples=None,\n",
              "                                             min_impurity_decrease=0.0,\n",
              "                                             min_impurity_split=None,\n",
              "                                             min_samples_leaf=1,\n",
              "                                             min_samples_split=2,\n",
              "                                             min_weight_fraction_leaf=0.0,\n",
              "                                             n_estimators=100, n_jobs=None,\n",
              "                                             oob_score=False, random_state=None,\n",
              "                                             verbose=0, warm_start=False),\n",
              "             iid='deprecated', n_jobs=None,\n",
              "             param_grid={'max_depth': range(2, 10),\n",
              "                         'n_estimators': range(10, 110, 10)},\n",
              "             pre_dispatch='2*n_jobs', refit=True, return_train_score=False,\n",
              "             scoring=None, verbose=0)"
            ]
          },
          "metadata": {
            "tags": []
          },
          "execution_count": 7
        }
      ]
    },
    {
      "cell_type": "code",
      "metadata": {
        "colab": {
          "base_uri": "https://localhost:8080/"
        },
        "id": "IcffrPOhvPrn",
        "outputId": "9fb7c36a-98d0-41d0-8628-0d90143eed33"
      },
      "source": [
        "print('train R2:',r2_score(y_train , grid_clf.predict(x_train)),'test R2:',r2_score(y_test, grid_clf.predict(x_test)))"
      ],
      "execution_count": null,
      "outputs": [
        {
          "output_type": "stream",
          "text": [
            "train R2: 0.8325973290123317 test R2: 0.8260170051749135\n"
          ],
          "name": "stdout"
        }
      ]
    },
    {
      "cell_type": "code",
      "metadata": {
        "id": "eHY1x_58vPvS"
      },
      "source": [
        "df['PLS'] = grid_clf.predict(df[['Claims','Insured']])"
      ],
      "execution_count": null,
      "outputs": []
    },
    {
      "cell_type": "code",
      "metadata": {
        "colab": {
          "base_uri": "https://localhost:8080/",
          "height": 224
        },
        "id": "W6Rfjg5dvPyt",
        "outputId": "c5f537c7-9cb8-453b-c260-56b40a284d14"
      },
      "source": [
        "df.head()"
      ],
      "execution_count": null,
      "outputs": [
        {
          "output_type": "execute_result",
          "data": {
            "text/html": [
              "<div>\n",
              "<style scoped>\n",
              "    .dataframe tbody tr th:only-of-type {\n",
              "        vertical-align: middle;\n",
              "    }\n",
              "\n",
              "    .dataframe tbody tr th {\n",
              "        vertical-align: top;\n",
              "    }\n",
              "\n",
              "    .dataframe thead th {\n",
              "        text-align: right;\n",
              "    }\n",
              "</style>\n",
              "<table border=\"1\" class=\"dataframe\">\n",
              "  <thead>\n",
              "    <tr style=\"text-align: right;\">\n",
              "      <th></th>\n",
              "      <th>Kilometres</th>\n",
              "      <th>Zone</th>\n",
              "      <th>Bonus</th>\n",
              "      <th>Make</th>\n",
              "      <th>Insured</th>\n",
              "      <th>Claims</th>\n",
              "      <th>Payment</th>\n",
              "      <th>payment_per_insured</th>\n",
              "      <th>payment_per_claims</th>\n",
              "      <th>payment_per_insured_per_claims</th>\n",
              "      <th>insured_per_claims</th>\n",
              "      <th>PLS</th>\n",
              "    </tr>\n",
              "  </thead>\n",
              "  <tbody>\n",
              "    <tr>\n",
              "      <th>0</th>\n",
              "      <td>1</td>\n",
              "      <td>1</td>\n",
              "      <td>1</td>\n",
              "      <td>1</td>\n",
              "      <td>455.13</td>\n",
              "      <td>108</td>\n",
              "      <td>12.880271</td>\n",
              "      <td>862.371191</td>\n",
              "      <td>3634.175926</td>\n",
              "      <td>7.984918</td>\n",
              "      <td>4.214167</td>\n",
              "      <td>13.153345</td>\n",
              "    </tr>\n",
              "    <tr>\n",
              "      <th>1</th>\n",
              "      <td>1</td>\n",
              "      <td>1</td>\n",
              "      <td>1</td>\n",
              "      <td>2</td>\n",
              "      <td>69.17</td>\n",
              "      <td>19</td>\n",
              "      <td>10.741211</td>\n",
              "      <td>668.223218</td>\n",
              "      <td>2432.684211</td>\n",
              "      <td>35.169643</td>\n",
              "      <td>3.640526</td>\n",
              "      <td>11.321424</td>\n",
              "    </tr>\n",
              "    <tr>\n",
              "      <th>2</th>\n",
              "      <td>1</td>\n",
              "      <td>1</td>\n",
              "      <td>1</td>\n",
              "      <td>3</td>\n",
              "      <td>72.88</td>\n",
              "      <td>13</td>\n",
              "      <td>9.661097</td>\n",
              "      <td>215.340285</td>\n",
              "      <td>1207.230769</td>\n",
              "      <td>16.564637</td>\n",
              "      <td>5.606154</td>\n",
              "      <td>10.964655</td>\n",
              "    </tr>\n",
              "    <tr>\n",
              "      <th>3</th>\n",
              "      <td>1</td>\n",
              "      <td>1</td>\n",
              "      <td>1</td>\n",
              "      <td>4</td>\n",
              "      <td>1292.39</td>\n",
              "      <td>124</td>\n",
              "      <td>12.953239</td>\n",
              "      <td>326.682348</td>\n",
              "      <td>3404.846774</td>\n",
              "      <td>2.634535</td>\n",
              "      <td>10.422500</td>\n",
              "      <td>13.306355</td>\n",
              "    </tr>\n",
              "    <tr>\n",
              "      <th>4</th>\n",
              "      <td>1</td>\n",
              "      <td>1</td>\n",
              "      <td>1</td>\n",
              "      <td>5</td>\n",
              "      <td>191.01</td>\n",
              "      <td>40</td>\n",
              "      <td>11.690017</td>\n",
              "      <td>624.956809</td>\n",
              "      <td>2984.325000</td>\n",
              "      <td>15.623920</td>\n",
              "      <td>4.775250</td>\n",
              "      <td>12.004015</td>\n",
              "    </tr>\n",
              "  </tbody>\n",
              "</table>\n",
              "</div>"
            ],
            "text/plain": [
              "   Kilometres  Zone  ...  insured_per_claims        PLS\n",
              "0           1     1  ...            4.214167  13.153345\n",
              "1           1     1  ...            3.640526  11.321424\n",
              "2           1     1  ...            5.606154  10.964655\n",
              "3           1     1  ...           10.422500  13.306355\n",
              "4           1     1  ...            4.775250  12.004015\n",
              "\n",
              "[5 rows x 12 columns]"
            ]
          },
          "metadata": {
            "tags": []
          },
          "execution_count": 10
        }
      ]
    },
    {
      "cell_type": "code",
      "metadata": {
        "colab": {
          "base_uri": "https://localhost:8080/",
          "height": 295
        },
        "id": "iCmDYanTvP1-",
        "outputId": "56527b6a-3b0b-4da4-ca1c-f48cc456cafd"
      },
      "source": [
        "from sklearn.preprocessing import MinMaxScaler\n",
        "from sklearn.cluster import KMeans\n",
        "\n",
        "mms = MinMaxScaler()\n",
        "mms.fit(df)\n",
        "data_transformed = mms.transform(df)\n",
        "\n",
        "Sum_of_squared_distances = []\n",
        "K = range(1,15)\n",
        "for k in K:\n",
        "    km = KMeans(n_clusters=k)\n",
        "    km = km.fit(data_transformed)\n",
        "    Sum_of_squared_distances.append(km.inertia_)\n",
        "    \n",
        "plt.plot(K, Sum_of_squared_distances, 'bx-')\n",
        "plt.xlabel('k')\n",
        "plt.ylabel('Sum_of_squared_distances')\n",
        "plt.title('Elbow Method For Optimal k')\n",
        "plt.show()"
      ],
      "execution_count": null,
      "outputs": [
        {
          "output_type": "display_data",
          "data": {
            "image/png": "[encoded data removed]",
            "text/plain": [
              "<Figure size 432x288 with 1 Axes>"
            ]
          },
          "metadata": {
            "tags": [],
            "needs_background": "light"
          }
        }
      ]
    },
    {
      "cell_type": "code",
      "metadata": {
        "id": "aQn4irYkvP5M"
      },
      "source": [
        "knn = KMeans(n_clusters=5).fit(data_transformed)\n",
        "df['cluster'] = knn.predict(data_transformed)\n",
        "cluster_means = df.groupby('cluster')['Payment'].mean().reset_index()\n",
        "cluster_means.columns = ['cluster','mean']\n",
        "df = df.merge(cluster_means , on = 'cluster' )\n",
        "df.drop('cluster' , axis = 1 , inplace = True)"
      ],
      "execution_count": null,
      "outputs": []
    },
    {
      "cell_type": "code",
      "metadata": {
        "colab": {
          "base_uri": "https://localhost:8080/",
          "height": 224
        },
        "id": "cg2PL761vP9D",
        "outputId": "d547af6e-4f75-4239-ceb6-2e2032c1cde3"
      },
      "source": [
        "df.head()"
      ],
      "execution_count": null,
      "outputs": [
        {
          "output_type": "execute_result",
          "data": {
            "text/html": [
              "<div>\n",
              "<style scoped>\n",
              "    .dataframe tbody tr th:only-of-type {\n",
              "        vertical-align: middle;\n",
              "    }\n",
              "\n",
              "    .dataframe tbody tr th {\n",
              "        vertical-align: top;\n",
              "    }\n",
              "\n",
              "    .dataframe thead th {\n",
              "        text-align: right;\n",
              "    }\n",
              "</style>\n",
              "<table border=\"1\" class=\"dataframe\">\n",
              "  <thead>\n",
              "    <tr style=\"text-align: right;\">\n",
              "      <th></th>\n",
              "      <th>Kilometres</th>\n",
              "      <th>Zone</th>\n",
              "      <th>Bonus</th>\n",
              "      <th>Make</th>\n",
              "      <th>Insured</th>\n",
              "      <th>Claims</th>\n",
              "      <th>Payment</th>\n",
              "      <th>payment_per_insured</th>\n",
              "      <th>payment_per_claims</th>\n",
              "      <th>payment_per_insured_per_claims</th>\n",
              "      <th>insured_per_claims</th>\n",
              "      <th>PLS</th>\n",
              "      <th>mean</th>\n",
              "    </tr>\n",
              "  </thead>\n",
              "  <tbody>\n",
              "    <tr>\n",
              "      <th>0</th>\n",
              "      <td>1</td>\n",
              "      <td>1</td>\n",
              "      <td>1</td>\n",
              "      <td>1</td>\n",
              "      <td>455.13</td>\n",
              "      <td>108</td>\n",
              "      <td>12.880271</td>\n",
              "      <td>862.371191</td>\n",
              "      <td>3634.175926</td>\n",
              "      <td>7.984918</td>\n",
              "      <td>4.214167</td>\n",
              "      <td>13.153345</td>\n",
              "      <td>10.966881</td>\n",
              "    </tr>\n",
              "    <tr>\n",
              "      <th>1</th>\n",
              "      <td>1</td>\n",
              "      <td>1</td>\n",
              "      <td>1</td>\n",
              "      <td>2</td>\n",
              "      <td>69.17</td>\n",
              "      <td>19</td>\n",
              "      <td>10.741211</td>\n",
              "      <td>668.223218</td>\n",
              "      <td>2432.684211</td>\n",
              "      <td>35.169643</td>\n",
              "      <td>3.640526</td>\n",
              "      <td>11.321424</td>\n",
              "      <td>10.966881</td>\n",
              "    </tr>\n",
              "    <tr>\n",
              "      <th>2</th>\n",
              "      <td>1</td>\n",
              "      <td>1</td>\n",
              "      <td>1</td>\n",
              "      <td>3</td>\n",
              "      <td>72.88</td>\n",
              "      <td>13</td>\n",
              "      <td>9.661097</td>\n",
              "      <td>215.340285</td>\n",
              "      <td>1207.230769</td>\n",
              "      <td>16.564637</td>\n",
              "      <td>5.606154</td>\n",
              "      <td>10.964655</td>\n",
              "      <td>10.966881</td>\n",
              "    </tr>\n",
              "    <tr>\n",
              "      <th>3</th>\n",
              "      <td>1</td>\n",
              "      <td>1</td>\n",
              "      <td>1</td>\n",
              "      <td>4</td>\n",
              "      <td>1292.39</td>\n",
              "      <td>124</td>\n",
              "      <td>12.953239</td>\n",
              "      <td>326.682348</td>\n",
              "      <td>3404.846774</td>\n",
              "      <td>2.634535</td>\n",
              "      <td>10.422500</td>\n",
              "      <td>13.306355</td>\n",
              "      <td>10.966881</td>\n",
              "    </tr>\n",
              "    <tr>\n",
              "      <th>4</th>\n",
              "      <td>1</td>\n",
              "      <td>1</td>\n",
              "      <td>1</td>\n",
              "      <td>5</td>\n",
              "      <td>191.01</td>\n",
              "      <td>40</td>\n",
              "      <td>11.690017</td>\n",
              "      <td>624.956809</td>\n",
              "      <td>2984.325000</td>\n",
              "      <td>15.623920</td>\n",
              "      <td>4.775250</td>\n",
              "      <td>12.004015</td>\n",
              "      <td>10.966881</td>\n",
              "    </tr>\n",
              "  </tbody>\n",
              "</table>\n",
              "</div>"
            ],
            "text/plain": [
              "   Kilometres  Zone  Bonus  ...  insured_per_claims        PLS       mean\n",
              "0           1     1      1  ...            4.214167  13.153345  10.966881\n",
              "1           1     1      1  ...            3.640526  11.321424  10.966881\n",
              "2           1     1      1  ...            5.606154  10.964655  10.966881\n",
              "3           1     1      1  ...           10.422500  13.306355  10.966881\n",
              "4           1     1      1  ...            4.775250  12.004015  10.966881\n",
              "\n",
              "[5 rows x 13 columns]"
            ]
          },
          "metadata": {
            "tags": []
          },
          "execution_count": 13
        }
      ]
    },
    {
      "cell_type": "code",
      "metadata": {
        "id": "w1a0wW0ExgzP"
      },
      "source": [
        "#The average of the Payment from the previous regression and the cluster mean is also used a feature\n",
        "\n",
        "df['avg'] = (df['PLS']+df['mean'])/2"
      ],
      "execution_count": null,
      "outputs": []
    },
    {
      "cell_type": "code",
      "metadata": {
        "id": "WPW7k7LVxg2d"
      },
      "source": [
        "from sklearn.linear_model import LinearRegression\n",
        "x=df.drop(['Payment','PLS','mean'],axis =1)\n",
        "y=df['Payment']\n",
        "\n",
        "x_train , x_test , y_train , y_test = train_test_split(x,y, test_size = 0.2 , random_state = 42)\n",
        "sc = StandardScaler()\n",
        "scaled_x_train = sc.fit_transform(x_train)\n",
        "scaled_x_test = sc.transform(x_test)\n",
        "\n",
        "model = LinearRegression().fit(scaled_x_train , y_train)"
      ],
      "execution_count": null,
      "outputs": []
    },
    {
      "cell_type": "code",
      "metadata": {
        "colab": {
          "base_uri": "https://localhost:8080/"
        },
        "id": "8IrTJqwNxg53",
        "outputId": "ae6b8430-847f-4a5a-cac4-5bc245f2f4c4"
      },
      "source": [
        "from sklearn.metrics import mean_squared_error as mse\n",
        "print('training RMSE:',np.sqrt(mse(np.expm1(y_train) , np.expm1(model.predict(scaled_x_train)))))\n",
        "print('test RMSE:',np.sqrt(mse(np.expm1(y_test), np.expm1(model.predict(scaled_x_test)))))"
      ],
      "execution_count": null,
      "outputs": [
        {
          "output_type": "stream",
          "text": [
            "training RMSE: 85687.27516332551\n",
            "test RMSE: 98601.77803207564\n"
          ],
          "name": "stdout"
        }
      ]
    },
    {
      "cell_type": "code",
      "metadata": {
        "colab": {
          "base_uri": "https://localhost:8080/"
        },
        "id": "6FipqnNYxg9O",
        "outputId": "022042f6-b267-49fc-c2d9-b127a4715f04"
      },
      "source": [
        "print(r2_score(y_test,model.predict(scaled_x_test)))"
      ],
      "execution_count": null,
      "outputs": [
        {
          "output_type": "stream",
          "text": [
            "0.9077677935390048\n"
          ],
          "name": "stdout"
        }
      ]
    },
    {
      "cell_type": "code",
      "metadata": {
        "colab": {
          "base_uri": "https://localhost:8080/"
        },
        "id": "nzIYOJgZvQAr",
        "outputId": "eed8e269-79d7-4ba7-8e5d-c5ea9b2f61aa"
      },
      "source": [
        "print(r2_score(y_train,model.predict(scaled_x_train)))"
      ],
      "execution_count": null,
      "outputs": [
        {
          "output_type": "stream",
          "text": [
            "0.9166553947772564\n"
          ],
          "name": "stdout"
        }
      ]
    },
    {
      "cell_type": "code",
      "metadata": {
        "colab": {
          "base_uri": "https://localhost:8080/"
        },
        "id": "WNbfAxp1yCYf",
        "outputId": "cbbff8dd-a6e6-44e3-c859-2f29edf760a3"
      },
      "source": [
        "from google.colab import drive\n",
        "drive.mount('/content/drive')"
      ],
      "execution_count": null,
      "outputs": [
        {
          "output_type": "stream",
          "text": [
            "Drive already mounted at /content/drive; to attempt to forcibly remount, call drive.mount(\"/content/drive\", force_remount=True).\n"
          ],
          "name": "stdout"
        }
      ]
    },
    {
      "cell_type": "code",
      "metadata": {
        "id": "0N1MKhEtvQD-"
      },
      "source": [
        ""
      ],
      "execution_count": null,
      "outputs": []
    }
  ]
}