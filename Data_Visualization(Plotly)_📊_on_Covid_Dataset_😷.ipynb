{
  "nbformat": 4,
  "nbformat_minor": 0,
  "metadata": {
    "colab": {
      "name": " Data Visualization(Plotly) 📊 on Covid Dataset 😷.ipynb",
      "provenance": [],
      "authorship_tag": "ABX9TyMl+ldgGK9eV5pShhJNAkvb",
      "include_colab_link": true
    },
    "kernelspec": {
      "name": "python3",
      "display_name": "Python 3"
    },
    "language_info": {
      "name": "python"
    }
  },
  "cells": [
    {
      "cell_type": "markdown",
      "metadata": {
        "id": "view-in-github",
        "colab_type": "text"
      },
      "source": [
        "<a href=\"https://colab.research.google.com/github/anoldKupara/Machine-Learning-Course/blob/main/Data_Visualization(Plotly)_%F0%9F%93%8A_on_Covid_Dataset_%F0%9F%98%B7.ipynb\" target=\"_parent\"><img src=\"https://colab.research.google.com/assets/colab-badge.svg\" alt=\"Open In Colab\"/></a>"
      ]
    },
    {
      "cell_type": "code",
      "metadata": {
        "colab": {
          "base_uri": "https://localhost:8080/"
        },
        "id": "KmWq51esDl77",
        "outputId": "c133011d-96f4-4401-e6da-439da0eb8474"
      },
      "source": [
        "!pip install chart_studio"
      ],
      "execution_count": 3,
      "outputs": [
        {
          "output_type": "stream",
          "text": [
            "Collecting chart_studio\n",
            "  Downloading chart_studio-1.1.0-py3-none-any.whl (64 kB)\n",
            "\u001b[?25l\r\u001b[K     |█████                           | 10 kB 23.4 MB/s eta 0:00:01\r\u001b[K     |██████████▏                     | 20 kB 10.5 MB/s eta 0:00:01\r\u001b[K     |███████████████▎                | 30 kB 8.5 MB/s eta 0:00:01\r\u001b[K     |████████████████████▍           | 40 kB 7.7 MB/s eta 0:00:01\r\u001b[K     |█████████████████████████▍      | 51 kB 4.2 MB/s eta 0:00:01\r\u001b[K     |██████████████████████████████▌ | 61 kB 4.4 MB/s eta 0:00:01\r\u001b[K     |████████████████████████████████| 64 kB 1.8 MB/s \n",
            "\u001b[?25hRequirement already satisfied: retrying>=1.3.3 in /usr/local/lib/python3.7/dist-packages (from chart_studio) (1.3.3)\n",
            "Requirement already satisfied: plotly in /usr/local/lib/python3.7/dist-packages (from chart_studio) (4.4.1)\n",
            "Requirement already satisfied: requests in /usr/local/lib/python3.7/dist-packages (from chart_studio) (2.23.0)\n",
            "Requirement already satisfied: six in /usr/local/lib/python3.7/dist-packages (from chart_studio) (1.15.0)\n",
            "Requirement already satisfied: certifi>=2017.4.17 in /usr/local/lib/python3.7/dist-packages (from requests->chart_studio) (2021.5.30)\n",
            "Requirement already satisfied: idna<3,>=2.5 in /usr/local/lib/python3.7/dist-packages (from requests->chart_studio) (2.10)\n",
            "Requirement already satisfied: urllib3!=1.25.0,!=1.25.1,<1.26,>=1.21.1 in /usr/local/lib/python3.7/dist-packages (from requests->chart_studio) (1.24.3)\n",
            "Requirement already satisfied: chardet<4,>=3.0.2 in /usr/local/lib/python3.7/dist-packages (from requests->chart_studio) (3.0.4)\n",
            "Installing collected packages: chart-studio\n",
            "Successfully installed chart-studio-1.1.0\n"
          ],
          "name": "stdout"
        }
      ]
    },
    {
      "cell_type": "code",
      "metadata": {
        "colab": {
          "base_uri": "https://localhost:8080/",
          "height": 17
        },
        "id": "tG9LEPFWDoZz",
        "outputId": "31bf9964-6764-4060-a6b0-4c9483970e1e"
      },
      "source": [
        "import pandas as pd\n",
        "import numpy as np\n",
        "import chart_studio.plotly as py\n",
        "import cufflinks as cf\n",
        "import seaborn as sns\n",
        "import plotly.express as px\n",
        "%matplotlib inline\n",
        "\n",
        "# Make Plotly work in your Jupyter Notebook\n",
        "from plotly.offline import download_plotlyjs, init_notebook_mode, plot, iplot\n",
        "init_notebook_mode(connected=True)\n",
        "# Use Plotly locally\n",
        "cf.go_offline()"
      ],
      "execution_count": 4,
      "outputs": [
        {
          "output_type": "display_data",
          "data": {
            "text/html": [
              "        <script type=\"text/javascript\">\n",
              "        window.PlotlyConfig = {MathJaxConfig: 'local'};\n",
              "        if (window.MathJax) {MathJax.Hub.Config({SVG: {font: \"STIX-Web\"}});}\n",
              "        if (typeof require !== 'undefined') {\n",
              "        require.undef(\"plotly\");\n",
              "        requirejs.config({\n",
              "            paths: {\n",
              "                'plotly': ['https://cdn.plot.ly/plotly-latest.min']\n",
              "            }\n",
              "        });\n",
              "        require(['plotly'], function(Plotly) {\n",
              "            window._Plotly = Plotly;\n",
              "        });\n",
              "        }\n",
              "        </script>\n",
              "        "
            ]
          },
          "metadata": {}
        },
        {
          "output_type": "display_data",
          "data": {
            "text/html": [
              "        <script type=\"text/javascript\">\n",
              "        window.PlotlyConfig = {MathJaxConfig: 'local'};\n",
              "        if (window.MathJax) {MathJax.Hub.Config({SVG: {font: \"STIX-Web\"}});}\n",
              "        if (typeof require !== 'undefined') {\n",
              "        require.undef(\"plotly\");\n",
              "        requirejs.config({\n",
              "            paths: {\n",
              "                'plotly': ['https://cdn.plot.ly/plotly-latest.min']\n",
              "            }\n",
              "        });\n",
              "        require(['plotly'], function(Plotly) {\n",
              "            window._Plotly = Plotly;\n",
              "        });\n",
              "        }\n",
              "        </script>\n",
              "        "
            ]
          },
          "metadata": {}
        }
      ]
    },
    {
      "cell_type": "code",
      "metadata": {
        "colab": {
          "base_uri": "https://localhost:8080/",
          "height": 295
        },
        "id": "nn98kgIDDofd",
        "outputId": "86c6a90f-def9-4f88-e808-74353ff1245a"
      },
      "source": [
        "country_wise = pd.read_csv('/content/drive/MyDrive/Colab Notebooks/Datasets/country_wise_latest.csv')\n",
        "print(\"Country Wise Data shape =\",country_wise.shape)\n",
        "country_wise.head()"
      ],
      "execution_count": 5,
      "outputs": [
        {
          "output_type": "stream",
          "text": [
            "Country Wise Data shape = (187, 15)\n"
          ],
          "name": "stdout"
        },
        {
          "output_type": "execute_result",
          "data": {
            "text/html": [
              "<div>\n",
              "<style scoped>\n",
              "    .dataframe tbody tr th:only-of-type {\n",
              "        vertical-align: middle;\n",
              "    }\n",
              "\n",
              "    .dataframe tbody tr th {\n",
              "        vertical-align: top;\n",
              "    }\n",
              "\n",
              "    .dataframe thead th {\n",
              "        text-align: right;\n",
              "    }\n",
              "</style>\n",
              "<table border=\"1\" class=\"dataframe\">\n",
              "  <thead>\n",
              "    <tr style=\"text-align: right;\">\n",
              "      <th></th>\n",
              "      <th>Country/Region</th>\n",
              "      <th>Confirmed</th>\n",
              "      <th>Deaths</th>\n",
              "      <th>Recovered</th>\n",
              "      <th>Active</th>\n",
              "      <th>New cases</th>\n",
              "      <th>New deaths</th>\n",
              "      <th>New recovered</th>\n",
              "      <th>Deaths / 100 Cases</th>\n",
              "      <th>Recovered / 100 Cases</th>\n",
              "      <th>Deaths / 100 Recovered</th>\n",
              "      <th>Confirmed last week</th>\n",
              "      <th>1 week change</th>\n",
              "      <th>1 week % increase</th>\n",
              "      <th>WHO Region</th>\n",
              "    </tr>\n",
              "  </thead>\n",
              "  <tbody>\n",
              "    <tr>\n",
              "      <th>0</th>\n",
              "      <td>Afghanistan</td>\n",
              "      <td>36263</td>\n",
              "      <td>1269</td>\n",
              "      <td>25198</td>\n",
              "      <td>9796</td>\n",
              "      <td>106</td>\n",
              "      <td>10</td>\n",
              "      <td>18</td>\n",
              "      <td>3.50</td>\n",
              "      <td>69.49</td>\n",
              "      <td>5.04</td>\n",
              "      <td>35526</td>\n",
              "      <td>737</td>\n",
              "      <td>2.07</td>\n",
              "      <td>Eastern Mediterranean</td>\n",
              "    </tr>\n",
              "    <tr>\n",
              "      <th>1</th>\n",
              "      <td>Albania</td>\n",
              "      <td>4880</td>\n",
              "      <td>144</td>\n",
              "      <td>2745</td>\n",
              "      <td>1991</td>\n",
              "      <td>117</td>\n",
              "      <td>6</td>\n",
              "      <td>63</td>\n",
              "      <td>2.95</td>\n",
              "      <td>56.25</td>\n",
              "      <td>5.25</td>\n",
              "      <td>4171</td>\n",
              "      <td>709</td>\n",
              "      <td>17.00</td>\n",
              "      <td>Europe</td>\n",
              "    </tr>\n",
              "    <tr>\n",
              "      <th>2</th>\n",
              "      <td>Algeria</td>\n",
              "      <td>27973</td>\n",
              "      <td>1163</td>\n",
              "      <td>18837</td>\n",
              "      <td>7973</td>\n",
              "      <td>616</td>\n",
              "      <td>8</td>\n",
              "      <td>749</td>\n",
              "      <td>4.16</td>\n",
              "      <td>67.34</td>\n",
              "      <td>6.17</td>\n",
              "      <td>23691</td>\n",
              "      <td>4282</td>\n",
              "      <td>18.07</td>\n",
              "      <td>Africa</td>\n",
              "    </tr>\n",
              "    <tr>\n",
              "      <th>3</th>\n",
              "      <td>Andorra</td>\n",
              "      <td>907</td>\n",
              "      <td>52</td>\n",
              "      <td>803</td>\n",
              "      <td>52</td>\n",
              "      <td>10</td>\n",
              "      <td>0</td>\n",
              "      <td>0</td>\n",
              "      <td>5.73</td>\n",
              "      <td>88.53</td>\n",
              "      <td>6.48</td>\n",
              "      <td>884</td>\n",
              "      <td>23</td>\n",
              "      <td>2.60</td>\n",
              "      <td>Europe</td>\n",
              "    </tr>\n",
              "    <tr>\n",
              "      <th>4</th>\n",
              "      <td>Angola</td>\n",
              "      <td>950</td>\n",
              "      <td>41</td>\n",
              "      <td>242</td>\n",
              "      <td>667</td>\n",
              "      <td>18</td>\n",
              "      <td>1</td>\n",
              "      <td>0</td>\n",
              "      <td>4.32</td>\n",
              "      <td>25.47</td>\n",
              "      <td>16.94</td>\n",
              "      <td>749</td>\n",
              "      <td>201</td>\n",
              "      <td>26.84</td>\n",
              "      <td>Africa</td>\n",
              "    </tr>\n",
              "  </tbody>\n",
              "</table>\n",
              "</div>"
            ],
            "text/plain": [
              "  Country/Region  Confirmed  ...  1 week % increase             WHO Region\n",
              "0    Afghanistan      36263  ...               2.07  Eastern Mediterranean\n",
              "1        Albania       4880  ...              17.00                 Europe\n",
              "2        Algeria      27973  ...              18.07                 Africa\n",
              "3        Andorra        907  ...               2.60                 Europe\n",
              "4         Angola        950  ...              26.84                 Africa\n",
              "\n",
              "[5 rows x 15 columns]"
            ]
          },
          "metadata": {},
          "execution_count": 5
        }
      ]
    },
    {
      "cell_type": "code",
      "metadata": {
        "colab": {
          "base_uri": "https://localhost:8080/"
        },
        "id": "a0n0U-PxDoj4",
        "outputId": "9413efb7-5563-499d-a5bb-03ef113d2d45"
      },
      "source": [
        "country_wise.info()"
      ],
      "execution_count": 9,
      "outputs": [
        {
          "output_type": "stream",
          "text": [
            "<class 'pandas.core.frame.DataFrame'>\n",
            "RangeIndex: 187 entries, 0 to 186\n",
            "Data columns (total 15 columns):\n",
            " #   Column                  Non-Null Count  Dtype  \n",
            "---  ------                  --------------  -----  \n",
            " 0   Country/Region          187 non-null    object \n",
            " 1   Confirmed               187 non-null    int64  \n",
            " 2   Deaths                  187 non-null    int64  \n",
            " 3   Recovered               187 non-null    int64  \n",
            " 4   Active                  187 non-null    int64  \n",
            " 5   New cases               187 non-null    int64  \n",
            " 6   New deaths              187 non-null    int64  \n",
            " 7   New recovered           187 non-null    int64  \n",
            " 8   Deaths / 100 Cases      187 non-null    float64\n",
            " 9   Recovered / 100 Cases   187 non-null    float64\n",
            " 10  Deaths / 100 Recovered  187 non-null    float64\n",
            " 11  Confirmed last week     187 non-null    int64  \n",
            " 12  1 week change           187 non-null    int64  \n",
            " 13  1 week % increase       187 non-null    float64\n",
            " 14  WHO Region              187 non-null    object \n",
            "dtypes: float64(4), int64(9), object(2)\n",
            "memory usage: 22.0+ KB\n"
          ],
          "name": "stdout"
        }
      ]
    },
    {
      "cell_type": "code",
      "metadata": {
        "id": "zBM25ih9DonU"
      },
      "source": [
        "import plotly.graph_objects as go\n",
        "\n",
        "#Deaths for first 50 countries\n",
        "\n",
        "# Display death due to covid data for various countries \n",
        "fig = px.bar(country_wise.head(50), y='Deaths', x='Country/Region', text='Deaths', color='Country/Region')\n",
        "# Put bar total value above bars with 2 values of precision\n",
        "fig.update_traces(texttemplate='%{text:.2s}', textposition='outside')\n",
        "# Set fontsize and uniformtext_mode='hide' says to hide the text if it won't fit\n",
        "fig.update_layout(uniformtext_minsize=8)\n",
        "# Rotate labels 45 degrees\n",
        "fig.update_layout(xaxis_tickangle=-45)\n",
        "fig"
      ],
      "execution_count": null,
      "outputs": []
    },
    {
      "cell_type": "code",
      "metadata": {
        "id": "0MMoMqdtDor8"
      },
      "source": [
        "#Deaths for next 50 countries\n",
        "fig1 = px.bar(country_wise[50:101], y='Deaths', x='Country/Region', text='Deaths', color='Country/Region')\n",
        "# Put bar total value above bars with 2 values of precision\n",
        "fig1.update_traces(texttemplate='%{text:.2s}', textposition='outside')\n",
        "# Set fontsize and uniformtext_mode='hide' says to hide the text if it won't fit\n",
        "fig1.update_layout(uniformtext_minsize=8)\n",
        "# Rotate labels 45 degrees\n",
        "fig1.update_layout(xaxis_tickangle=-45)\n",
        "fig1"
      ],
      "execution_count": null,
      "outputs": []
    },
    {
      "cell_type": "code",
      "metadata": {
        "id": "3SancJ2KDovQ"
      },
      "source": [
        "#Deaths for next 50 countries¶\n",
        "fig1 = px.bar(country_wise[101:151], y='Deaths', x='Country/Region', text='Deaths', color='Country/Region')\n",
        "# Put bar total value above bars with 2 values of precision\n",
        "fig1.update_traces(texttemplate='%{text:.2s}', textposition='outside')\n",
        "# Set fontsize and uniformtext_mode='hide' says to hide the text if it won't fit\n",
        "fig1.update_layout(uniformtext_minsize=8)\n",
        "# Rotate labels 45 degrees\n",
        "fig1.update_layout(xaxis_tickangle=-45)\n",
        "fig1"
      ],
      "execution_count": null,
      "outputs": []
    },
    {
      "cell_type": "code",
      "metadata": {
        "id": "_lEmDR1bDozU"
      },
      "source": [
        "#Deaths for next countries¶\n",
        "fig1 = px.bar(country_wise[151:], y='Deaths', x='Country/Region', text='Deaths', color='Country/Region')\n",
        "# Put bar total value above bars with 2 values of precision\n",
        "fig1.update_traces(texttemplate='%{text:.2s}', textposition='outside')\n",
        "# Set fontsize and uniformtext_mode='hide' says to hide the text if it won't fit\n",
        "fig1.update_layout(uniformtext_minsize=8)\n",
        "# Rotate labels 45 degrees\n",
        "fig1.update_layout(xaxis_tickangle=-45)\n",
        "fig1"
      ],
      "execution_count": null,
      "outputs": []
    },
    {
      "cell_type": "code",
      "metadata": {
        "id": "fimpZgX4Do5t"
      },
      "source": [
        "#Pie-Chart Representation of total cases in all the coutries of Asia continent¶\n",
        "worldometer = pd.read_csv('/content/drive/MyDrive/Colab Notebooks/Datasets/worldometer_data.csv')\n",
        "worldometer_asia = worldometer[worldometer['Continent'] == 'Asia']\n",
        "\n",
        "\n",
        "px.pie(worldometer_asia, values='TotalCases', names='Country/Region', \n",
        "       title='Population of Asian continent', \n",
        "       color_discrete_sequence=px.colors.sequential.RdBu)"
      ],
      "execution_count": null,
      "outputs": []
    },
    {
      "cell_type": "code",
      "metadata": {
        "id": "1TCJSiK5Do-8"
      },
      "source": [
        "#Below showing the animated transition of Confirmed cases from 22 Jan 2020 to July 2020\n",
        "full_grouped = pd.read_csv('/content/drive/MyDrive/Colab Notebooks/Datasets/full_grouped.csv')\n",
        "\n",
        "india = full_grouped[full_grouped['Country/Region'] == 'India']\n",
        "us = full_grouped[full_grouped['Country/Region'] == 'US']\n",
        "russia = full_grouped[full_grouped['Country/Region'] == 'Russia']\n",
        "china = full_grouped[full_grouped['Country/Region'] == 'China']\n",
        "df = pd.concat([india,us,russia,china], axis=0)\n",
        "\n",
        "# Watch as bars chart covid cases changes\n",
        "\n",
        "\n",
        "fig = px.bar(df, x=\"Country/Region\", y=\"Confirmed\", color=\"Country/Region\",\n",
        "  animation_frame=\"Date\", animation_group=\"Country/Region\", range_y=[0,df['Confirmed'].max() + 100000])\n",
        "\n",
        "fig.layout.updatemenus[0].buttons[0].args[1][\"frame\"][\"duration\"] = 1\n",
        "\n",
        "fig"
      ],
      "execution_count": null,
      "outputs": []
    },
    {
      "cell_type": "code",
      "metadata": {
        "id": "liBBFTa3DpCm"
      },
      "source": [
        "#Below you can see we have plotted a hist plot of death across countries of Asian continent.¶\n",
        "#We can infer that the maximum death is around 40k-45k with count as 1 and of India, you can hover to see of other countries\n",
        "# bins represent the number of bars to make\n",
        "# Can define x label, color, title\n",
        "# marginal creates another plot (violin, box, rug)\n",
        "\n",
        "fig = px.histogram(worldometer_asia,x = 'TotalDeaths', nbins=20, \n",
        "                   labels={'value':'Total Deaths'},title='Death Distribution of Asia Continent', \n",
        "                   marginal='violin',\n",
        "                   color='Country/Region')\n",
        "\n",
        "fig.update_layout(\n",
        "    xaxis_title_text='Total Deaths', showlegend=True\n",
        ")"
      ],
      "execution_count": null,
      "outputs": []
    },
    {
      "cell_type": "code",
      "metadata": {
        "id": "L_nWX_IQDpGb"
      },
      "source": [
        "#Box Plot Representating Total Cases Distribution across Asia and Europe(Hover for more info)¶\n",
        "# A box plot allows you to compare different variables\n",
        "# The box shows the quartiles of the data. The bar in the middle is the median \n",
        "# The whiskers extend to all the other data aside from the points that are considered\n",
        "# to be outliers\n",
        "\n",
        "# Complex Styling\n",
        "fig = go.Figure()\n",
        "# Show all points, spread them so they don't overlap and change whisker width\n",
        "fig.add_trace(go.Box(y=worldometer_asia['TotalCases'], boxpoints='all', name='Asia',\n",
        "                    fillcolor='blue', jitter=0.5, whiskerwidth=0.2))\n",
        "fig.add_trace(go.Box(y=worldometer[worldometer['Continent'] == 'Europe']['TotalCases'], boxpoints='all', name='Europe',\n",
        "                    fillcolor='red', jitter=0.5, whiskerwidth=0.2))\n",
        "# Change background / grid colors\n",
        "fig.update_layout(title='Asia vs Europe total cases distribution', \n",
        "                  yaxis=dict(gridcolor='rgb(255, 255, 255)',\n",
        "                 gridwidth=3),\n",
        "                 paper_bgcolor='rgb(243, 243, 243)',\n",
        "                 plot_bgcolor='rgb(243, 243, 243)')"
      ],
      "execution_count": null,
      "outputs": []
    },
    {
      "cell_type": "code",
      "metadata": {
        "id": "iSCgiS38DpKS"
      },
      "source": [
        "#Showing a Globe map which dislays the deaths of all countries in a very informative and interesting way¶\n",
        "import pycountry\n",
        "\n",
        "worldometer['Country/Region'].replace('USA','United States', inplace=True)\n",
        "worldometer['Country/Region'].replace('UAE','United Arab Emirates', inplace=True)\n",
        "worldometer['Country/Region'].replace('Ivory Coast','Côte d\\'Ivoire', inplace=True)\n",
        "worldometer['Country/Region'].replace('S. Korea','Korea', inplace=True)\n",
        "worldometer['Country/Region'].replace('N. Korea','Korea', inplace=True)\n",
        "worldometer['Country/Region'].replace('DRC','Republic of the Congo', inplace=True)\n",
        "worldometer['Country/Region'].replace('Channel Islands','Jersey', inplace=True)\n",
        "\n",
        "exceptions = []\n",
        "\n",
        "def get_alpha_3_code(cou):\n",
        "    try:\n",
        "        return pycountry.countries.search_fuzzy(cou)[0].alpha_3\n",
        "    except:\n",
        "        exceptions.append(cou)\n",
        "\n",
        "\n",
        "worldometer['iso_alpha'] = worldometer['Country/Region'].apply(lambda x : get_alpha_3_code(x))\n",
        "\n",
        "# removeing exceptions\n",
        "for exc in exceptions:\n",
        "    worldometer = worldometer[worldometer['Country/Region']!=exc]\n",
        "    \n",
        "    \n",
        "fig = px.scatter_geo(worldometer, locations=\"iso_alpha\",\n",
        "                     color=\"Continent\", # which column to use to set the color of markers\n",
        "                     hover_name=\"Country/Region\", # column added to hover information\n",
        "                     size=\"TotalCases\", # size of markers\n",
        "                     projection=\"orthographic\")\n",
        "fig"
      ],
      "execution_count": null,
      "outputs": []
    },
    {
      "cell_type": "code",
      "metadata": {
        "id": "2U6TLhO6EpBU"
      },
      "source": [
        "from google.colab import drive\n",
        "drive.mount('/content/drive')"
      ],
      "execution_count": null,
      "outputs": []
    },
    {
      "cell_type": "code",
      "metadata": {
        "id": "qVFEHKgrDpOZ"
      },
      "source": [
        ""
      ],
      "execution_count": null,
      "outputs": []
    },
    {
      "cell_type": "code",
      "metadata": {
        "id": "lMWXZu-TDpSZ"
      },
      "source": [
        ""
      ],
      "execution_count": null,
      "outputs": []
    },
    {
      "cell_type": "code",
      "metadata": {
        "id": "OM6RDgclDpV3"
      },
      "source": [
        ""
      ],
      "execution_count": null,
      "outputs": []
    },
    {
      "cell_type": "code",
      "metadata": {
        "id": "Cav9aNQ3DpZo"
      },
      "source": [
        ""
      ],
      "execution_count": null,
      "outputs": []
    }
  ]
}