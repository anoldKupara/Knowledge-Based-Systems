{
  "nbformat": 4,
  "nbformat_minor": 0,
  "metadata": {
    "colab": {
      "name": "Titanic_Disaster_Solutions.ipynb",
      "provenance": [],
      "collapsed_sections": [],
      "mount_file_id": "1V8g9JfHeQV2CjQzUTz2TnRXXoyuuQGxX",
      "authorship_tag": "ABX9TyOYLBZ200bVUsqUI+qh1VoJ",
      "include_colab_link": true
    },
    "kernelspec": {
      "name": "python3",
      "display_name": "Python 3"
    },
    "language_info": {
      "name": "python"
    }
  },
  "cells": [
    {
      "cell_type": "markdown",
      "metadata": {
        "id": "view-in-github",
        "colab_type": "text"
      },
      "source": [
        "<a href=\"https://colab.research.google.com/github/anoldKupara/Machine-Learning-Course/blob/main/Titanic_Disaster_Solutions.ipynb\" target=\"_parent\"><img src=\"https://colab.research.google.com/assets/colab-badge.svg\" alt=\"Open In Colab\"/></a>"
      ]
    },
    {
      "cell_type": "code",
      "metadata": {
        "id": "zCve8y6yXDN4"
      },
      "source": [
        "# Machine Learning Assignment 3\n",
        "# Predict survival on the Titanic\n",
        "# Defining the problem statement\n",
        "# Collecting the data\n",
        "# Exploratory data analysis\n",
        "# Feature engineering\n",
        "# Modelling and Testing"
      ],
      "execution_count": 40,
      "outputs": []
    },
    {
      "cell_type": "code",
      "metadata": {
        "id": "dW8yWWh1ZCOB"
      },
      "source": [
        "# 1. Defining the problem statement\n",
        "# with using titanic dataset what sorts of people were likely survive we will apply the tools of machine learning to predict which passengers survived the Titanic tragedy.\n",
        "\n",
        "from sklearn.preprocessing import OneHotEncoder\n",
        "from sklearn.compose import make_column_transformer\n",
        "from sklearn.neighbors import KNeighborsClassifier\n",
        "from sklearn.tree import DecisionTreeClassifier\n",
        "from sklearn.ensemble import RandomForestClassifier\n",
        "from sklearn.naive_bayes import GaussianNB\n",
        "from sklearn.linear_model import LogisticRegression\n",
        "from sklearn.svm import SVC\n",
        "from sklearn.model_selection import train_test_split\n",
        "from sklearn.model_selection import cross_val_score\n",
        "from sklearn.feature_selection import SelectKBest, f_classif\n",
        "import numpy as np\n",
        "import pandas as pd\n",
        "import matplotlib.pyplot as plt\n",
        "import seaborn as sns\n",
        "from sklearn import metrics\n",
        "sns.set()"
      ],
      "execution_count": 41,
      "outputs": []
    },
    {
      "cell_type": "code",
      "metadata": {
        "colab": {
          "base_uri": "https://localhost:8080/",
          "height": 943
        },
        "id": "_DDz8me_ZDv1",
        "outputId": "548345f6-e878-4192-df47-16b1f13a3462"
      },
      "source": [
        "#2. Collecting the data¶\n",
        "\n",
        "data=pd.read_csv(\"/content/drive/MyDrive/Colab Notebooks/Datasets/data/train.csv\")\n",
        "test=pd.read_csv(\"/content/drive/MyDrive/Colab Notebooks/Datasets/test.csv\")\n",
        "data"
      ],
      "execution_count": 42,
      "outputs": [
        {
          "output_type": "execute_result",
          "data": {
            "text/html": [
              "<div>\n",
              "<style scoped>\n",
              "    .dataframe tbody tr th:only-of-type {\n",
              "        vertical-align: middle;\n",
              "    }\n",
              "\n",
              "    .dataframe tbody tr th {\n",
              "        vertical-align: top;\n",
              "    }\n",
              "\n",
              "    .dataframe thead th {\n",
              "        text-align: right;\n",
              "    }\n",
              "</style>\n",
              "<table border=\"1\" class=\"dataframe\">\n",
              "  <thead>\n",
              "    <tr style=\"text-align: right;\">\n",
              "      <th></th>\n",
              "      <th>PassengerId</th>\n",
              "      <th>Survived</th>\n",
              "      <th>Pclass</th>\n",
              "      <th>Name</th>\n",
              "      <th>Sex</th>\n",
              "      <th>Age</th>\n",
              "      <th>SibSp</th>\n",
              "      <th>Parch</th>\n",
              "      <th>Ticket</th>\n",
              "      <th>Fare</th>\n",
              "      <th>Cabin</th>\n",
              "      <th>Embarked</th>\n",
              "    </tr>\n",
              "  </thead>\n",
              "  <tbody>\n",
              "    <tr>\n",
              "      <th>0</th>\n",
              "      <td>1</td>\n",
              "      <td>0</td>\n",
              "      <td>3</td>\n",
              "      <td>Braund, Mr. Owen Harris</td>\n",
              "      <td>male</td>\n",
              "      <td>22.0</td>\n",
              "      <td>1</td>\n",
              "      <td>0</td>\n",
              "      <td>A/5 21171</td>\n",
              "      <td>7.2500</td>\n",
              "      <td>NaN</td>\n",
              "      <td>S</td>\n",
              "    </tr>\n",
              "    <tr>\n",
              "      <th>1</th>\n",
              "      <td>2</td>\n",
              "      <td>1</td>\n",
              "      <td>1</td>\n",
              "      <td>Cumings, Mrs. John Bradley (Florence Briggs Th...</td>\n",
              "      <td>female</td>\n",
              "      <td>38.0</td>\n",
              "      <td>1</td>\n",
              "      <td>0</td>\n",
              "      <td>PC 17599</td>\n",
              "      <td>71.2833</td>\n",
              "      <td>C85</td>\n",
              "      <td>C</td>\n",
              "    </tr>\n",
              "    <tr>\n",
              "      <th>2</th>\n",
              "      <td>3</td>\n",
              "      <td>1</td>\n",
              "      <td>3</td>\n",
              "      <td>Heikkinen, Miss. Laina</td>\n",
              "      <td>female</td>\n",
              "      <td>26.0</td>\n",
              "      <td>0</td>\n",
              "      <td>0</td>\n",
              "      <td>STON/O2. 3101282</td>\n",
              "      <td>7.9250</td>\n",
              "      <td>NaN</td>\n",
              "      <td>S</td>\n",
              "    </tr>\n",
              "    <tr>\n",
              "      <th>3</th>\n",
              "      <td>4</td>\n",
              "      <td>1</td>\n",
              "      <td>1</td>\n",
              "      <td>Futrelle, Mrs. Jacques Heath (Lily May Peel)</td>\n",
              "      <td>female</td>\n",
              "      <td>35.0</td>\n",
              "      <td>1</td>\n",
              "      <td>0</td>\n",
              "      <td>113803</td>\n",
              "      <td>53.1000</td>\n",
              "      <td>C123</td>\n",
              "      <td>S</td>\n",
              "    </tr>\n",
              "    <tr>\n",
              "      <th>4</th>\n",
              "      <td>5</td>\n",
              "      <td>0</td>\n",
              "      <td>3</td>\n",
              "      <td>Allen, Mr. William Henry</td>\n",
              "      <td>male</td>\n",
              "      <td>35.0</td>\n",
              "      <td>0</td>\n",
              "      <td>0</td>\n",
              "      <td>373450</td>\n",
              "      <td>8.0500</td>\n",
              "      <td>NaN</td>\n",
              "      <td>S</td>\n",
              "    </tr>\n",
              "    <tr>\n",
              "      <th>...</th>\n",
              "      <td>...</td>\n",
              "      <td>...</td>\n",
              "      <td>...</td>\n",
              "      <td>...</td>\n",
              "      <td>...</td>\n",
              "      <td>...</td>\n",
              "      <td>...</td>\n",
              "      <td>...</td>\n",
              "      <td>...</td>\n",
              "      <td>...</td>\n",
              "      <td>...</td>\n",
              "      <td>...</td>\n",
              "    </tr>\n",
              "    <tr>\n",
              "      <th>886</th>\n",
              "      <td>887</td>\n",
              "      <td>0</td>\n",
              "      <td>2</td>\n",
              "      <td>Montvila, Rev. Juozas</td>\n",
              "      <td>male</td>\n",
              "      <td>27.0</td>\n",
              "      <td>0</td>\n",
              "      <td>0</td>\n",
              "      <td>211536</td>\n",
              "      <td>13.0000</td>\n",
              "      <td>NaN</td>\n",
              "      <td>S</td>\n",
              "    </tr>\n",
              "    <tr>\n",
              "      <th>887</th>\n",
              "      <td>888</td>\n",
              "      <td>1</td>\n",
              "      <td>1</td>\n",
              "      <td>Graham, Miss. Margaret Edith</td>\n",
              "      <td>female</td>\n",
              "      <td>19.0</td>\n",
              "      <td>0</td>\n",
              "      <td>0</td>\n",
              "      <td>112053</td>\n",
              "      <td>30.0000</td>\n",
              "      <td>B42</td>\n",
              "      <td>S</td>\n",
              "    </tr>\n",
              "    <tr>\n",
              "      <th>888</th>\n",
              "      <td>889</td>\n",
              "      <td>0</td>\n",
              "      <td>3</td>\n",
              "      <td>Johnston, Miss. Catherine Helen \"Carrie\"</td>\n",
              "      <td>female</td>\n",
              "      <td>NaN</td>\n",
              "      <td>1</td>\n",
              "      <td>2</td>\n",
              "      <td>W./C. 6607</td>\n",
              "      <td>23.4500</td>\n",
              "      <td>NaN</td>\n",
              "      <td>S</td>\n",
              "    </tr>\n",
              "    <tr>\n",
              "      <th>889</th>\n",
              "      <td>890</td>\n",
              "      <td>1</td>\n",
              "      <td>1</td>\n",
              "      <td>Behr, Mr. Karl Howell</td>\n",
              "      <td>male</td>\n",
              "      <td>26.0</td>\n",
              "      <td>0</td>\n",
              "      <td>0</td>\n",
              "      <td>111369</td>\n",
              "      <td>30.0000</td>\n",
              "      <td>C148</td>\n",
              "      <td>C</td>\n",
              "    </tr>\n",
              "    <tr>\n",
              "      <th>890</th>\n",
              "      <td>891</td>\n",
              "      <td>0</td>\n",
              "      <td>3</td>\n",
              "      <td>Dooley, Mr. Patrick</td>\n",
              "      <td>male</td>\n",
              "      <td>32.0</td>\n",
              "      <td>0</td>\n",
              "      <td>0</td>\n",
              "      <td>370376</td>\n",
              "      <td>7.7500</td>\n",
              "      <td>NaN</td>\n",
              "      <td>Q</td>\n",
              "    </tr>\n",
              "  </tbody>\n",
              "</table>\n",
              "<p>891 rows × 12 columns</p>\n",
              "</div>"
            ],
            "text/plain": [
              "     PassengerId  Survived  Pclass  ...     Fare Cabin  Embarked\n",
              "0              1         0       3  ...   7.2500   NaN         S\n",
              "1              2         1       1  ...  71.2833   C85         C\n",
              "2              3         1       3  ...   7.9250   NaN         S\n",
              "3              4         1       1  ...  53.1000  C123         S\n",
              "4              5         0       3  ...   8.0500   NaN         S\n",
              "..           ...       ...     ...  ...      ...   ...       ...\n",
              "886          887         0       2  ...  13.0000   NaN         S\n",
              "887          888         1       1  ...  30.0000   B42         S\n",
              "888          889         0       3  ...  23.4500   NaN         S\n",
              "889          890         1       1  ...  30.0000  C148         C\n",
              "890          891         0       3  ...   7.7500   NaN         Q\n",
              "\n",
              "[891 rows x 12 columns]"
            ]
          },
          "metadata": {},
          "execution_count": 42
        }
      ]
    },
    {
      "cell_type": "code",
      "metadata": {
        "colab": {
          "base_uri": "https://localhost:8080/"
        },
        "id": "S6p9VztcZD2d",
        "outputId": "d1c3cc88-076e-4701-fa8f-b74608c583f7"
      },
      "source": [
        "# Cleaning the dataset by removing all null variable\n",
        "# fillna with median\n",
        "# fillna with mean\n",
        "\n",
        "#cleaning train data\n",
        "data[\"Age\"].fillna(data.Age.mean(), inplace=True)\n",
        "data[\"Fare\"] = data[\"Fare\"].fillna(data[\"Fare\"].median())\n",
        "data[\"Embarked\"] = data[\"Embarked\"].fillna('S')\n",
        "data[\"Cabin\"] = data[\"Cabin\"].fillna(0)\n",
        "#data.isnull().sum()\n",
        "#cleaning test data\n",
        "test[\"Age\"].fillna(test.Age.mean(), inplace=True)\n",
        "test[\"Fare\"] = test[\"Fare\"].fillna(test[\"Fare\"].median())\n",
        "test[\"Embarked\"] = test[\"Embarked\"].fillna('S')\n",
        "test[\"Cabin\"] = test[\"Cabin\"].fillna(0)\n",
        "test.isnull().sum()"
      ],
      "execution_count": 43,
      "outputs": [
        {
          "output_type": "execute_result",
          "data": {
            "text/plain": [
              "PassengerId    0\n",
              "Pclass         0\n",
              "Name           0\n",
              "Sex            0\n",
              "Age            0\n",
              "SibSp          0\n",
              "Parch          0\n",
              "Ticket         0\n",
              "Fare           0\n",
              "Cabin          0\n",
              "Embarked       0\n",
              "dtype: int64"
            ]
          },
          "metadata": {},
          "execution_count": 43
        }
      ]
    },
    {
      "cell_type": "code",
      "metadata": {
        "colab": {
          "base_uri": "https://localhost:8080/",
          "height": 112
        },
        "id": "1L2DDMtNZD7J",
        "outputId": "741f5930-55f8-4e8f-aeda-1c25b3803ae9"
      },
      "source": [
        "# 3. Exploratory data analysis\n",
        "# Set of tables\n",
        "# Pclass\n",
        "# Age\n",
        "# Gender\n",
        "\n",
        "data.groupby('Sex').agg('mean')[['Survived']].reset_index()"
      ],
      "execution_count": 44,
      "outputs": [
        {
          "output_type": "execute_result",
          "data": {
            "text/html": [
              "<div>\n",
              "<style scoped>\n",
              "    .dataframe tbody tr th:only-of-type {\n",
              "        vertical-align: middle;\n",
              "    }\n",
              "\n",
              "    .dataframe tbody tr th {\n",
              "        vertical-align: top;\n",
              "    }\n",
              "\n",
              "    .dataframe thead th {\n",
              "        text-align: right;\n",
              "    }\n",
              "</style>\n",
              "<table border=\"1\" class=\"dataframe\">\n",
              "  <thead>\n",
              "    <tr style=\"text-align: right;\">\n",
              "      <th></th>\n",
              "      <th>Sex</th>\n",
              "      <th>Survived</th>\n",
              "    </tr>\n",
              "  </thead>\n",
              "  <tbody>\n",
              "    <tr>\n",
              "      <th>0</th>\n",
              "      <td>female</td>\n",
              "      <td>0.742038</td>\n",
              "    </tr>\n",
              "    <tr>\n",
              "      <th>1</th>\n",
              "      <td>male</td>\n",
              "      <td>0.188908</td>\n",
              "    </tr>\n",
              "  </tbody>\n",
              "</table>\n",
              "</div>"
            ],
            "text/plain": [
              "      Sex  Survived\n",
              "0  female  0.742038\n",
              "1    male  0.188908"
            ]
          },
          "metadata": {},
          "execution_count": 44
        }
      ]
    },
    {
      "cell_type": "code",
      "metadata": {
        "colab": {
          "base_uri": "https://localhost:8080/",
          "height": 143
        },
        "id": "uWputBqDZD_N",
        "outputId": "65ea4c05-4995-478a-8fdd-3e8ef1e1ab54"
      },
      "source": [
        "data.groupby('Pclass').agg('mean')[['Survived']].reset_index()"
      ],
      "execution_count": 45,
      "outputs": [
        {
          "output_type": "execute_result",
          "data": {
            "text/html": [
              "<div>\n",
              "<style scoped>\n",
              "    .dataframe tbody tr th:only-of-type {\n",
              "        vertical-align: middle;\n",
              "    }\n",
              "\n",
              "    .dataframe tbody tr th {\n",
              "        vertical-align: top;\n",
              "    }\n",
              "\n",
              "    .dataframe thead th {\n",
              "        text-align: right;\n",
              "    }\n",
              "</style>\n",
              "<table border=\"1\" class=\"dataframe\">\n",
              "  <thead>\n",
              "    <tr style=\"text-align: right;\">\n",
              "      <th></th>\n",
              "      <th>Pclass</th>\n",
              "      <th>Survived</th>\n",
              "    </tr>\n",
              "  </thead>\n",
              "  <tbody>\n",
              "    <tr>\n",
              "      <th>0</th>\n",
              "      <td>1</td>\n",
              "      <td>0.629630</td>\n",
              "    </tr>\n",
              "    <tr>\n",
              "      <th>1</th>\n",
              "      <td>2</td>\n",
              "      <td>0.472826</td>\n",
              "    </tr>\n",
              "    <tr>\n",
              "      <th>2</th>\n",
              "      <td>3</td>\n",
              "      <td>0.242363</td>\n",
              "    </tr>\n",
              "  </tbody>\n",
              "</table>\n",
              "</div>"
            ],
            "text/plain": [
              "   Pclass  Survived\n",
              "0       1  0.629630\n",
              "1       2  0.472826\n",
              "2       3  0.242363"
            ]
          },
          "metadata": {},
          "execution_count": 45
        }
      ]
    },
    {
      "cell_type": "code",
      "metadata": {
        "id": "zmUID8GHZEDn"
      },
      "source": [
        "# So it clearly seems that,The survival of the people belong to 3rd class is very least. It looks like ...\n",
        "\n",
        "# 63% first class passenger survived titanic tragedy, while\n",
        "# 48% second class and\n",
        "# only 24% third class passenger survived. It is true since there were a lot more third class passengers than first and second."
      ],
      "execution_count": 46,
      "outputs": []
    },
    {
      "cell_type": "code",
      "metadata": {
        "colab": {
          "base_uri": "https://localhost:8080/"
        },
        "id": "odWzYB_xZEHF",
        "outputId": "82565c39-6904-43fe-ec04-6f32038ad7f0"
      },
      "source": [
        "#creating the age table \n",
        "bins= [0,10,20,30,40,50,60,70,80,90]\n",
        "data['agebin']= pd.cut(data['Age'],bins)\n",
        "data[data['Survived']==1]['agebin'].value_counts().sort_index()\n",
        "#data.groupby('agebin').agg('mean')[['Survived']]\n",
        "#data.groupby('agebin').agg('mean')[['Survived']].plot(kind='bar')"
      ],
      "execution_count": 47,
      "outputs": [
        {
          "output_type": "execute_result",
          "data": {
            "text/plain": [
              "(0, 10]      38\n",
              "(10, 20]     44\n",
              "(20, 30]    136\n",
              "(30, 40]     69\n",
              "(40, 50]     33\n",
              "(50, 60]     17\n",
              "(60, 70]      4\n",
              "(70, 80]      1\n",
              "(80, 90]      0\n",
              "Name: agebin, dtype: int64"
            ]
          },
          "metadata": {},
          "execution_count": 47
        }
      ]
    },
    {
      "cell_type": "code",
      "metadata": {
        "id": "Wc-wDQrvZELp"
      },
      "source": [
        "def tables(feature):\n",
        "    survived = data[data['Survived']==1][feature].value_counts()\n",
        "    dead = data[data['Survived']==0][feature].value_counts()\n",
        "    df = pd.DataFrame([survived,dead])\n",
        "    df.index = ['Survived','Dead']\n",
        "    print(df)"
      ],
      "execution_count": 48,
      "outputs": []
    },
    {
      "cell_type": "code",
      "metadata": {
        "colab": {
          "base_uri": "https://localhost:8080/"
        },
        "id": "JLIy1L1eZERL",
        "outputId": "f1fea4fe-7d45-47c5-a9bc-9ecaa41b90be"
      },
      "source": [
        "tables('Sex')"
      ],
      "execution_count": 49,
      "outputs": [
        {
          "output_type": "stream",
          "text": [
            "          female  male\n",
            "Survived     233   109\n",
            "Dead          81   468\n"
          ],
          "name": "stdout"
        }
      ]
    },
    {
      "cell_type": "code",
      "metadata": {
        "colab": {
          "base_uri": "https://localhost:8080/"
        },
        "id": "p5-DU6CrZEWX",
        "outputId": "1a56ba37-afbe-470a-c51d-e4183893177f"
      },
      "source": [
        "tables('Pclass')"
      ],
      "execution_count": 50,
      "outputs": [
        {
          "output_type": "stream",
          "text": [
            "            1   2    3\n",
            "Survived  136  87  119\n",
            "Dead       80  97  372\n"
          ],
          "name": "stdout"
        }
      ]
    },
    {
      "cell_type": "code",
      "metadata": {
        "colab": {
          "base_uri": "https://localhost:8080/"
        },
        "id": "42mMTVVXZEay",
        "outputId": "7c26530a-5c0c-4da4-8d2f-61ba8572e0f0"
      },
      "source": [
        "tables('agebin')"
      ],
      "execution_count": 51,
      "outputs": [
        {
          "output_type": "stream",
          "text": [
            "          (0, 10]  (10, 20]  (20, 30]  ...  (60, 70]  (70, 80]  (80, 90]\n",
            "Survived       38        44       136  ...         4         1         0\n",
            "Dead           26        71       271  ...        13         4         0\n",
            "\n",
            "[2 rows x 9 columns]\n"
          ],
          "name": "stdout"
        }
      ]
    },
    {
      "cell_type": "code",
      "metadata": {
        "colab": {
          "base_uri": "https://localhost:8080/"
        },
        "id": "0C1dA80XZEeM",
        "outputId": "d7d0630a-2bdc-452e-a18c-6f16b508286a"
      },
      "source": [
        "tables('SibSp')"
      ],
      "execution_count": 52,
      "outputs": [
        {
          "output_type": "stream",
          "text": [
            "              0      1     2     3     4    5    8\n",
            "Survived  210.0  112.0  13.0   4.0   3.0  NaN  NaN\n",
            "Dead      398.0   97.0  15.0  12.0  15.0  5.0  7.0\n"
          ],
          "name": "stdout"
        }
      ]
    },
    {
      "cell_type": "code",
      "metadata": {
        "colab": {
          "base_uri": "https://localhost:8080/"
        },
        "id": "P2iwFhllZEh7",
        "outputId": "0f5a2754-45c7-4a28-dc48-574d0e85aa17"
      },
      "source": [
        "tables('Embarked')"
      ],
      "execution_count": 53,
      "outputs": [
        {
          "output_type": "stream",
          "text": [
            "            S   C   Q\n",
            "Survived  219  93  30\n",
            "Dead      427  75  47\n"
          ],
          "name": "stdout"
        }
      ]
    },
    {
      "cell_type": "code",
      "metadata": {
        "id": "K3nbtIVKZEmN"
      },
      "source": [
        "# Feature engineering\n",
        "# Encoding the categorical values into numerical values\n",
        "# by using map function #### Generating new features like:\n",
        "# The length of the name -- this could pertain to how rich the person was, and therefore their position in the Titanic.\n",
        "# The total number of people in a family (SibSp + Parch).\n",
        "# This can improve our predictions about survival chance based on social position or family members aboard who helped."
      ],
      "execution_count": 54,
      "outputs": []
    },
    {
      "cell_type": "code",
      "metadata": {
        "id": "clr9FS-_ZEpt"
      },
      "source": [
        "#Encoding name feature\n",
        "\n",
        "#Extracting title from the name in train\n",
        "name = pd.Series(data['Name'])\n",
        "for dataset in data:\n",
        "    dataset = name.str.extract(' ([A-Za-z]+)\\.', expand=False)\n",
        "    \n",
        "#Extracting title from the name in test\n",
        "name = pd.Series(test['Name'])\n",
        "for dataset in data:\n",
        "    dataset = name.str.extract(' ([A-Za-z]+)\\.', expand=False)"
      ],
      "execution_count": 55,
      "outputs": []
    },
    {
      "cell_type": "code",
      "metadata": {
        "id": "kkG9lwSfZEs1"
      },
      "source": [
        "#converting categorical into numerical values in train\n",
        "data['title']=pd.DataFrame(dataset)\n",
        "title_mapping = {\"Mr\": 0, \"Miss\": 1, \"Mrs\": 2, \n",
        "                 \"Master\": 3, \"Dr\": 3, \"Rev\": 3, \"Col\": 3, \"Major\": 3, \"Mlle\": 3,\"Countess\": 3,\n",
        "                 \"Ms\": 3, \"Lady\": 3, \"Jonkheer\": 3, \"Don\": 3, \"Dona\" : 3, \"Mme\": 3,\"Capt\": 3,\"Sir\": 3 }\n",
        "data['title']=data['title'].map(title_mapping)\n",
        "\n",
        "#converting categorical into numerical values in test\n",
        "test['title']=pd.DataFrame(dataset)\n",
        "title_mapping = {\"Mr\": 0, \"Miss\": 1, \"Mrs\": 2, \n",
        "                 \"Master\": 3, \"Dr\": 3, \"Rev\": 3, \"Col\": 3, \"Major\": 3, \"Mlle\": 3,\"Countess\": 3,\n",
        "                 \"Ms\": 3, \"Lady\": 3, \"Jonkheer\": 3, \"Don\": 3, \"Dona\" : 3, \"Mme\": 3,\"Capt\": 3,\"Sir\": 3 }\n",
        "test['title']=test['title'].map(title_mapping)"
      ],
      "execution_count": 56,
      "outputs": []
    },
    {
      "cell_type": "code",
      "metadata": {
        "colab": {
          "base_uri": "https://localhost:8080/"
        },
        "id": "DIAhgFMwZEwu",
        "outputId": "d1640a1e-9691-49ed-b3c1-de4e20a31537"
      },
      "source": [
        "#visualize the title\n",
        "tables('title')"
      ],
      "execution_count": 57,
      "outputs": [
        {
          "output_type": "stream",
          "text": [
            "          0.0  1.0  2.0  3.0\n",
            "Survived  101   27   25   10\n",
            "Dead      139   51   47   18\n"
          ],
          "name": "stdout"
        }
      ]
    },
    {
      "cell_type": "code",
      "metadata": {
        "id": "E4TKY58lZE0a"
      },
      "source": [
        "#Encoding sex feature\n",
        "\n",
        "data.loc[data[\"Sex\"] == \"male\", \"Sex\"] = 0\n",
        "data.loc[data[\"Sex\"] == \"female\", \"Sex\"] = 1\n",
        "\n",
        "test.loc[test[\"Sex\"] == \"male\", \"Sex\"] = 0\n",
        "test.loc[test[\"Sex\"] == \"female\", \"Sex\"] = 1"
      ],
      "execution_count": 58,
      "outputs": []
    },
    {
      "cell_type": "code",
      "metadata": {
        "id": "Bz_dvtgFZE4y"
      },
      "source": [
        "#Encoding embarked feature\n",
        "\n",
        "data[\"Embarked\"] = data[\"Embarked\"].fillna('S')\n",
        "data.loc[data[\"Embarked\"] == \"S\", \"Embarked\"] = 0\n",
        "data.loc[data[\"Embarked\"] == \"C\", \"Embarked\"] = 1\n",
        "data.loc[data[\"Embarked\"] == \"Q\", \"Embarked\"] = 2\n",
        "\n",
        "test[\"Embarked\"] = test[\"Embarked\"].fillna('S')\n",
        "test.loc[test[\"Embarked\"] == \"S\", \"Embarked\"] = 0\n",
        "test.loc[test[\"Embarked\"] == \"C\", \"Embarked\"] = 1\n",
        "test.loc[test[\"Embarked\"] == \"Q\", \"Embarked\"] = 2"
      ],
      "execution_count": 59,
      "outputs": []
    },
    {
      "cell_type": "code",
      "metadata": {
        "colab": {
          "base_uri": "https://localhost:8080/",
          "height": 822
        },
        "id": "6UE3K40XZE89",
        "outputId": "a5abb0de-8f8c-48da-983a-b7923744c44e"
      },
      "source": [
        "#Encoding cabin feature\n",
        "\n",
        "for dataset in data:\n",
        "    data['Cabin'] = data['Cabin'].str[:1]\n",
        "cabin_mapping = {\"A\": 0, \"B\": 0.4, \"C\": 0.8, \"D\": 1.2, \"E\": 1.6, \"F\": 2, \"G\": 2.4, \"T\": 2.8}\n",
        "    \n",
        "data.loc[data[\"Cabin\"] == \"A\", \"Cabin\"] = 0\n",
        "data.loc[data[\"Cabin\"] == \"B\", \"Cabin\"] = 0.4\n",
        "data.loc[data[\"Cabin\"] == \"C\", \"Cabin\"] = 0.8\n",
        "data.loc[data[\"Cabin\"] == \"D\", \"Cabin\"] = 1.2\n",
        "data.loc[data[\"Cabin\"] == \"E\", \"Cabin\"] = 1.6\n",
        "data.loc[data[\"Cabin\"] == \"F\", \"Cabin\"] = 2\n",
        "data.loc[data[\"Cabin\"] == \"G\", \"Cabin\"] = 2.4\n",
        "data.loc[data[\"Cabin\"] == \"T\", \"Cabin\"] = 2.8\n",
        "\n",
        "for dataset in test:\n",
        "    test['Cabin'] = test['Cabin'].str[:1]\n",
        "cabin_mapping = {\"A\": 0, \"B\": 0.4, \"C\": 0.8, \"D\": 1.2, \"E\": 1.6, \"F\": 2, \"G\": 2.4, \"T\": 2.8}\n",
        "    \n",
        "test.loc[test[\"Cabin\"] == \"A\", \"Cabin\"] = 0\n",
        "test.loc[test[\"Cabin\"] == \"B\", \"Cabin\"] = 0.4\n",
        "test.loc[test[\"Cabin\"] == \"C\", \"Cabin\"] = 0.8\n",
        "test.loc[test[\"Cabin\"] == \"D\", \"Cabin\"] = 1.2\n",
        "test.loc[test[\"Cabin\"] == \"E\", \"Cabin\"] = 1.6\n",
        "test.loc[test[\"Cabin\"] == \"F\", \"Cabin\"] = 2\n",
        "test.loc[test[\"Cabin\"] == \"G\", \"Cabin\"] = 2.4\n",
        "test.loc[test[\"Cabin\"] == \"T\", \"Cabin\"] = 2.8\n",
        "test"
      ],
      "execution_count": 60,
      "outputs": [
        {
          "output_type": "execute_result",
          "data": {
            "text/html": [
              "<div>\n",
              "<style scoped>\n",
              "    .dataframe tbody tr th:only-of-type {\n",
              "        vertical-align: middle;\n",
              "    }\n",
              "\n",
              "    .dataframe tbody tr th {\n",
              "        vertical-align: top;\n",
              "    }\n",
              "\n",
              "    .dataframe thead th {\n",
              "        text-align: right;\n",
              "    }\n",
              "</style>\n",
              "<table border=\"1\" class=\"dataframe\">\n",
              "  <thead>\n",
              "    <tr style=\"text-align: right;\">\n",
              "      <th></th>\n",
              "      <th>PassengerId</th>\n",
              "      <th>Pclass</th>\n",
              "      <th>Name</th>\n",
              "      <th>Sex</th>\n",
              "      <th>Age</th>\n",
              "      <th>SibSp</th>\n",
              "      <th>Parch</th>\n",
              "      <th>Ticket</th>\n",
              "      <th>Fare</th>\n",
              "      <th>Cabin</th>\n",
              "      <th>Embarked</th>\n",
              "      <th>title</th>\n",
              "    </tr>\n",
              "  </thead>\n",
              "  <tbody>\n",
              "    <tr>\n",
              "      <th>0</th>\n",
              "      <td>892</td>\n",
              "      <td>3</td>\n",
              "      <td>Kelly, Mr. James</td>\n",
              "      <td>0</td>\n",
              "      <td>34.50000</td>\n",
              "      <td>0</td>\n",
              "      <td>0</td>\n",
              "      <td>330911</td>\n",
              "      <td>7.8292</td>\n",
              "      <td>NaN</td>\n",
              "      <td>2</td>\n",
              "      <td>0</td>\n",
              "    </tr>\n",
              "    <tr>\n",
              "      <th>1</th>\n",
              "      <td>893</td>\n",
              "      <td>3</td>\n",
              "      <td>Wilkes, Mrs. James (Ellen Needs)</td>\n",
              "      <td>1</td>\n",
              "      <td>47.00000</td>\n",
              "      <td>1</td>\n",
              "      <td>0</td>\n",
              "      <td>363272</td>\n",
              "      <td>7.0000</td>\n",
              "      <td>NaN</td>\n",
              "      <td>0</td>\n",
              "      <td>2</td>\n",
              "    </tr>\n",
              "    <tr>\n",
              "      <th>2</th>\n",
              "      <td>894</td>\n",
              "      <td>2</td>\n",
              "      <td>Myles, Mr. Thomas Francis</td>\n",
              "      <td>0</td>\n",
              "      <td>62.00000</td>\n",
              "      <td>0</td>\n",
              "      <td>0</td>\n",
              "      <td>240276</td>\n",
              "      <td>9.6875</td>\n",
              "      <td>NaN</td>\n",
              "      <td>2</td>\n",
              "      <td>0</td>\n",
              "    </tr>\n",
              "    <tr>\n",
              "      <th>3</th>\n",
              "      <td>895</td>\n",
              "      <td>3</td>\n",
              "      <td>Wirz, Mr. Albert</td>\n",
              "      <td>0</td>\n",
              "      <td>27.00000</td>\n",
              "      <td>0</td>\n",
              "      <td>0</td>\n",
              "      <td>315154</td>\n",
              "      <td>8.6625</td>\n",
              "      <td>NaN</td>\n",
              "      <td>0</td>\n",
              "      <td>0</td>\n",
              "    </tr>\n",
              "    <tr>\n",
              "      <th>4</th>\n",
              "      <td>896</td>\n",
              "      <td>3</td>\n",
              "      <td>Hirvonen, Mrs. Alexander (Helga E Lindqvist)</td>\n",
              "      <td>1</td>\n",
              "      <td>22.00000</td>\n",
              "      <td>1</td>\n",
              "      <td>1</td>\n",
              "      <td>3101298</td>\n",
              "      <td>12.2875</td>\n",
              "      <td>NaN</td>\n",
              "      <td>0</td>\n",
              "      <td>2</td>\n",
              "    </tr>\n",
              "    <tr>\n",
              "      <th>...</th>\n",
              "      <td>...</td>\n",
              "      <td>...</td>\n",
              "      <td>...</td>\n",
              "      <td>...</td>\n",
              "      <td>...</td>\n",
              "      <td>...</td>\n",
              "      <td>...</td>\n",
              "      <td>...</td>\n",
              "      <td>...</td>\n",
              "      <td>...</td>\n",
              "      <td>...</td>\n",
              "      <td>...</td>\n",
              "    </tr>\n",
              "    <tr>\n",
              "      <th>413</th>\n",
              "      <td>1305</td>\n",
              "      <td>3</td>\n",
              "      <td>Spector, Mr. Woolf</td>\n",
              "      <td>0</td>\n",
              "      <td>30.27259</td>\n",
              "      <td>0</td>\n",
              "      <td>0</td>\n",
              "      <td>A.5. 3236</td>\n",
              "      <td>8.0500</td>\n",
              "      <td>NaN</td>\n",
              "      <td>0</td>\n",
              "      <td>0</td>\n",
              "    </tr>\n",
              "    <tr>\n",
              "      <th>414</th>\n",
              "      <td>1306</td>\n",
              "      <td>1</td>\n",
              "      <td>Oliva y Ocana, Dona. Fermina</td>\n",
              "      <td>1</td>\n",
              "      <td>39.00000</td>\n",
              "      <td>0</td>\n",
              "      <td>0</td>\n",
              "      <td>PC 17758</td>\n",
              "      <td>108.9000</td>\n",
              "      <td>0.8</td>\n",
              "      <td>1</td>\n",
              "      <td>3</td>\n",
              "    </tr>\n",
              "    <tr>\n",
              "      <th>415</th>\n",
              "      <td>1307</td>\n",
              "      <td>3</td>\n",
              "      <td>Saether, Mr. Simon Sivertsen</td>\n",
              "      <td>0</td>\n",
              "      <td>38.50000</td>\n",
              "      <td>0</td>\n",
              "      <td>0</td>\n",
              "      <td>SOTON/O.Q. 3101262</td>\n",
              "      <td>7.2500</td>\n",
              "      <td>NaN</td>\n",
              "      <td>0</td>\n",
              "      <td>0</td>\n",
              "    </tr>\n",
              "    <tr>\n",
              "      <th>416</th>\n",
              "      <td>1308</td>\n",
              "      <td>3</td>\n",
              "      <td>Ware, Mr. Frederick</td>\n",
              "      <td>0</td>\n",
              "      <td>30.27259</td>\n",
              "      <td>0</td>\n",
              "      <td>0</td>\n",
              "      <td>359309</td>\n",
              "      <td>8.0500</td>\n",
              "      <td>NaN</td>\n",
              "      <td>0</td>\n",
              "      <td>0</td>\n",
              "    </tr>\n",
              "    <tr>\n",
              "      <th>417</th>\n",
              "      <td>1309</td>\n",
              "      <td>3</td>\n",
              "      <td>Peter, Master. Michael J</td>\n",
              "      <td>0</td>\n",
              "      <td>30.27259</td>\n",
              "      <td>1</td>\n",
              "      <td>1</td>\n",
              "      <td>2668</td>\n",
              "      <td>22.3583</td>\n",
              "      <td>NaN</td>\n",
              "      <td>1</td>\n",
              "      <td>3</td>\n",
              "    </tr>\n",
              "  </tbody>\n",
              "</table>\n",
              "<p>418 rows × 12 columns</p>\n",
              "</div>"
            ],
            "text/plain": [
              "     PassengerId  Pclass  ... Embarked title\n",
              "0            892       3  ...        2     0\n",
              "1            893       3  ...        0     2\n",
              "2            894       2  ...        2     0\n",
              "3            895       3  ...        0     0\n",
              "4            896       3  ...        0     2\n",
              "..           ...     ...  ...      ...   ...\n",
              "413         1305       3  ...        0     0\n",
              "414         1306       1  ...        1     3\n",
              "415         1307       3  ...        0     0\n",
              "416         1308       3  ...        0     0\n",
              "417         1309       3  ...        1     3\n",
              "\n",
              "[418 rows x 12 columns]"
            ]
          },
          "metadata": {},
          "execution_count": 60
        }
      ]
    },
    {
      "cell_type": "code",
      "metadata": {
        "id": "6Ygn87p9ZFB0"
      },
      "source": [
        "#combining sibsp+parch features\n",
        "\n",
        "data[\"FamilySize\"] = data[\"SibSp\"] + data[\"Parch\"]\n",
        "test[\"FamilySize\"] = test[\"SibSp\"] + test[\"Parch\"]"
      ],
      "execution_count": 61,
      "outputs": []
    },
    {
      "cell_type": "code",
      "metadata": {
        "colab": {
          "base_uri": "https://localhost:8080/",
          "height": 351
        },
        "id": "MQPakHS8ZFE3",
        "outputId": "0753b013-33dd-4d9b-8838-a94f254511e9"
      },
      "source": [
        "# rank the variable according to the correlation between itself and survival.\n",
        "data.corr()"
      ],
      "execution_count": 62,
      "outputs": [
        {
          "output_type": "execute_result",
          "data": {
            "text/html": [
              "<div>\n",
              "<style scoped>\n",
              "    .dataframe tbody tr th:only-of-type {\n",
              "        vertical-align: middle;\n",
              "    }\n",
              "\n",
              "    .dataframe tbody tr th {\n",
              "        vertical-align: top;\n",
              "    }\n",
              "\n",
              "    .dataframe thead th {\n",
              "        text-align: right;\n",
              "    }\n",
              "</style>\n",
              "<table border=\"1\" class=\"dataframe\">\n",
              "  <thead>\n",
              "    <tr style=\"text-align: right;\">\n",
              "      <th></th>\n",
              "      <th>PassengerId</th>\n",
              "      <th>Survived</th>\n",
              "      <th>Pclass</th>\n",
              "      <th>Age</th>\n",
              "      <th>SibSp</th>\n",
              "      <th>Parch</th>\n",
              "      <th>Fare</th>\n",
              "      <th>title</th>\n",
              "      <th>FamilySize</th>\n",
              "    </tr>\n",
              "  </thead>\n",
              "  <tbody>\n",
              "    <tr>\n",
              "      <th>PassengerId</th>\n",
              "      <td>1.000000</td>\n",
              "      <td>-0.005007</td>\n",
              "      <td>-0.035144</td>\n",
              "      <td>0.033207</td>\n",
              "      <td>-0.057527</td>\n",
              "      <td>-0.001652</td>\n",
              "      <td>0.012658</td>\n",
              "      <td>-0.000245</td>\n",
              "      <td>-0.040143</td>\n",
              "    </tr>\n",
              "    <tr>\n",
              "      <th>Survived</th>\n",
              "      <td>-0.005007</td>\n",
              "      <td>1.000000</td>\n",
              "      <td>-0.338481</td>\n",
              "      <td>-0.069809</td>\n",
              "      <td>-0.035322</td>\n",
              "      <td>0.081629</td>\n",
              "      <td>0.257307</td>\n",
              "      <td>-0.062270</td>\n",
              "      <td>0.016639</td>\n",
              "    </tr>\n",
              "    <tr>\n",
              "      <th>Pclass</th>\n",
              "      <td>-0.035144</td>\n",
              "      <td>-0.338481</td>\n",
              "      <td>1.000000</td>\n",
              "      <td>-0.331339</td>\n",
              "      <td>0.083081</td>\n",
              "      <td>0.018443</td>\n",
              "      <td>-0.549500</td>\n",
              "      <td>0.114195</td>\n",
              "      <td>0.065997</td>\n",
              "    </tr>\n",
              "    <tr>\n",
              "      <th>Age</th>\n",
              "      <td>0.033207</td>\n",
              "      <td>-0.069809</td>\n",
              "      <td>-0.331339</td>\n",
              "      <td>1.000000</td>\n",
              "      <td>-0.232625</td>\n",
              "      <td>-0.179191</td>\n",
              "      <td>0.091566</td>\n",
              "      <td>0.017431</td>\n",
              "      <td>-0.248512</td>\n",
              "    </tr>\n",
              "    <tr>\n",
              "      <th>SibSp</th>\n",
              "      <td>-0.057527</td>\n",
              "      <td>-0.035322</td>\n",
              "      <td>0.083081</td>\n",
              "      <td>-0.232625</td>\n",
              "      <td>1.000000</td>\n",
              "      <td>0.414838</td>\n",
              "      <td>0.159651</td>\n",
              "      <td>0.047878</td>\n",
              "      <td>0.890712</td>\n",
              "    </tr>\n",
              "    <tr>\n",
              "      <th>Parch</th>\n",
              "      <td>-0.001652</td>\n",
              "      <td>0.081629</td>\n",
              "      <td>0.018443</td>\n",
              "      <td>-0.179191</td>\n",
              "      <td>0.414838</td>\n",
              "      <td>1.000000</td>\n",
              "      <td>0.216225</td>\n",
              "      <td>-0.027594</td>\n",
              "      <td>0.783111</td>\n",
              "    </tr>\n",
              "    <tr>\n",
              "      <th>Fare</th>\n",
              "      <td>0.012658</td>\n",
              "      <td>0.257307</td>\n",
              "      <td>-0.549500</td>\n",
              "      <td>0.091566</td>\n",
              "      <td>0.159651</td>\n",
              "      <td>0.216225</td>\n",
              "      <td>1.000000</td>\n",
              "      <td>-0.085811</td>\n",
              "      <td>0.217138</td>\n",
              "    </tr>\n",
              "    <tr>\n",
              "      <th>title</th>\n",
              "      <td>-0.000245</td>\n",
              "      <td>-0.062270</td>\n",
              "      <td>0.114195</td>\n",
              "      <td>0.017431</td>\n",
              "      <td>0.047878</td>\n",
              "      <td>-0.027594</td>\n",
              "      <td>-0.085811</td>\n",
              "      <td>1.000000</td>\n",
              "      <td>0.021487</td>\n",
              "    </tr>\n",
              "    <tr>\n",
              "      <th>FamilySize</th>\n",
              "      <td>-0.040143</td>\n",
              "      <td>0.016639</td>\n",
              "      <td>0.065997</td>\n",
              "      <td>-0.248512</td>\n",
              "      <td>0.890712</td>\n",
              "      <td>0.783111</td>\n",
              "      <td>0.217138</td>\n",
              "      <td>0.021487</td>\n",
              "      <td>1.000000</td>\n",
              "    </tr>\n",
              "  </tbody>\n",
              "</table>\n",
              "</div>"
            ],
            "text/plain": [
              "             PassengerId  Survived    Pclass  ...      Fare     title  FamilySize\n",
              "PassengerId     1.000000 -0.005007 -0.035144  ...  0.012658 -0.000245   -0.040143\n",
              "Survived       -0.005007  1.000000 -0.338481  ...  0.257307 -0.062270    0.016639\n",
              "Pclass         -0.035144 -0.338481  1.000000  ... -0.549500  0.114195    0.065997\n",
              "Age             0.033207 -0.069809 -0.331339  ...  0.091566  0.017431   -0.248512\n",
              "SibSp          -0.057527 -0.035322  0.083081  ...  0.159651  0.047878    0.890712\n",
              "Parch          -0.001652  0.081629  0.018443  ...  0.216225 -0.027594    0.783111\n",
              "Fare            0.012658  0.257307 -0.549500  ...  1.000000 -0.085811    0.217138\n",
              "title          -0.000245 -0.062270  0.114195  ... -0.085811  1.000000    0.021487\n",
              "FamilySize     -0.040143  0.016639  0.065997  ...  0.217138  0.021487    1.000000\n",
              "\n",
              "[9 rows x 9 columns]"
            ]
          },
          "metadata": {},
          "execution_count": 62
        }
      ]
    },
    {
      "cell_type": "code",
      "metadata": {
        "colab": {
          "base_uri": "https://localhost:8080/"
        },
        "id": "6jWVBfPBZFID",
        "outputId": "9e510e88-59da-4c03-e082-147b070c60fd"
      },
      "source": [
        "#droping feature (?)\n",
        "\n",
        "features_drop = ['Ticket', 'SibSp', 'Parch',\"Name\",'agebin']\n",
        "data = data.drop(features_drop, axis=1)\n",
        "features_drop = ['Ticket', 'SibSp', 'Parch',\"Name\"]\n",
        "test = test.drop(features_drop, axis=1)\n",
        "test.info()"
      ],
      "execution_count": 63,
      "outputs": [
        {
          "output_type": "stream",
          "text": [
            "<class 'pandas.core.frame.DataFrame'>\n",
            "RangeIndex: 418 entries, 0 to 417\n",
            "Data columns (total 9 columns):\n",
            " #   Column       Non-Null Count  Dtype  \n",
            "---  ------       --------------  -----  \n",
            " 0   PassengerId  418 non-null    int64  \n",
            " 1   Pclass       418 non-null    int64  \n",
            " 2   Sex          418 non-null    object \n",
            " 3   Age          418 non-null    float64\n",
            " 4   Fare         418 non-null    float64\n",
            " 5   Cabin        91 non-null     object \n",
            " 6   Embarked     418 non-null    object \n",
            " 7   title        418 non-null    int64  \n",
            " 8   FamilySize   418 non-null    int64  \n",
            "dtypes: float64(2), int64(4), object(3)\n",
            "memory usage: 29.5+ KB\n"
          ],
          "name": "stdout"
        }
      ]
    },
    {
      "cell_type": "code",
      "metadata": {
        "colab": {
          "base_uri": "https://localhost:8080/"
        },
        "id": "-OJwHcUrZFLp",
        "outputId": "8f79be9e-ec4e-448f-f5d6-3758aeae3bc9"
      },
      "source": [
        "data.shape"
      ],
      "execution_count": 64,
      "outputs": [
        {
          "output_type": "execute_result",
          "data": {
            "text/plain": [
              "(891, 10)"
            ]
          },
          "metadata": {},
          "execution_count": 64
        }
      ]
    },
    {
      "cell_type": "code",
      "metadata": {
        "id": "cpR2j7pdZFPg"
      },
      "source": [
        "# Modeling the Data\n",
        "\n",
        "# I will train the data with the following models:\n",
        "\n",
        "# Logistic Regression\n",
        "# Gaussian Naive Bayes\n",
        "# Decision Tree Classifier\n",
        "# Support Vector Machines\n",
        "# K-Nearest Neighbors(KNN)\n",
        "# RandomForest\n",
        "# LinearSVC\n",
        "\n",
        "# Note : - I used many model to see which one work great\n",
        "\n",
        "#  - learning purpose "
      ],
      "execution_count": 65,
      "outputs": []
    },
    {
      "cell_type": "code",
      "metadata": {
        "colab": {
          "base_uri": "https://localhost:8080/",
          "height": 422
        },
        "id": "ObBt8HdVZHV5",
        "outputId": "622ffee8-33b3-431c-8215-cbec858f5615"
      },
      "source": [
        "train_data = data.drop('Survived', axis=1)\n",
        "y = data['Survived']\n",
        "train_data=pd.DataFrame(train_data).fillna(0)\n",
        "y=pd.DataFrame(y).fillna(0)\n",
        "X_test=pd.DataFrame(test).fillna(0)\n",
        "X_test"
      ],
      "execution_count": 66,
      "outputs": [
        {
          "output_type": "execute_result",
          "data": {
            "text/html": [
              "<div>\n",
              "<style scoped>\n",
              "    .dataframe tbody tr th:only-of-type {\n",
              "        vertical-align: middle;\n",
              "    }\n",
              "\n",
              "    .dataframe tbody tr th {\n",
              "        vertical-align: top;\n",
              "    }\n",
              "\n",
              "    .dataframe thead th {\n",
              "        text-align: right;\n",
              "    }\n",
              "</style>\n",
              "<table border=\"1\" class=\"dataframe\">\n",
              "  <thead>\n",
              "    <tr style=\"text-align: right;\">\n",
              "      <th></th>\n",
              "      <th>PassengerId</th>\n",
              "      <th>Pclass</th>\n",
              "      <th>Sex</th>\n",
              "      <th>Age</th>\n",
              "      <th>Fare</th>\n",
              "      <th>Cabin</th>\n",
              "      <th>Embarked</th>\n",
              "      <th>title</th>\n",
              "      <th>FamilySize</th>\n",
              "    </tr>\n",
              "  </thead>\n",
              "  <tbody>\n",
              "    <tr>\n",
              "      <th>0</th>\n",
              "      <td>892</td>\n",
              "      <td>3</td>\n",
              "      <td>0</td>\n",
              "      <td>34.50000</td>\n",
              "      <td>7.8292</td>\n",
              "      <td>0.0</td>\n",
              "      <td>2</td>\n",
              "      <td>0</td>\n",
              "      <td>0</td>\n",
              "    </tr>\n",
              "    <tr>\n",
              "      <th>1</th>\n",
              "      <td>893</td>\n",
              "      <td>3</td>\n",
              "      <td>1</td>\n",
              "      <td>47.00000</td>\n",
              "      <td>7.0000</td>\n",
              "      <td>0.0</td>\n",
              "      <td>0</td>\n",
              "      <td>2</td>\n",
              "      <td>1</td>\n",
              "    </tr>\n",
              "    <tr>\n",
              "      <th>2</th>\n",
              "      <td>894</td>\n",
              "      <td>2</td>\n",
              "      <td>0</td>\n",
              "      <td>62.00000</td>\n",
              "      <td>9.6875</td>\n",
              "      <td>0.0</td>\n",
              "      <td>2</td>\n",
              "      <td>0</td>\n",
              "      <td>0</td>\n",
              "    </tr>\n",
              "    <tr>\n",
              "      <th>3</th>\n",
              "      <td>895</td>\n",
              "      <td>3</td>\n",
              "      <td>0</td>\n",
              "      <td>27.00000</td>\n",
              "      <td>8.6625</td>\n",
              "      <td>0.0</td>\n",
              "      <td>0</td>\n",
              "      <td>0</td>\n",
              "      <td>0</td>\n",
              "    </tr>\n",
              "    <tr>\n",
              "      <th>4</th>\n",
              "      <td>896</td>\n",
              "      <td>3</td>\n",
              "      <td>1</td>\n",
              "      <td>22.00000</td>\n",
              "      <td>12.2875</td>\n",
              "      <td>0.0</td>\n",
              "      <td>0</td>\n",
              "      <td>2</td>\n",
              "      <td>2</td>\n",
              "    </tr>\n",
              "    <tr>\n",
              "      <th>...</th>\n",
              "      <td>...</td>\n",
              "      <td>...</td>\n",
              "      <td>...</td>\n",
              "      <td>...</td>\n",
              "      <td>...</td>\n",
              "      <td>...</td>\n",
              "      <td>...</td>\n",
              "      <td>...</td>\n",
              "      <td>...</td>\n",
              "    </tr>\n",
              "    <tr>\n",
              "      <th>413</th>\n",
              "      <td>1305</td>\n",
              "      <td>3</td>\n",
              "      <td>0</td>\n",
              "      <td>30.27259</td>\n",
              "      <td>8.0500</td>\n",
              "      <td>0.0</td>\n",
              "      <td>0</td>\n",
              "      <td>0</td>\n",
              "      <td>0</td>\n",
              "    </tr>\n",
              "    <tr>\n",
              "      <th>414</th>\n",
              "      <td>1306</td>\n",
              "      <td>1</td>\n",
              "      <td>1</td>\n",
              "      <td>39.00000</td>\n",
              "      <td>108.9000</td>\n",
              "      <td>0.8</td>\n",
              "      <td>1</td>\n",
              "      <td>3</td>\n",
              "      <td>0</td>\n",
              "    </tr>\n",
              "    <tr>\n",
              "      <th>415</th>\n",
              "      <td>1307</td>\n",
              "      <td>3</td>\n",
              "      <td>0</td>\n",
              "      <td>38.50000</td>\n",
              "      <td>7.2500</td>\n",
              "      <td>0.0</td>\n",
              "      <td>0</td>\n",
              "      <td>0</td>\n",
              "      <td>0</td>\n",
              "    </tr>\n",
              "    <tr>\n",
              "      <th>416</th>\n",
              "      <td>1308</td>\n",
              "      <td>3</td>\n",
              "      <td>0</td>\n",
              "      <td>30.27259</td>\n",
              "      <td>8.0500</td>\n",
              "      <td>0.0</td>\n",
              "      <td>0</td>\n",
              "      <td>0</td>\n",
              "      <td>0</td>\n",
              "    </tr>\n",
              "    <tr>\n",
              "      <th>417</th>\n",
              "      <td>1309</td>\n",
              "      <td>3</td>\n",
              "      <td>0</td>\n",
              "      <td>30.27259</td>\n",
              "      <td>22.3583</td>\n",
              "      <td>0.0</td>\n",
              "      <td>1</td>\n",
              "      <td>3</td>\n",
              "      <td>2</td>\n",
              "    </tr>\n",
              "  </tbody>\n",
              "</table>\n",
              "<p>418 rows × 9 columns</p>\n",
              "</div>"
            ],
            "text/plain": [
              "     PassengerId  Pclass  Sex       Age  ...  Cabin  Embarked  title  FamilySize\n",
              "0            892       3    0  34.50000  ...    0.0         2      0           0\n",
              "1            893       3    1  47.00000  ...    0.0         0      2           1\n",
              "2            894       2    0  62.00000  ...    0.0         2      0           0\n",
              "3            895       3    0  27.00000  ...    0.0         0      0           0\n",
              "4            896       3    1  22.00000  ...    0.0         0      2           2\n",
              "..           ...     ...  ...       ...  ...    ...       ...    ...         ...\n",
              "413         1305       3    0  30.27259  ...    0.0         0      0           0\n",
              "414         1306       1    1  39.00000  ...    0.8         1      3           0\n",
              "415         1307       3    0  38.50000  ...    0.0         0      0           0\n",
              "416         1308       3    0  30.27259  ...    0.0         0      0           0\n",
              "417         1309       3    0  30.27259  ...    0.0         1      3           2\n",
              "\n",
              "[418 rows x 9 columns]"
            ]
          },
          "metadata": {},
          "execution_count": 66
        }
      ]
    },
    {
      "cell_type": "code",
      "metadata": {
        "id": "dHRKvIOuZHdw"
      },
      "source": [
        "#spliting the datasets into train and test¶\n",
        "\n",
        "from sklearn.preprocessing import StandardScaler\n",
        "ss=StandardScaler()\n",
        "X_train=ss.fit_transform(train_data)"
      ],
      "execution_count": 67,
      "outputs": []
    },
    {
      "cell_type": "code",
      "metadata": {
        "id": "pBbAYvo7ZHk5"
      },
      "source": [
        "#Modeling and Testing\n",
        "\n",
        "X_tests=ss.fit_transform(X_test)"
      ],
      "execution_count": 68,
      "outputs": []
    },
    {
      "cell_type": "code",
      "metadata": {
        "id": "20ZSwJXCZHp6"
      },
      "source": [
        "#X_train,X_test,y_train,y_test, = train_test_split(X_train,y,test_size=0.65,random_state=0)"
      ],
      "execution_count": 69,
      "outputs": []
    },
    {
      "cell_type": "code",
      "metadata": {
        "id": "ZVNSBuSiZHta"
      },
      "source": [
        "#KNN\n",
        "\n",
        "import warnings\n",
        "warnings.filterwarnings('ignore')"
      ],
      "execution_count": 70,
      "outputs": []
    },
    {
      "cell_type": "code",
      "metadata": {
        "id": "ZASMnRajZHwe"
      },
      "source": [
        "knn = KNeighborsClassifier(n_neighbors = 13)\n",
        "knn.fit(X_train,y)\n",
        "y_pre=knn.predict(X_test)\n",
        "metrics.accuracy_score(y,knn.predict(X_train))\n",
        "score = cross_val_score(knn, X_train, y, scoring='accuracy')"
      ],
      "execution_count": 71,
      "outputs": []
    },
    {
      "cell_type": "code",
      "metadata": {
        "colab": {
          "base_uri": "https://localhost:8080/"
        },
        "id": "AgxzITnOZHzw",
        "outputId": "11679ccb-97d9-46f2-df10-464f985cd06b"
      },
      "source": [
        "round(np.mean(score)*100, 2)"
      ],
      "execution_count": 72,
      "outputs": [
        {
          "output_type": "execute_result",
          "data": {
            "text/plain": [
              "80.25"
            ]
          },
          "metadata": {},
          "execution_count": 72
        }
      ]
    },
    {
      "cell_type": "code",
      "metadata": {
        "colab": {
          "base_uri": "https://localhost:8080/"
        },
        "id": "8EpGv2TsZH3D",
        "outputId": "9cdd2739-5249-43cc-81d5-aa915048436d"
      },
      "source": [
        "metrics.accuracy_score(y,knn.predict(X_train))"
      ],
      "execution_count": 73,
      "outputs": [
        {
          "output_type": "execute_result",
          "data": {
            "text/plain": [
              "0.8294051627384961"
            ]
          },
          "metadata": {},
          "execution_count": 73
        }
      ]
    },
    {
      "cell_type": "code",
      "metadata": {
        "colab": {
          "base_uri": "https://localhost:8080/"
        },
        "id": "aPZs-I6DZH55",
        "outputId": "ea9788a8-dbe8-442b-d5ac-6db847ad56b2"
      },
      "source": [
        "#Decision Tree\n",
        "\n",
        "dt = DecisionTreeClassifier(criterion='entropy',random_state=0)\n",
        "score = cross_val_score(dt, X_train, y,scoring='accuracy')\n",
        "dt.fit(X_train,y)\n",
        "y_pre=dt.predict(X_test)\n",
        "score"
      ],
      "execution_count": 74,
      "outputs": [
        {
          "output_type": "execute_result",
          "data": {
            "text/plain": [
              "array([0.58100559, 0.75280899, 0.74157303, 0.75842697, 0.84831461])"
            ]
          },
          "metadata": {},
          "execution_count": 74
        }
      ]
    },
    {
      "cell_type": "code",
      "metadata": {
        "colab": {
          "base_uri": "https://localhost:8080/"
        },
        "id": "ZN2LogXHdVxU",
        "outputId": "9bd9050f-093f-428c-e674-8f6694ea3471"
      },
      "source": [
        "round(np.mean(score)*100, 2)"
      ],
      "execution_count": 75,
      "outputs": [
        {
          "output_type": "execute_result",
          "data": {
            "text/plain": [
              "73.64"
            ]
          },
          "metadata": {},
          "execution_count": 75
        }
      ]
    },
    {
      "cell_type": "code",
      "metadata": {
        "colab": {
          "base_uri": "https://localhost:8080/"
        },
        "id": "MoUXaOsbdV3m",
        "outputId": "321c589d-fa70-4483-b5c9-f07317dbefa9"
      },
      "source": [
        "metrics.accuracy_score(y,dt.predict(X_train))"
      ],
      "execution_count": 76,
      "outputs": [
        {
          "output_type": "execute_result",
          "data": {
            "text/plain": [
              "1.0"
            ]
          },
          "metadata": {},
          "execution_count": 76
        }
      ]
    },
    {
      "cell_type": "code",
      "metadata": {
        "id": "ikGKY6uldV8n"
      },
      "source": [
        "#Best model to be used is Random Forest¶\n",
        "\n",
        "#random = RandomForestClassifier(n_estimators=100)\n",
        "#random.fit(train_data, y)\n",
        "#score = cross_val_score(random, X_train, y, n_jobs=1, scoring='accuracy')\n",
        "#y_pre=random.predict(X_test)\n",
        "random_forest = RandomForestClassifier(n_estimators=100)\n",
        "random_forest.fit(train_data, y)\n",
        "\n",
        "Y_prediction = random_forest.predict(X_test)\n",
        "\n",
        "random_forest.score(train_data, y)\n",
        "\n",
        "\n",
        "submission = pd.DataFrame({\n",
        "        \"PassengerId\": test[\"PassengerId\"],\n",
        "        \"Survived\": y_pre\n",
        "    })\n",
        "\n",
        "submission.to_csv('kaggle_finalsubmissions.csv', index=False)"
      ],
      "execution_count": 77,
      "outputs": []
    },
    {
      "cell_type": "code",
      "metadata": {
        "colab": {
          "base_uri": "https://localhost:8080/"
        },
        "id": "z2M1qk75dWBk",
        "outputId": "97b5cad5-3eb1-4161-9cd4-86f9a712a801"
      },
      "source": [
        "acc_random_forest = round(random_forest.score(train_data, y) * 100, 2)\n",
        "acc_random_forest"
      ],
      "execution_count": 78,
      "outputs": [
        {
          "output_type": "execute_result",
          "data": {
            "text/plain": [
              "100.0"
            ]
          },
          "metadata": {},
          "execution_count": 78
        }
      ]
    },
    {
      "cell_type": "code",
      "metadata": {
        "colab": {
          "base_uri": "https://localhost:8080/"
        },
        "id": "7lJ-tBf9dWFQ",
        "outputId": "204e0e1a-4dcc-472d-f4b7-8f12e4a8415c"
      },
      "source": [
        "#finding the probability of survival\n",
        "\n",
        "my_survival=[[3,1,1,29,211,1,1,3,0]]\n",
        "my_survival_scaled=ss.fit_transform(my_survival)\n",
        "y_p=random_forest.predict(my_survival_scaled)\n",
        "y_p\n",
        "if y_p==0:\n",
        "    print('died')\n",
        "else:\n",
        "    print('survived')"
      ],
      "execution_count": 79,
      "outputs": [
        {
          "output_type": "stream",
          "text": [
            "survived\n"
          ],
          "name": "stdout"
        }
      ]
    },
    {
      "cell_type": "code",
      "metadata": {
        "colab": {
          "base_uri": "https://localhost:8080/"
        },
        "id": "36A_0AuddWJB",
        "outputId": "213ae662-11d8-4981-8593-809d838d6ff6"
      },
      "source": [
        "my_data=[[3,1,1,29,211,1,1,3,0]]\n",
        "res=random_forest.predict_proba(my_data)\n",
        "res"
      ],
      "execution_count": 80,
      "outputs": [
        {
          "output_type": "execute_result",
          "data": {
            "text/plain": [
              "array([[0.1, 0.9]])"
            ]
          },
          "metadata": {},
          "execution_count": 80
        }
      ]
    },
    {
      "cell_type": "code",
      "metadata": {
        "colab": {
          "base_uri": "https://localhost:8080/"
        },
        "id": "HxgakxBpdWOx",
        "outputId": "3f428f96-2367-4d71-a55c-2fa35b503785"
      },
      "source": [
        "#the prabability of me surving the titanic is 0.97\n",
        "random_forest.predict_proba(my_data)[:,1]"
      ],
      "execution_count": 81,
      "outputs": [
        {
          "output_type": "execute_result",
          "data": {
            "text/plain": [
              "array([0.9])"
            ]
          },
          "metadata": {},
          "execution_count": 81
        }
      ]
    },
    {
      "cell_type": "code",
      "metadata": {
        "colab": {
          "base_uri": "https://localhost:8080/"
        },
        "id": "rSiBEOz-dWTr",
        "outputId": "d16b6419-8fe7-45c3-d622-2e92c66e652f"
      },
      "source": [
        "gaussian = GaussianNB()\n",
        "gaussian.fit(X_train,y)\n",
        "score = cross_val_score(gaussian, X_train, y, n_jobs=1, scoring='accuracy')\n",
        "y_pre=gaussian.predict(X_test)\n",
        "print(score)"
      ],
      "execution_count": 82,
      "outputs": [
        {
          "output_type": "stream",
          "text": [
            "[0.69832402 0.7752809  0.80337079 0.80898876 0.83146067]\n"
          ],
          "name": "stdout"
        }
      ]
    },
    {
      "cell_type": "code",
      "metadata": {
        "colab": {
          "base_uri": "https://localhost:8080/"
        },
        "id": "EBoBMpv9dWXa",
        "outputId": "688f0991-9e7e-4202-986a-837758227f5d"
      },
      "source": [
        "round(np.mean(score)*100, 2)"
      ],
      "execution_count": 83,
      "outputs": [
        {
          "output_type": "execute_result",
          "data": {
            "text/plain": [
              "78.35"
            ]
          },
          "metadata": {},
          "execution_count": 83
        }
      ]
    },
    {
      "cell_type": "code",
      "metadata": {
        "colab": {
          "base_uri": "https://localhost:8080/"
        },
        "id": "ojOMnRifdWbl",
        "outputId": "e92ea17a-3012-49ff-9b7b-42495b23429e"
      },
      "source": [
        "metrics.accuracy_score(y,gaussian.predict(X_train))"
      ],
      "execution_count": 84,
      "outputs": [
        {
          "output_type": "execute_result",
          "data": {
            "text/plain": [
              "0.7991021324354658"
            ]
          },
          "metadata": {},
          "execution_count": 84
        }
      ]
    },
    {
      "cell_type": "code",
      "metadata": {
        "id": "E86h9mWWdWgH"
      },
      "source": [
        "#LinearSVC"
      ],
      "execution_count": 85,
      "outputs": []
    },
    {
      "cell_type": "code",
      "metadata": {
        "colab": {
          "base_uri": "https://localhost:8080/"
        },
        "id": "QH16NYdDf-Xf",
        "outputId": "383aef6f-e5ae-4f96-fa33-88e3811ce7de"
      },
      "source": [
        "#not good\n",
        "from sklearn.svm import LinearSVC\n",
        "linear = LinearSVC()\n",
        "linear.fit(X_train,y)\n",
        "score = cross_val_score(linear, X_train, y, n_jobs=1, scoring='accuracy')\n",
        "print(score)\n",
        "y_pre=linear.predict(X_test)"
      ],
      "execution_count": 86,
      "outputs": [
        {
          "output_type": "stream",
          "text": [
            "[0.7877095  0.81460674 0.78651685 0.79213483 0.82022472]\n"
          ],
          "name": "stdout"
        }
      ]
    },
    {
      "cell_type": "code",
      "metadata": {
        "colab": {
          "base_uri": "https://localhost:8080/"
        },
        "id": "LXAOccEif77A",
        "outputId": "24a2a4cf-7bde-422a-d7c5-5c4566fd3f81"
      },
      "source": [
        "round(np.mean(score)*100, 2)"
      ],
      "execution_count": 87,
      "outputs": [
        {
          "output_type": "execute_result",
          "data": {
            "text/plain": [
              "80.02"
            ]
          },
          "metadata": {},
          "execution_count": 87
        }
      ]
    },
    {
      "cell_type": "code",
      "metadata": {
        "colab": {
          "base_uri": "https://localhost:8080/"
        },
        "id": "gqAAehqjfqzk",
        "outputId": "d310a58e-6cf7-4c92-dd69-61263e3a959d"
      },
      "source": [
        "metrics.accuracy_score(y,linear.predict(X_train))"
      ],
      "execution_count": 88,
      "outputs": [
        {
          "output_type": "execute_result",
          "data": {
            "text/plain": [
              "0.8103254769921436"
            ]
          },
          "metadata": {},
          "execution_count": 88
        }
      ]
    },
    {
      "cell_type": "code",
      "metadata": {
        "id": "L3KUTq1efoyl"
      },
      "source": [
        "#SVM"
      ],
      "execution_count": 89,
      "outputs": []
    },
    {
      "cell_type": "code",
      "metadata": {
        "id": "Y15wCMKcfnnW"
      },
      "source": [
        "clf = SVC()\n",
        "clf.fit(X_train,y)\n",
        "score = cross_val_score(clf, X_train, y, n_jobs=1, scoring='accuracy')\n",
        "y_pre=clf.predict(X_test)"
      ],
      "execution_count": 90,
      "outputs": []
    },
    {
      "cell_type": "code",
      "metadata": {
        "colab": {
          "base_uri": "https://localhost:8080/"
        },
        "id": "a9DUDotHflqv",
        "outputId": "1fd55951-4b56-4bdc-eb87-965803786c15"
      },
      "source": [
        "round(np.mean(score)*100, 2)"
      ],
      "execution_count": 91,
      "outputs": [
        {
          "output_type": "execute_result",
          "data": {
            "text/plain": [
              "82.16"
            ]
          },
          "metadata": {},
          "execution_count": 91
        }
      ]
    },
    {
      "cell_type": "code",
      "metadata": {
        "colab": {
          "base_uri": "https://localhost:8080/"
        },
        "id": "I2iNgP4Rfj3S",
        "outputId": "de7eba4f-99b7-4a5c-fcc4-689f10661068"
      },
      "source": [
        "metrics.accuracy_score(y,clf.predict(X_train))"
      ],
      "execution_count": 92,
      "outputs": [
        {
          "output_type": "execute_result",
          "data": {
            "text/plain": [
              "0.8428731762065096"
            ]
          },
          "metadata": {},
          "execution_count": 92
        }
      ]
    },
    {
      "cell_type": "code",
      "metadata": {
        "colab": {
          "base_uri": "https://localhost:8080/"
        },
        "id": "d_rtqsLMfhXz",
        "outputId": "7784403a-7826-4162-fa1e-37569a81c40d"
      },
      "source": [
        "model = LogisticRegression()\n",
        "model.fit(X_train, y)\n",
        "#y_pred=model.predict(X_test)\n",
        "scoring = 'accuracy'\n",
        "score = cross_val_score(model, X_train, y, n_jobs=1, scoring=scoring)\n",
        "print(score)\n",
        "y_pre=model.predict(X_test)"
      ],
      "execution_count": 93,
      "outputs": [
        {
          "output_type": "stream",
          "text": [
            "[0.81005587 0.79775281 0.80337079 0.79775281 0.82022472]\n"
          ],
          "name": "stdout"
        }
      ]
    },
    {
      "cell_type": "code",
      "metadata": {
        "colab": {
          "base_uri": "https://localhost:8080/"
        },
        "id": "--ccdSpZfbf6",
        "outputId": "72b7446f-da02-4f35-949f-3974d931a944"
      },
      "source": [
        "round(np.mean(score)*100, 2)"
      ],
      "execution_count": 94,
      "outputs": [
        {
          "output_type": "execute_result",
          "data": {
            "text/plain": [
              "80.58"
            ]
          },
          "metadata": {},
          "execution_count": 94
        }
      ]
    },
    {
      "cell_type": "code",
      "metadata": {
        "colab": {
          "base_uri": "https://localhost:8080/"
        },
        "id": "s_pPF6vCfQ7v",
        "outputId": "871a38d2-5cac-46c4-f33d-cc10e2582269"
      },
      "source": [
        "metrics.accuracy_score(y,model.predict(X_train))"
      ],
      "execution_count": 95,
      "outputs": [
        {
          "output_type": "execute_result",
          "data": {
            "text/plain": [
              "0.8125701459034792"
            ]
          },
          "metadata": {},
          "execution_count": 95
        }
      ]
    },
    {
      "cell_type": "code",
      "metadata": {
        "colab": {
          "base_uri": "https://localhost:8080/"
        },
        "id": "nImCU67RdWkj",
        "outputId": "9dd25c33-93f1-40aa-80c9-ca0a81535fe0"
      },
      "source": [
        "#Confusion matrix\n",
        "\n",
        "mat= metrics.confusion_matrix(y,model.predict(X_train))\n",
        "mat"
      ],
      "execution_count": 96,
      "outputs": [
        {
          "output_type": "execute_result",
          "data": {
            "text/plain": [
              "array([[477,  72],\n",
              "       [ 95, 247]])"
            ]
          },
          "metadata": {},
          "execution_count": 96
        }
      ]
    },
    {
      "cell_type": "code",
      "metadata": {
        "colab": {
          "base_uri": "https://localhost:8080/",
          "height": 303
        },
        "id": "pYyG2cSkdWoV",
        "outputId": "0f6922b0-b3bb-4f9c-e9a4-152ad59b66f4"
      },
      "source": [
        "sns.heatmap(mat, square=True, annot=True, cbar=True)\n",
        "plt.xlabel('predicted value')\n",
        "plt.ylabel('true value')"
      ],
      "execution_count": 97,
      "outputs": [
        {
          "output_type": "execute_result",
          "data": {
            "text/plain": [
              "Text(80.90000000000006, 0.5, 'true value')"
            ]
          },
          "metadata": {},
          "execution_count": 97
        },
        {
          "output_type": "display_data",
          "data": {
            "image/png": "[encoded data removed]",
            "text/plain": [
              "<Figure size 432x288 with 2 Axes>"
            ]
          },
          "metadata": {}
        }
      ]
    }
  ]
}