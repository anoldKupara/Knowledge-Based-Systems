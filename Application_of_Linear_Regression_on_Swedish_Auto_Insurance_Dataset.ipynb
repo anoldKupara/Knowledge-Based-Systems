{
  "nbformat": 4,
  "nbformat_minor": 0,
  "metadata": {
    "colab": {
      "name": "Application of Linear Regression on Swedish Auto Insurance Dataset.ipynb",
      "provenance": [],
      "mount_file_id": "14JWcScS1gAwO7krf5BA7M7j4vlDojCeH",
      "authorship_tag": "ABX9TyOgzutIqD67N8+usGVYfjy6",
      "include_colab_link": true
    },
    "kernelspec": {
      "name": "python3",
      "display_name": "Python 3"
    },
    "language_info": {
      "name": "python"
    }
  },
  "cells": [
    {
      "cell_type": "markdown",
      "metadata": {
        "id": "view-in-github",
        "colab_type": "text"
      },
      "source": [
        "<a href=\"https://colab.research.google.com/github/anoldKupara/Machine-Learning-Course/blob/main/Application_of_Linear_Regression_on_Swedish_Auto_Insurance_Dataset.ipynb\" target=\"_parent\"><img src=\"https://colab.research.google.com/assets/colab-badge.svg\" alt=\"Open In Colab\"/></a>"
      ]
    },
    {
      "cell_type": "code",
      "metadata": {
        "id": "u0xXGRPAWA0q"
      },
      "source": [
        "# Standard Library Includes¶\n",
        "# We will be importing the below libraries\n",
        "\n",
        "# numpy - NumPy is the fundamental package for scientific computing with Python\n",
        "# pandas - Pandas is an open source, BSD-licensed library providing high-performance, easy-to-use data structures and data analysis tools\n",
        "# matplotlib - 2D plotting library which produces publication quality figures in a variety of formats and interactive environments across platforms\n",
        "# seaborn - Seaborn is a Python visualization library based on matplotlib. It provides a high-level interface for drawing attractive statistical graphics\n",
        "# sklearn - Library that implements a range of machine learning, preprocessing, cross-validation and visualization algorithms\n",
        "\n",
        "import warnings\n",
        "warnings.filterwarnings('ignore')\n",
        "\n",
        "import numpy as np\n",
        "import pandas as pd\n",
        "import seaborn as sns\n",
        "import matplotlib.pyplot as plt\n",
        "from sklearn import linear_model\n",
        "from sklearn import  metrics\n",
        "from sklearn.model_selection import train_test_split\n",
        "import xlrd\n",
        "#from lcp import plot_learning_curve\n",
        "# from sklearn.model_selection import train_test_split\n",
        "# from sklearn.cross_validation import KFold\n",
        "\n",
        "%matplotlib inline"
      ],
      "execution_count": null,
      "outputs": []
    },
    {
      "cell_type": "code",
      "metadata": {
        "colab": {
          "base_uri": "https://localhost:8080/"
        },
        "id": "AkEVCm_JWLav",
        "outputId": "fd1e8ec3-8ede-4a44-ee74-1574e8eab833"
      },
      "source": [
        "# Reading data from excel file¶\n",
        "# Swedish Auto Insurance Dataset\n",
        "\n",
        "df = pd.read_excel('/content/drive/MyDrive/Colab Notebooks/Datasets/slr06.xls')"
      ],
      "execution_count": null,
      "outputs": [
        {
          "output_type": "stream",
          "text": [
            "*** No CODEPAGE record, no encoding_override: will use 'ascii'\n"
          ],
          "name": "stdout"
        }
      ]
    },
    {
      "cell_type": "code",
      "metadata": {
        "colab": {
          "base_uri": "https://localhost:8080/",
          "height": 204
        },
        "id": "uDxLWjledtTo",
        "outputId": "253335ba-7187-487d-dadd-5bc84b8f4bb3"
      },
      "source": [
        "# Lets display the top 5 records in the Dataset\n",
        "df.head()"
      ],
      "execution_count": null,
      "outputs": [
        {
          "output_type": "execute_result",
          "data": {
            "text/html": [
              "<div>\n",
              "<style scoped>\n",
              "    .dataframe tbody tr th:only-of-type {\n",
              "        vertical-align: middle;\n",
              "    }\n",
              "\n",
              "    .dataframe tbody tr th {\n",
              "        vertical-align: top;\n",
              "    }\n",
              "\n",
              "    .dataframe thead th {\n",
              "        text-align: right;\n",
              "    }\n",
              "</style>\n",
              "<table border=\"1\" class=\"dataframe\">\n",
              "  <thead>\n",
              "    <tr style=\"text-align: right;\">\n",
              "      <th></th>\n",
              "      <th>X</th>\n",
              "      <th>Y</th>\n",
              "    </tr>\n",
              "  </thead>\n",
              "  <tbody>\n",
              "    <tr>\n",
              "      <th>0</th>\n",
              "      <td>108</td>\n",
              "      <td>392.5</td>\n",
              "    </tr>\n",
              "    <tr>\n",
              "      <th>1</th>\n",
              "      <td>19</td>\n",
              "      <td>46.2</td>\n",
              "    </tr>\n",
              "    <tr>\n",
              "      <th>2</th>\n",
              "      <td>13</td>\n",
              "      <td>15.7</td>\n",
              "    </tr>\n",
              "    <tr>\n",
              "      <th>3</th>\n",
              "      <td>124</td>\n",
              "      <td>422.2</td>\n",
              "    </tr>\n",
              "    <tr>\n",
              "      <th>4</th>\n",
              "      <td>40</td>\n",
              "      <td>119.4</td>\n",
              "    </tr>\n",
              "  </tbody>\n",
              "</table>\n",
              "</div>"
            ],
            "text/plain": [
              "     X      Y\n",
              "0  108  392.5\n",
              "1   19   46.2\n",
              "2   13   15.7\n",
              "3  124  422.2\n",
              "4   40  119.4"
            ]
          },
          "metadata": {
            "tags": []
          },
          "execution_count": 43
        }
      ]
    },
    {
      "cell_type": "code",
      "metadata": {
        "colab": {
          "base_uri": "https://localhost:8080/"
        },
        "id": "5Uanv8XfWLjV",
        "outputId": "b1d00805-f196-478f-b9c0-7b8f59934ee5"
      },
      "source": [
        "# Checking data type of columns and if any NULL values are present\n",
        "df.info()"
      ],
      "execution_count": null,
      "outputs": [
        {
          "output_type": "stream",
          "text": [
            "<class 'pandas.core.frame.DataFrame'>\n",
            "RangeIndex: 63 entries, 0 to 62\n",
            "Data columns (total 2 columns):\n",
            " #   Column  Non-Null Count  Dtype  \n",
            "---  ------  --------------  -----  \n",
            " 0   X       63 non-null     int64  \n",
            " 1   Y       63 non-null     float64\n",
            "dtypes: float64(1), int64(1)\n",
            "memory usage: 1.1 KB\n"
          ],
          "name": "stdout"
        }
      ]
    },
    {
      "cell_type": "code",
      "metadata": {
        "colab": {
          "base_uri": "https://localhost:8080/",
          "height": 297
        },
        "id": "8S4BmcWuWLml",
        "outputId": "51b16186-1f16-4383-8937-3778ef4e8925"
      },
      "source": [
        "# Displaying basic stats for the columns\n",
        "df.describe()"
      ],
      "execution_count": null,
      "outputs": [
        {
          "output_type": "execute_result",
          "data": {
            "text/html": [
              "<div>\n",
              "<style scoped>\n",
              "    .dataframe tbody tr th:only-of-type {\n",
              "        vertical-align: middle;\n",
              "    }\n",
              "\n",
              "    .dataframe tbody tr th {\n",
              "        vertical-align: top;\n",
              "    }\n",
              "\n",
              "    .dataframe thead th {\n",
              "        text-align: right;\n",
              "    }\n",
              "</style>\n",
              "<table border=\"1\" class=\"dataframe\">\n",
              "  <thead>\n",
              "    <tr style=\"text-align: right;\">\n",
              "      <th></th>\n",
              "      <th>X</th>\n",
              "      <th>Y</th>\n",
              "    </tr>\n",
              "  </thead>\n",
              "  <tbody>\n",
              "    <tr>\n",
              "      <th>count</th>\n",
              "      <td>63.000000</td>\n",
              "      <td>63.000000</td>\n",
              "    </tr>\n",
              "    <tr>\n",
              "      <th>mean</th>\n",
              "      <td>22.904762</td>\n",
              "      <td>98.187302</td>\n",
              "    </tr>\n",
              "    <tr>\n",
              "      <th>std</th>\n",
              "      <td>23.351946</td>\n",
              "      <td>87.327553</td>\n",
              "    </tr>\n",
              "    <tr>\n",
              "      <th>min</th>\n",
              "      <td>0.000000</td>\n",
              "      <td>0.000000</td>\n",
              "    </tr>\n",
              "    <tr>\n",
              "      <th>25%</th>\n",
              "      <td>7.500000</td>\n",
              "      <td>38.850000</td>\n",
              "    </tr>\n",
              "    <tr>\n",
              "      <th>50%</th>\n",
              "      <td>14.000000</td>\n",
              "      <td>73.400000</td>\n",
              "    </tr>\n",
              "    <tr>\n",
              "      <th>75%</th>\n",
              "      <td>29.000000</td>\n",
              "      <td>140.000000</td>\n",
              "    </tr>\n",
              "    <tr>\n",
              "      <th>max</th>\n",
              "      <td>124.000000</td>\n",
              "      <td>422.200000</td>\n",
              "    </tr>\n",
              "  </tbody>\n",
              "</table>\n",
              "</div>"
            ],
            "text/plain": [
              "                X           Y\n",
              "count   63.000000   63.000000\n",
              "mean    22.904762   98.187302\n",
              "std     23.351946   87.327553\n",
              "min      0.000000    0.000000\n",
              "25%      7.500000   38.850000\n",
              "50%     14.000000   73.400000\n",
              "75%     29.000000  140.000000\n",
              "max    124.000000  422.200000"
            ]
          },
          "metadata": {
            "tags": []
          },
          "execution_count": 45
        }
      ]
    },
    {
      "cell_type": "code",
      "metadata": {
        "colab": {
          "base_uri": "https://localhost:8080/",
          "height": 367
        },
        "id": "-lsUqUgcWLqt",
        "outputId": "030e0cd6-a97e-4858-c0d6-432c69b3379d"
      },
      "source": [
        "# Visualization using seaborn and matplotlib¶\n",
        "# Plotting the distribution of the feature and label from the Dataset.\n",
        "\n",
        "# We can see that the distributions have approximately the same shape which indicates that there is a strong linear relationship between the feature and label.\n",
        "\n",
        "fig, (ax1, ax2) = plt.subplots(1,2,figsize=(15,5))\n",
        "\n",
        "ax1.set_title('Distribution of feature X i.e. Number of Claims')\n",
        "sns.distplot(df.X,bins=50,ax=ax1)\n",
        "\n",
        "ax2.set_title('Distribution of label Y i.e. Total Payment for Corresponding claims')\n",
        "sns.distplot(df.Y,bins=50,ax=ax2)"
      ],
      "execution_count": null,
      "outputs": [
        {
          "output_type": "execute_result",
          "data": {
            "text/plain": [
              "<matplotlib.axes._subplots.AxesSubplot at 0x7f55825b6a90>"
            ]
          },
          "metadata": {
            "tags": []
          },
          "execution_count": 46
        },
        {
          "output_type": "display_data",
          "data": {
            "image/png": "[encoded data removed]",
            "text/plain": [
              "<Figure size 1080x360 with 2 Axes>"
            ]
          },
          "metadata": {
            "tags": [],
            "needs_background": "light"
          }
        }
      ]
    },
    {
      "cell_type": "code",
      "metadata": {
        "colab": {
          "base_uri": "https://localhost:8080/",
          "height": 342
        },
        "id": "Ka0J-zW7WLuF",
        "outputId": "5f1453b6-4c0a-44b9-8f56-99847a6a02e7"
      },
      "source": [
        "fig, (ax1, ax2) = plt.subplots(1,2,figsize=(10,5))\n",
        "\n",
        "ax1.set_ylim(-50,150)\n",
        "ax1.set_title('Boxplot for X')\n",
        "sns.boxplot(y='X',data=df,ax=ax1,)\n",
        "sns.stripplot(y='X',color='green',data=df,jitter=True,ax=ax1,alpha=0.5)\n",
        "\n",
        "ax2.set_ylim(-50,150)\n",
        "ax2.set_title('Violinplot for X')\n",
        "sns.violinplot(y='X',data=df,ax=ax2)\n",
        "sns.stripplot(y='X',color='green',data=df,jitter=True,ax=ax2,alpha=0.5)"
      ],
      "execution_count": null,
      "outputs": [
        {
          "output_type": "execute_result",
          "data": {
            "text/plain": [
              "<matplotlib.axes._subplots.AxesSubplot at 0x7f5582068a10>"
            ]
          },
          "metadata": {
            "tags": []
          },
          "execution_count": 47
        },
        {
          "output_type": "display_data",
          "data": {
            "image/png": "[encoded data removed]",
            "text/plain": [
              "<Figure size 720x360 with 2 Axes>"
            ]
          },
          "metadata": {
            "tags": [],
            "needs_background": "light"
          }
        }
      ]
    },
    {
      "cell_type": "code",
      "metadata": {
        "colab": {
          "base_uri": "https://localhost:8080/",
          "height": 312
        },
        "id": "ikEkmoinWLxQ",
        "outputId": "951c3f49-76ca-4f19-cea5-9af228a1fd86"
      },
      "source": [
        "fig , (ax1) = plt.subplots(1,1,figsize=(10,4))\n",
        "\n",
        "ax1.set_title('Scatter plot between feature and Label')\n",
        "sns.regplot(data=df,x='X',y='Y',ax=ax1)"
      ],
      "execution_count": null,
      "outputs": [
        {
          "output_type": "execute_result",
          "data": {
            "text/plain": [
              "<matplotlib.axes._subplots.AxesSubplot at 0x7f5582043790>"
            ]
          },
          "metadata": {
            "tags": []
          },
          "execution_count": 48
        },
        {
          "output_type": "display_data",
          "data": {
            "image/png": "[encoded data removed]",
            "text/plain": [
              "<Figure size 720x288 with 1 Axes>"
            ]
          },
          "metadata": {
            "tags": [],
            "needs_background": "light"
          }
        }
      ]
    },
    {
      "cell_type": "code",
      "metadata": {
        "id": "85My4pDStQKI"
      },
      "source": [
        "def meanSquarredError(y_test,y_pred):\n",
        "    error = 0\n",
        "    for i,j in zip(y_test,y_pred):\n",
        "        error += (i-j)**2\n",
        "    error /= len(y_test)\n",
        "    return error\n",
        "\n",
        "def rootMeanSquarredError(y_test,y_pred):\n",
        "    mean_error = meanSquarredError(y_test,y_pred)\n",
        "    return np.sqrt(mean_error)    "
      ],
      "execution_count": null,
      "outputs": []
    },
    {
      "cell_type": "code",
      "metadata": {
        "colab": {
          "base_uri": "https://localhost:8080/"
        },
        "id": "FgOWZI0XtQNm",
        "outputId": "f9a44744-f259-4b9c-8aee-fb211f6b031a"
      },
      "source": [
        "mse = meanSquarredError(Y,Y_pred)\n",
        "print('MSE for Training set : %f' % (meanSquarredError(Y,Y_pred)))\n",
        "print('RMSE for Training set : %f' % (rootMeanSquarredError(Y,Y_pred)))"
      ],
      "execution_count": null,
      "outputs": [
        {
          "output_type": "stream",
          "text": [
            "MSE for Training set : 7742.463152\n",
            "RMSE for Training set : 87.991267\n"
          ],
          "name": "stdout"
        }
      ]
    },
    {
      "cell_type": "code",
      "metadata": {
        "id": "rJleK6FXtQR7"
      },
      "source": [
        ""
      ],
      "execution_count": null,
      "outputs": []
    },
    {
      "cell_type": "code",
      "metadata": {
        "id": "Z5VDlrBzWL0I"
      },
      "source": [
        "#Training Linear Regression Model¶\n",
        "#Here we will train the Linear Regression model from scikit-learn and check the RMSE for the Training Data itself.\n",
        "\n",
        "\n",
        "X = pd.DataFrame(df.X)\n",
        "Y = df.Y\n",
        "regr = linear_model.LinearRegression()\n",
        "regr.fit(X,Y)\n",
        "Y_pred = regr.predict(X)\n",
        "mse = metrics.mean_squared_error(Y_pred,Y)\n",
        "#print ('RMSE for Training set : %f' % (np.sqrt(mse))"
      ],
      "execution_count": null,
      "outputs": []
    },
    {
      "cell_type": "code",
      "metadata": {
        "id": "1AYnmjotouCP"
      },
      "source": [
        "from sklearn.model_selection import cross_val_score\n",
        "from sklearn.model_selection import train_test_split"
      ],
      "execution_count": null,
      "outputs": []
    },
    {
      "cell_type": "code",
      "metadata": {
        "id": "ptdtOOEjWL3g"
      },
      "source": [
        "#Checking mean RMSE after cross validation\n",
        "\n",
        "# regr_cv = linear_model.LinearRegression()\n",
        "# scores = cross_val_score(regr_cv,X,Y,cv=10,scoring='mean_squared_error')\n",
        "# scores = scores*-1\n"
      ],
      "execution_count": null,
      "outputs": []
    },
    {
      "cell_type": "code",
      "metadata": {
        "id": "UD-P_AXloMz1"
      },
      "source": [
        "# np.mean(np.sqrt(scores))"
      ],
      "execution_count": null,
      "outputs": []
    },
    {
      "cell_type": "code",
      "metadata": {
        "colab": {
          "base_uri": "https://localhost:8080/",
          "height": 312
        },
        "id": "OEE8egonWL69",
        "outputId": "97a76856-7d5a-4cb4-dc88-9b943edb2ec5"
      },
      "source": [
        "#Splitting the dataset in Train and Test Sets.\n",
        "\n",
        "#Below Scatter plot will show the distribution of training and testing samples..\n",
        "\n",
        "X_train, X_test, Y_train, Y_test = train_test_split(X,Y,test_size=0.3,random_state=42)\n",
        "\n",
        "fig, ax = plt.subplots()\n",
        "ax.set_xlabel('X')\n",
        "ax.set_ylabel('Y')\n",
        "ax.set_title('Scatter plot showing train and test sample split')\n",
        "ax.scatter(X_train,Y_train,marker='*',label='Train')\n",
        "ax.scatter(X_test,Y_test,c='red',label='Test')"
      ],
      "execution_count": null,
      "outputs": [
        {
          "output_type": "execute_result",
          "data": {
            "text/plain": [
              "<matplotlib.collections.PathCollection at 0x7f5581f53290>"
            ]
          },
          "metadata": {
            "tags": []
          },
          "execution_count": 56
        },
        {
          "output_type": "display_data",
          "data": {
            "image/png": "[encoded data removed]",
            "text/plain": [
              "<Figure size 432x288 with 1 Axes>"
            ]
          },
          "metadata": {
            "tags": [],
            "needs_background": "light"
          }
        }
      ]
    },
    {
      "cell_type": "code",
      "metadata": {
        "colab": {
          "base_uri": "https://localhost:8080/"
        },
        "id": "id71DaBDs2el",
        "outputId": "f4eb3665-48ae-4157-d8af-1e33be673a8e"
      },
      "source": [
        "regr_fin = linear_model.LinearRegression()\n",
        "regr_fin.fit(X_train,Y_train)\n",
        "Y_pred = regr_fin.predict(X_test)\n",
        "print('MSE for Testing set : %f' % (meanSquarredError(Y_pred,Y_test)))\n",
        "print('RMSE for Testing set : %f' % (rootMeanSquarredError(Y_pred,Y_test)))"
      ],
      "execution_count": null,
      "outputs": [
        {
          "output_type": "stream",
          "text": [
            "MSE for Testing set : 1304.781736\n",
            "RMSE for Testing set : 36.121763\n"
          ],
          "name": "stdout"
        }
      ]
    },
    {
      "cell_type": "code",
      "metadata": {
        "id": "kPTyxRBwWL-G"
      },
      "source": [
        "#Train the model on the training set and predict the label values for the testing set.\n",
        "\n",
        "#Looking at the RMSE for testing set.\n",
        "\n",
        "\n",
        "regr_fin = linear_model.LinearRegression()\n",
        "regr_fin.fit(X_train,Y_train)\n",
        "Y_pred = regr_fin.predict(X_test)\n",
        "rmse = np.sqrt(metrics.mean_squared_error(Y_pred,Y_test))\n",
        "#print 'RMSE for Testing set : %f' % (rmse)"
      ],
      "execution_count": null,
      "outputs": []
    },
    {
      "cell_type": "code",
      "metadata": {
        "id": "2gmgvwjPWMA6"
      },
      "source": [
        "# x = range(0,X.max())\n",
        "# y = x*regr.coef_\n",
        "\n",
        "# fig, (ax,ax1) = plt.subplots(1,2,figsize=(12,6))\n",
        "# ax.set_xlabel('X')\n",
        "# ax.set_ylabel('Y')\n",
        "# ax.set_title('Plot for Regression line fit on Train and Test data')\n",
        "# ax.scatter(X_train,Y_train,marker='*',label='Train')\n",
        "# ax.scatter(X_test,Y_test,c='red',label='Test')\n",
        "# ax.legend()\n",
        "# ax.plot(x,y,c='black')\n",
        "\n",
        "# ax1.set_title('Scatter plot between feature and Label')\n",
        "# ax1.set_ylim(-100,500)\n",
        "# sns.regplot(data=df,x='X',y='Y',ax=ax1)"
      ],
      "execution_count": null,
      "outputs": []
    },
    {
      "cell_type": "code",
      "metadata": {
        "id": "er7kpoivWMGH"
      },
      "source": [
        "#Analysing the learing curve for the model\n",
        "#I have written the below function to plot the learning curves for given model and step_size to increase number of samples it will be using 3 fold cross validation to calculate the cross validation error.\n",
        "\n",
        "def plot_learning_curve(estimator, title, X, y, ylim=None, n_jobs=1,sample_steps = 5):\n",
        "    df_train = X.join(y)\n",
        "    plt.figure()\n",
        "    plt.title(title)\n",
        "    \n",
        "    if ylim is not None:\n",
        "        plt.ylim(*ylim)\n",
        "    plt.xlabel(\"Training examples\")\n",
        "    plt.ylabel(\"Score\")\n",
        "    \n",
        "    J_train = []\n",
        "    J_cv = []\n",
        "    train_sizes = []\n",
        "    sample_div = len(X) / sample_steps\n",
        "    cvin = 0\n",
        "\n",
        "    for i in range(1,sample_steps):\n",
        "        \n",
        "        num_samples = sample_div*i\n",
        "        train_sizes.append(num_samples)\n",
        "        \n",
        "        df_temp = df_train.sample(num_samples,replace=False,random_state=42)\n",
        "        estimator.fit(pd.DataFrame(df_temp.X),df_temp.Y)\n",
        "        Y_pred = estimator.predict(pd.DataFrame(df_temp.X))  \n",
        "        J_train.append(np.sqrt(metrics.mean_squared_error(Y_pred,df_temp.Y)))\n",
        "        \n",
        "        scores = cross_val_score(estimator,pd.DataFrame(df_temp.X),df_temp.Y,cv=3,scoring='mean_squared_error')\n",
        "        J_cv.append(np.mean(np.sqrt(scores*-1)))\n",
        "\n",
        "    train_scores_mean = np.mean(J_train)\n",
        "    train_scores_std = np.std(J_train)\n",
        "    test_scores_mean = np.mean(J_cv)\n",
        "    test_scores_std = np.std(J_cv)\n",
        "\n",
        "    plt.grid()\n",
        "\n",
        "    plt.plot(train_sizes, J_train, 'o-', color=\"r\",\n",
        "             label=\"Training score\")\n",
        "    plt.plot(train_sizes, J_cv, 'o-', color=\"g\",\n",
        "             label=\"Cross-validation score\")\n",
        "\n",
        "    plt.legend(loc=\"best\")\n",
        "    return plt"
      ],
      "execution_count": null,
      "outputs": []
    },
    {
      "cell_type": "code",
      "metadata": {
        "colab": {
          "base_uri": "https://localhost:8080/",
          "height": 669
        },
        "id": "wPVzWupwWMI7",
        "outputId": "cd348bb2-f964-47bd-f482-fe692904584e"
      },
      "source": [
        "estimator = linear_model.LinearRegression()\n",
        "\n",
        "title = \"Learning Curves (Linear Regression) Step Size = 5\"\n",
        "plot_learning_curve(estimator, title, X, Y, n_jobs=4,sample_steps = 5)\n",
        "\n",
        "title = \"Learning Curves (Linear Regression) Step Size = 12\"\n",
        "plot_learning_curve(estimator, title, X, Y, n_jobs=4,sample_steps = 12)"
      ],
      "execution_count": null,
      "outputs": [
        {
          "output_type": "error",
          "ename": "ValueError",
          "evalue": "ignored",
          "traceback": [
            "\u001b[0;31m---------------------------------------------------------------------------\u001b[0m",
            "\u001b[0;31mValueError\u001b[0m                                Traceback (most recent call last)",
            "\u001b[0;32m<ipython-input-73-d7d4924c8552>\u001b[0m in \u001b[0;36m<module>\u001b[0;34m()\u001b[0m\n\u001b[1;32m      2\u001b[0m \u001b[0;34m\u001b[0m\u001b[0m\n\u001b[1;32m      3\u001b[0m \u001b[0mtitle\u001b[0m \u001b[0;34m=\u001b[0m \u001b[0;34m\"Learning Curves (Linear Regression) Step Size = 5\"\u001b[0m\u001b[0;34m\u001b[0m\u001b[0;34m\u001b[0m\u001b[0m\n\u001b[0;32m----> 4\u001b[0;31m \u001b[0mplot_learning_curve\u001b[0m\u001b[0;34m(\u001b[0m\u001b[0mestimator\u001b[0m\u001b[0;34m,\u001b[0m \u001b[0mtitle\u001b[0m\u001b[0;34m,\u001b[0m \u001b[0mX\u001b[0m\u001b[0;34m,\u001b[0m \u001b[0mY\u001b[0m\u001b[0;34m,\u001b[0m \u001b[0mn_jobs\u001b[0m\u001b[0;34m=\u001b[0m\u001b[0;36m4\u001b[0m\u001b[0;34m,\u001b[0m\u001b[0msample_steps\u001b[0m \u001b[0;34m=\u001b[0m \u001b[0;36m5\u001b[0m\u001b[0;34m)\u001b[0m\u001b[0;34m\u001b[0m\u001b[0;34m\u001b[0m\u001b[0m\n\u001b[0m\u001b[1;32m      5\u001b[0m \u001b[0;34m\u001b[0m\u001b[0m\n\u001b[1;32m      6\u001b[0m \u001b[0mtitle\u001b[0m \u001b[0;34m=\u001b[0m \u001b[0;34m\"Learning Curves (Linear Regression) Step Size = 12\"\u001b[0m\u001b[0;34m\u001b[0m\u001b[0;34m\u001b[0m\u001b[0m\n",
            "\u001b[0;32m<ipython-input-65-3c4dded977aa>\u001b[0m in \u001b[0;36mplot_learning_curve\u001b[0;34m(estimator, title, X, y, ylim, n_jobs, sample_steps)\u001b[0m\n\u001b[1;32m     23\u001b[0m         \u001b[0mtrain_sizes\u001b[0m\u001b[0;34m.\u001b[0m\u001b[0mappend\u001b[0m\u001b[0;34m(\u001b[0m\u001b[0mnum_samples\u001b[0m\u001b[0;34m)\u001b[0m\u001b[0;34m\u001b[0m\u001b[0;34m\u001b[0m\u001b[0m\n\u001b[1;32m     24\u001b[0m \u001b[0;34m\u001b[0m\u001b[0m\n\u001b[0;32m---> 25\u001b[0;31m         \u001b[0mdf_temp\u001b[0m \u001b[0;34m=\u001b[0m \u001b[0mdf_train\u001b[0m\u001b[0;34m.\u001b[0m\u001b[0msample\u001b[0m\u001b[0;34m(\u001b[0m\u001b[0mnum_samples\u001b[0m\u001b[0;34m,\u001b[0m\u001b[0mreplace\u001b[0m\u001b[0;34m=\u001b[0m\u001b[0;32mFalse\u001b[0m\u001b[0;34m,\u001b[0m\u001b[0mrandom_state\u001b[0m\u001b[0;34m=\u001b[0m\u001b[0;36m42\u001b[0m\u001b[0;34m)\u001b[0m\u001b[0;34m\u001b[0m\u001b[0;34m\u001b[0m\u001b[0m\n\u001b[0m\u001b[1;32m     26\u001b[0m         \u001b[0mestimator\u001b[0m\u001b[0;34m.\u001b[0m\u001b[0mfit\u001b[0m\u001b[0;34m(\u001b[0m\u001b[0mpd\u001b[0m\u001b[0;34m.\u001b[0m\u001b[0mDataFrame\u001b[0m\u001b[0;34m(\u001b[0m\u001b[0mdf_temp\u001b[0m\u001b[0;34m.\u001b[0m\u001b[0mX\u001b[0m\u001b[0;34m)\u001b[0m\u001b[0;34m,\u001b[0m\u001b[0mdf_temp\u001b[0m\u001b[0;34m.\u001b[0m\u001b[0mY\u001b[0m\u001b[0;34m)\u001b[0m\u001b[0;34m\u001b[0m\u001b[0;34m\u001b[0m\u001b[0m\n\u001b[1;32m     27\u001b[0m         \u001b[0mY_pred\u001b[0m \u001b[0;34m=\u001b[0m \u001b[0mestimator\u001b[0m\u001b[0;34m.\u001b[0m\u001b[0mpredict\u001b[0m\u001b[0;34m(\u001b[0m\u001b[0mpd\u001b[0m\u001b[0;34m.\u001b[0m\u001b[0mDataFrame\u001b[0m\u001b[0;34m(\u001b[0m\u001b[0mdf_temp\u001b[0m\u001b[0;34m.\u001b[0m\u001b[0mX\u001b[0m\u001b[0;34m)\u001b[0m\u001b[0;34m)\u001b[0m\u001b[0;34m\u001b[0m\u001b[0;34m\u001b[0m\u001b[0m\n",
            "\u001b[0;32m/usr/local/lib/python3.7/dist-packages/pandas/core/generic.py\u001b[0m in \u001b[0;36msample\u001b[0;34m(self, n, frac, replace, weights, random_state, axis)\u001b[0m\n\u001b[1;32m   4981\u001b[0m             )\n\u001b[1;32m   4982\u001b[0m         \u001b[0;32melif\u001b[0m \u001b[0mn\u001b[0m \u001b[0;32mis\u001b[0m \u001b[0;32mnot\u001b[0m \u001b[0;32mNone\u001b[0m \u001b[0;32mand\u001b[0m \u001b[0mfrac\u001b[0m \u001b[0;32mis\u001b[0m \u001b[0;32mNone\u001b[0m \u001b[0;32mand\u001b[0m \u001b[0mn\u001b[0m \u001b[0;34m%\u001b[0m \u001b[0;36m1\u001b[0m \u001b[0;34m!=\u001b[0m \u001b[0;36m0\u001b[0m\u001b[0;34m:\u001b[0m\u001b[0;34m\u001b[0m\u001b[0;34m\u001b[0m\u001b[0m\n\u001b[0;32m-> 4983\u001b[0;31m             \u001b[0;32mraise\u001b[0m \u001b[0mValueError\u001b[0m\u001b[0;34m(\u001b[0m\u001b[0;34m\"Only integers accepted as `n` values\"\u001b[0m\u001b[0;34m)\u001b[0m\u001b[0;34m\u001b[0m\u001b[0;34m\u001b[0m\u001b[0m\n\u001b[0m\u001b[1;32m   4984\u001b[0m         \u001b[0;32melif\u001b[0m \u001b[0mn\u001b[0m \u001b[0;32mis\u001b[0m \u001b[0;32mNone\u001b[0m \u001b[0;32mand\u001b[0m \u001b[0mfrac\u001b[0m \u001b[0;32mis\u001b[0m \u001b[0;32mnot\u001b[0m \u001b[0;32mNone\u001b[0m\u001b[0;34m:\u001b[0m\u001b[0;34m\u001b[0m\u001b[0;34m\u001b[0m\u001b[0m\n\u001b[1;32m   4985\u001b[0m             \u001b[0mn\u001b[0m \u001b[0;34m=\u001b[0m \u001b[0mint\u001b[0m\u001b[0;34m(\u001b[0m\u001b[0mround\u001b[0m\u001b[0;34m(\u001b[0m\u001b[0mfrac\u001b[0m \u001b[0;34m*\u001b[0m \u001b[0maxis_length\u001b[0m\u001b[0;34m)\u001b[0m\u001b[0;34m)\u001b[0m\u001b[0;34m\u001b[0m\u001b[0;34m\u001b[0m\u001b[0m\n",
            "\u001b[0;31mValueError\u001b[0m: Only integers accepted as `n` values"
          ]
        },
        {
          "output_type": "display_data",
          "data": {
            "image/png": "[encoded data removed]",
            "text/plain": [
              "<Figure size 432x288 with 1 Axes>"
            ]
          },
          "metadata": {
            "tags": [],
            "needs_background": "light"
          }
        }
      ]
    }
  ]
}