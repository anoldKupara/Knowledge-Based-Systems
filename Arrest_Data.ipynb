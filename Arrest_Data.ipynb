{
  "nbformat": 4,
  "nbformat_minor": 0,
  "metadata": {
    "colab": {
      "name": "Arrest Data.ipynb",
      "provenance": [],
      "mount_file_id": "1CjhTFz9yxneK2WKNANy7o-sxIlqk6DEH",
      "authorship_tag": "ABX9TyP2SJ7LL6z2uKbKQWfwmv8q",
      "include_colab_link": true
    },
    "kernelspec": {
      "name": "python3",
      "display_name": "Python 3"
    },
    "language_info": {
      "name": "python"
    }
  },
  "cells": [
    {
      "cell_type": "markdown",
      "metadata": {
        "id": "view-in-github",
        "colab_type": "text"
      },
      "source": [
        "<a href=\"https://colab.research.google.com/github/anoldKupara/Machine-Learning-Course/blob/main/Arrest_Data.ipynb\" target=\"_parent\"><img src=\"https://colab.research.google.com/assets/colab-badge.svg\" alt=\"Open In Colab\"/></a>"
      ]
    },
    {
      "cell_type": "code",
      "metadata": {
        "id": "IZxIqdPCmv1n"
      },
      "source": [
        "import seaborn as sns\n",
        "import matplotlib.pyplot as plt\n",
        "import warnings\n",
        "warnings.filterwarnings('ignore')\n",
        "import pandas as pd\n",
        "import numpy as np\n",
        "from pandas.plotting import autocorrelation_plot\n",
        "from pandas import DataFrame\n",
        "from statsmodels.tsa.arima_model import ARIMA\n",
        "from matplotlib import pyplot\n",
        "from pandas import datetime\n",
        "from matplotlib import pyplot\n",
        "from statsmodels.tsa.arima_model import ARIMA\n",
        "from sklearn.metrics import mean_squared_error\n",
        "from sklearn.metrics import mean_absolute_error\n",
        "from sklearn.preprocessing import LabelEncoder\n",
        "from sklearn.linear_model import LinearRegression"
      ],
      "execution_count": 1,
      "outputs": []
    },
    {
      "cell_type": "code",
      "metadata": {
        "colab": {
          "base_uri": "https://localhost:8080/",
          "height": 364
        },
        "id": "Qmy614AZpuSx",
        "outputId": "94142b98-3ff4-413c-e7dd-60e4cd43a343"
      },
      "source": [
        "data = pd.read_csv('/content/drive/MyDrive/Colab Notebooks/Datasets/Copy of Arrest_Data_from_2010_to_Present.csv')\n",
        "data.head(5)"
      ],
      "execution_count": 2,
      "outputs": [
        {
          "output_type": "execute_result",
          "data": {
            "text/html": [
              "<div>\n",
              "<style scoped>\n",
              "    .dataframe tbody tr th:only-of-type {\n",
              "        vertical-align: middle;\n",
              "    }\n",
              "\n",
              "    .dataframe tbody tr th {\n",
              "        vertical-align: top;\n",
              "    }\n",
              "\n",
              "    .dataframe thead th {\n",
              "        text-align: right;\n",
              "    }\n",
              "</style>\n",
              "<table border=\"1\" class=\"dataframe\">\n",
              "  <thead>\n",
              "    <tr style=\"text-align: right;\">\n",
              "      <th></th>\n",
              "      <th>Report ID</th>\n",
              "      <th>Arrest Date</th>\n",
              "      <th>Time</th>\n",
              "      <th>Area ID</th>\n",
              "      <th>Area Name</th>\n",
              "      <th>Reporting District</th>\n",
              "      <th>Age</th>\n",
              "      <th>Sex Code</th>\n",
              "      <th>Descent Code</th>\n",
              "      <th>Charge Group Code</th>\n",
              "      <th>Charge Group Description</th>\n",
              "      <th>Arrest Type Code</th>\n",
              "      <th>Charge</th>\n",
              "      <th>Charge Description</th>\n",
              "      <th>Address</th>\n",
              "      <th>Cross Street</th>\n",
              "      <th>Location</th>\n",
              "    </tr>\n",
              "  </thead>\n",
              "  <tbody>\n",
              "    <tr>\n",
              "      <th>0</th>\n",
              "      <td>4248313</td>\n",
              "      <td>02/24/2015</td>\n",
              "      <td>1310.0</td>\n",
              "      <td>20.0</td>\n",
              "      <td>Olympic</td>\n",
              "      <td>2022.0</td>\n",
              "      <td>37.0</td>\n",
              "      <td>M</td>\n",
              "      <td>H</td>\n",
              "      <td>5.0</td>\n",
              "      <td>Burglary</td>\n",
              "      <td>F</td>\n",
              "      <td>459PC</td>\n",
              "      <td>BURGLARY</td>\n",
              "      <td>5TH</td>\n",
              "      <td>WILTON</td>\n",
              "      <td>(34.0653, -118.314)</td>\n",
              "    </tr>\n",
              "    <tr>\n",
              "      <th>1</th>\n",
              "      <td>191811472</td>\n",
              "      <td>05/03/2019</td>\n",
              "      <td>1700.0</td>\n",
              "      <td>18.0</td>\n",
              "      <td>Southeast</td>\n",
              "      <td>1802.0</td>\n",
              "      <td>23.0</td>\n",
              "      <td>F</td>\n",
              "      <td>B</td>\n",
              "      <td>NaN</td>\n",
              "      <td>NaN</td>\n",
              "      <td>M</td>\n",
              "      <td>653.22 PC</td>\n",
              "      <td>NaN</td>\n",
              "      <td>91ST</td>\n",
              "      <td>FIGUEROA</td>\n",
              "      <td>(33.9543, -118.2827)</td>\n",
              "    </tr>\n",
              "    <tr>\n",
              "      <th>2</th>\n",
              "      <td>4254777</td>\n",
              "      <td>02/26/2015</td>\n",
              "      <td>2010.0</td>\n",
              "      <td>19.0</td>\n",
              "      <td>Mission</td>\n",
              "      <td>1985.0</td>\n",
              "      <td>22.0</td>\n",
              "      <td>M</td>\n",
              "      <td>H</td>\n",
              "      <td>6.0</td>\n",
              "      <td>Larceny</td>\n",
              "      <td>M</td>\n",
              "      <td>459.5PC</td>\n",
              "      <td>SHOPLIFTING</td>\n",
              "      <td>8300    VAN NUYS                     BL</td>\n",
              "      <td>NaN</td>\n",
              "      <td>(34.2216, -118.4488)</td>\n",
              "    </tr>\n",
              "    <tr>\n",
              "      <th>3</th>\n",
              "      <td>5614161</td>\n",
              "      <td>04/29/2019</td>\n",
              "      <td>1040.0</td>\n",
              "      <td>8.0</td>\n",
              "      <td>West LA</td>\n",
              "      <td>842.0</td>\n",
              "      <td>41.0</td>\n",
              "      <td>M</td>\n",
              "      <td>H</td>\n",
              "      <td>3.0</td>\n",
              "      <td>Robbery</td>\n",
              "      <td>F</td>\n",
              "      <td>211PC</td>\n",
              "      <td>ROBBERY</td>\n",
              "      <td>11600    WILSHIRE                     BL</td>\n",
              "      <td>NaN</td>\n",
              "      <td>(34.0508, -118.4592)</td>\n",
              "    </tr>\n",
              "    <tr>\n",
              "      <th>4</th>\n",
              "      <td>5615197</td>\n",
              "      <td>04/30/2019</td>\n",
              "      <td>615.0</td>\n",
              "      <td>6.0</td>\n",
              "      <td>Hollywood</td>\n",
              "      <td>663.0</td>\n",
              "      <td>27.0</td>\n",
              "      <td>M</td>\n",
              "      <td>O</td>\n",
              "      <td>5.0</td>\n",
              "      <td>Burglary</td>\n",
              "      <td>F</td>\n",
              "      <td>459PC</td>\n",
              "      <td>BURGLARY</td>\n",
              "      <td>LA BREA</td>\n",
              "      <td>LEXINGTON</td>\n",
              "      <td>(34.0907, -118.3384)</td>\n",
              "    </tr>\n",
              "  </tbody>\n",
              "</table>\n",
              "</div>"
            ],
            "text/plain": [
              "   Report ID Arrest Date  ...  Cross Street              Location\n",
              "0    4248313  02/24/2015  ...        WILTON   (34.0653, -118.314)\n",
              "1  191811472  05/03/2019  ...      FIGUEROA  (33.9543, -118.2827)\n",
              "2    4254777  02/26/2015  ...           NaN  (34.2216, -118.4488)\n",
              "3    5614161  04/29/2019  ...           NaN  (34.0508, -118.4592)\n",
              "4    5615197  04/30/2019  ...     LEXINGTON  (34.0907, -118.3384)\n",
              "\n",
              "[5 rows x 17 columns]"
            ]
          },
          "metadata": {},
          "execution_count": 2
        }
      ]
    },
    {
      "cell_type": "code",
      "metadata": {
        "colab": {
          "base_uri": "https://localhost:8080/"
        },
        "id": "iSic-S5upuWR",
        "outputId": "89fcdc6c-cdeb-458a-8180-4589ed92e429"
      },
      "source": [
        "data.info()"
      ],
      "execution_count": 3,
      "outputs": [
        {
          "output_type": "stream",
          "text": [
            "<class 'pandas.core.frame.DataFrame'>\n",
            "RangeIndex: 1227521 entries, 0 to 1227520\n",
            "Data columns (total 17 columns):\n",
            " #   Column                    Non-Null Count    Dtype  \n",
            "---  ------                    --------------    -----  \n",
            " 0   Report ID                 1227521 non-null  object \n",
            " 1   Arrest Date               1227517 non-null  object \n",
            " 2   Time                      1227322 non-null  float64\n",
            " 3   Area ID                   1227517 non-null  float64\n",
            " 4   Area Name                 1227517 non-null  object \n",
            " 5   Reporting District        1227517 non-null  float64\n",
            " 6   Age                       1227517 non-null  float64\n",
            " 7   Sex Code                  1227517 non-null  object \n",
            " 8   Descent Code              1227517 non-null  object \n",
            " 9   Charge Group Code         1139951 non-null  float64\n",
            " 10  Charge Group Description  1139515 non-null  object \n",
            " 11  Arrest Type Code          1227516 non-null  object \n",
            " 12  Charge                    1227516 non-null  object \n",
            " 13  Charge Description        1139987 non-null  object \n",
            " 14  Address                   1227516 non-null  object \n",
            " 15  Cross Street              707334 non-null   object \n",
            " 16  Location                  1227516 non-null  object \n",
            "dtypes: float64(5), object(12)\n",
            "memory usage: 159.2+ MB\n"
          ],
          "name": "stdout"
        }
      ]
    },
    {
      "cell_type": "code",
      "metadata": {
        "colab": {
          "base_uri": "https://localhost:8080/",
          "height": 586
        },
        "id": "HJUI8Di-pue0",
        "outputId": "84e16f6c-9b50-4a8f-b51c-d86795440573"
      },
      "source": [
        "#Data Cleaning¶\n",
        "\n",
        "to_drop =['Charge Group Code','Charge Description','Cross Street']\n",
        "data.drop(columns=to_drop,axis=1,inplace=True)\n",
        "data.head(10)"
      ],
      "execution_count": 4,
      "outputs": [
        {
          "output_type": "execute_result",
          "data": {
            "text/html": [
              "<div>\n",
              "<style scoped>\n",
              "    .dataframe tbody tr th:only-of-type {\n",
              "        vertical-align: middle;\n",
              "    }\n",
              "\n",
              "    .dataframe tbody tr th {\n",
              "        vertical-align: top;\n",
              "    }\n",
              "\n",
              "    .dataframe thead th {\n",
              "        text-align: right;\n",
              "    }\n",
              "</style>\n",
              "<table border=\"1\" class=\"dataframe\">\n",
              "  <thead>\n",
              "    <tr style=\"text-align: right;\">\n",
              "      <th></th>\n",
              "      <th>Report ID</th>\n",
              "      <th>Arrest Date</th>\n",
              "      <th>Time</th>\n",
              "      <th>Area ID</th>\n",
              "      <th>Area Name</th>\n",
              "      <th>Reporting District</th>\n",
              "      <th>Age</th>\n",
              "      <th>Sex Code</th>\n",
              "      <th>Descent Code</th>\n",
              "      <th>Charge Group Description</th>\n",
              "      <th>Arrest Type Code</th>\n",
              "      <th>Charge</th>\n",
              "      <th>Address</th>\n",
              "      <th>Location</th>\n",
              "    </tr>\n",
              "  </thead>\n",
              "  <tbody>\n",
              "    <tr>\n",
              "      <th>0</th>\n",
              "      <td>4248313</td>\n",
              "      <td>02/24/2015</td>\n",
              "      <td>1310.0</td>\n",
              "      <td>20.0</td>\n",
              "      <td>Olympic</td>\n",
              "      <td>2022.0</td>\n",
              "      <td>37.0</td>\n",
              "      <td>M</td>\n",
              "      <td>H</td>\n",
              "      <td>Burglary</td>\n",
              "      <td>F</td>\n",
              "      <td>459PC</td>\n",
              "      <td>5TH</td>\n",
              "      <td>(34.0653, -118.314)</td>\n",
              "    </tr>\n",
              "    <tr>\n",
              "      <th>1</th>\n",
              "      <td>191811472</td>\n",
              "      <td>05/03/2019</td>\n",
              "      <td>1700.0</td>\n",
              "      <td>18.0</td>\n",
              "      <td>Southeast</td>\n",
              "      <td>1802.0</td>\n",
              "      <td>23.0</td>\n",
              "      <td>F</td>\n",
              "      <td>B</td>\n",
              "      <td>NaN</td>\n",
              "      <td>M</td>\n",
              "      <td>653.22 PC</td>\n",
              "      <td>91ST</td>\n",
              "      <td>(33.9543, -118.2827)</td>\n",
              "    </tr>\n",
              "    <tr>\n",
              "      <th>2</th>\n",
              "      <td>4254777</td>\n",
              "      <td>02/26/2015</td>\n",
              "      <td>2010.0</td>\n",
              "      <td>19.0</td>\n",
              "      <td>Mission</td>\n",
              "      <td>1985.0</td>\n",
              "      <td>22.0</td>\n",
              "      <td>M</td>\n",
              "      <td>H</td>\n",
              "      <td>Larceny</td>\n",
              "      <td>M</td>\n",
              "      <td>459.5PC</td>\n",
              "      <td>8300    VAN NUYS                     BL</td>\n",
              "      <td>(34.2216, -118.4488)</td>\n",
              "    </tr>\n",
              "    <tr>\n",
              "      <th>3</th>\n",
              "      <td>5614161</td>\n",
              "      <td>04/29/2019</td>\n",
              "      <td>1040.0</td>\n",
              "      <td>8.0</td>\n",
              "      <td>West LA</td>\n",
              "      <td>842.0</td>\n",
              "      <td>41.0</td>\n",
              "      <td>M</td>\n",
              "      <td>H</td>\n",
              "      <td>Robbery</td>\n",
              "      <td>F</td>\n",
              "      <td>211PC</td>\n",
              "      <td>11600    WILSHIRE                     BL</td>\n",
              "      <td>(34.0508, -118.4592)</td>\n",
              "    </tr>\n",
              "    <tr>\n",
              "      <th>4</th>\n",
              "      <td>5615197</td>\n",
              "      <td>04/30/2019</td>\n",
              "      <td>615.0</td>\n",
              "      <td>6.0</td>\n",
              "      <td>Hollywood</td>\n",
              "      <td>663.0</td>\n",
              "      <td>27.0</td>\n",
              "      <td>M</td>\n",
              "      <td>O</td>\n",
              "      <td>Burglary</td>\n",
              "      <td>F</td>\n",
              "      <td>459PC</td>\n",
              "      <td>LA BREA</td>\n",
              "      <td>(34.0907, -118.3384)</td>\n",
              "    </tr>\n",
              "    <tr>\n",
              "      <th>5</th>\n",
              "      <td>5615701</td>\n",
              "      <td>04/30/2019</td>\n",
              "      <td>1100.0</td>\n",
              "      <td>9.0</td>\n",
              "      <td>Van Nuys</td>\n",
              "      <td>901.0</td>\n",
              "      <td>2.0</td>\n",
              "      <td>F</td>\n",
              "      <td>H</td>\n",
              "      <td>NaN</td>\n",
              "      <td>D</td>\n",
              "      <td>300(B)WIC</td>\n",
              "      <td>RAYMER</td>\n",
              "      <td>(34.2149, -118.4674)</td>\n",
              "    </tr>\n",
              "    <tr>\n",
              "      <th>6</th>\n",
              "      <td>4256466</td>\n",
              "      <td>02/28/2015</td>\n",
              "      <td>1430.0</td>\n",
              "      <td>18.0</td>\n",
              "      <td>Southeast</td>\n",
              "      <td>1824.0</td>\n",
              "      <td>22.0</td>\n",
              "      <td>M</td>\n",
              "      <td>B</td>\n",
              "      <td>Burglary</td>\n",
              "      <td>F</td>\n",
              "      <td>459PC</td>\n",
              "      <td>103RD</td>\n",
              "      <td>(33.947, -118.2594)</td>\n",
              "    </tr>\n",
              "    <tr>\n",
              "      <th>7</th>\n",
              "      <td>4256564</td>\n",
              "      <td>02/28/2015</td>\n",
              "      <td>1715.0</td>\n",
              "      <td>10.0</td>\n",
              "      <td>West Valley</td>\n",
              "      <td>1039.0</td>\n",
              "      <td>16.0</td>\n",
              "      <td>M</td>\n",
              "      <td>H</td>\n",
              "      <td>Robbery</td>\n",
              "      <td>F</td>\n",
              "      <td>211PC</td>\n",
              "      <td>VANOWEN</td>\n",
              "      <td>(34.1939, -118.4836)</td>\n",
              "    </tr>\n",
              "    <tr>\n",
              "      <th>8</th>\n",
              "      <td>5616892</td>\n",
              "      <td>05/01/2019</td>\n",
              "      <td>1710.0</td>\n",
              "      <td>12.0</td>\n",
              "      <td>77th Street</td>\n",
              "      <td>1245.0</td>\n",
              "      <td>28.0</td>\n",
              "      <td>F</td>\n",
              "      <td>B</td>\n",
              "      <td>Robbery</td>\n",
              "      <td>F</td>\n",
              "      <td>211PC</td>\n",
              "      <td>VERMONT</td>\n",
              "      <td>(33.9746, -118.2918)</td>\n",
              "    </tr>\n",
              "    <tr>\n",
              "      <th>9</th>\n",
              "      <td>5617003</td>\n",
              "      <td>05/01/2019</td>\n",
              "      <td>1010.0</td>\n",
              "      <td>16.0</td>\n",
              "      <td>Foothill</td>\n",
              "      <td>1601.0</td>\n",
              "      <td>39.0</td>\n",
              "      <td>M</td>\n",
              "      <td>H</td>\n",
              "      <td>NaN</td>\n",
              "      <td>O</td>\n",
              "      <td>21 841A1US</td>\n",
              "      <td>FOOTHILL                     BL</td>\n",
              "      <td>(34.2868, -118.4081)</td>\n",
              "    </tr>\n",
              "  </tbody>\n",
              "</table>\n",
              "</div>"
            ],
            "text/plain": [
              "   Report ID  ...              Location\n",
              "0    4248313  ...   (34.0653, -118.314)\n",
              "1  191811472  ...  (33.9543, -118.2827)\n",
              "2    4254777  ...  (34.2216, -118.4488)\n",
              "3    5614161  ...  (34.0508, -118.4592)\n",
              "4    5615197  ...  (34.0907, -118.3384)\n",
              "5    5615701  ...  (34.2149, -118.4674)\n",
              "6    4256466  ...   (33.947, -118.2594)\n",
              "7    4256564  ...  (34.1939, -118.4836)\n",
              "8    5616892  ...  (33.9746, -118.2918)\n",
              "9    5617003  ...  (34.2868, -118.4081)\n",
              "\n",
              "[10 rows x 14 columns]"
            ]
          },
          "metadata": {},
          "execution_count": 4
        }
      ]
    },
    {
      "cell_type": "code",
      "metadata": {
        "colab": {
          "base_uri": "https://localhost:8080/"
        },
        "id": "NBhW29fWpujN",
        "outputId": "c624c1ca-9565-4ed0-b52c-0487b5658744"
      },
      "source": [
        "data['Arrest Date']= data['Arrest Date'].fillna(data['Arrest Date'].mean)\n",
        "data['Area Name']= data['Area Name'].fillna(data['Area Name'].mean)\n",
        "data['Reporting District']= data['Reporting District'].fillna(data['Reporting District'].mean)\n",
        "data['Charge Group Description']= data['Charge Group Description'].dropna()\n",
        "data['Time']= data['Time'].interpolate()\n",
        "data = data.dropna()\n",
        "data['Charge Group Description'].isnull().sum()"
      ],
      "execution_count": 5,
      "outputs": [
        {
          "output_type": "execute_result",
          "data": {
            "text/plain": [
              "0"
            ]
          },
          "metadata": {},
          "execution_count": 5
        }
      ]
    },
    {
      "cell_type": "code",
      "metadata": {
        "colab": {
          "base_uri": "https://localhost:8080/"
        },
        "id": "6OzPXFJ4pum1",
        "outputId": "72a24646-0a6c-44e1-edd5-87c715930ff0"
      },
      "source": [
        "data.isnull().sum()"
      ],
      "execution_count": 6,
      "outputs": [
        {
          "output_type": "execute_result",
          "data": {
            "text/plain": [
              "Report ID                   0\n",
              "Arrest Date                 0\n",
              "Time                        0\n",
              "Area ID                     0\n",
              "Area Name                   0\n",
              "Reporting District          0\n",
              "Age                         0\n",
              "Sex Code                    0\n",
              "Descent Code                0\n",
              "Charge Group Description    0\n",
              "Arrest Type Code            0\n",
              "Charge                      0\n",
              "Address                     0\n",
              "Location                    0\n",
              "dtype: int64"
            ]
          },
          "metadata": {},
          "execution_count": 6
        }
      ]
    },
    {
      "cell_type": "code",
      "metadata": {
        "colab": {
          "base_uri": "https://localhost:8080/"
        },
        "id": "1q_cFAI0puqb",
        "outputId": "67903b7a-bd0d-4cc8-93ee-958bf18c20a8"
      },
      "source": [
        "data['Arrest Date'] = pd.to_datetime(data['Arrest Date'])\n",
        "data.info()"
      ],
      "execution_count": 7,
      "outputs": [
        {
          "output_type": "stream",
          "text": [
            "<class 'pandas.core.frame.DataFrame'>\n",
            "Int64Index: 1139514 entries, 0 to 1227515\n",
            "Data columns (total 14 columns):\n",
            " #   Column                    Non-Null Count    Dtype         \n",
            "---  ------                    --------------    -----         \n",
            " 0   Report ID                 1139514 non-null  object        \n",
            " 1   Arrest Date               1139514 non-null  datetime64[ns]\n",
            " 2   Time                      1139514 non-null  float64       \n",
            " 3   Area ID                   1139514 non-null  float64       \n",
            " 4   Area Name                 1139514 non-null  object        \n",
            " 5   Reporting District        1139514 non-null  object        \n",
            " 6   Age                       1139514 non-null  float64       \n",
            " 7   Sex Code                  1139514 non-null  object        \n",
            " 8   Descent Code              1139514 non-null  object        \n",
            " 9   Charge Group Description  1139514 non-null  object        \n",
            " 10  Arrest Type Code          1139514 non-null  object        \n",
            " 11  Charge                    1139514 non-null  object        \n",
            " 12  Address                   1139514 non-null  object        \n",
            " 13  Location                  1139514 non-null  object        \n",
            "dtypes: datetime64[ns](1), float64(3), object(10)\n",
            "memory usage: 130.4+ MB\n"
          ],
          "name": "stdout"
        }
      ]
    },
    {
      "cell_type": "code",
      "metadata": {
        "id": "VfZgzThdpuuU"
      },
      "source": [
        "data['year'] = data['Arrest Date'].dt.year\n",
        "data['month'] = data['Arrest Date'].dt.month"
      ],
      "execution_count": 8,
      "outputs": []
    },
    {
      "cell_type": "code",
      "metadata": {
        "id": "qUEz2dPvpuxl"
      },
      "source": [
        "#creation of datasets\n",
        "data_2010to2018=data[(data['year']>=2010) & (data['year']<=2018) ]\n",
        "new_datasets= data[data['year']==2018]"
      ],
      "execution_count": 9,
      "outputs": []
    },
    {
      "cell_type": "code",
      "metadata": {
        "colab": {
          "base_uri": "https://localhost:8080/"
        },
        "id": "arbBCxNLpu1H",
        "outputId": "83785026-5ac6-4140-df39-1008a2f82e95"
      },
      "source": [
        "#Q1. How many bookings of arrestees were made in 2018?¶\n",
        "\n",
        "new_datasets['Report ID'].count()"
      ],
      "execution_count": 10,
      "outputs": [
        {
          "output_type": "execute_result",
          "data": {
            "text/plain": [
              "30332"
            ]
          },
          "metadata": {},
          "execution_count": 10
        }
      ]
    },
    {
      "cell_type": "code",
      "metadata": {
        "colab": {
          "base_uri": "https://localhost:8080/",
          "height": 362
        },
        "id": "ziPftMcApu4U",
        "outputId": "0a1604f2-b6a4-418e-8751-75b9eaed55eb"
      },
      "source": [
        "#Q2.How many bookings of arrestees were made in the area with the most arrests in 2018?\n",
        "\n",
        "new_datasets.groupby('Area Name')['Report ID'].count().reset_index().sort_values('Report ID',ascending=False).head(10)"
      ],
      "execution_count": 11,
      "outputs": [
        {
          "output_type": "execute_result",
          "data": {
            "text/html": [
              "<div>\n",
              "<style scoped>\n",
              "    .dataframe tbody tr th:only-of-type {\n",
              "        vertical-align: middle;\n",
              "    }\n",
              "\n",
              "    .dataframe tbody tr th {\n",
              "        vertical-align: top;\n",
              "    }\n",
              "\n",
              "    .dataframe thead th {\n",
              "        text-align: right;\n",
              "    }\n",
              "</style>\n",
              "<table border=\"1\" class=\"dataframe\">\n",
              "  <thead>\n",
              "    <tr style=\"text-align: right;\">\n",
              "      <th></th>\n",
              "      <th>Area Name</th>\n",
              "      <th>Report ID</th>\n",
              "    </tr>\n",
              "  </thead>\n",
              "  <tbody>\n",
              "    <tr>\n",
              "      <th>1</th>\n",
              "      <td>Central</td>\n",
              "      <td>5011</td>\n",
              "    </tr>\n",
              "    <tr>\n",
              "      <th>6</th>\n",
              "      <td>Hollywood</td>\n",
              "      <td>2798</td>\n",
              "    </tr>\n",
              "    <tr>\n",
              "      <th>13</th>\n",
              "      <td>Rampart</td>\n",
              "      <td>1935</td>\n",
              "    </tr>\n",
              "    <tr>\n",
              "      <th>12</th>\n",
              "      <td>Pacific</td>\n",
              "      <td>1700</td>\n",
              "    </tr>\n",
              "    <tr>\n",
              "      <th>17</th>\n",
              "      <td>Van Nuys</td>\n",
              "      <td>1532</td>\n",
              "    </tr>\n",
              "    <tr>\n",
              "      <th>9</th>\n",
              "      <td>Newton</td>\n",
              "      <td>1490</td>\n",
              "    </tr>\n",
              "    <tr>\n",
              "      <th>15</th>\n",
              "      <td>Southwest</td>\n",
              "      <td>1424</td>\n",
              "    </tr>\n",
              "    <tr>\n",
              "      <th>4</th>\n",
              "      <td>Harbor</td>\n",
              "      <td>1355</td>\n",
              "    </tr>\n",
              "    <tr>\n",
              "      <th>0</th>\n",
              "      <td>77th Street</td>\n",
              "      <td>1303</td>\n",
              "    </tr>\n",
              "    <tr>\n",
              "      <th>10</th>\n",
              "      <td>Northeast</td>\n",
              "      <td>1299</td>\n",
              "    </tr>\n",
              "  </tbody>\n",
              "</table>\n",
              "</div>"
            ],
            "text/plain": [
              "      Area Name  Report ID\n",
              "1       Central       5011\n",
              "6     Hollywood       2798\n",
              "13      Rampart       1935\n",
              "12      Pacific       1700\n",
              "17     Van Nuys       1532\n",
              "9        Newton       1490\n",
              "15    Southwest       1424\n",
              "4        Harbor       1355\n",
              "0   77th Street       1303\n",
              "10    Northeast       1299"
            ]
          },
          "metadata": {},
          "execution_count": 11
        }
      ]
    },
    {
      "cell_type": "code",
      "metadata": {
        "colab": {
          "base_uri": "https://localhost:8080/",
          "height": 831
        },
        "id": "bqUnPokMpvGU",
        "outputId": "1788fc5f-1233-46db-ff7d-23c717809c10"
      },
      "source": [
        "#Q3.There are differences between the average age of an arrestee for the various charge groups. Find the average age of arrestees per each charge group.\n",
        "\n",
        "new_datasets.groupby('Charge Group Description')['Age'].mean().reset_index().sort_values('Age',ascending=False).drop(index=[19,17])"
      ],
      "execution_count": 12,
      "outputs": [
        {
          "output_type": "execute_result",
          "data": {
            "text/html": [
              "<div>\n",
              "<style scoped>\n",
              "    .dataframe tbody tr th:only-of-type {\n",
              "        vertical-align: middle;\n",
              "    }\n",
              "\n",
              "    .dataframe tbody tr th {\n",
              "        vertical-align: top;\n",
              "    }\n",
              "\n",
              "    .dataframe thead th {\n",
              "        text-align: right;\n",
              "    }\n",
              "</style>\n",
              "<table border=\"1\" class=\"dataframe\">\n",
              "  <thead>\n",
              "    <tr style=\"text-align: right;\">\n",
              "      <th></th>\n",
              "      <th>Charge Group Description</th>\n",
              "      <th>Age</th>\n",
              "    </tr>\n",
              "  </thead>\n",
              "  <tbody>\n",
              "    <tr>\n",
              "      <th>6</th>\n",
              "      <td>Drunkeness</td>\n",
              "      <td>44.219972</td>\n",
              "    </tr>\n",
              "    <tr>\n",
              "      <th>13</th>\n",
              "      <td>Liquor Laws</td>\n",
              "      <td>42.540955</td>\n",
              "    </tr>\n",
              "    <tr>\n",
              "      <th>3</th>\n",
              "      <td>Disorderly Conduct</td>\n",
              "      <td>41.924290</td>\n",
              "    </tr>\n",
              "    <tr>\n",
              "      <th>10</th>\n",
              "      <td>Gambling</td>\n",
              "      <td>40.557047</td>\n",
              "    </tr>\n",
              "    <tr>\n",
              "      <th>4</th>\n",
              "      <td>Disturbing the Peace</td>\n",
              "      <td>39.727273</td>\n",
              "    </tr>\n",
              "    <tr>\n",
              "      <th>0</th>\n",
              "      <td>Against Family/Child</td>\n",
              "      <td>36.950355</td>\n",
              "    </tr>\n",
              "    <tr>\n",
              "      <th>24</th>\n",
              "      <td>Sex (except rape/prst)</td>\n",
              "      <td>36.555838</td>\n",
              "    </tr>\n",
              "    <tr>\n",
              "      <th>14</th>\n",
              "      <td>Miscellaneous Other Violations</td>\n",
              "      <td>36.252076</td>\n",
              "    </tr>\n",
              "    <tr>\n",
              "      <th>21</th>\n",
              "      <td>Rape</td>\n",
              "      <td>36.203704</td>\n",
              "    </tr>\n",
              "    <tr>\n",
              "      <th>16</th>\n",
              "      <td>Narcotic Drug Laws</td>\n",
              "      <td>36.097954</td>\n",
              "    </tr>\n",
              "    <tr>\n",
              "      <th>9</th>\n",
              "      <td>Fraud/Embezzlement</td>\n",
              "      <td>35.689076</td>\n",
              "    </tr>\n",
              "    <tr>\n",
              "      <th>8</th>\n",
              "      <td>Forgery/Counterfeit</td>\n",
              "      <td>35.066667</td>\n",
              "    </tr>\n",
              "    <tr>\n",
              "      <th>7</th>\n",
              "      <td>Federal Offenses</td>\n",
              "      <td>34.600000</td>\n",
              "    </tr>\n",
              "    <tr>\n",
              "      <th>5</th>\n",
              "      <td>Driving Under Influence</td>\n",
              "      <td>34.428291</td>\n",
              "    </tr>\n",
              "    <tr>\n",
              "      <th>1</th>\n",
              "      <td>Aggravated Assault</td>\n",
              "      <td>33.907359</td>\n",
              "    </tr>\n",
              "    <tr>\n",
              "      <th>22</th>\n",
              "      <td>Receive Stolen Property</td>\n",
              "      <td>33.687500</td>\n",
              "    </tr>\n",
              "    <tr>\n",
              "      <th>18</th>\n",
              "      <td>Other Assaults</td>\n",
              "      <td>33.451139</td>\n",
              "    </tr>\n",
              "    <tr>\n",
              "      <th>15</th>\n",
              "      <td>Moving Traffic Violations</td>\n",
              "      <td>33.085622</td>\n",
              "    </tr>\n",
              "    <tr>\n",
              "      <th>12</th>\n",
              "      <td>Larceny</td>\n",
              "      <td>32.725796</td>\n",
              "    </tr>\n",
              "    <tr>\n",
              "      <th>20</th>\n",
              "      <td>Prostitution/Allied</td>\n",
              "      <td>31.620470</td>\n",
              "    </tr>\n",
              "    <tr>\n",
              "      <th>11</th>\n",
              "      <td>Homicide</td>\n",
              "      <td>30.896552</td>\n",
              "    </tr>\n",
              "    <tr>\n",
              "      <th>2</th>\n",
              "      <td>Burglary</td>\n",
              "      <td>30.366755</td>\n",
              "    </tr>\n",
              "    <tr>\n",
              "      <th>25</th>\n",
              "      <td>Vehicle Theft</td>\n",
              "      <td>30.095624</td>\n",
              "    </tr>\n",
              "    <tr>\n",
              "      <th>26</th>\n",
              "      <td>Weapon (carry/poss)</td>\n",
              "      <td>29.477178</td>\n",
              "    </tr>\n",
              "    <tr>\n",
              "      <th>23</th>\n",
              "      <td>Robbery</td>\n",
              "      <td>27.538739</td>\n",
              "    </tr>\n",
              "  </tbody>\n",
              "</table>\n",
              "</div>"
            ],
            "text/plain": [
              "          Charge Group Description        Age\n",
              "6                       Drunkeness  44.219972\n",
              "13                     Liquor Laws  42.540955\n",
              "3               Disorderly Conduct  41.924290\n",
              "10                        Gambling  40.557047\n",
              "4             Disturbing the Peace  39.727273\n",
              "0             Against Family/Child  36.950355\n",
              "24          Sex (except rape/prst)  36.555838\n",
              "14  Miscellaneous Other Violations  36.252076\n",
              "21                            Rape  36.203704\n",
              "16              Narcotic Drug Laws  36.097954\n",
              "9               Fraud/Embezzlement  35.689076\n",
              "8              Forgery/Counterfeit  35.066667\n",
              "7                 Federal Offenses  34.600000\n",
              "5          Driving Under Influence  34.428291\n",
              "1               Aggravated Assault  33.907359\n",
              "22         Receive Stolen Property  33.687500\n",
              "18                  Other Assaults  33.451139\n",
              "15       Moving Traffic Violations  33.085622\n",
              "12                         Larceny  32.725796\n",
              "20             Prostitution/Allied  31.620470\n",
              "11                        Homicide  30.896552\n",
              "2                         Burglary  30.366755\n",
              "25                   Vehicle Theft  30.095624\n",
              "26             Weapon (carry/poss)  29.477178\n",
              "23                         Robbery  27.538739"
            ]
          },
          "metadata": {},
          "execution_count": 12
        }
      ]
    },
    {
      "cell_type": "code",
      "metadata": {
        "colab": {
          "base_uri": "https://localhost:8080/"
        },
        "id": "Ak4yYNkzpvJ-",
        "outputId": "97a1c8d0-0078-4d99-b9d1-ea95d54b646f"
      },
      "source": [
        "#Q4 What is the 95% quantile of the age of the arrestee in 2018? Only consider the following charge groups for your analysis\n",
        "\n",
        "columns= ['Vehicle Theft' ,\n",
        "'Robbery',\n",
        "'Burglary',\n",
        "'Receive Stolen Property']\n",
        "my_quantile = new_datasets[new_datasets['Charge Group Description'].isin(columns)]['Age'].quantile(0.95)\n",
        "my_quantile"
      ],
      "execution_count": 13,
      "outputs": [
        {
          "output_type": "execute_result",
          "data": {
            "text/plain": [
              "52.0"
            ]
          },
          "metadata": {},
          "execution_count": 13
        }
      ]
    },
    {
      "cell_type": "code",
      "metadata": {
        "colab": {
          "base_uri": "https://localhost:8080/",
          "height": 81
        },
        "id": "BLzwtjHrpvNQ",
        "outputId": "fbb68b31-8c39-475f-c16c-48f91cbd655b"
      },
      "source": [
        "new_datasets.pivot_table(values='Age', columns='Charge Group Description', aggfunc=lambda x: np.percentile(x, 95))[['Vehicle Theft', 'Robbery', 'Burglary', 'Receive Stolen Property' ]]"
      ],
      "execution_count": 14,
      "outputs": [
        {
          "output_type": "execute_result",
          "data": {
            "text/html": [
              "<div>\n",
              "<style scoped>\n",
              "    .dataframe tbody tr th:only-of-type {\n",
              "        vertical-align: middle;\n",
              "    }\n",
              "\n",
              "    .dataframe tbody tr th {\n",
              "        vertical-align: top;\n",
              "    }\n",
              "\n",
              "    .dataframe thead th {\n",
              "        text-align: right;\n",
              "    }\n",
              "</style>\n",
              "<table border=\"1\" class=\"dataframe\">\n",
              "  <thead>\n",
              "    <tr style=\"text-align: right;\">\n",
              "      <th>Charge Group Description</th>\n",
              "      <th>Vehicle Theft</th>\n",
              "      <th>Robbery</th>\n",
              "      <th>Burglary</th>\n",
              "      <th>Receive Stolen Property</th>\n",
              "    </tr>\n",
              "  </thead>\n",
              "  <tbody>\n",
              "    <tr>\n",
              "      <th>Age</th>\n",
              "      <td>48.0</td>\n",
              "      <td>53.3</td>\n",
              "      <td>55.0</td>\n",
              "      <td>52.85</td>\n",
              "    </tr>\n",
              "  </tbody>\n",
              "</table>\n",
              "</div>"
            ],
            "text/plain": [
              "Charge Group Description  Vehicle Theft  ...  Receive Stolen Property\n",
              "Age                                48.0  ...                    52.85\n",
              "\n",
              "[1 rows x 4 columns]"
            ]
          },
          "metadata": {},
          "execution_count": 14
        }
      ]
    },
    {
      "cell_type": "code",
      "metadata": {
        "colab": {
          "base_uri": "https://localhost:8080/",
          "height": 266
        },
        "id": "u6jurO5JpvQU",
        "outputId": "a619ee71-6f14-44e6-90c7-aa4ed60d3c7e"
      },
      "source": [
        "new_datasets['Area Name'].value_counts().head().plot(kind='pie')"
      ],
      "execution_count": 15,
      "outputs": [
        {
          "output_type": "execute_result",
          "data": {
            "text/plain": [
              "<matplotlib.axes._subplots.AxesSubplot at 0x7fabff376410>"
            ]
          },
          "metadata": {},
          "execution_count": 15
        },
        {
          "output_type": "display_data",
          "data": {
            "image/png": "[encoded data removed]",
            "text/plain": [
              "<Figure size 432x288 with 1 Axes>"
            ]
          },
          "metadata": {}
        }
      ]
    },
    {
      "cell_type": "code",
      "metadata": {
        "colab": {
          "base_uri": "https://localhost:8080/",
          "height": 338
        },
        "id": "sJSsYfTwpvT5",
        "outputId": "441a8d65-8c3e-4889-b83a-b917c099af53"
      },
      "source": [
        "new_datasets['Charge'].value_counts().head().plot(kind='bar')"
      ],
      "execution_count": 16,
      "outputs": [
        {
          "output_type": "execute_result",
          "data": {
            "text/plain": [
              "<matplotlib.axes._subplots.AxesSubplot at 0x7fabfdff6150>"
            ]
          },
          "metadata": {},
          "execution_count": 16
        },
        {
          "output_type": "display_data",
          "data": {
            "image/png": "[encoded data removed]",
            "text/plain": [
              "<Figure size 432x288 with 1 Axes>"
            ]
          },
          "metadata": {
            "needs_background": "light"
          }
        }
      ]
    },
    {
      "cell_type": "code",
      "metadata": {
        "id": "M-8CSc7VpvW6"
      },
      "source": [
        "#Q5. Felony arrest incidents have been dropping over the years. Using a trend line (linear estimation) for the data from 2010 and 2018 (inclusive), what is the projected number of felony arrests in 2019? Round to the nearest integer. Note, the data set includes arrests for misdemeanor, felonies, etc.\n",
        "#Disclaimer we select felony crime from our datasets but some crime can be classifed for both felony and misdemeanor\n",
        "\n",
        "i = data_2010to2018[(data_2010to2018['Charge Group Description'] == 'Larceny')].index\n",
        "data_2010to2018.drop(i,inplace =True)\n",
        "i = data_2010to2018[(data_2010to2018['Charge Group Description'] == 'Other Assaults')].index\n",
        "data_2010to2018.drop(i,inplace =True)\n",
        "i = data_2010to2018[(data_2010to2018['Charge Group Description'] == 'Receive Stolen Property')].index\n",
        "data_2010to2018.drop(i,inplace =True)\n",
        "i = data_2010to2018[(data_2010to2018['Charge Group Description'] == 'Driving Under Influence')].index\n",
        "data_2010to2018.drop(i,inplace =True)\n",
        "i = data_2010to2018[(data_2010to2018['Charge Group Description'] == 'Prostitution/Allied')].index\n",
        "data_2010to2018.drop(i,inplace =True)\n",
        "i = data_2010to2018[(data_2010to2018['Charge Group Description'] == 'Moving Traffic Violations')].index\n",
        "data_2010to2018.drop(i,inplace =True)\n",
        "i = data_2010to2018[(data_2010to2018['Charge Group Description'] == 'Liquor Laws')].index\n",
        "data_2010to2018.drop(i,inplace =True)\n",
        "i = data_2010to2018[(data_2010to2018['Charge Group Description'] == 'Drunkeness')].index\n",
        "data_2010to2018.drop(i,inplace =True)\n",
        "i = data_2010to2018[(data_2010to2018['Charge Group Description'] == 'Disturbing the Peace')].index\n",
        "data_2010to2018.drop(i,inplace =True)\n",
        "i = data_2010to2018[(data_2010to2018['Charge Group Description'] == 'Gambling')].index\n",
        "data_2010to2018.drop(i,inplace =True)\n",
        "i = data_2010to2018[(data_2010to2018['Charge Group Description'] == 'Non-Criminal Detention')].index\n",
        "data_2010to2018.drop(i,inplace =True)\n",
        "i = data_2010to2018[(data_2010to2018['Charge Group Description'] == 'Pre-Delinquency')].index\n",
        "data_2010to2018.drop(i,inplace =True)"
      ],
      "execution_count": 17,
      "outputs": []
    },
    {
      "cell_type": "code",
      "metadata": {
        "colab": {
          "base_uri": "https://localhost:8080/"
        },
        "id": "BWlMaG20pvat",
        "outputId": "d3c2c9f7-2ec2-44ac-a331-87180e2fac14"
      },
      "source": [
        "data_2010to2018['Charge Group Description'].unique()"
      ],
      "execution_count": 18,
      "outputs": [
        {
          "output_type": "execute_result",
          "data": {
            "text/plain": [
              "array(['Burglary', 'Robbery', 'Fraud/Embezzlement', 'Homicide',\n",
              "       'Narcotic Drug Laws', 'Weapon (carry/poss)', 'Aggravated Assault',\n",
              "       'Miscellaneous Other Violations', 'Vehicle Theft',\n",
              "       'Against Family/Child', 'Forgery/Counterfeit',\n",
              "       'Sex (except rape/prst)', 'Rape', 'Disorderly Conduct',\n",
              "       'Federal Offenses'], dtype=object)"
            ]
          },
          "metadata": {},
          "execution_count": 18
        }
      ]
    },
    {
      "cell_type": "code",
      "metadata": {
        "colab": {
          "base_uri": "https://localhost:8080/",
          "height": 422
        },
        "id": "oSMNGjfcpvdu",
        "outputId": "cfb0daa3-5e26-465f-b0fd-d4687319f5ff"
      },
      "source": [
        "felony_dataset=data_2010to2018.copy()\n",
        "felony_dataset=felony_dataset[['year','Charge Group Description']]\n",
        "felony_dataset"
      ],
      "execution_count": 19,
      "outputs": [
        {
          "output_type": "execute_result",
          "data": {
            "text/html": [
              "<div>\n",
              "<style scoped>\n",
              "    .dataframe tbody tr th:only-of-type {\n",
              "        vertical-align: middle;\n",
              "    }\n",
              "\n",
              "    .dataframe tbody tr th {\n",
              "        vertical-align: top;\n",
              "    }\n",
              "\n",
              "    .dataframe thead th {\n",
              "        text-align: right;\n",
              "    }\n",
              "</style>\n",
              "<table border=\"1\" class=\"dataframe\">\n",
              "  <thead>\n",
              "    <tr style=\"text-align: right;\">\n",
              "      <th></th>\n",
              "      <th>year</th>\n",
              "      <th>Charge Group Description</th>\n",
              "    </tr>\n",
              "  </thead>\n",
              "  <tbody>\n",
              "    <tr>\n",
              "      <th>0</th>\n",
              "      <td>2015</td>\n",
              "      <td>Burglary</td>\n",
              "    </tr>\n",
              "    <tr>\n",
              "      <th>6</th>\n",
              "      <td>2015</td>\n",
              "      <td>Burglary</td>\n",
              "    </tr>\n",
              "    <tr>\n",
              "      <th>7</th>\n",
              "      <td>2015</td>\n",
              "      <td>Robbery</td>\n",
              "    </tr>\n",
              "    <tr>\n",
              "      <th>12</th>\n",
              "      <td>2015</td>\n",
              "      <td>Robbery</td>\n",
              "    </tr>\n",
              "    <tr>\n",
              "      <th>160</th>\n",
              "      <td>2016</td>\n",
              "      <td>Fraud/Embezzlement</td>\n",
              "    </tr>\n",
              "    <tr>\n",
              "      <th>...</th>\n",
              "      <td>...</td>\n",
              "      <td>...</td>\n",
              "    </tr>\n",
              "    <tr>\n",
              "      <th>1227510</th>\n",
              "      <td>2018</td>\n",
              "      <td>Aggravated Assault</td>\n",
              "    </tr>\n",
              "    <tr>\n",
              "      <th>1227511</th>\n",
              "      <td>2018</td>\n",
              "      <td>Vehicle Theft</td>\n",
              "    </tr>\n",
              "    <tr>\n",
              "      <th>1227512</th>\n",
              "      <td>2018</td>\n",
              "      <td>Miscellaneous Other Violations</td>\n",
              "    </tr>\n",
              "    <tr>\n",
              "      <th>1227513</th>\n",
              "      <td>2018</td>\n",
              "      <td>Weapon (carry/poss)</td>\n",
              "    </tr>\n",
              "    <tr>\n",
              "      <th>1227514</th>\n",
              "      <td>2018</td>\n",
              "      <td>Weapon (carry/poss)</td>\n",
              "    </tr>\n",
              "  </tbody>\n",
              "</table>\n",
              "<p>596801 rows × 2 columns</p>\n",
              "</div>"
            ],
            "text/plain": [
              "         year        Charge Group Description\n",
              "0        2015                        Burglary\n",
              "6        2015                        Burglary\n",
              "7        2015                         Robbery\n",
              "12       2015                         Robbery\n",
              "160      2016              Fraud/Embezzlement\n",
              "...       ...                             ...\n",
              "1227510  2018              Aggravated Assault\n",
              "1227511  2018                   Vehicle Theft\n",
              "1227512  2018  Miscellaneous Other Violations\n",
              "1227513  2018             Weapon (carry/poss)\n",
              "1227514  2018             Weapon (carry/poss)\n",
              "\n",
              "[596801 rows x 2 columns]"
            ]
          },
          "metadata": {},
          "execution_count": 19
        }
      ]
    },
    {
      "cell_type": "code",
      "metadata": {
        "id": "EFlV5VCipvhU"
      },
      "source": [
        "lb= LabelEncoder()"
      ],
      "execution_count": 20,
      "outputs": []
    },
    {
      "cell_type": "code",
      "metadata": {
        "id": "De_SW0LUpvlF"
      },
      "source": [
        "felony_dataset['Charge Group Description'] = lb.fit_transform(felony_dataset['Charge Group Description'])"
      ],
      "execution_count": 21,
      "outputs": []
    },
    {
      "cell_type": "code",
      "metadata": {
        "colab": {
          "base_uri": "https://localhost:8080/",
          "height": 331
        },
        "id": "F8Xchtc6pwAd",
        "outputId": "699c129e-bde5-47eb-ce75-ef86e6add15a"
      },
      "source": [
        "gkk= felony_dataset.groupby('year')['Charge Group Description'].sum().reset_index().sort_values('year',ascending=False)\n",
        "gkk"
      ],
      "execution_count": 22,
      "outputs": [
        {
          "output_type": "execute_result",
          "data": {
            "text/html": [
              "<div>\n",
              "<style scoped>\n",
              "    .dataframe tbody tr th:only-of-type {\n",
              "        vertical-align: middle;\n",
              "    }\n",
              "\n",
              "    .dataframe tbody tr th {\n",
              "        vertical-align: top;\n",
              "    }\n",
              "\n",
              "    .dataframe thead th {\n",
              "        text-align: right;\n",
              "    }\n",
              "</style>\n",
              "<table border=\"1\" class=\"dataframe\">\n",
              "  <thead>\n",
              "    <tr style=\"text-align: right;\">\n",
              "      <th></th>\n",
              "      <th>year</th>\n",
              "      <th>Charge Group Description</th>\n",
              "    </tr>\n",
              "  </thead>\n",
              "  <tbody>\n",
              "    <tr>\n",
              "      <th>8</th>\n",
              "      <td>2018</td>\n",
              "      <td>118117</td>\n",
              "    </tr>\n",
              "    <tr>\n",
              "      <th>7</th>\n",
              "      <td>2017</td>\n",
              "      <td>424309</td>\n",
              "    </tr>\n",
              "    <tr>\n",
              "      <th>6</th>\n",
              "      <td>2016</td>\n",
              "      <td>438237</td>\n",
              "    </tr>\n",
              "    <tr>\n",
              "      <th>5</th>\n",
              "      <td>2015</td>\n",
              "      <td>452215</td>\n",
              "    </tr>\n",
              "    <tr>\n",
              "      <th>4</th>\n",
              "      <td>2014</td>\n",
              "      <td>515645</td>\n",
              "    </tr>\n",
              "    <tr>\n",
              "      <th>3</th>\n",
              "      <td>2013</td>\n",
              "      <td>575965</td>\n",
              "    </tr>\n",
              "    <tr>\n",
              "      <th>2</th>\n",
              "      <td>2012</td>\n",
              "      <td>604878</td>\n",
              "    </tr>\n",
              "    <tr>\n",
              "      <th>1</th>\n",
              "      <td>2011</td>\n",
              "      <td>633715</td>\n",
              "    </tr>\n",
              "    <tr>\n",
              "      <th>0</th>\n",
              "      <td>2010</td>\n",
              "      <td>648551</td>\n",
              "    </tr>\n",
              "  </tbody>\n",
              "</table>\n",
              "</div>"
            ],
            "text/plain": [
              "   year  Charge Group Description\n",
              "8  2018                    118117\n",
              "7  2017                    424309\n",
              "6  2016                    438237\n",
              "5  2015                    452215\n",
              "4  2014                    515645\n",
              "3  2013                    575965\n",
              "2  2012                    604878\n",
              "1  2011                    633715\n",
              "0  2010                    648551"
            ]
          },
          "metadata": {},
          "execution_count": 22
        }
      ]
    },
    {
      "cell_type": "code",
      "metadata": {
        "colab": {
          "base_uri": "https://localhost:8080/",
          "height": 297
        },
        "id": "RHbxZt7Brr3E",
        "outputId": "0124b9c0-bfb9-4f15-9b71-97c6d6cd5af4"
      },
      "source": [
        "gkk.plot(x = \"year\", y = \"Charge Group Description\")"
      ],
      "execution_count": 23,
      "outputs": [
        {
          "output_type": "execute_result",
          "data": {
            "text/plain": [
              "<matplotlib.axes._subplots.AxesSubplot at 0x7fabfdad15d0>"
            ]
          },
          "metadata": {},
          "execution_count": 23
        },
        {
          "output_type": "display_data",
          "data": {
            "image/png": "[encoded data removed]",
            "text/plain": [
              "<Figure size 432x288 with 1 Axes>"
            ]
          },
          "metadata": {
            "needs_background": "light"
          }
        }
      ]
    },
    {
      "cell_type": "code",
      "metadata": {
        "colab": {
          "base_uri": "https://localhost:8080/"
        },
        "id": "xOdRHvCZrr6K",
        "outputId": "4550f714-90ba-4ed7-a25b-0faaf29244f8"
      },
      "source": [
        "#GradientBoostingRegressor\n",
        "\n",
        "from sklearn.ensemble import GradientBoostingRegressor\n",
        "model = GradientBoostingRegressor(n_estimators=10,learning_rate=1)\n",
        "model.fit(gkk[['year']],gkk['Charge Group Description'])"
      ],
      "execution_count": 24,
      "outputs": [
        {
          "output_type": "execute_result",
          "data": {
            "text/plain": [
              "GradientBoostingRegressor(alpha=0.9, ccp_alpha=0.0, criterion='friedman_mse',\n",
              "                          init=None, learning_rate=1, loss='ls', max_depth=3,\n",
              "                          max_features=None, max_leaf_nodes=None,\n",
              "                          min_impurity_decrease=0.0, min_impurity_split=None,\n",
              "                          min_samples_leaf=1, min_samples_split=2,\n",
              "                          min_weight_fraction_leaf=0.0, n_estimators=10,\n",
              "                          n_iter_no_change=None, presort='deprecated',\n",
              "                          random_state=None, subsample=1.0, tol=0.0001,\n",
              "                          validation_fraction=0.1, verbose=0, warm_start=False)"
            ]
          },
          "metadata": {},
          "execution_count": 24
        }
      ]
    },
    {
      "cell_type": "code",
      "metadata": {
        "colab": {
          "base_uri": "https://localhost:8080/"
        },
        "id": "wyYNA4Jqrr9j",
        "outputId": "384f0474-c1e3-4e81-ac5e-25a97a0125d1"
      },
      "source": [
        "model.score(gkk[['year']],gkk['Charge Group Description'])"
      ],
      "execution_count": 25,
      "outputs": [
        {
          "output_type": "execute_result",
          "data": {
            "text/plain": [
              "1.0"
            ]
          },
          "metadata": {},
          "execution_count": 25
        }
      ]
    },
    {
      "cell_type": "code",
      "metadata": {
        "colab": {
          "base_uri": "https://localhost:8080/"
        },
        "id": "AgPzPhfDrsA0",
        "outputId": "e03adcb9-a84b-4d05-8edb-d88d0d0b0ad0"
      },
      "source": [
        "#The projected number of felony arrests in 2019¶\n",
        "\n",
        "arr= np.array([2019])\n",
        "y_pred= model.predict([arr])\n",
        "y_pred"
      ],
      "execution_count": 26,
      "outputs": [
        {
          "output_type": "execute_result",
          "data": {
            "text/plain": [
              "array([118117.])"
            ]
          },
          "metadata": {},
          "execution_count": 26
        }
      ]
    },
    {
      "cell_type": "code",
      "metadata": {
        "colab": {
          "base_uri": "https://localhost:8080/"
        },
        "id": "N6si6F0Br7qw",
        "outputId": "e43c24ae-9ea0-440f-df3b-9542135cee4a"
      },
      "source": [
        "#LinearRegression\n",
        "\n",
        "lr= LinearRegression()\n",
        "lr.fit(gkk[['year']],gkk['Charge Group Description'])"
      ],
      "execution_count": 27,
      "outputs": [
        {
          "output_type": "execute_result",
          "data": {
            "text/plain": [
              "LinearRegression(copy_X=True, fit_intercept=True, n_jobs=None, normalize=False)"
            ]
          },
          "metadata": {},
          "execution_count": 27
        }
      ]
    },
    {
      "cell_type": "code",
      "metadata": {
        "colab": {
          "base_uri": "https://localhost:8080/"
        },
        "id": "7i58XjBVr7uI",
        "outputId": "6cd93c70-857b-4a62-bc24-c8beecbe94f5"
      },
      "source": [
        "lr.score(gkk[['year']],gkk['Charge Group Description'])"
      ],
      "execution_count": 28,
      "outputs": [
        {
          "output_type": "execute_result",
          "data": {
            "text/plain": [
              "0.8019076026604008"
            ]
          },
          "metadata": {},
          "execution_count": 28
        }
      ]
    },
    {
      "cell_type": "code",
      "metadata": {
        "colab": {
          "base_uri": "https://localhost:8080/"
        },
        "id": "RpHzQx7Cr7xl",
        "outputId": "a598a4bf-0afb-4a64-92ce-58e1bd488a8b"
      },
      "source": [
        "lr.coef_"
      ],
      "execution_count": 29,
      "outputs": [
        {
          "output_type": "execute_result",
          "data": {
            "text/plain": [
              "array([-53449.76666667])"
            ]
          },
          "metadata": {},
          "execution_count": 29
        }
      ]
    },
    {
      "cell_type": "code",
      "metadata": {
        "colab": {
          "base_uri": "https://localhost:8080/"
        },
        "id": "PGlU1qnmr70u",
        "outputId": "19613b8b-4a65-4ae8-8ccf-c8e3a55188a5"
      },
      "source": [
        "lr.intercept_\n",
        "\n",
        "#equation of line\n",
        "#y=-61389.86x + 124169391.8\n",
        "#y=-61389.86(2019) + 124169391.8\n",
        "#y= 223384.8"
      ],
      "execution_count": 30,
      "outputs": [
        {
          "output_type": "execute_result",
          "data": {
            "text/plain": [
              "108138011.40000002"
            ]
          },
          "metadata": {},
          "execution_count": 30
        }
      ]
    },
    {
      "cell_type": "code",
      "metadata": {
        "colab": {
          "base_uri": "https://localhost:8080/"
        },
        "id": "3NJu3_Tor75x",
        "outputId": "cb882276-333a-4635-9450-bcaa6219302a"
      },
      "source": [
        "#The projected number of felony arrests in 2019\n",
        "\n",
        "arr= np.array([2019])\n",
        "y_pred= lr.predict([arr])\n",
        "y_pred"
      ],
      "execution_count": 31,
      "outputs": [
        {
          "output_type": "execute_result",
          "data": {
            "text/plain": [
              "array([222932.5])"
            ]
          },
          "metadata": {},
          "execution_count": 31
        }
      ]
    },
    {
      "cell_type": "code",
      "metadata": {
        "colab": {
          "base_uri": "https://localhost:8080/"
        },
        "id": "6LL-F2Yqr79J",
        "outputId": "7be4f26a-0471-4e9c-c2d5-175e6d88bbc6"
      },
      "source": [
        "#Alternative way¶\n",
        "\n",
        "felony_arrests = data_2010to2018.loc[data_2010to2018['Arrest Type Code'] == 'F']\n",
        "felony_arrests_by_year = felony_arrests.groupby('year').count()['Report ID']\n",
        "felony_arrests_by_year"
      ],
      "execution_count": 32,
      "outputs": [
        {
          "output_type": "execute_result",
          "data": {
            "text/plain": [
              "year\n",
              "2010    45703\n",
              "2011    45019\n",
              "2012    45596\n",
              "2013    43207\n",
              "2014    41525\n",
              "2015    31410\n",
              "2016    31839\n",
              "2017    31010\n",
              "2018     5357\n",
              "Name: Report ID, dtype: int64"
            ]
          },
          "metadata": {},
          "execution_count": 32
        }
      ]
    },
    {
      "cell_type": "code",
      "metadata": {
        "colab": {
          "base_uri": "https://localhost:8080/"
        },
        "id": "Y0DBL79hr8Ak",
        "outputId": "fb9f2e40-af48-4e2c-8d95-432609ec7b67"
      },
      "source": [
        "felony_arrests_by_year.index.values.tolist()"
      ],
      "execution_count": 33,
      "outputs": [
        {
          "output_type": "execute_result",
          "data": {
            "text/plain": [
              "[2010, 2011, 2012, 2013, 2014, 2015, 2016, 2017, 2018]"
            ]
          },
          "metadata": {},
          "execution_count": 33
        }
      ]
    },
    {
      "cell_type": "code",
      "metadata": {
        "id": "_0e6xYORsZMm"
      },
      "source": [
        "xs = np.array(felony_arrests_by_year.index.values.tolist(), dtype=np.float64)\n",
        "ys = np.array(felony_arrests_by_year, dtype=np.float64)"
      ],
      "execution_count": 34,
      "outputs": []
    },
    {
      "cell_type": "code",
      "metadata": {
        "id": "cgPSt9z3sZQN"
      },
      "source": [
        "dataset_felony = pd.DataFrame(\n",
        "    {'years': xs,\n",
        "     'values': ys\n",
        "     \n",
        "    })"
      ],
      "execution_count": 35,
      "outputs": []
    },
    {
      "cell_type": "code",
      "metadata": {
        "colab": {
          "base_uri": "https://localhost:8080/",
          "height": 331
        },
        "id": "4MJ2YG4VsZVs",
        "outputId": "41b42b20-3a91-4c99-8043-f806ea57812a"
      },
      "source": [
        "dataset_felony"
      ],
      "execution_count": 36,
      "outputs": [
        {
          "output_type": "execute_result",
          "data": {
            "text/html": [
              "<div>\n",
              "<style scoped>\n",
              "    .dataframe tbody tr th:only-of-type {\n",
              "        vertical-align: middle;\n",
              "    }\n",
              "\n",
              "    .dataframe tbody tr th {\n",
              "        vertical-align: top;\n",
              "    }\n",
              "\n",
              "    .dataframe thead th {\n",
              "        text-align: right;\n",
              "    }\n",
              "</style>\n",
              "<table border=\"1\" class=\"dataframe\">\n",
              "  <thead>\n",
              "    <tr style=\"text-align: right;\">\n",
              "      <th></th>\n",
              "      <th>years</th>\n",
              "      <th>values</th>\n",
              "    </tr>\n",
              "  </thead>\n",
              "  <tbody>\n",
              "    <tr>\n",
              "      <th>0</th>\n",
              "      <td>2010.0</td>\n",
              "      <td>45703.0</td>\n",
              "    </tr>\n",
              "    <tr>\n",
              "      <th>1</th>\n",
              "      <td>2011.0</td>\n",
              "      <td>45019.0</td>\n",
              "    </tr>\n",
              "    <tr>\n",
              "      <th>2</th>\n",
              "      <td>2012.0</td>\n",
              "      <td>45596.0</td>\n",
              "    </tr>\n",
              "    <tr>\n",
              "      <th>3</th>\n",
              "      <td>2013.0</td>\n",
              "      <td>43207.0</td>\n",
              "    </tr>\n",
              "    <tr>\n",
              "      <th>4</th>\n",
              "      <td>2014.0</td>\n",
              "      <td>41525.0</td>\n",
              "    </tr>\n",
              "    <tr>\n",
              "      <th>5</th>\n",
              "      <td>2015.0</td>\n",
              "      <td>31410.0</td>\n",
              "    </tr>\n",
              "    <tr>\n",
              "      <th>6</th>\n",
              "      <td>2016.0</td>\n",
              "      <td>31839.0</td>\n",
              "    </tr>\n",
              "    <tr>\n",
              "      <th>7</th>\n",
              "      <td>2017.0</td>\n",
              "      <td>31010.0</td>\n",
              "    </tr>\n",
              "    <tr>\n",
              "      <th>8</th>\n",
              "      <td>2018.0</td>\n",
              "      <td>5357.0</td>\n",
              "    </tr>\n",
              "  </tbody>\n",
              "</table>\n",
              "</div>"
            ],
            "text/plain": [
              "    years   values\n",
              "0  2010.0  45703.0\n",
              "1  2011.0  45019.0\n",
              "2  2012.0  45596.0\n",
              "3  2013.0  43207.0\n",
              "4  2014.0  41525.0\n",
              "5  2015.0  31410.0\n",
              "6  2016.0  31839.0\n",
              "7  2017.0  31010.0\n",
              "8  2018.0   5357.0"
            ]
          },
          "metadata": {},
          "execution_count": 36
        }
      ]
    },
    {
      "cell_type": "code",
      "metadata": {
        "colab": {
          "base_uri": "https://localhost:8080/"
        },
        "id": "Ok5CAPWlsZYx",
        "outputId": "18db6c0d-06c2-49ae-9229-258f5350b2c7"
      },
      "source": [
        "lr.fit(dataset_felony[['years']],dataset_felony['values'])"
      ],
      "execution_count": 37,
      "outputs": [
        {
          "output_type": "execute_result",
          "data": {
            "text/plain": [
              "LinearRegression(copy_X=True, fit_intercept=True, n_jobs=None, normalize=False)"
            ]
          },
          "metadata": {},
          "execution_count": 37
        }
      ]
    },
    {
      "cell_type": "code",
      "metadata": {
        "colab": {
          "base_uri": "https://localhost:8080/"
        },
        "id": "PcmlFwTvsZcF",
        "outputId": "0c2e1776-baeb-4a97-addc-f82c0e232df2"
      },
      "source": [
        "lr.score(dataset_felony[['years']],dataset_felony['values'])"
      ],
      "execution_count": 38,
      "outputs": [
        {
          "output_type": "execute_result",
          "data": {
            "text/plain": [
              "0.7267511396514622"
            ]
          },
          "metadata": {},
          "execution_count": 38
        }
      ]
    },
    {
      "cell_type": "code",
      "metadata": {
        "colab": {
          "base_uri": "https://localhost:8080/"
        },
        "id": "sRQdSc1TsZez",
        "outputId": "6a39a4c0-7269-4732-cce0-6096f284ff6d"
      },
      "source": [
        "arr= np.array([2030])\n",
        "y_pred= model.predict([arr])\n",
        "y_pred"
      ],
      "execution_count": 39,
      "outputs": [
        {
          "output_type": "execute_result",
          "data": {
            "text/plain": [
              "array([118117.])"
            ]
          },
          "metadata": {},
          "execution_count": 39
        }
      ]
    },
    {
      "cell_type": "code",
      "metadata": {
        "id": "tthXWVdasZhl"
      },
      "source": [
        "#Q6.How many arrest incidents occurred within 2 km from the Bradbury Building in 2018? Use (34.050536, -118.247861) for the coordinates of the Bradbury Building . For simplicity, please use the spherical Earth projected to a plane equation for calculating distances. Use the radius of the Earth as 6371 km. Note, some arrest records are missing location data and the location is listed as (0, 0). These records should not factor in your calculation.\n",
        "\n",
        "from math import radians,degrees , asin,acos, sin,cos,sqrt,atan2,radians"
      ],
      "execution_count": 40,
      "outputs": []
    },
    {
      "cell_type": "code",
      "metadata": {
        "id": "OPPYZVJRsZlU"
      },
      "source": [
        "def calculate_distances(coord):\n",
        "    R=6371.0\n",
        "    lat1=radians(34.050536)\n",
        "    lon1=radians(-118.247861)\n",
        "    lat2=radians(coord[0])\n",
        "    lon2=radians(coord[1])\n",
        "    dlon=lon2-lon1\n",
        "    dlat=lat2-lat1\n",
        "\n",
        "    return 6371 * (\n",
        "        acos(sin(lat1) * sin(lat2) + cos(lat1) * cos(lat2) * cos(lon1 - lon2))\n",
        "    )"
      ],
      "execution_count": 41,
      "outputs": []
    },
    {
      "cell_type": "code",
      "metadata": {
        "colab": {
          "base_uri": "https://localhost:8080/"
        },
        "id": "z1lEA-V1sz9s",
        "outputId": "72676091-bb7b-4efe-be41-cfea685437e6"
      },
      "source": [
        "new_datasets[\"distance_Bradbury\"]=new_datasets[(new_datasets['Location']!=\"(0,0)\")&(pd.notna(new_datasets['Location']))]['Location'].apply(lambda x: calculate_distances([float(y) for y in x[1:-1].split(\",\")]))\n",
        "arrests_within_2km = new_datasets[\"distance_Bradbury\"][new_datasets[\"distance_Bradbury\"] <= 2]\n",
        "arrests_within_2km.shape"
      ],
      "execution_count": 42,
      "outputs": [
        {
          "output_type": "execute_result",
          "data": {
            "text/plain": [
              "(5211,)"
            ]
          },
          "metadata": {},
          "execution_count": 42
        }
      ]
    },
    {
      "cell_type": "code",
      "metadata": {
        "id": "xpJeDvg8s0BV"
      },
      "source": [
        "#How many arrest incidents were made per kilometer on Pico Boulevard during 2018? For this question, we will need to estimate the length of Pico Boulevard, which mostly stretches from east to west. To estimate the length of Pico Boulevard:u\n",
        "\n",
        "pico_dataset = new_datasets.copy()"
      ],
      "execution_count": 43,
      "outputs": []
    },
    {
      "cell_type": "code",
      "metadata": {
        "colab": {
          "base_uri": "https://localhost:8080/",
          "height": 701
        },
        "id": "Qv9_--cQs0ER",
        "outputId": "abf57c9c-b3d7-4949-8a93-88d369094cb0"
      },
      "source": [
        "pico = pico_dataset[(pico_dataset['Address'].str.contains(\"PICO\"))]\n",
        "pico"
      ],
      "execution_count": 44,
      "outputs": [
        {
          "output_type": "execute_result",
          "data": {
            "text/html": [
              "<div>\n",
              "<style scoped>\n",
              "    .dataframe tbody tr th:only-of-type {\n",
              "        vertical-align: middle;\n",
              "    }\n",
              "\n",
              "    .dataframe tbody tr th {\n",
              "        vertical-align: top;\n",
              "    }\n",
              "\n",
              "    .dataframe thead th {\n",
              "        text-align: right;\n",
              "    }\n",
              "</style>\n",
              "<table border=\"1\" class=\"dataframe\">\n",
              "  <thead>\n",
              "    <tr style=\"text-align: right;\">\n",
              "      <th></th>\n",
              "      <th>Report ID</th>\n",
              "      <th>Arrest Date</th>\n",
              "      <th>Time</th>\n",
              "      <th>Area ID</th>\n",
              "      <th>Area Name</th>\n",
              "      <th>Reporting District</th>\n",
              "      <th>Age</th>\n",
              "      <th>Sex Code</th>\n",
              "      <th>Descent Code</th>\n",
              "      <th>Charge Group Description</th>\n",
              "      <th>Arrest Type Code</th>\n",
              "      <th>Charge</th>\n",
              "      <th>Address</th>\n",
              "      <th>Location</th>\n",
              "      <th>year</th>\n",
              "      <th>month</th>\n",
              "      <th>distance_Bradbury</th>\n",
              "    </tr>\n",
              "  </thead>\n",
              "  <tbody>\n",
              "    <tr>\n",
              "      <th>193</th>\n",
              "      <td>5485873</td>\n",
              "      <td>2018-12-01</td>\n",
              "      <td>1350.0</td>\n",
              "      <td>20.0</td>\n",
              "      <td>Olympic</td>\n",
              "      <td>2076</td>\n",
              "      <td>37.0</td>\n",
              "      <td>M</td>\n",
              "      <td>B</td>\n",
              "      <td>Other Assaults</td>\n",
              "      <td>M</td>\n",
              "      <td>243(B)PC</td>\n",
              "      <td>PICO                         BL</td>\n",
              "      <td>(34.0473, -118.2936)</td>\n",
              "      <td>2018</td>\n",
              "      <td>12</td>\n",
              "      <td>4.229344</td>\n",
              "    </tr>\n",
              "    <tr>\n",
              "      <th>4738</th>\n",
              "      <td>5270090</td>\n",
              "      <td>2018-03-29</td>\n",
              "      <td>931.0</td>\n",
              "      <td>8.0</td>\n",
              "      <td>West LA</td>\n",
              "      <td>836</td>\n",
              "      <td>53.0</td>\n",
              "      <td>M</td>\n",
              "      <td>W</td>\n",
              "      <td>Larceny</td>\n",
              "      <td>F</td>\n",
              "      <td>487(A)PC</td>\n",
              "      <td>PICO                         BL</td>\n",
              "      <td>(34.0524, -118.4248)</td>\n",
              "      <td>2018</td>\n",
              "      <td>3</td>\n",
              "      <td>16.302507</td>\n",
              "    </tr>\n",
              "    <tr>\n",
              "      <th>6685</th>\n",
              "      <td>182016070</td>\n",
              "      <td>2018-08-08</td>\n",
              "      <td>1350.0</td>\n",
              "      <td>20.0</td>\n",
              "      <td>Olympic</td>\n",
              "      <td>2071</td>\n",
              "      <td>28.0</td>\n",
              "      <td>M</td>\n",
              "      <td>H</td>\n",
              "      <td>Drunkeness</td>\n",
              "      <td>M</td>\n",
              "      <td>41.27CLAMC</td>\n",
              "      <td>PICO                         BL</td>\n",
              "      <td>(34.0472, -118.309)</td>\n",
              "      <td>2018</td>\n",
              "      <td>8</td>\n",
              "      <td>5.645041</td>\n",
              "    </tr>\n",
              "    <tr>\n",
              "      <th>6758</th>\n",
              "      <td>5299360</td>\n",
              "      <td>2018-05-01</td>\n",
              "      <td>325.0</td>\n",
              "      <td>20.0</td>\n",
              "      <td>Olympic</td>\n",
              "      <td>2076</td>\n",
              "      <td>33.0</td>\n",
              "      <td>M</td>\n",
              "      <td>H</td>\n",
              "      <td>Burglary</td>\n",
              "      <td>F</td>\n",
              "      <td>459PC</td>\n",
              "      <td>2500 W  PICO                         BL</td>\n",
              "      <td>(34.0473, -118.2916)</td>\n",
              "      <td>2018</td>\n",
              "      <td>5</td>\n",
              "      <td>4.045779</td>\n",
              "    </tr>\n",
              "    <tr>\n",
              "      <th>6768</th>\n",
              "      <td>5405832</td>\n",
              "      <td>2018-08-27</td>\n",
              "      <td>415.0</td>\n",
              "      <td>7.0</td>\n",
              "      <td>Wilshire</td>\n",
              "      <td>753</td>\n",
              "      <td>22.0</td>\n",
              "      <td>M</td>\n",
              "      <td>H</td>\n",
              "      <td>Other Assaults</td>\n",
              "      <td>M</td>\n",
              "      <td>243(A)PC</td>\n",
              "      <td>PICO                         BL</td>\n",
              "      <td>(34.0515, -118.3667)</td>\n",
              "      <td>2018</td>\n",
              "      <td>8</td>\n",
              "      <td>10.949086</td>\n",
              "    </tr>\n",
              "    <tr>\n",
              "      <th>...</th>\n",
              "      <td>...</td>\n",
              "      <td>...</td>\n",
              "      <td>...</td>\n",
              "      <td>...</td>\n",
              "      <td>...</td>\n",
              "      <td>...</td>\n",
              "      <td>...</td>\n",
              "      <td>...</td>\n",
              "      <td>...</td>\n",
              "      <td>...</td>\n",
              "      <td>...</td>\n",
              "      <td>...</td>\n",
              "      <td>...</td>\n",
              "      <td>...</td>\n",
              "      <td>...</td>\n",
              "      <td>...</td>\n",
              "      <td>...</td>\n",
              "    </tr>\n",
              "    <tr>\n",
              "      <th>1226970</th>\n",
              "      <td>5242402</td>\n",
              "      <td>2018-02-25</td>\n",
              "      <td>1125.0</td>\n",
              "      <td>7.0</td>\n",
              "      <td>Wilshire</td>\n",
              "      <td>765</td>\n",
              "      <td>23.0</td>\n",
              "      <td>M</td>\n",
              "      <td>H</td>\n",
              "      <td>Other Assaults</td>\n",
              "      <td>M</td>\n",
              "      <td>243(E)(1)PC</td>\n",
              "      <td>4400    PICO                         BL</td>\n",
              "      <td>(34.0487, -118.3353)</td>\n",
              "      <td>2018</td>\n",
              "      <td>2</td>\n",
              "      <td>8.058419</td>\n",
              "    </tr>\n",
              "    <tr>\n",
              "      <th>1227047</th>\n",
              "      <td>5241114</td>\n",
              "      <td>2018-02-23</td>\n",
              "      <td>1415.0</td>\n",
              "      <td>8.0</td>\n",
              "      <td>West LA</td>\n",
              "      <td>891</td>\n",
              "      <td>27.0</td>\n",
              "      <td>M</td>\n",
              "      <td>W</td>\n",
              "      <td>Driving Under Influence</td>\n",
              "      <td>F</td>\n",
              "      <td>23153(A)VC</td>\n",
              "      <td>PICO</td>\n",
              "      <td>(34.0294, -118.4502)</td>\n",
              "      <td>2018</td>\n",
              "      <td>2</td>\n",
              "      <td>18.791339</td>\n",
              "    </tr>\n",
              "    <tr>\n",
              "      <th>1227190</th>\n",
              "      <td>5241708</td>\n",
              "      <td>2018-02-24</td>\n",
              "      <td>1530.0</td>\n",
              "      <td>20.0</td>\n",
              "      <td>Olympic</td>\n",
              "      <td>2069</td>\n",
              "      <td>19.0</td>\n",
              "      <td>M</td>\n",
              "      <td>H</td>\n",
              "      <td>Other Assaults</td>\n",
              "      <td>M</td>\n",
              "      <td>243(A)PC</td>\n",
              "      <td>PICO</td>\n",
              "      <td>(34.0473, -118.2865)</td>\n",
              "      <td>2018</td>\n",
              "      <td>2</td>\n",
              "      <td>3.578014</td>\n",
              "    </tr>\n",
              "    <tr>\n",
              "      <th>1227451</th>\n",
              "      <td>5243606</td>\n",
              "      <td>2018-02-27</td>\n",
              "      <td>100.0</td>\n",
              "      <td>2.0</td>\n",
              "      <td>Rampart</td>\n",
              "      <td>291</td>\n",
              "      <td>57.0</td>\n",
              "      <td>M</td>\n",
              "      <td>B</td>\n",
              "      <td>Miscellaneous Other Violations</td>\n",
              "      <td>F</td>\n",
              "      <td>594(B)(1)PC</td>\n",
              "      <td>2100 W  PICO                         BL</td>\n",
              "      <td>(34.0473, -118.2827)</td>\n",
              "      <td>2018</td>\n",
              "      <td>2</td>\n",
              "      <td>3.229881</td>\n",
              "    </tr>\n",
              "    <tr>\n",
              "      <th>1227476</th>\n",
              "      <td>5241876</td>\n",
              "      <td>2018-02-24</td>\n",
              "      <td>2045.0</td>\n",
              "      <td>7.0</td>\n",
              "      <td>Wilshire</td>\n",
              "      <td>755</td>\n",
              "      <td>59.0</td>\n",
              "      <td>M</td>\n",
              "      <td>B</td>\n",
              "      <td>Other Assaults</td>\n",
              "      <td>M</td>\n",
              "      <td>243(A)PC</td>\n",
              "      <td>PICO                         BL</td>\n",
              "      <td>(34.0487, -118.3569)</td>\n",
              "      <td>2018</td>\n",
              "      <td>2</td>\n",
              "      <td>10.047934</td>\n",
              "    </tr>\n",
              "  </tbody>\n",
              "</table>\n",
              "<p>241 rows × 17 columns</p>\n",
              "</div>"
            ],
            "text/plain": [
              "         Report ID Arrest Date    Time  ...  year month distance_Bradbury\n",
              "193        5485873  2018-12-01  1350.0  ...  2018    12          4.229344\n",
              "4738       5270090  2018-03-29   931.0  ...  2018     3         16.302507\n",
              "6685     182016070  2018-08-08  1350.0  ...  2018     8          5.645041\n",
              "6758       5299360  2018-05-01   325.0  ...  2018     5          4.045779\n",
              "6768       5405832  2018-08-27   415.0  ...  2018     8         10.949086\n",
              "...            ...         ...     ...  ...   ...   ...               ...\n",
              "1226970    5242402  2018-02-25  1125.0  ...  2018     2          8.058419\n",
              "1227047    5241114  2018-02-23  1415.0  ...  2018     2         18.791339\n",
              "1227190    5241708  2018-02-24  1530.0  ...  2018     2          3.578014\n",
              "1227451    5243606  2018-02-27   100.0  ...  2018     2          3.229881\n",
              "1227476    5241876  2018-02-24  2045.0  ...  2018     2         10.047934\n",
              "\n",
              "[241 rows x 17 columns]"
            ]
          },
          "metadata": {},
          "execution_count": 44
        }
      ]
    },
    {
      "cell_type": "code",
      "metadata": {
        "colab": {
          "base_uri": "https://localhost:8080/",
          "height": 701
        },
        "id": "lTWrIAJas0Hn",
        "outputId": "16496ab8-031f-4af1-9fa4-73e1a07bb1b7"
      },
      "source": [
        "# extracting latitudes and longitudes from location column\n",
        "pico['lat'] = pico['Location'].apply(lambda x: [float(y) for y in x[1:-1].split(\",\")][0])\n",
        "pico['long'] = pico['Location'].apply(lambda x: [float(y) for y in x[1:-1].split(\",\")][1])\n",
        "pico"
      ],
      "execution_count": 45,
      "outputs": [
        {
          "output_type": "execute_result",
          "data": {
            "text/html": [
              "<div>\n",
              "<style scoped>\n",
              "    .dataframe tbody tr th:only-of-type {\n",
              "        vertical-align: middle;\n",
              "    }\n",
              "\n",
              "    .dataframe tbody tr th {\n",
              "        vertical-align: top;\n",
              "    }\n",
              "\n",
              "    .dataframe thead th {\n",
              "        text-align: right;\n",
              "    }\n",
              "</style>\n",
              "<table border=\"1\" class=\"dataframe\">\n",
              "  <thead>\n",
              "    <tr style=\"text-align: right;\">\n",
              "      <th></th>\n",
              "      <th>Report ID</th>\n",
              "      <th>Arrest Date</th>\n",
              "      <th>Time</th>\n",
              "      <th>Area ID</th>\n",
              "      <th>Area Name</th>\n",
              "      <th>Reporting District</th>\n",
              "      <th>Age</th>\n",
              "      <th>Sex Code</th>\n",
              "      <th>Descent Code</th>\n",
              "      <th>Charge Group Description</th>\n",
              "      <th>Arrest Type Code</th>\n",
              "      <th>Charge</th>\n",
              "      <th>Address</th>\n",
              "      <th>Location</th>\n",
              "      <th>year</th>\n",
              "      <th>month</th>\n",
              "      <th>distance_Bradbury</th>\n",
              "      <th>lat</th>\n",
              "      <th>long</th>\n",
              "    </tr>\n",
              "  </thead>\n",
              "  <tbody>\n",
              "    <tr>\n",
              "      <th>193</th>\n",
              "      <td>5485873</td>\n",
              "      <td>2018-12-01</td>\n",
              "      <td>1350.0</td>\n",
              "      <td>20.0</td>\n",
              "      <td>Olympic</td>\n",
              "      <td>2076</td>\n",
              "      <td>37.0</td>\n",
              "      <td>M</td>\n",
              "      <td>B</td>\n",
              "      <td>Other Assaults</td>\n",
              "      <td>M</td>\n",
              "      <td>243(B)PC</td>\n",
              "      <td>PICO                         BL</td>\n",
              "      <td>(34.0473, -118.2936)</td>\n",
              "      <td>2018</td>\n",
              "      <td>12</td>\n",
              "      <td>4.229344</td>\n",
              "      <td>34.0473</td>\n",
              "      <td>-118.2936</td>\n",
              "    </tr>\n",
              "    <tr>\n",
              "      <th>4738</th>\n",
              "      <td>5270090</td>\n",
              "      <td>2018-03-29</td>\n",
              "      <td>931.0</td>\n",
              "      <td>8.0</td>\n",
              "      <td>West LA</td>\n",
              "      <td>836</td>\n",
              "      <td>53.0</td>\n",
              "      <td>M</td>\n",
              "      <td>W</td>\n",
              "      <td>Larceny</td>\n",
              "      <td>F</td>\n",
              "      <td>487(A)PC</td>\n",
              "      <td>PICO                         BL</td>\n",
              "      <td>(34.0524, -118.4248)</td>\n",
              "      <td>2018</td>\n",
              "      <td>3</td>\n",
              "      <td>16.302507</td>\n",
              "      <td>34.0524</td>\n",
              "      <td>-118.4248</td>\n",
              "    </tr>\n",
              "    <tr>\n",
              "      <th>6685</th>\n",
              "      <td>182016070</td>\n",
              "      <td>2018-08-08</td>\n",
              "      <td>1350.0</td>\n",
              "      <td>20.0</td>\n",
              "      <td>Olympic</td>\n",
              "      <td>2071</td>\n",
              "      <td>28.0</td>\n",
              "      <td>M</td>\n",
              "      <td>H</td>\n",
              "      <td>Drunkeness</td>\n",
              "      <td>M</td>\n",
              "      <td>41.27CLAMC</td>\n",
              "      <td>PICO                         BL</td>\n",
              "      <td>(34.0472, -118.309)</td>\n",
              "      <td>2018</td>\n",
              "      <td>8</td>\n",
              "      <td>5.645041</td>\n",
              "      <td>34.0472</td>\n",
              "      <td>-118.3090</td>\n",
              "    </tr>\n",
              "    <tr>\n",
              "      <th>6758</th>\n",
              "      <td>5299360</td>\n",
              "      <td>2018-05-01</td>\n",
              "      <td>325.0</td>\n",
              "      <td>20.0</td>\n",
              "      <td>Olympic</td>\n",
              "      <td>2076</td>\n",
              "      <td>33.0</td>\n",
              "      <td>M</td>\n",
              "      <td>H</td>\n",
              "      <td>Burglary</td>\n",
              "      <td>F</td>\n",
              "      <td>459PC</td>\n",
              "      <td>2500 W  PICO                         BL</td>\n",
              "      <td>(34.0473, -118.2916)</td>\n",
              "      <td>2018</td>\n",
              "      <td>5</td>\n",
              "      <td>4.045779</td>\n",
              "      <td>34.0473</td>\n",
              "      <td>-118.2916</td>\n",
              "    </tr>\n",
              "    <tr>\n",
              "      <th>6768</th>\n",
              "      <td>5405832</td>\n",
              "      <td>2018-08-27</td>\n",
              "      <td>415.0</td>\n",
              "      <td>7.0</td>\n",
              "      <td>Wilshire</td>\n",
              "      <td>753</td>\n",
              "      <td>22.0</td>\n",
              "      <td>M</td>\n",
              "      <td>H</td>\n",
              "      <td>Other Assaults</td>\n",
              "      <td>M</td>\n",
              "      <td>243(A)PC</td>\n",
              "      <td>PICO                         BL</td>\n",
              "      <td>(34.0515, -118.3667)</td>\n",
              "      <td>2018</td>\n",
              "      <td>8</td>\n",
              "      <td>10.949086</td>\n",
              "      <td>34.0515</td>\n",
              "      <td>-118.3667</td>\n",
              "    </tr>\n",
              "    <tr>\n",
              "      <th>...</th>\n",
              "      <td>...</td>\n",
              "      <td>...</td>\n",
              "      <td>...</td>\n",
              "      <td>...</td>\n",
              "      <td>...</td>\n",
              "      <td>...</td>\n",
              "      <td>...</td>\n",
              "      <td>...</td>\n",
              "      <td>...</td>\n",
              "      <td>...</td>\n",
              "      <td>...</td>\n",
              "      <td>...</td>\n",
              "      <td>...</td>\n",
              "      <td>...</td>\n",
              "      <td>...</td>\n",
              "      <td>...</td>\n",
              "      <td>...</td>\n",
              "      <td>...</td>\n",
              "      <td>...</td>\n",
              "    </tr>\n",
              "    <tr>\n",
              "      <th>1226970</th>\n",
              "      <td>5242402</td>\n",
              "      <td>2018-02-25</td>\n",
              "      <td>1125.0</td>\n",
              "      <td>7.0</td>\n",
              "      <td>Wilshire</td>\n",
              "      <td>765</td>\n",
              "      <td>23.0</td>\n",
              "      <td>M</td>\n",
              "      <td>H</td>\n",
              "      <td>Other Assaults</td>\n",
              "      <td>M</td>\n",
              "      <td>243(E)(1)PC</td>\n",
              "      <td>4400    PICO                         BL</td>\n",
              "      <td>(34.0487, -118.3353)</td>\n",
              "      <td>2018</td>\n",
              "      <td>2</td>\n",
              "      <td>8.058419</td>\n",
              "      <td>34.0487</td>\n",
              "      <td>-118.3353</td>\n",
              "    </tr>\n",
              "    <tr>\n",
              "      <th>1227047</th>\n",
              "      <td>5241114</td>\n",
              "      <td>2018-02-23</td>\n",
              "      <td>1415.0</td>\n",
              "      <td>8.0</td>\n",
              "      <td>West LA</td>\n",
              "      <td>891</td>\n",
              "      <td>27.0</td>\n",
              "      <td>M</td>\n",
              "      <td>W</td>\n",
              "      <td>Driving Under Influence</td>\n",
              "      <td>F</td>\n",
              "      <td>23153(A)VC</td>\n",
              "      <td>PICO</td>\n",
              "      <td>(34.0294, -118.4502)</td>\n",
              "      <td>2018</td>\n",
              "      <td>2</td>\n",
              "      <td>18.791339</td>\n",
              "      <td>34.0294</td>\n",
              "      <td>-118.4502</td>\n",
              "    </tr>\n",
              "    <tr>\n",
              "      <th>1227190</th>\n",
              "      <td>5241708</td>\n",
              "      <td>2018-02-24</td>\n",
              "      <td>1530.0</td>\n",
              "      <td>20.0</td>\n",
              "      <td>Olympic</td>\n",
              "      <td>2069</td>\n",
              "      <td>19.0</td>\n",
              "      <td>M</td>\n",
              "      <td>H</td>\n",
              "      <td>Other Assaults</td>\n",
              "      <td>M</td>\n",
              "      <td>243(A)PC</td>\n",
              "      <td>PICO</td>\n",
              "      <td>(34.0473, -118.2865)</td>\n",
              "      <td>2018</td>\n",
              "      <td>2</td>\n",
              "      <td>3.578014</td>\n",
              "      <td>34.0473</td>\n",
              "      <td>-118.2865</td>\n",
              "    </tr>\n",
              "    <tr>\n",
              "      <th>1227451</th>\n",
              "      <td>5243606</td>\n",
              "      <td>2018-02-27</td>\n",
              "      <td>100.0</td>\n",
              "      <td>2.0</td>\n",
              "      <td>Rampart</td>\n",
              "      <td>291</td>\n",
              "      <td>57.0</td>\n",
              "      <td>M</td>\n",
              "      <td>B</td>\n",
              "      <td>Miscellaneous Other Violations</td>\n",
              "      <td>F</td>\n",
              "      <td>594(B)(1)PC</td>\n",
              "      <td>2100 W  PICO                         BL</td>\n",
              "      <td>(34.0473, -118.2827)</td>\n",
              "      <td>2018</td>\n",
              "      <td>2</td>\n",
              "      <td>3.229881</td>\n",
              "      <td>34.0473</td>\n",
              "      <td>-118.2827</td>\n",
              "    </tr>\n",
              "    <tr>\n",
              "      <th>1227476</th>\n",
              "      <td>5241876</td>\n",
              "      <td>2018-02-24</td>\n",
              "      <td>2045.0</td>\n",
              "      <td>7.0</td>\n",
              "      <td>Wilshire</td>\n",
              "      <td>755</td>\n",
              "      <td>59.0</td>\n",
              "      <td>M</td>\n",
              "      <td>B</td>\n",
              "      <td>Other Assaults</td>\n",
              "      <td>M</td>\n",
              "      <td>243(A)PC</td>\n",
              "      <td>PICO                         BL</td>\n",
              "      <td>(34.0487, -118.3569)</td>\n",
              "      <td>2018</td>\n",
              "      <td>2</td>\n",
              "      <td>10.047934</td>\n",
              "      <td>34.0487</td>\n",
              "      <td>-118.3569</td>\n",
              "    </tr>\n",
              "  </tbody>\n",
              "</table>\n",
              "<p>241 rows × 19 columns</p>\n",
              "</div>"
            ],
            "text/plain": [
              "         Report ID Arrest Date    Time  ...  distance_Bradbury      lat      long\n",
              "193        5485873  2018-12-01  1350.0  ...           4.229344  34.0473 -118.2936\n",
              "4738       5270090  2018-03-29   931.0  ...          16.302507  34.0524 -118.4248\n",
              "6685     182016070  2018-08-08  1350.0  ...           5.645041  34.0472 -118.3090\n",
              "6758       5299360  2018-05-01   325.0  ...           4.045779  34.0473 -118.2916\n",
              "6768       5405832  2018-08-27   415.0  ...          10.949086  34.0515 -118.3667\n",
              "...            ...         ...     ...  ...                ...      ...       ...\n",
              "1226970    5242402  2018-02-25  1125.0  ...           8.058419  34.0487 -118.3353\n",
              "1227047    5241114  2018-02-23  1415.0  ...          18.791339  34.0294 -118.4502\n",
              "1227190    5241708  2018-02-24  1530.0  ...           3.578014  34.0473 -118.2865\n",
              "1227451    5243606  2018-02-27   100.0  ...           3.229881  34.0473 -118.2827\n",
              "1227476    5241876  2018-02-24  2045.0  ...          10.047934  34.0487 -118.3569\n",
              "\n",
              "[241 rows x 19 columns]"
            ]
          },
          "metadata": {},
          "execution_count": 45
        }
      ]
    },
    {
      "cell_type": "code",
      "metadata": {
        "id": "nWOBhos5s0Ke"
      },
      "source": [
        "lat_mean = np.mean(pico['lat'], axis=0)\n",
        "lat_std = np.std(pico['lat'], axis=0)\n",
        "\n",
        "long_mean = np.mean(pico['long'], axis=0)\n",
        "long_std = np.std(pico['long'], axis=0)"
      ],
      "execution_count": 46,
      "outputs": []
    },
    {
      "cell_type": "code",
      "metadata": {
        "colab": {
          "base_uri": "https://localhost:8080/",
          "height": 201
        },
        "id": "K66EYGLdr8GI",
        "outputId": "7c6ad077-53a7-431f-c73c-0171250e0ad9"
      },
      "source": [
        "pico.loc[(pico['lat'] < lat_mean - (2 * lat_std)) | (pico['lat'] > lat_mean + (2 * lat_std))]"
      ],
      "execution_count": 47,
      "outputs": [
        {
          "output_type": "execute_result",
          "data": {
            "text/html": [
              "<div>\n",
              "<style scoped>\n",
              "    .dataframe tbody tr th:only-of-type {\n",
              "        vertical-align: middle;\n",
              "    }\n",
              "\n",
              "    .dataframe tbody tr th {\n",
              "        vertical-align: top;\n",
              "    }\n",
              "\n",
              "    .dataframe thead th {\n",
              "        text-align: right;\n",
              "    }\n",
              "</style>\n",
              "<table border=\"1\" class=\"dataframe\">\n",
              "  <thead>\n",
              "    <tr style=\"text-align: right;\">\n",
              "      <th></th>\n",
              "      <th>Report ID</th>\n",
              "      <th>Arrest Date</th>\n",
              "      <th>Time</th>\n",
              "      <th>Area ID</th>\n",
              "      <th>Area Name</th>\n",
              "      <th>Reporting District</th>\n",
              "      <th>Age</th>\n",
              "      <th>Sex Code</th>\n",
              "      <th>Descent Code</th>\n",
              "      <th>Charge Group Description</th>\n",
              "      <th>Arrest Type Code</th>\n",
              "      <th>Charge</th>\n",
              "      <th>Address</th>\n",
              "      <th>Location</th>\n",
              "      <th>year</th>\n",
              "      <th>month</th>\n",
              "      <th>distance_Bradbury</th>\n",
              "      <th>lat</th>\n",
              "      <th>long</th>\n",
              "    </tr>\n",
              "  </thead>\n",
              "  <tbody>\n",
              "    <tr>\n",
              "      <th>440064</th>\n",
              "      <td>180814088</td>\n",
              "      <td>2018-07-30</td>\n",
              "      <td>1000.0</td>\n",
              "      <td>8.0</td>\n",
              "      <td>West LA</td>\n",
              "      <td>849</td>\n",
              "      <td>59.0</td>\n",
              "      <td>M</td>\n",
              "      <td>W</td>\n",
              "      <td>Drunkeness</td>\n",
              "      <td>I</td>\n",
              "      <td>41.27DLAMC</td>\n",
              "      <td>PICO</td>\n",
              "      <td>(34.0583, -118.3799)</td>\n",
              "      <td>2018</td>\n",
              "      <td>7</td>\n",
              "      <td>12.194778</td>\n",
              "      <td>34.0583</td>\n",
              "      <td>-118.3799</td>\n",
              "    </tr>\n",
              "    <tr>\n",
              "      <th>442617</th>\n",
              "      <td>181323817</td>\n",
              "      <td>2018-11-24</td>\n",
              "      <td>1440.0</td>\n",
              "      <td>13.0</td>\n",
              "      <td>Newton</td>\n",
              "      <td>1393</td>\n",
              "      <td>25.0</td>\n",
              "      <td>M</td>\n",
              "      <td>H</td>\n",
              "      <td>Narcotic Drug Laws</td>\n",
              "      <td>M</td>\n",
              "      <td>11377(A)HS</td>\n",
              "      <td>PICO                         BL</td>\n",
              "      <td>(33.9786, -118.2761)</td>\n",
              "      <td>2018</td>\n",
              "      <td>11</td>\n",
              "      <td>8.411721</td>\n",
              "      <td>33.9786</td>\n",
              "      <td>-118.2761</td>\n",
              "    </tr>\n",
              "  </tbody>\n",
              "</table>\n",
              "</div>"
            ],
            "text/plain": [
              "        Report ID Arrest Date    Time  ...  distance_Bradbury      lat      long\n",
              "440064  180814088  2018-07-30  1000.0  ...          12.194778  34.0583 -118.3799\n",
              "442617  181323817  2018-11-24  1440.0  ...           8.411721  33.9786 -118.2761\n",
              "\n",
              "[2 rows x 19 columns]"
            ]
          },
          "metadata": {},
          "execution_count": 47
        }
      ]
    },
    {
      "cell_type": "code",
      "metadata": {
        "colab": {
          "base_uri": "https://localhost:8080/",
          "height": 364
        },
        "id": "r6UB7HUfrsEh",
        "outputId": "27a956f0-3781-4b6f-ba41-cefa65400f5e"
      },
      "source": [
        "pico = pico.loc[(pico['lat'] >= lat_mean - (2 * lat_std)) & (pico['lat'] <= lat_mean + (2 * lat_std))]\n",
        "pico = pico.loc[(pico['long'] >= long_mean - (2 * long_std)) & (pico['long'] <= long_mean + (2 * long_std))]\n",
        "pico.head()"
      ],
      "execution_count": 48,
      "outputs": [
        {
          "output_type": "execute_result",
          "data": {
            "text/html": [
              "<div>\n",
              "<style scoped>\n",
              "    .dataframe tbody tr th:only-of-type {\n",
              "        vertical-align: middle;\n",
              "    }\n",
              "\n",
              "    .dataframe tbody tr th {\n",
              "        vertical-align: top;\n",
              "    }\n",
              "\n",
              "    .dataframe thead th {\n",
              "        text-align: right;\n",
              "    }\n",
              "</style>\n",
              "<table border=\"1\" class=\"dataframe\">\n",
              "  <thead>\n",
              "    <tr style=\"text-align: right;\">\n",
              "      <th></th>\n",
              "      <th>Report ID</th>\n",
              "      <th>Arrest Date</th>\n",
              "      <th>Time</th>\n",
              "      <th>Area ID</th>\n",
              "      <th>Area Name</th>\n",
              "      <th>Reporting District</th>\n",
              "      <th>Age</th>\n",
              "      <th>Sex Code</th>\n",
              "      <th>Descent Code</th>\n",
              "      <th>Charge Group Description</th>\n",
              "      <th>Arrest Type Code</th>\n",
              "      <th>Charge</th>\n",
              "      <th>Address</th>\n",
              "      <th>Location</th>\n",
              "      <th>year</th>\n",
              "      <th>month</th>\n",
              "      <th>distance_Bradbury</th>\n",
              "      <th>lat</th>\n",
              "      <th>long</th>\n",
              "    </tr>\n",
              "  </thead>\n",
              "  <tbody>\n",
              "    <tr>\n",
              "      <th>193</th>\n",
              "      <td>5485873</td>\n",
              "      <td>2018-12-01</td>\n",
              "      <td>1350.0</td>\n",
              "      <td>20.0</td>\n",
              "      <td>Olympic</td>\n",
              "      <td>2076</td>\n",
              "      <td>37.0</td>\n",
              "      <td>M</td>\n",
              "      <td>B</td>\n",
              "      <td>Other Assaults</td>\n",
              "      <td>M</td>\n",
              "      <td>243(B)PC</td>\n",
              "      <td>PICO                         BL</td>\n",
              "      <td>(34.0473, -118.2936)</td>\n",
              "      <td>2018</td>\n",
              "      <td>12</td>\n",
              "      <td>4.229344</td>\n",
              "      <td>34.0473</td>\n",
              "      <td>-118.2936</td>\n",
              "    </tr>\n",
              "    <tr>\n",
              "      <th>4738</th>\n",
              "      <td>5270090</td>\n",
              "      <td>2018-03-29</td>\n",
              "      <td>931.0</td>\n",
              "      <td>8.0</td>\n",
              "      <td>West LA</td>\n",
              "      <td>836</td>\n",
              "      <td>53.0</td>\n",
              "      <td>M</td>\n",
              "      <td>W</td>\n",
              "      <td>Larceny</td>\n",
              "      <td>F</td>\n",
              "      <td>487(A)PC</td>\n",
              "      <td>PICO                         BL</td>\n",
              "      <td>(34.0524, -118.4248)</td>\n",
              "      <td>2018</td>\n",
              "      <td>3</td>\n",
              "      <td>16.302507</td>\n",
              "      <td>34.0524</td>\n",
              "      <td>-118.4248</td>\n",
              "    </tr>\n",
              "    <tr>\n",
              "      <th>6685</th>\n",
              "      <td>182016070</td>\n",
              "      <td>2018-08-08</td>\n",
              "      <td>1350.0</td>\n",
              "      <td>20.0</td>\n",
              "      <td>Olympic</td>\n",
              "      <td>2071</td>\n",
              "      <td>28.0</td>\n",
              "      <td>M</td>\n",
              "      <td>H</td>\n",
              "      <td>Drunkeness</td>\n",
              "      <td>M</td>\n",
              "      <td>41.27CLAMC</td>\n",
              "      <td>PICO                         BL</td>\n",
              "      <td>(34.0472, -118.309)</td>\n",
              "      <td>2018</td>\n",
              "      <td>8</td>\n",
              "      <td>5.645041</td>\n",
              "      <td>34.0472</td>\n",
              "      <td>-118.3090</td>\n",
              "    </tr>\n",
              "    <tr>\n",
              "      <th>6758</th>\n",
              "      <td>5299360</td>\n",
              "      <td>2018-05-01</td>\n",
              "      <td>325.0</td>\n",
              "      <td>20.0</td>\n",
              "      <td>Olympic</td>\n",
              "      <td>2076</td>\n",
              "      <td>33.0</td>\n",
              "      <td>M</td>\n",
              "      <td>H</td>\n",
              "      <td>Burglary</td>\n",
              "      <td>F</td>\n",
              "      <td>459PC</td>\n",
              "      <td>2500 W  PICO                         BL</td>\n",
              "      <td>(34.0473, -118.2916)</td>\n",
              "      <td>2018</td>\n",
              "      <td>5</td>\n",
              "      <td>4.045779</td>\n",
              "      <td>34.0473</td>\n",
              "      <td>-118.2916</td>\n",
              "    </tr>\n",
              "    <tr>\n",
              "      <th>6768</th>\n",
              "      <td>5405832</td>\n",
              "      <td>2018-08-27</td>\n",
              "      <td>415.0</td>\n",
              "      <td>7.0</td>\n",
              "      <td>Wilshire</td>\n",
              "      <td>753</td>\n",
              "      <td>22.0</td>\n",
              "      <td>M</td>\n",
              "      <td>H</td>\n",
              "      <td>Other Assaults</td>\n",
              "      <td>M</td>\n",
              "      <td>243(A)PC</td>\n",
              "      <td>PICO                         BL</td>\n",
              "      <td>(34.0515, -118.3667)</td>\n",
              "      <td>2018</td>\n",
              "      <td>8</td>\n",
              "      <td>10.949086</td>\n",
              "      <td>34.0515</td>\n",
              "      <td>-118.3667</td>\n",
              "    </tr>\n",
              "  </tbody>\n",
              "</table>\n",
              "</div>"
            ],
            "text/plain": [
              "      Report ID Arrest Date    Time  ...  distance_Bradbury      lat      long\n",
              "193     5485873  2018-12-01  1350.0  ...           4.229344  34.0473 -118.2936\n",
              "4738    5270090  2018-03-29   931.0  ...          16.302507  34.0524 -118.4248\n",
              "6685  182016070  2018-08-08  1350.0  ...           5.645041  34.0472 -118.3090\n",
              "6758    5299360  2018-05-01   325.0  ...           4.045779  34.0473 -118.2916\n",
              "6768    5405832  2018-08-27   415.0  ...          10.949086  34.0515 -118.3667\n",
              "\n",
              "[5 rows x 19 columns]"
            ]
          },
          "metadata": {},
          "execution_count": 48
        }
      ]
    },
    {
      "cell_type": "code",
      "metadata": {
        "id": "yHTToTN_tfhR"
      },
      "source": [
        "# Spherical Earth projected to a plane equation\n",
        "\n",
        "def reproject(latitude, longitude):\n",
        "    \"\"\"Returns the x & y coordinates in meters using a sinusoidal projection\"\"\"\n",
        "    from math import pi, cos, radians\n",
        "    earth_radius = 6371000 # in meters\n",
        "    lat_dist = pi * earth_radius / 180.0\n",
        "\n",
        "    y = [lat * lat_dist for lat in latitude]\n",
        "    x = [long * lat_dist * cos(radians(lat)) \n",
        "                for lat, long in zip(latitude, longitude)]\n",
        "    return x, y\n",
        "\n",
        "def area(x, y):\n",
        "    \"\"\"Calculates the area of Pico Boulevard\"\"\"\n",
        "    area = 0.0\n",
        "    for i in range(-1, len(x)-1):\n",
        "        area += x[i] * (y[i+1] - y[i-1])\n",
        "    return abs(area) / 2.0"
      ],
      "execution_count": 49,
      "outputs": []
    },
    {
      "cell_type": "code",
      "metadata": {
        "id": "6SJFyjC4tfk7"
      },
      "source": [
        "lat = [min(pico['lat']), max(pico['lat'])]\n",
        "lon = [min(pico['long']), max(pico['long'])]"
      ],
      "execution_count": 50,
      "outputs": []
    },
    {
      "cell_type": "code",
      "metadata": {
        "id": "52bqIQOYtfpz"
      },
      "source": [
        "x,y = reproject(pico['lat'], pico['long'])"
      ],
      "execution_count": 51,
      "outputs": []
    },
    {
      "cell_type": "code",
      "metadata": {
        "id": "2Nxav7Pctfsq"
      },
      "source": [
        "pico_area = area(x,y) / 1000"
      ],
      "execution_count": 52,
      "outputs": []
    },
    {
      "cell_type": "code",
      "metadata": {
        "colab": {
          "base_uri": "https://localhost:8080/"
        },
        "id": "PMDZODR9tfvx",
        "outputId": "a3f7a4ab-2363-4d41-b896-643dd0a411c3"
      },
      "source": [
        "pico_area"
      ],
      "execution_count": 53,
      "outputs": [
        {
          "output_type": "execute_result",
          "data": {
            "text/plain": [
              "11692.956761710406"
            ]
          },
          "metadata": {},
          "execution_count": 53
        }
      ]
    },
    {
      "cell_type": "code",
      "metadata": {
        "colab": {
          "base_uri": "https://localhost:8080/"
        },
        "id": "Yadizo3zt5uu",
        "outputId": "e1a10f4b-d470-44d1-9168-ee47ec29a075"
      },
      "source": [
        "int(pico_area / len(pico['Report ID']))"
      ],
      "execution_count": 54,
      "outputs": [
        {
          "output_type": "execute_result",
          "data": {
            "text/plain": [
              "48"
            ]
          },
          "metadata": {},
          "execution_count": 54
        }
      ]
    },
    {
      "cell_type": "code",
      "metadata": {
        "colab": {
          "base_uri": "https://localhost:8080/",
          "height": 299
        },
        "id": "MDAqC2NZt5yk",
        "outputId": "00c8fe02-a247-4eeb-9474-b75750c8d13b"
      },
      "source": [
        "pico.describe()"
      ],
      "execution_count": 55,
      "outputs": [
        {
          "output_type": "execute_result",
          "data": {
            "text/html": [
              "<div>\n",
              "<style scoped>\n",
              "    .dataframe tbody tr th:only-of-type {\n",
              "        vertical-align: middle;\n",
              "    }\n",
              "\n",
              "    .dataframe tbody tr th {\n",
              "        vertical-align: top;\n",
              "    }\n",
              "\n",
              "    .dataframe thead th {\n",
              "        text-align: right;\n",
              "    }\n",
              "</style>\n",
              "<table border=\"1\" class=\"dataframe\">\n",
              "  <thead>\n",
              "    <tr style=\"text-align: right;\">\n",
              "      <th></th>\n",
              "      <th>Time</th>\n",
              "      <th>Area ID</th>\n",
              "      <th>Age</th>\n",
              "      <th>year</th>\n",
              "      <th>month</th>\n",
              "      <th>distance_Bradbury</th>\n",
              "      <th>lat</th>\n",
              "      <th>long</th>\n",
              "    </tr>\n",
              "  </thead>\n",
              "  <tbody>\n",
              "    <tr>\n",
              "      <th>count</th>\n",
              "      <td>239.000000</td>\n",
              "      <td>239.000000</td>\n",
              "      <td>239.00000</td>\n",
              "      <td>239.0</td>\n",
              "      <td>239.000000</td>\n",
              "      <td>239.000000</td>\n",
              "      <td>239.000000</td>\n",
              "      <td>239.000000</td>\n",
              "    </tr>\n",
              "    <tr>\n",
              "      <th>mean</th>\n",
              "      <td>1426.058577</td>\n",
              "      <td>9.669456</td>\n",
              "      <td>40.18410</td>\n",
              "      <td>2018.0</td>\n",
              "      <td>5.192469</td>\n",
              "      <td>11.940823</td>\n",
              "      <td>34.039883</td>\n",
              "      <td>-118.375699</td>\n",
              "    </tr>\n",
              "    <tr>\n",
              "      <th>std</th>\n",
              "      <td>545.974686</td>\n",
              "      <td>5.492121</td>\n",
              "      <td>13.87003</td>\n",
              "      <td>0.0</td>\n",
              "      <td>3.589870</td>\n",
              "      <td>6.597728</td>\n",
              "      <td>0.007604</td>\n",
              "      <td>0.073023</td>\n",
              "    </tr>\n",
              "    <tr>\n",
              "      <th>min</th>\n",
              "      <td>5.000000</td>\n",
              "      <td>1.000000</td>\n",
              "      <td>16.00000</td>\n",
              "      <td>2018.0</td>\n",
              "      <td>1.000000</td>\n",
              "      <td>1.573349</td>\n",
              "      <td>34.028100</td>\n",
              "      <td>-118.453000</td>\n",
              "    </tr>\n",
              "    <tr>\n",
              "      <th>25%</th>\n",
              "      <td>975.000000</td>\n",
              "      <td>8.000000</td>\n",
              "      <td>30.00000</td>\n",
              "      <td>2018.0</td>\n",
              "      <td>2.000000</td>\n",
              "      <td>5.161126</td>\n",
              "      <td>34.034700</td>\n",
              "      <td>-118.439700</td>\n",
              "    </tr>\n",
              "    <tr>\n",
              "      <th>50%</th>\n",
              "      <td>1545.000000</td>\n",
              "      <td>8.000000</td>\n",
              "      <td>38.00000</td>\n",
              "      <td>2018.0</td>\n",
              "      <td>5.000000</td>\n",
              "      <td>16.321260</td>\n",
              "      <td>34.040000</td>\n",
              "      <td>-118.424700</td>\n",
              "    </tr>\n",
              "    <tr>\n",
              "      <th>75%</th>\n",
              "      <td>1900.000000</td>\n",
              "      <td>8.000000</td>\n",
              "      <td>52.00000</td>\n",
              "      <td>2018.0</td>\n",
              "      <td>8.000000</td>\n",
              "      <td>17.763248</td>\n",
              "      <td>34.047200</td>\n",
              "      <td>-118.303500</td>\n",
              "    </tr>\n",
              "    <tr>\n",
              "      <th>max</th>\n",
              "      <td>2350.000000</td>\n",
              "      <td>20.000000</td>\n",
              "      <td>72.00000</td>\n",
              "      <td>2018.0</td>\n",
              "      <td>12.000000</td>\n",
              "      <td>19.065856</td>\n",
              "      <td>34.055300</td>\n",
              "      <td>-118.248400</td>\n",
              "    </tr>\n",
              "  </tbody>\n",
              "</table>\n",
              "</div>"
            ],
            "text/plain": [
              "              Time     Area ID  ...         lat        long\n",
              "count   239.000000  239.000000  ...  239.000000  239.000000\n",
              "mean   1426.058577    9.669456  ...   34.039883 -118.375699\n",
              "std     545.974686    5.492121  ...    0.007604    0.073023\n",
              "min       5.000000    1.000000  ...   34.028100 -118.453000\n",
              "25%     975.000000    8.000000  ...   34.034700 -118.439700\n",
              "50%    1545.000000    8.000000  ...   34.040000 -118.424700\n",
              "75%    1900.000000    8.000000  ...   34.047200 -118.303500\n",
              "max    2350.000000   20.000000  ...   34.055300 -118.248400\n",
              "\n",
              "[8 rows x 8 columns]"
            ]
          },
          "metadata": {},
          "execution_count": 55
        }
      ]
    },
    {
      "cell_type": "code",
      "metadata": {
        "id": "nrt3yhJdt51_"
      },
      "source": [
        ""
      ],
      "execution_count": 55,
      "outputs": []
    },
    {
      "cell_type": "code",
      "metadata": {
        "id": "R8Ni7UETt56M"
      },
      "source": [
        ""
      ],
      "execution_count": 55,
      "outputs": []
    },
    {
      "cell_type": "code",
      "metadata": {
        "id": "lEMKrDQgtfyr"
      },
      "source": [
        ""
      ],
      "execution_count": 55,
      "outputs": []
    }
  ]
}