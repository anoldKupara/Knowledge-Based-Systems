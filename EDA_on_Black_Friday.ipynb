{
  "nbformat": 4,
  "nbformat_minor": 0,
  "metadata": {
    "colab": {
      "name": "EDA on Black Friday.ipynb",
      "provenance": [],
      "mount_file_id": "1Y6HWDfm9WFw4hReAPZw9DPF6zm2G7X46",
      "authorship_tag": "ABX9TyP21uVzxQyDubrkX1/U/Ld6",
      "include_colab_link": true
    },
    "kernelspec": {
      "name": "python3",
      "display_name": "Python 3"
    },
    "language_info": {
      "name": "python"
    }
  },
  "cells": [
    {
      "cell_type": "markdown",
      "metadata": {
        "id": "view-in-github",
        "colab_type": "text"
      },
      "source": [
        "<a href=\"https://colab.research.google.com/github/anoldKupara/Machine-Learning-Course/blob/main/EDA_on_Black_Friday.ipynb\" target=\"_parent\"><img src=\"https://colab.research.google.com/assets/colab-badge.svg\" alt=\"Open In Colab\"/></a>"
      ]
    },
    {
      "cell_type": "code",
      "metadata": {
        "id": "uJ4dUKnZ1Mg0"
      },
      "source": [
        "#Data Analysis of Black Friday\n",
        "\n",
        "# Load EDA\n",
        "import pandas as pd \n",
        "import numpy as np\n",
        "\n",
        "# Load Data Viz\n",
        "import matplotlib.pyplot as plt \n",
        "import seaborn as sns"
      ],
      "execution_count": 1,
      "outputs": []
    },
    {
      "cell_type": "code",
      "metadata": {
        "id": "rK_ZoojS1rv1"
      },
      "source": [
        "# Load Dataset\n",
        "df = pd.read_csv(\"/content/drive/MyDrive/Colab Notebooks/Datasets/BlackFriday.csv\")"
      ],
      "execution_count": 2,
      "outputs": []
    },
    {
      "cell_type": "code",
      "metadata": {
        "colab": {
          "base_uri": "https://localhost:8080/",
          "height": 295
        },
        "id": "N2Wfl9WQ1r0P",
        "outputId": "bc6268cd-0815-4cc0-d845-b17c00b67481"
      },
      "source": [
        "df.head()"
      ],
      "execution_count": 3,
      "outputs": [
        {
          "output_type": "execute_result",
          "data": {
            "text/html": [
              "<div>\n",
              "<style scoped>\n",
              "    .dataframe tbody tr th:only-of-type {\n",
              "        vertical-align: middle;\n",
              "    }\n",
              "\n",
              "    .dataframe tbody tr th {\n",
              "        vertical-align: top;\n",
              "    }\n",
              "\n",
              "    .dataframe thead th {\n",
              "        text-align: right;\n",
              "    }\n",
              "</style>\n",
              "<table border=\"1\" class=\"dataframe\">\n",
              "  <thead>\n",
              "    <tr style=\"text-align: right;\">\n",
              "      <th></th>\n",
              "      <th>User_ID</th>\n",
              "      <th>Product_ID</th>\n",
              "      <th>Gender</th>\n",
              "      <th>Age</th>\n",
              "      <th>Occupation</th>\n",
              "      <th>City_Category</th>\n",
              "      <th>Stay_In_Current_City_Years</th>\n",
              "      <th>Marital_Status</th>\n",
              "      <th>Product_Category_1</th>\n",
              "      <th>Product_Category_2</th>\n",
              "      <th>Product_Category_3</th>\n",
              "      <th>Purchase</th>\n",
              "    </tr>\n",
              "  </thead>\n",
              "  <tbody>\n",
              "    <tr>\n",
              "      <th>0</th>\n",
              "      <td>1000001</td>\n",
              "      <td>P00069042</td>\n",
              "      <td>F</td>\n",
              "      <td>0-17</td>\n",
              "      <td>10</td>\n",
              "      <td>A</td>\n",
              "      <td>2</td>\n",
              "      <td>0</td>\n",
              "      <td>3</td>\n",
              "      <td>NaN</td>\n",
              "      <td>NaN</td>\n",
              "      <td>8370</td>\n",
              "    </tr>\n",
              "    <tr>\n",
              "      <th>1</th>\n",
              "      <td>1000001</td>\n",
              "      <td>P00248942</td>\n",
              "      <td>F</td>\n",
              "      <td>0-17</td>\n",
              "      <td>10</td>\n",
              "      <td>A</td>\n",
              "      <td>2</td>\n",
              "      <td>0</td>\n",
              "      <td>1</td>\n",
              "      <td>6.0</td>\n",
              "      <td>14.0</td>\n",
              "      <td>15200</td>\n",
              "    </tr>\n",
              "    <tr>\n",
              "      <th>2</th>\n",
              "      <td>1000001</td>\n",
              "      <td>P00087842</td>\n",
              "      <td>F</td>\n",
              "      <td>0-17</td>\n",
              "      <td>10</td>\n",
              "      <td>A</td>\n",
              "      <td>2</td>\n",
              "      <td>0</td>\n",
              "      <td>12</td>\n",
              "      <td>NaN</td>\n",
              "      <td>NaN</td>\n",
              "      <td>1422</td>\n",
              "    </tr>\n",
              "    <tr>\n",
              "      <th>3</th>\n",
              "      <td>1000001</td>\n",
              "      <td>P00085442</td>\n",
              "      <td>F</td>\n",
              "      <td>0-17</td>\n",
              "      <td>10</td>\n",
              "      <td>A</td>\n",
              "      <td>2</td>\n",
              "      <td>0</td>\n",
              "      <td>12</td>\n",
              "      <td>14.0</td>\n",
              "      <td>NaN</td>\n",
              "      <td>1057</td>\n",
              "    </tr>\n",
              "    <tr>\n",
              "      <th>4</th>\n",
              "      <td>1000002</td>\n",
              "      <td>P00285442</td>\n",
              "      <td>M</td>\n",
              "      <td>55+</td>\n",
              "      <td>16</td>\n",
              "      <td>C</td>\n",
              "      <td>4+</td>\n",
              "      <td>0</td>\n",
              "      <td>8</td>\n",
              "      <td>NaN</td>\n",
              "      <td>NaN</td>\n",
              "      <td>7969</td>\n",
              "    </tr>\n",
              "  </tbody>\n",
              "</table>\n",
              "</div>"
            ],
            "text/plain": [
              "   User_ID Product_ID Gender  ... Product_Category_2  Product_Category_3 Purchase\n",
              "0  1000001  P00069042      F  ...                NaN                 NaN     8370\n",
              "1  1000001  P00248942      F  ...                6.0                14.0    15200\n",
              "2  1000001  P00087842      F  ...                NaN                 NaN     1422\n",
              "3  1000001  P00085442      F  ...               14.0                 NaN     1057\n",
              "4  1000002  P00285442      M  ...                NaN                 NaN     7969\n",
              "\n",
              "[5 rows x 12 columns]"
            ]
          },
          "metadata": {},
          "execution_count": 3
        }
      ]
    },
    {
      "cell_type": "code",
      "metadata": {
        "colab": {
          "base_uri": "https://localhost:8080/"
        },
        "id": "_8qLpUFo1r5M",
        "outputId": "6b138c58-07c1-40e1-ad9b-dcf323f7bcb9"
      },
      "source": [
        "df.info()"
      ],
      "execution_count": 4,
      "outputs": [
        {
          "output_type": "stream",
          "text": [
            "<class 'pandas.core.frame.DataFrame'>\n",
            "RangeIndex: 537577 entries, 0 to 537576\n",
            "Data columns (total 12 columns):\n",
            " #   Column                      Non-Null Count   Dtype  \n",
            "---  ------                      --------------   -----  \n",
            " 0   User_ID                     537577 non-null  int64  \n",
            " 1   Product_ID                  537577 non-null  object \n",
            " 2   Gender                      537577 non-null  object \n",
            " 3   Age                         537577 non-null  object \n",
            " 4   Occupation                  537577 non-null  int64  \n",
            " 5   City_Category               537577 non-null  object \n",
            " 6   Stay_In_Current_City_Years  537577 non-null  object \n",
            " 7   Marital_Status              537577 non-null  int64  \n",
            " 8   Product_Category_1          537577 non-null  int64  \n",
            " 9   Product_Category_2          370591 non-null  float64\n",
            " 10  Product_Category_3          164278 non-null  float64\n",
            " 11  Purchase                    537577 non-null  int64  \n",
            "dtypes: float64(2), int64(5), object(5)\n",
            "memory usage: 49.2+ MB\n"
          ],
          "name": "stdout"
        }
      ]
    },
    {
      "cell_type": "code",
      "metadata": {
        "colab": {
          "base_uri": "https://localhost:8080/",
          "height": 319
        },
        "id": "VTEXootU1r91",
        "outputId": "346264fe-90e3-4ca6-b012-1315162fc11c"
      },
      "source": [
        "# DataType \n",
        "df.describe()"
      ],
      "execution_count": 5,
      "outputs": [
        {
          "output_type": "execute_result",
          "data": {
            "text/html": [
              "<div>\n",
              "<style scoped>\n",
              "    .dataframe tbody tr th:only-of-type {\n",
              "        vertical-align: middle;\n",
              "    }\n",
              "\n",
              "    .dataframe tbody tr th {\n",
              "        vertical-align: top;\n",
              "    }\n",
              "\n",
              "    .dataframe thead th {\n",
              "        text-align: right;\n",
              "    }\n",
              "</style>\n",
              "<table border=\"1\" class=\"dataframe\">\n",
              "  <thead>\n",
              "    <tr style=\"text-align: right;\">\n",
              "      <th></th>\n",
              "      <th>User_ID</th>\n",
              "      <th>Occupation</th>\n",
              "      <th>Marital_Status</th>\n",
              "      <th>Product_Category_1</th>\n",
              "      <th>Product_Category_2</th>\n",
              "      <th>Product_Category_3</th>\n",
              "      <th>Purchase</th>\n",
              "    </tr>\n",
              "  </thead>\n",
              "  <tbody>\n",
              "    <tr>\n",
              "      <th>count</th>\n",
              "      <td>5.375770e+05</td>\n",
              "      <td>537577.00000</td>\n",
              "      <td>537577.000000</td>\n",
              "      <td>537577.000000</td>\n",
              "      <td>370591.000000</td>\n",
              "      <td>164278.000000</td>\n",
              "      <td>537577.000000</td>\n",
              "    </tr>\n",
              "    <tr>\n",
              "      <th>mean</th>\n",
              "      <td>1.002992e+06</td>\n",
              "      <td>8.08271</td>\n",
              "      <td>0.408797</td>\n",
              "      <td>5.295546</td>\n",
              "      <td>9.842144</td>\n",
              "      <td>12.669840</td>\n",
              "      <td>9333.859853</td>\n",
              "    </tr>\n",
              "    <tr>\n",
              "      <th>std</th>\n",
              "      <td>1.714393e+03</td>\n",
              "      <td>6.52412</td>\n",
              "      <td>0.491612</td>\n",
              "      <td>3.750701</td>\n",
              "      <td>5.087259</td>\n",
              "      <td>4.124341</td>\n",
              "      <td>4981.022133</td>\n",
              "    </tr>\n",
              "    <tr>\n",
              "      <th>min</th>\n",
              "      <td>1.000001e+06</td>\n",
              "      <td>0.00000</td>\n",
              "      <td>0.000000</td>\n",
              "      <td>1.000000</td>\n",
              "      <td>2.000000</td>\n",
              "      <td>3.000000</td>\n",
              "      <td>185.000000</td>\n",
              "    </tr>\n",
              "    <tr>\n",
              "      <th>25%</th>\n",
              "      <td>1.001495e+06</td>\n",
              "      <td>2.00000</td>\n",
              "      <td>0.000000</td>\n",
              "      <td>1.000000</td>\n",
              "      <td>5.000000</td>\n",
              "      <td>9.000000</td>\n",
              "      <td>5866.000000</td>\n",
              "    </tr>\n",
              "    <tr>\n",
              "      <th>50%</th>\n",
              "      <td>1.003031e+06</td>\n",
              "      <td>7.00000</td>\n",
              "      <td>0.000000</td>\n",
              "      <td>5.000000</td>\n",
              "      <td>9.000000</td>\n",
              "      <td>14.000000</td>\n",
              "      <td>8062.000000</td>\n",
              "    </tr>\n",
              "    <tr>\n",
              "      <th>75%</th>\n",
              "      <td>1.004417e+06</td>\n",
              "      <td>14.00000</td>\n",
              "      <td>1.000000</td>\n",
              "      <td>8.000000</td>\n",
              "      <td>15.000000</td>\n",
              "      <td>16.000000</td>\n",
              "      <td>12073.000000</td>\n",
              "    </tr>\n",
              "    <tr>\n",
              "      <th>max</th>\n",
              "      <td>1.006040e+06</td>\n",
              "      <td>20.00000</td>\n",
              "      <td>1.000000</td>\n",
              "      <td>18.000000</td>\n",
              "      <td>18.000000</td>\n",
              "      <td>18.000000</td>\n",
              "      <td>23961.000000</td>\n",
              "    </tr>\n",
              "  </tbody>\n",
              "</table>\n",
              "</div>"
            ],
            "text/plain": [
              "            User_ID    Occupation  ...  Product_Category_3       Purchase\n",
              "count  5.375770e+05  537577.00000  ...       164278.000000  537577.000000\n",
              "mean   1.002992e+06       8.08271  ...           12.669840    9333.859853\n",
              "std    1.714393e+03       6.52412  ...            4.124341    4981.022133\n",
              "min    1.000001e+06       0.00000  ...            3.000000     185.000000\n",
              "25%    1.001495e+06       2.00000  ...            9.000000    5866.000000\n",
              "50%    1.003031e+06       7.00000  ...           14.000000    8062.000000\n",
              "75%    1.004417e+06      14.00000  ...           16.000000   12073.000000\n",
              "max    1.006040e+06      20.00000  ...           18.000000   23961.000000\n",
              "\n",
              "[8 rows x 7 columns]"
            ]
          },
          "metadata": {},
          "execution_count": 5
        }
      ]
    },
    {
      "cell_type": "code",
      "metadata": {
        "colab": {
          "base_uri": "https://localhost:8080/"
        },
        "id": "BWcow8ZU1sBO",
        "outputId": "1d6434a5-60a4-41c6-a469-9fc65bc79af3"
      },
      "source": [
        "df.isnull().sum()"
      ],
      "execution_count": 6,
      "outputs": [
        {
          "output_type": "execute_result",
          "data": {
            "text/plain": [
              "User_ID                            0\n",
              "Product_ID                         0\n",
              "Gender                             0\n",
              "Age                                0\n",
              "Occupation                         0\n",
              "City_Category                      0\n",
              "Stay_In_Current_City_Years         0\n",
              "Marital_Status                     0\n",
              "Product_Category_1                 0\n",
              "Product_Category_2            166986\n",
              "Product_Category_3            373299\n",
              "Purchase                           0\n",
              "dtype: int64"
            ]
          },
          "metadata": {},
          "execution_count": 6
        }
      ]
    },
    {
      "cell_type": "code",
      "metadata": {
        "colab": {
          "base_uri": "https://localhost:8080/"
        },
        "id": "nnJX5pbk1sE8",
        "outputId": "341c4ff9-d70e-49fe-c79a-a146455578f6"
      },
      "source": [
        "# City Category\n",
        "df.columns"
      ],
      "execution_count": 7,
      "outputs": [
        {
          "output_type": "execute_result",
          "data": {
            "text/plain": [
              "Index(['User_ID', 'Product_ID', 'Gender', 'Age', 'Occupation', 'City_Category',\n",
              "       'Stay_In_Current_City_Years', 'Marital_Status', 'Product_Category_1',\n",
              "       'Product_Category_2', 'Product_Category_3', 'Purchase'],\n",
              "      dtype='object')"
            ]
          },
          "metadata": {},
          "execution_count": 7
        }
      ]
    },
    {
      "cell_type": "code",
      "metadata": {
        "colab": {
          "base_uri": "https://localhost:8080/"
        },
        "id": "8L0W3nKP1sIH",
        "outputId": "d55e6c00-ab02-45e2-9416-403d5e9b05f2"
      },
      "source": [
        "# List of Unique\n",
        "df['City_Category'].unique()"
      ],
      "execution_count": 8,
      "outputs": [
        {
          "output_type": "execute_result",
          "data": {
            "text/plain": [
              "array(['A', 'C', 'B'], dtype=object)"
            ]
          },
          "metadata": {},
          "execution_count": 8
        }
      ]
    },
    {
      "cell_type": "code",
      "metadata": {
        "colab": {
          "base_uri": "https://localhost:8080/"
        },
        "id": "did7tl1V1sLq",
        "outputId": "fc6d0a38-2f50-4e79-e9b4-daaf50ecff76"
      },
      "source": [
        "# Value Counts\n",
        "df['City_Category'].value_counts()"
      ],
      "execution_count": 9,
      "outputs": [
        {
          "output_type": "execute_result",
          "data": {
            "text/plain": [
              "B    226493\n",
              "C    166446\n",
              "A    144638\n",
              "Name: City_Category, dtype: int64"
            ]
          },
          "metadata": {},
          "execution_count": 9
        }
      ]
    },
    {
      "cell_type": "code",
      "metadata": {
        "id": "q2ZoIATG1sPH"
      },
      "source": [
        "# Value Counts\n",
        "cc_df = df['City_Category'].value_counts().to_frame()"
      ],
      "execution_count": 10,
      "outputs": []
    },
    {
      "cell_type": "code",
      "metadata": {
        "id": "MWCiO2ED1sSe"
      },
      "source": [
        "cc_df = cc_df.reset_index()"
      ],
      "execution_count": 11,
      "outputs": []
    },
    {
      "cell_type": "code",
      "metadata": {
        "colab": {
          "base_uri": "https://localhost:8080/",
          "height": 143
        },
        "id": "Eo6a_XGC1sVQ",
        "outputId": "38fbbefe-043c-4c83-f6bf-453c8cfd7ce1"
      },
      "source": [
        "cc_df"
      ],
      "execution_count": 12,
      "outputs": [
        {
          "output_type": "execute_result",
          "data": {
            "text/html": [
              "<div>\n",
              "<style scoped>\n",
              "    .dataframe tbody tr th:only-of-type {\n",
              "        vertical-align: middle;\n",
              "    }\n",
              "\n",
              "    .dataframe tbody tr th {\n",
              "        vertical-align: top;\n",
              "    }\n",
              "\n",
              "    .dataframe thead th {\n",
              "        text-align: right;\n",
              "    }\n",
              "</style>\n",
              "<table border=\"1\" class=\"dataframe\">\n",
              "  <thead>\n",
              "    <tr style=\"text-align: right;\">\n",
              "      <th></th>\n",
              "      <th>index</th>\n",
              "      <th>City_Category</th>\n",
              "    </tr>\n",
              "  </thead>\n",
              "  <tbody>\n",
              "    <tr>\n",
              "      <th>0</th>\n",
              "      <td>B</td>\n",
              "      <td>226493</td>\n",
              "    </tr>\n",
              "    <tr>\n",
              "      <th>1</th>\n",
              "      <td>C</td>\n",
              "      <td>166446</td>\n",
              "    </tr>\n",
              "    <tr>\n",
              "      <th>2</th>\n",
              "      <td>A</td>\n",
              "      <td>144638</td>\n",
              "    </tr>\n",
              "  </tbody>\n",
              "</table>\n",
              "</div>"
            ],
            "text/plain": [
              "  index  City_Category\n",
              "0     B         226493\n",
              "1     C         166446\n",
              "2     A         144638"
            ]
          },
          "metadata": {},
          "execution_count": 12
        }
      ]
    },
    {
      "cell_type": "code",
      "metadata": {
        "colab": {
          "base_uri": "https://localhost:8080/",
          "height": 355
        },
        "id": "rg4S8yPC1saD",
        "outputId": "2051b210-732a-4cdd-aebf-2c85bf629601"
      },
      "source": [
        "sns.countplot(df['City_Category'])"
      ],
      "execution_count": 13,
      "outputs": [
        {
          "output_type": "stream",
          "text": [
            "/usr/local/lib/python3.7/dist-packages/seaborn/_decorators.py:43: FutureWarning: Pass the following variable as a keyword arg: x. From version 0.12, the only valid positional argument will be `data`, and passing other arguments without an explicit keyword will result in an error or misinterpretation.\n",
            "  FutureWarning\n"
          ],
          "name": "stderr"
        },
        {
          "output_type": "execute_result",
          "data": {
            "text/plain": [
              "<matplotlib.axes._subplots.AxesSubplot at 0x7f9751a3ba50>"
            ]
          },
          "metadata": {},
          "execution_count": 13
        },
        {
          "output_type": "display_data",
          "data": {
            "image/png": "[encoded data removed]",
            "text/plain": [
              "<Figure size 432x288 with 1 Axes>"
            ]
          },
          "metadata": {
            "needs_background": "light"
          }
        }
      ]
    },
    {
      "cell_type": "code",
      "metadata": {
        "colab": {
          "base_uri": "https://localhost:8080/"
        },
        "id": "GY3bCJIS1seU",
        "outputId": "7888c032-c44e-4c9d-ff2b-eb1fbe403747"
      },
      "source": [
        "df.columns"
      ],
      "execution_count": 14,
      "outputs": [
        {
          "output_type": "execute_result",
          "data": {
            "text/plain": [
              "Index(['User_ID', 'Product_ID', 'Gender', 'Age', 'Occupation', 'City_Category',\n",
              "       'Stay_In_Current_City_Years', 'Marital_Status', 'Product_Category_1',\n",
              "       'Product_Category_2', 'Product_Category_3', 'Purchase'],\n",
              "      dtype='object')"
            ]
          },
          "metadata": {},
          "execution_count": 14
        }
      ]
    },
    {
      "cell_type": "code",
      "metadata": {
        "colab": {
          "base_uri": "https://localhost:8080/"
        },
        "id": "hlap6kQI2UIy",
        "outputId": "0117e89b-d59d-49db-d500-6a9b5fd94223"
      },
      "source": [
        "df['Gender'].value_counts()"
      ],
      "execution_count": 15,
      "outputs": [
        {
          "output_type": "execute_result",
          "data": {
            "text/plain": [
              "M    405380\n",
              "F    132197\n",
              "Name: Gender, dtype: int64"
            ]
          },
          "metadata": {},
          "execution_count": 15
        }
      ]
    },
    {
      "cell_type": "code",
      "metadata": {
        "colab": {
          "base_uri": "https://localhost:8080/"
        },
        "id": "8hwlawbW2UQr",
        "outputId": "c2d94f29-1aa7-4169-e2b6-76b35fcde877"
      },
      "source": [
        "df['Occupation'].value_counts()"
      ],
      "execution_count": 16,
      "outputs": [
        {
          "output_type": "execute_result",
          "data": {
            "text/plain": [
              "4     70862\n",
              "0     68120\n",
              "7     57806\n",
              "1     45971\n",
              "17    39090\n",
              "20    32910\n",
              "12    30423\n",
              "14    26712\n",
              "2     25845\n",
              "16    24790\n",
              "6     19822\n",
              "3     17366\n",
              "10    12623\n",
              "5     11985\n",
              "15    11812\n",
              "11    11338\n",
              "19     8352\n",
              "13     7548\n",
              "18     6525\n",
              "9      6153\n",
              "8      1524\n",
              "Name: Occupation, dtype: int64"
            ]
          },
          "metadata": {},
          "execution_count": 16
        }
      ]
    },
    {
      "cell_type": "code",
      "metadata": {
        "colab": {
          "base_uri": "https://localhost:8080/"
        },
        "id": "HpGSXdaH2UXV",
        "outputId": "4d3a1d1c-f63b-4c5c-f5a9-753b0abaa86b"
      },
      "source": [
        "df['Age'].value_counts()"
      ],
      "execution_count": 17,
      "outputs": [
        {
          "output_type": "execute_result",
          "data": {
            "text/plain": [
              "26-35    214690\n",
              "36-45    107499\n",
              "18-25     97634\n",
              "46-50     44526\n",
              "51-55     37618\n",
              "55+       20903\n",
              "0-17      14707\n",
              "Name: Age, dtype: int64"
            ]
          },
          "metadata": {},
          "execution_count": 17
        }
      ]
    },
    {
      "cell_type": "code",
      "metadata": {
        "colab": {
          "base_uri": "https://localhost:8080/"
        },
        "id": "Lc7i_z2J2UcS",
        "outputId": "d919f771-7e14-4201-c73e-d39e7922cf0e"
      },
      "source": [
        "df['Purchase']"
      ],
      "execution_count": 18,
      "outputs": [
        {
          "output_type": "execute_result",
          "data": {
            "text/plain": [
              "0          8370\n",
              "1         15200\n",
              "2          1422\n",
              "3          1057\n",
              "4          7969\n",
              "          ...  \n",
              "537572    11664\n",
              "537573    19196\n",
              "537574     8043\n",
              "537575     7172\n",
              "537576     6875\n",
              "Name: Purchase, Length: 537577, dtype: int64"
            ]
          },
          "metadata": {},
          "execution_count": 18
        }
      ]
    },
    {
      "cell_type": "code",
      "metadata": {
        "colab": {
          "base_uri": "https://localhost:8080/"
        },
        "id": "0_F-p6sn2Ugq",
        "outputId": "26e6cf74-e57c-4dda-d2aa-03d49fe298d7"
      },
      "source": [
        "df.columns"
      ],
      "execution_count": 19,
      "outputs": [
        {
          "output_type": "execute_result",
          "data": {
            "text/plain": [
              "Index(['User_ID', 'Product_ID', 'Gender', 'Age', 'Occupation', 'City_Category',\n",
              "       'Stay_In_Current_City_Years', 'Marital_Status', 'Product_Category_1',\n",
              "       'Product_Category_2', 'Product_Category_3', 'Purchase'],\n",
              "      dtype='object')"
            ]
          },
          "metadata": {},
          "execution_count": 19
        }
      ]
    },
    {
      "cell_type": "code",
      "metadata": {
        "colab": {
          "base_uri": "https://localhost:8080/"
        },
        "id": "xxjmzZMf2UkR",
        "outputId": "939ed36f-8b56-4b5b-facc-058ac4134968"
      },
      "source": [
        "df['Marital_Status'].unique()"
      ],
      "execution_count": 20,
      "outputs": [
        {
          "output_type": "execute_result",
          "data": {
            "text/plain": [
              "array([0, 1])"
            ]
          },
          "metadata": {},
          "execution_count": 20
        }
      ]
    },
    {
      "cell_type": "code",
      "metadata": {
        "id": "g1bauMM82Unu"
      },
      "source": [
        "#plot(df,'Age','Gender')"
      ],
      "execution_count": 21,
      "outputs": []
    },
    {
      "cell_type": "code",
      "metadata": {
        "colab": {
          "base_uri": "https://localhost:8080/",
          "height": 295
        },
        "id": "jqfh5KN41shl",
        "outputId": "68103994-1da9-4b5e-ca79-9e1ab1e8c290"
      },
      "source": [
        "df.head()"
      ],
      "execution_count": 22,
      "outputs": [
        {
          "output_type": "execute_result",
          "data": {
            "text/html": [
              "<div>\n",
              "<style scoped>\n",
              "    .dataframe tbody tr th:only-of-type {\n",
              "        vertical-align: middle;\n",
              "    }\n",
              "\n",
              "    .dataframe tbody tr th {\n",
              "        vertical-align: top;\n",
              "    }\n",
              "\n",
              "    .dataframe thead th {\n",
              "        text-align: right;\n",
              "    }\n",
              "</style>\n",
              "<table border=\"1\" class=\"dataframe\">\n",
              "  <thead>\n",
              "    <tr style=\"text-align: right;\">\n",
              "      <th></th>\n",
              "      <th>User_ID</th>\n",
              "      <th>Product_ID</th>\n",
              "      <th>Gender</th>\n",
              "      <th>Age</th>\n",
              "      <th>Occupation</th>\n",
              "      <th>City_Category</th>\n",
              "      <th>Stay_In_Current_City_Years</th>\n",
              "      <th>Marital_Status</th>\n",
              "      <th>Product_Category_1</th>\n",
              "      <th>Product_Category_2</th>\n",
              "      <th>Product_Category_3</th>\n",
              "      <th>Purchase</th>\n",
              "    </tr>\n",
              "  </thead>\n",
              "  <tbody>\n",
              "    <tr>\n",
              "      <th>0</th>\n",
              "      <td>1000001</td>\n",
              "      <td>P00069042</td>\n",
              "      <td>F</td>\n",
              "      <td>0-17</td>\n",
              "      <td>10</td>\n",
              "      <td>A</td>\n",
              "      <td>2</td>\n",
              "      <td>0</td>\n",
              "      <td>3</td>\n",
              "      <td>NaN</td>\n",
              "      <td>NaN</td>\n",
              "      <td>8370</td>\n",
              "    </tr>\n",
              "    <tr>\n",
              "      <th>1</th>\n",
              "      <td>1000001</td>\n",
              "      <td>P00248942</td>\n",
              "      <td>F</td>\n",
              "      <td>0-17</td>\n",
              "      <td>10</td>\n",
              "      <td>A</td>\n",
              "      <td>2</td>\n",
              "      <td>0</td>\n",
              "      <td>1</td>\n",
              "      <td>6.0</td>\n",
              "      <td>14.0</td>\n",
              "      <td>15200</td>\n",
              "    </tr>\n",
              "    <tr>\n",
              "      <th>2</th>\n",
              "      <td>1000001</td>\n",
              "      <td>P00087842</td>\n",
              "      <td>F</td>\n",
              "      <td>0-17</td>\n",
              "      <td>10</td>\n",
              "      <td>A</td>\n",
              "      <td>2</td>\n",
              "      <td>0</td>\n",
              "      <td>12</td>\n",
              "      <td>NaN</td>\n",
              "      <td>NaN</td>\n",
              "      <td>1422</td>\n",
              "    </tr>\n",
              "    <tr>\n",
              "      <th>3</th>\n",
              "      <td>1000001</td>\n",
              "      <td>P00085442</td>\n",
              "      <td>F</td>\n",
              "      <td>0-17</td>\n",
              "      <td>10</td>\n",
              "      <td>A</td>\n",
              "      <td>2</td>\n",
              "      <td>0</td>\n",
              "      <td>12</td>\n",
              "      <td>14.0</td>\n",
              "      <td>NaN</td>\n",
              "      <td>1057</td>\n",
              "    </tr>\n",
              "    <tr>\n",
              "      <th>4</th>\n",
              "      <td>1000002</td>\n",
              "      <td>P00285442</td>\n",
              "      <td>M</td>\n",
              "      <td>55+</td>\n",
              "      <td>16</td>\n",
              "      <td>C</td>\n",
              "      <td>4+</td>\n",
              "      <td>0</td>\n",
              "      <td>8</td>\n",
              "      <td>NaN</td>\n",
              "      <td>NaN</td>\n",
              "      <td>7969</td>\n",
              "    </tr>\n",
              "  </tbody>\n",
              "</table>\n",
              "</div>"
            ],
            "text/plain": [
              "   User_ID Product_ID Gender  ... Product_Category_2  Product_Category_3 Purchase\n",
              "0  1000001  P00069042      F  ...                NaN                 NaN     8370\n",
              "1  1000001  P00248942      F  ...                6.0                14.0    15200\n",
              "2  1000001  P00087842      F  ...                NaN                 NaN     1422\n",
              "3  1000001  P00085442      F  ...               14.0                 NaN     1057\n",
              "4  1000002  P00285442      M  ...                NaN                 NaN     7969\n",
              "\n",
              "[5 rows x 12 columns]"
            ]
          },
          "metadata": {},
          "execution_count": 22
        }
      ]
    },
    {
      "cell_type": "code",
      "metadata": {
        "colab": {
          "base_uri": "https://localhost:8080/",
          "height": 205
        },
        "id": "QglYQmQx2lCk",
        "outputId": "d6c6e15b-b51d-476f-9ac5-c7e70871c00a"
      },
      "source": [
        "# How many maried and gender\n",
        "df.groupby(['Gender','Marital_Status']).size().to_frame()"
      ],
      "execution_count": 23,
      "outputs": [
        {
          "output_type": "execute_result",
          "data": {
            "text/html": [
              "<div>\n",
              "<style scoped>\n",
              "    .dataframe tbody tr th:only-of-type {\n",
              "        vertical-align: middle;\n",
              "    }\n",
              "\n",
              "    .dataframe tbody tr th {\n",
              "        vertical-align: top;\n",
              "    }\n",
              "\n",
              "    .dataframe thead th {\n",
              "        text-align: right;\n",
              "    }\n",
              "</style>\n",
              "<table border=\"1\" class=\"dataframe\">\n",
              "  <thead>\n",
              "    <tr style=\"text-align: right;\">\n",
              "      <th></th>\n",
              "      <th></th>\n",
              "      <th>0</th>\n",
              "    </tr>\n",
              "    <tr>\n",
              "      <th>Gender</th>\n",
              "      <th>Marital_Status</th>\n",
              "      <th></th>\n",
              "    </tr>\n",
              "  </thead>\n",
              "  <tbody>\n",
              "    <tr>\n",
              "      <th rowspan=\"2\" valign=\"top\">F</th>\n",
              "      <th>0</th>\n",
              "      <td>76974</td>\n",
              "    </tr>\n",
              "    <tr>\n",
              "      <th>1</th>\n",
              "      <td>55223</td>\n",
              "    </tr>\n",
              "    <tr>\n",
              "      <th rowspan=\"2\" valign=\"top\">M</th>\n",
              "      <th>0</th>\n",
              "      <td>240843</td>\n",
              "    </tr>\n",
              "    <tr>\n",
              "      <th>1</th>\n",
              "      <td>164537</td>\n",
              "    </tr>\n",
              "  </tbody>\n",
              "</table>\n",
              "</div>"
            ],
            "text/plain": [
              "                            0\n",
              "Gender Marital_Status        \n",
              "F      0                76974\n",
              "       1                55223\n",
              "M      0               240843\n",
              "       1               164537"
            ]
          },
          "metadata": {},
          "execution_count": 23
        }
      ]
    },
    {
      "cell_type": "code",
      "metadata": {
        "id": "-w30NjoV2lGo"
      },
      "source": [
        "mr_gender = df.groupby(['Gender','Marital_Status']).size().to_frame()"
      ],
      "execution_count": 24,
      "outputs": []
    },
    {
      "cell_type": "code",
      "metadata": {
        "id": "0GzoZPwg2lM4"
      },
      "source": [
        "marital_df =mr_gender.reset_index()"
      ],
      "execution_count": 25,
      "outputs": []
    },
    {
      "cell_type": "code",
      "metadata": {
        "colab": {
          "base_uri": "https://localhost:8080/"
        },
        "id": "UnRYB50W2lRW",
        "outputId": "521a6f46-b0d0-4208-a0a3-0afd88d9aabb"
      },
      "source": [
        "marital_df.columns"
      ],
      "execution_count": 26,
      "outputs": [
        {
          "output_type": "execute_result",
          "data": {
            "text/plain": [
              "Index(['Gender', 'Marital_Status', 0], dtype='object')"
            ]
          },
          "metadata": {},
          "execution_count": 26
        }
      ]
    },
    {
      "cell_type": "code",
      "metadata": {
        "id": "bkBmTAMf2lVe"
      },
      "source": [
        "marital_df.rename(columns={0:'Counts'},inplace=True)"
      ],
      "execution_count": 27,
      "outputs": []
    },
    {
      "cell_type": "code",
      "metadata": {
        "colab": {
          "base_uri": "https://localhost:8080/",
          "height": 175
        },
        "id": "pIv7rCkQ2lbz",
        "outputId": "640f327b-5730-40a5-d7e1-8f77a307902e"
      },
      "source": [
        "marital_df"
      ],
      "execution_count": 28,
      "outputs": [
        {
          "output_type": "execute_result",
          "data": {
            "text/html": [
              "<div>\n",
              "<style scoped>\n",
              "    .dataframe tbody tr th:only-of-type {\n",
              "        vertical-align: middle;\n",
              "    }\n",
              "\n",
              "    .dataframe tbody tr th {\n",
              "        vertical-align: top;\n",
              "    }\n",
              "\n",
              "    .dataframe thead th {\n",
              "        text-align: right;\n",
              "    }\n",
              "</style>\n",
              "<table border=\"1\" class=\"dataframe\">\n",
              "  <thead>\n",
              "    <tr style=\"text-align: right;\">\n",
              "      <th></th>\n",
              "      <th>Gender</th>\n",
              "      <th>Marital_Status</th>\n",
              "      <th>Counts</th>\n",
              "    </tr>\n",
              "  </thead>\n",
              "  <tbody>\n",
              "    <tr>\n",
              "      <th>0</th>\n",
              "      <td>F</td>\n",
              "      <td>0</td>\n",
              "      <td>76974</td>\n",
              "    </tr>\n",
              "    <tr>\n",
              "      <th>1</th>\n",
              "      <td>F</td>\n",
              "      <td>1</td>\n",
              "      <td>55223</td>\n",
              "    </tr>\n",
              "    <tr>\n",
              "      <th>2</th>\n",
              "      <td>M</td>\n",
              "      <td>0</td>\n",
              "      <td>240843</td>\n",
              "    </tr>\n",
              "    <tr>\n",
              "      <th>3</th>\n",
              "      <td>M</td>\n",
              "      <td>1</td>\n",
              "      <td>164537</td>\n",
              "    </tr>\n",
              "  </tbody>\n",
              "</table>\n",
              "</div>"
            ],
            "text/plain": [
              "  Gender  Marital_Status  Counts\n",
              "0      F               0   76974\n",
              "1      F               1   55223\n",
              "2      M               0  240843\n",
              "3      M               1  164537"
            ]
          },
          "metadata": {},
          "execution_count": 28
        }
      ]
    },
    {
      "cell_type": "code",
      "metadata": {
        "colab": {
          "base_uri": "https://localhost:8080/"
        },
        "id": "YjtAt-Sz2lgf",
        "outputId": "52645f2f-c02e-4d17-90c7-426a52694ef4"
      },
      "source": [
        "df.shape"
      ],
      "execution_count": 29,
      "outputs": [
        {
          "output_type": "execute_result",
          "data": {
            "text/plain": [
              "(537577, 12)"
            ]
          },
          "metadata": {},
          "execution_count": 29
        }
      ]
    },
    {
      "cell_type": "code",
      "metadata": {
        "colab": {
          "base_uri": "https://localhost:8080/"
        },
        "id": "wBABTMto2lkj",
        "outputId": "3c0b6043-c477-4f2b-97e9-c534413fdead"
      },
      "source": [
        "df['Age'].unique()"
      ],
      "execution_count": 30,
      "outputs": [
        {
          "output_type": "execute_result",
          "data": {
            "text/plain": [
              "array(['0-17', '55+', '26-35', '46-50', '51-55', '36-45', '18-25'],\n",
              "      dtype=object)"
            ]
          },
          "metadata": {},
          "execution_count": 30
        }
      ]
    },
    {
      "cell_type": "code",
      "metadata": {
        "id": "llO425Iq2lo1"
      },
      "source": [
        "age_map = {\"Children\":\"0-17\",\"Young Adult\":\"18-25\",\"Young Adult(Prime)\":\"26-35\",\"Middle Adult\":\"36-45\",\"Late Adult\":\"46-50\",\"Early Old Age\":\"55+\"}"
      ],
      "execution_count": 31,
      "outputs": []
    },
    {
      "cell_type": "code",
      "metadata": {
        "colab": {
          "base_uri": "https://localhost:8080/",
          "height": 295
        },
        "id": "GFC8Q5mt3BO9",
        "outputId": "932272de-e892-487e-a6e8-d05d1bfe4a0d"
      },
      "source": [
        "df.head()"
      ],
      "execution_count": 32,
      "outputs": [
        {
          "output_type": "execute_result",
          "data": {
            "text/html": [
              "<div>\n",
              "<style scoped>\n",
              "    .dataframe tbody tr th:only-of-type {\n",
              "        vertical-align: middle;\n",
              "    }\n",
              "\n",
              "    .dataframe tbody tr th {\n",
              "        vertical-align: top;\n",
              "    }\n",
              "\n",
              "    .dataframe thead th {\n",
              "        text-align: right;\n",
              "    }\n",
              "</style>\n",
              "<table border=\"1\" class=\"dataframe\">\n",
              "  <thead>\n",
              "    <tr style=\"text-align: right;\">\n",
              "      <th></th>\n",
              "      <th>User_ID</th>\n",
              "      <th>Product_ID</th>\n",
              "      <th>Gender</th>\n",
              "      <th>Age</th>\n",
              "      <th>Occupation</th>\n",
              "      <th>City_Category</th>\n",
              "      <th>Stay_In_Current_City_Years</th>\n",
              "      <th>Marital_Status</th>\n",
              "      <th>Product_Category_1</th>\n",
              "      <th>Product_Category_2</th>\n",
              "      <th>Product_Category_3</th>\n",
              "      <th>Purchase</th>\n",
              "    </tr>\n",
              "  </thead>\n",
              "  <tbody>\n",
              "    <tr>\n",
              "      <th>0</th>\n",
              "      <td>1000001</td>\n",
              "      <td>P00069042</td>\n",
              "      <td>F</td>\n",
              "      <td>0-17</td>\n",
              "      <td>10</td>\n",
              "      <td>A</td>\n",
              "      <td>2</td>\n",
              "      <td>0</td>\n",
              "      <td>3</td>\n",
              "      <td>NaN</td>\n",
              "      <td>NaN</td>\n",
              "      <td>8370</td>\n",
              "    </tr>\n",
              "    <tr>\n",
              "      <th>1</th>\n",
              "      <td>1000001</td>\n",
              "      <td>P00248942</td>\n",
              "      <td>F</td>\n",
              "      <td>0-17</td>\n",
              "      <td>10</td>\n",
              "      <td>A</td>\n",
              "      <td>2</td>\n",
              "      <td>0</td>\n",
              "      <td>1</td>\n",
              "      <td>6.0</td>\n",
              "      <td>14.0</td>\n",
              "      <td>15200</td>\n",
              "    </tr>\n",
              "    <tr>\n",
              "      <th>2</th>\n",
              "      <td>1000001</td>\n",
              "      <td>P00087842</td>\n",
              "      <td>F</td>\n",
              "      <td>0-17</td>\n",
              "      <td>10</td>\n",
              "      <td>A</td>\n",
              "      <td>2</td>\n",
              "      <td>0</td>\n",
              "      <td>12</td>\n",
              "      <td>NaN</td>\n",
              "      <td>NaN</td>\n",
              "      <td>1422</td>\n",
              "    </tr>\n",
              "    <tr>\n",
              "      <th>3</th>\n",
              "      <td>1000001</td>\n",
              "      <td>P00085442</td>\n",
              "      <td>F</td>\n",
              "      <td>0-17</td>\n",
              "      <td>10</td>\n",
              "      <td>A</td>\n",
              "      <td>2</td>\n",
              "      <td>0</td>\n",
              "      <td>12</td>\n",
              "      <td>14.0</td>\n",
              "      <td>NaN</td>\n",
              "      <td>1057</td>\n",
              "    </tr>\n",
              "    <tr>\n",
              "      <th>4</th>\n",
              "      <td>1000002</td>\n",
              "      <td>P00285442</td>\n",
              "      <td>M</td>\n",
              "      <td>55+</td>\n",
              "      <td>16</td>\n",
              "      <td>C</td>\n",
              "      <td>4+</td>\n",
              "      <td>0</td>\n",
              "      <td>8</td>\n",
              "      <td>NaN</td>\n",
              "      <td>NaN</td>\n",
              "      <td>7969</td>\n",
              "    </tr>\n",
              "  </tbody>\n",
              "</table>\n",
              "</div>"
            ],
            "text/plain": [
              "   User_ID Product_ID Gender  ... Product_Category_2  Product_Category_3 Purchase\n",
              "0  1000001  P00069042      F  ...                NaN                 NaN     8370\n",
              "1  1000001  P00248942      F  ...                6.0                14.0    15200\n",
              "2  1000001  P00087842      F  ...                NaN                 NaN     1422\n",
              "3  1000001  P00085442      F  ...               14.0                 NaN     1057\n",
              "4  1000002  P00285442      M  ...                NaN                 NaN     7969\n",
              "\n",
              "[5 rows x 12 columns]"
            ]
          },
          "metadata": {},
          "execution_count": 32
        }
      ]
    },
    {
      "cell_type": "code",
      "metadata": {
        "colab": {
          "base_uri": "https://localhost:8080/"
        },
        "id": "aBlAaS0Y3BWg",
        "outputId": "52176aa0-c629-4962-e104-e54500e31d1b"
      },
      "source": [
        "# Check for unique Products\n",
        "df['Product_ID'].unique().tolist()"
      ],
      "execution_count": 33,
      "outputs": [
        {
          "output_type": "execute_result",
          "data": {
            "text/plain": [
              "['P00069042',\n",
              " 'P00248942',\n",
              " 'P00087842',\n",
              " 'P00085442',\n",
              " 'P00285442',\n",
              " 'P00193542',\n",
              " 'P00184942',\n",
              " 'P00346142',\n",
              " 'P0097242',\n",
              " 'P00274942',\n",
              " 'P00251242',\n",
              " 'P00014542',\n",
              " 'P00031342',\n",
              " 'P00145042',\n",
              " 'P00231342',\n",
              " 'P00190242',\n",
              " 'P0096642',\n",
              " 'P00058442',\n",
              " 'P00036842',\n",
              " 'P00249542',\n",
              " 'P00220442',\n",
              " 'P00156442',\n",
              " 'P00213742',\n",
              " 'P00214442',\n",
              " 'P00303442',\n",
              " 'P00135742',\n",
              " 'P00039942',\n",
              " 'P00161442',\n",
              " 'P00078742',\n",
              " 'P00085942',\n",
              " 'P00118742',\n",
              " 'P00297942',\n",
              " 'P00266842',\n",
              " 'P00058342',\n",
              " 'P00032442',\n",
              " 'P00105942',\n",
              " 'P00182642',\n",
              " 'P00186942',\n",
              " 'P00155442',\n",
              " 'P00221342',\n",
              " 'P00087242',\n",
              " 'P00111142',\n",
              " 'P00259342',\n",
              " 'P0094542',\n",
              " 'P00148642',\n",
              " 'P00312142',\n",
              " 'P00113242',\n",
              " 'P00192642',\n",
              " 'P00110842',\n",
              " 'P00189642',\n",
              " 'P00304242',\n",
              " 'P00365242',\n",
              " 'P00129542',\n",
              " 'P00140742',\n",
              " 'P00182342',\n",
              " 'P00276642',\n",
              " 'P00334242',\n",
              " 'P00247542',\n",
              " 'P00338442',\n",
              " 'P00275142',\n",
              " 'P00333042',\n",
              " 'P00166242',\n",
              " 'P00161942',\n",
              " 'P00348242',\n",
              " 'P00042142',\n",
              " 'P00244242',\n",
              " 'P00217742',\n",
              " 'P00019342',\n",
              " 'P00100642',\n",
              " 'P00073842',\n",
              " 'P00366542',\n",
              " 'P00190742',\n",
              " 'P00151842',\n",
              " 'P00112642',\n",
              " 'P00118442',\n",
              " 'P00034442',\n",
              " 'P00222242',\n",
              " 'P00118342',\n",
              " 'P00324742',\n",
              " 'P00190042',\n",
              " 'P0094142',\n",
              " 'P00138542',\n",
              " 'P00158542',\n",
              " 'P00157542',\n",
              " 'P00044142',\n",
              " 'P00112542',\n",
              " 'P00339542',\n",
              " 'P00127842',\n",
              " 'P00125942',\n",
              " 'P00251342',\n",
              " 'P00249642',\n",
              " 'P00124842',\n",
              " 'P00250642',\n",
              " 'P00058142',\n",
              " 'P00117442',\n",
              " 'P00251642',\n",
              " 'P00244842',\n",
              " 'P00220242',\n",
              " 'P00351142',\n",
              " 'P00213242',\n",
              " 'P00195942',\n",
              " 'P00115642',\n",
              " 'P0098242',\n",
              " 'P00262242',\n",
              " 'P00258742',\n",
              " 'P00218242',\n",
              " 'P00021742',\n",
              " 'P00313042',\n",
              " 'P00133742',\n",
              " 'P00077042',\n",
              " 'P00280542',\n",
              " 'P00225842',\n",
              " 'P00278942',\n",
              " 'P00004742',\n",
              " 'P00198042',\n",
              " 'P00177442',\n",
              " 'P00000642',\n",
              " 'P00288942',\n",
              " 'P00270942',\n",
              " 'P00345842',\n",
              " 'P00032042',\n",
              " 'P00112342',\n",
              " 'P00031842',\n",
              " 'P00346642',\n",
              " 'P00205642',\n",
              " 'P00206442',\n",
              " 'P00046742',\n",
              " 'P00120042',\n",
              " 'P00043242',\n",
              " 'P00057242',\n",
              " 'P00022842',\n",
              " 'P00252042',\n",
              " 'P00042242',\n",
              " 'P00059542',\n",
              " 'P00021242',\n",
              " 'P00023042',\n",
              " 'P00144242',\n",
              " 'P00101342',\n",
              " 'P00289342',\n",
              " 'P00281742',\n",
              " 'P00266642',\n",
              " 'P00323742',\n",
              " 'P00116342',\n",
              " 'P00117142',\n",
              " 'P00084442',\n",
              " 'P00331542',\n",
              " 'P00178942',\n",
              " 'P00026042',\n",
              " 'P00233542',\n",
              " 'P00127242',\n",
              " 'P00349942',\n",
              " 'P00303342',\n",
              " 'P00051442',\n",
              " 'P00275642',\n",
              " 'P00278642',\n",
              " 'P00322042',\n",
              " 'P00216342',\n",
              " 'P00329342',\n",
              " 'P00332342',\n",
              " 'P00111742',\n",
              " 'P00293742',\n",
              " 'P00032842',\n",
              " 'P00216142',\n",
              " 'P00001642',\n",
              " 'P00351842',\n",
              " 'P00145442',\n",
              " 'P00344242',\n",
              " 'P00327242',\n",
              " 'P00241142',\n",
              " 'P00219242',\n",
              " 'P00057342',\n",
              " 'P00165742',\n",
              " 'P00154642',\n",
              " 'P00192942',\n",
              " 'P00247042',\n",
              " 'P00150542',\n",
              " 'P00347142',\n",
              " 'P00326742',\n",
              " 'P00330442',\n",
              " 'P00327842',\n",
              " 'P00218342',\n",
              " 'P00259042',\n",
              " 'P00102542',\n",
              " 'P00121142',\n",
              " 'P00228242',\n",
              " 'P00309542',\n",
              " 'P00106742',\n",
              " 'P00102642',\n",
              " 'P00127442',\n",
              " 'P00345642',\n",
              " 'P00357842',\n",
              " 'P00115342',\n",
              " 'P00174442',\n",
              " 'P00282642',\n",
              " 'P00037142',\n",
              " 'P00192042',\n",
              " 'P00197542',\n",
              " 'P00048742',\n",
              " 'P00110142',\n",
              " 'P00120842',\n",
              " 'P00267742',\n",
              " 'P00086442',\n",
              " 'P00331842',\n",
              " 'P00288642',\n",
              " 'P00318742',\n",
              " 'P00028442',\n",
              " 'P00208342',\n",
              " 'P00277442',\n",
              " 'P00085242',\n",
              " 'P00279442',\n",
              " 'P00235242',\n",
              " 'P00251542',\n",
              " 'P00003242',\n",
              " 'P00221542',\n",
              " 'P00142142',\n",
              " 'P00044442',\n",
              " 'P00147742',\n",
              " 'P00030942',\n",
              " 'P00288042',\n",
              " 'P00313142',\n",
              " 'P00195442',\n",
              " 'P00255842',\n",
              " 'P00112142',\n",
              " 'P00120342',\n",
              " 'P00110542',\n",
              " 'P00279942',\n",
              " 'P00303742',\n",
              " 'P00316742',\n",
              " 'P00115242',\n",
              " 'P00302842',\n",
              " 'P00066442',\n",
              " 'P00273442',\n",
              " 'P00210142',\n",
              " 'P00212542',\n",
              " 'P00321742',\n",
              " 'P00020042',\n",
              " 'P00051942',\n",
              " 'P00303542',\n",
              " 'P00228142',\n",
              " 'P00123142',\n",
              " 'P00079542',\n",
              " 'P00103142',\n",
              " 'P00305542',\n",
              " 'P00031042',\n",
              " 'P00260042',\n",
              " 'P00055642',\n",
              " 'P00312742',\n",
              " 'P00010742',\n",
              " 'P00223242',\n",
              " 'P00114942',\n",
              " 'P00183242',\n",
              " 'P00030842',\n",
              " 'P00220142',\n",
              " 'P00130442',\n",
              " 'P00323042',\n",
              " 'P00344742',\n",
              " 'P00182442',\n",
              " 'P00015342',\n",
              " 'P00103042',\n",
              " 'P00187842',\n",
              " 'P00162442',\n",
              " 'P00078542',\n",
              " 'P00324442',\n",
              " 'P00041642',\n",
              " 'P00050542',\n",
              " 'P00006442',\n",
              " 'P00350942',\n",
              " 'P00000142',\n",
              " 'P00034042',\n",
              " 'P00143142',\n",
              " 'P00317942',\n",
              " 'P00335542',\n",
              " 'P00361842',\n",
              " 'P00147942',\n",
              " 'P00028042',\n",
              " 'P00117542',\n",
              " 'P00130742',\n",
              " 'P00024142',\n",
              " 'P00209742',\n",
              " 'P00160042',\n",
              " 'P00042342',\n",
              " 'P00016542',\n",
              " 'P00016742',\n",
              " 'P00227642',\n",
              " 'P00146142',\n",
              " 'P00070542',\n",
              " 'P00129842',\n",
              " 'P00243942',\n",
              " 'P00246742',\n",
              " 'P00310142',\n",
              " 'P00244142',\n",
              " 'P00190142',\n",
              " 'P00109242',\n",
              " 'P00089342',\n",
              " 'P00288542',\n",
              " 'P00212242',\n",
              " 'P00319342',\n",
              " 'P00302942',\n",
              " 'P00145942',\n",
              " 'P00026342',\n",
              " 'P00148842',\n",
              " 'P00299842',\n",
              " 'P00313342',\n",
              " 'P00102442',\n",
              " 'P00237542',\n",
              " 'P0099342',\n",
              " 'P00171542',\n",
              " 'P00350342',\n",
              " 'P00110742',\n",
              " 'P00117642',\n",
              " 'P00114142',\n",
              " 'P00119142',\n",
              " 'P00280742',\n",
              " 'P00271142',\n",
              " 'P00003942',\n",
              " 'P00151742',\n",
              " 'P00050642',\n",
              " 'P00114742',\n",
              " 'P00113942',\n",
              " 'P00120942',\n",
              " 'P00083842',\n",
              " 'P00317842',\n",
              " 'P00030642',\n",
              " 'P00273642',\n",
              " 'P00002542',\n",
              " 'P00331642',\n",
              " 'P00331242',\n",
              " 'P0096442',\n",
              " 'P00050242',\n",
              " 'P00131942',\n",
              " 'P00132042',\n",
              " 'P00013742',\n",
              " 'P00119342',\n",
              " 'P00182142',\n",
              " 'P00188942',\n",
              " 'P00203142',\n",
              " 'P00320442',\n",
              " 'P00121642',\n",
              " 'P00289542',\n",
              " 'P00329742',\n",
              " 'P00326642',\n",
              " 'P00336142',\n",
              " 'P00111442',\n",
              " 'P00234742',\n",
              " 'P00090842',\n",
              " 'P00214542',\n",
              " 'P00110942',\n",
              " 'P00289942',\n",
              " 'P00104842',\n",
              " 'P00113142',\n",
              " 'P00177942',\n",
              " 'P00265242',\n",
              " 'P00118142',\n",
              " 'P00003642',\n",
              " 'P00178342',\n",
              " 'P00289742',\n",
              " 'P00085042',\n",
              " 'P00041542',\n",
              " 'P00249142',\n",
              " 'P00284042',\n",
              " 'P00165442',\n",
              " 'P00115942',\n",
              " 'P00074442',\n",
              " 'P00047242',\n",
              " 'P00199042',\n",
              " 'P00192542',\n",
              " 'P00350042',\n",
              " 'P00248442',\n",
              " 'P00172842',\n",
              " 'P00198142',\n",
              " 'P00282142',\n",
              " 'P00166942',\n",
              " 'P00187742',\n",
              " 'P00003442',\n",
              " 'P00060242',\n",
              " 'P00137642',\n",
              " 'P00126142',\n",
              " 'P00219842',\n",
              " 'P00046142',\n",
              " 'P00328142',\n",
              " 'P00255542',\n",
              " 'P00250842',\n",
              " 'P00260142',\n",
              " 'P0097142',\n",
              " 'P00209842',\n",
              " 'P00212942',\n",
              " 'P00283942',\n",
              " 'P00303242',\n",
              " 'P00170442',\n",
              " 'P00045842',\n",
              " 'P00040442',\n",
              " 'P00195842',\n",
              " 'P00293242',\n",
              " 'P00064042',\n",
              " 'P00015542',\n",
              " 'P00105142',\n",
              " 'P00183442',\n",
              " 'P00199442',\n",
              " 'P00054542',\n",
              " 'P00034742',\n",
              " 'P00163142',\n",
              " 'P00027142',\n",
              " 'P00053942',\n",
              " 'P00173342',\n",
              " 'P00233342',\n",
              " 'P00010842',\n",
              " 'P00120242',\n",
              " 'P00223942',\n",
              " 'P00362342',\n",
              " 'P00027542',\n",
              " 'P00234842',\n",
              " 'P00029242',\n",
              " 'P0097842',\n",
              " 'P00160942',\n",
              " 'P00136542',\n",
              " 'P00127942',\n",
              " 'P00248542',\n",
              " 'P00145842',\n",
              " 'P00214342',\n",
              " 'P00161542',\n",
              " 'P00001942',\n",
              " 'P00328042',\n",
              " 'P00370242',\n",
              " 'P00340642',\n",
              " 'P00358242',\n",
              " 'P0096542',\n",
              " 'P0096942',\n",
              " 'P00074142',\n",
              " 'P00270042',\n",
              " 'P00223842',\n",
              " 'P00014842',\n",
              " 'P00274342',\n",
              " 'P00208742',\n",
              " 'P00304442',\n",
              " 'P00014042',\n",
              " 'P00133442',\n",
              " 'P00159842',\n",
              " 'P00019942',\n",
              " 'P00117042',\n",
              " 'P00141942',\n",
              " 'P00117942',\n",
              " 'P00001742',\n",
              " 'P00315442',\n",
              " 'P00297642',\n",
              " 'P00088542',\n",
              " 'P00089042',\n",
              " 'P00175742',\n",
              " 'P00035542',\n",
              " 'P00057942',\n",
              " 'P00059442',\n",
              " 'P00278042',\n",
              " 'P00154042',\n",
              " 'P00337942',\n",
              " 'P00229342',\n",
              " 'P00274242',\n",
              " 'P00084642',\n",
              " 'P00071242',\n",
              " 'P00050442',\n",
              " 'P0097342',\n",
              " 'P00269542',\n",
              " 'P00045542',\n",
              " 'P00139742',\n",
              " 'P00332242',\n",
              " 'P00205442',\n",
              " 'P00085542',\n",
              " 'P00183142',\n",
              " 'P00298242',\n",
              " 'P00300942',\n",
              " 'P00013942',\n",
              " 'P00087042',\n",
              " 'P00087342',\n",
              " 'P00195642',\n",
              " 'P00035842',\n",
              " 'P00147342',\n",
              " 'P00176842',\n",
              " 'P00275842',\n",
              " 'P00351342',\n",
              " 'P00184142',\n",
              " 'P00317342',\n",
              " 'P00217242',\n",
              " 'P00335442',\n",
              " 'P0098342',\n",
              " 'P00079742',\n",
              " 'P00143642',\n",
              " 'P00232342',\n",
              " 'P00179042',\n",
              " 'P00180942',\n",
              " 'P00265742',\n",
              " 'P00194542',\n",
              " 'P00127642',\n",
              " 'P00355142',\n",
              " 'P00144642',\n",
              " 'P00201342',\n",
              " 'P00251942',\n",
              " 'P00009342',\n",
              " 'P00191442',\n",
              " 'P00330642',\n",
              " 'P00238542',\n",
              " 'P0094942',\n",
              " 'P00068042',\n",
              " 'P00005042',\n",
              " 'P00102042',\n",
              " 'P00059742',\n",
              " 'P00248142',\n",
              " 'P00279342',\n",
              " 'P00267542',\n",
              " 'P00163342',\n",
              " 'P00116842',\n",
              " 'P00348742',\n",
              " 'P00061142',\n",
              " 'P00015942',\n",
              " 'P00346542',\n",
              " 'P00188742',\n",
              " 'P00346942',\n",
              " 'P00007042',\n",
              " 'P00240242',\n",
              " 'P00291042',\n",
              " 'P00244642',\n",
              " 'P00090542',\n",
              " 'P00274142',\n",
              " 'P00270542',\n",
              " 'P00057442',\n",
              " 'P00078142',\n",
              " 'P00245642',\n",
              " 'P00037542',\n",
              " 'P00049842',\n",
              " 'P00022942',\n",
              " 'P00350442',\n",
              " 'P00119542',\n",
              " 'P00025442',\n",
              " 'P00080342',\n",
              " 'P00338542',\n",
              " 'P00246142',\n",
              " 'P00317642',\n",
              " 'P00170642',\n",
              " 'P00115442',\n",
              " 'P00212742',\n",
              " 'P00150742',\n",
              " 'P00109342',\n",
              " 'P00162642',\n",
              " 'P00017042',\n",
              " 'P00100842',\n",
              " 'P00329442',\n",
              " 'P00303842',\n",
              " 'P00250242',\n",
              " 'P00012542',\n",
              " 'P00152442',\n",
              " 'P00248342',\n",
              " 'P00218642',\n",
              " 'P00241542',\n",
              " 'P00346442',\n",
              " 'P00295942',\n",
              " 'P00270142',\n",
              " 'P0099042',\n",
              " 'P00367142',\n",
              " 'P00118842',\n",
              " 'P00034842',\n",
              " 'P00001142',\n",
              " 'P00008842',\n",
              " 'P00222142',\n",
              " 'P00189842',\n",
              " 'P00198742',\n",
              " 'P00004242',\n",
              " 'P00173942',\n",
              " 'P00124642',\n",
              " 'P00081142',\n",
              " 'P00329542',\n",
              " 'P00020142',\n",
              " 'P00121342',\n",
              " 'P00159542',\n",
              " 'P00115142',\n",
              " 'P00227542',\n",
              " 'P00241642',\n",
              " 'P00226742',\n",
              " 'P00062842',\n",
              " 'P00028842',\n",
              " 'P00284642',\n",
              " 'P00250342',\n",
              " 'P00214142',\n",
              " 'P00188542',\n",
              " 'P00088242',\n",
              " 'P00121042',\n",
              " 'P00116742',\n",
              " 'P00289642',\n",
              " 'P00227742',\n",
              " 'P00127542',\n",
              " 'P00323942',\n",
              " 'P00101142',\n",
              " 'P00129642',\n",
              " 'P00178642',\n",
              " 'P00288442',\n",
              " 'P00274042',\n",
              " 'P00091842',\n",
              " 'P00016042',\n",
              " 'P00214242',\n",
              " 'P00008542',\n",
              " 'P00352142',\n",
              " 'P00150942',\n",
              " 'P00317442',\n",
              " 'P00063342',\n",
              " 'P00114542',\n",
              " 'P00156742',\n",
              " 'P00119242',\n",
              " 'P00193042',\n",
              " 'P00036542',\n",
              " 'P00181842',\n",
              " 'P00304742',\n",
              " 'P00163842',\n",
              " 'P00028242',\n",
              " 'P00028542',\n",
              " 'P00184442',\n",
              " 'P00137542',\n",
              " 'P00150342',\n",
              " 'P00369742',\n",
              " 'P00277942',\n",
              " 'P00207042',\n",
              " 'P00294542',\n",
              " 'P00033642',\n",
              " 'P00086042',\n",
              " 'P00057742',\n",
              " 'P00101942',\n",
              " 'P00113342',\n",
              " 'P00052642',\n",
              " 'P00021642',\n",
              " 'P00007342',\n",
              " 'P00154742',\n",
              " 'P00016342',\n",
              " 'P00141842',\n",
              " 'P00197442',\n",
              " 'P00048642',\n",
              " 'P00358742',\n",
              " 'P00370342',\n",
              " 'P00031442',\n",
              " 'P00128242',\n",
              " 'P00211142',\n",
              " 'P00152742',\n",
              " 'P00211042',\n",
              " 'P00148342',\n",
              " 'P00134342',\n",
              " 'P00159942',\n",
              " 'P00031642',\n",
              " 'P00307342',\n",
              " 'P00022542',\n",
              " 'P00323842',\n",
              " 'P00252442',\n",
              " 'P00304842',\n",
              " 'P00240142',\n",
              " 'P00140042',\n",
              " 'P00289042',\n",
              " 'P00141442',\n",
              " 'P00345742',\n",
              " 'P00065342',\n",
              " 'P00298142',\n",
              " 'P00111542',\n",
              " 'P00347242',\n",
              " 'P00277642',\n",
              " 'P00024042',\n",
              " 'P00064942',\n",
              " 'P00112442',\n",
              " 'P00312942',\n",
              " 'P00125742',\n",
              " 'P00285742',\n",
              " 'P00004842',\n",
              " 'P00010242',\n",
              " 'P00014742',\n",
              " 'P00079442',\n",
              " 'P00208942',\n",
              " 'P00322342',\n",
              " 'P00309142',\n",
              " 'P00305142',\n",
              " 'P00128042',\n",
              " 'P00229742',\n",
              " 'P00194642',\n",
              " 'P00149542',\n",
              " 'P00138242',\n",
              " 'P00035242',\n",
              " 'P00135842',\n",
              " 'P00035742',\n",
              " 'P00019142',\n",
              " 'P00188442',\n",
              " 'P00346342',\n",
              " 'P00111042',\n",
              " 'P00238442',\n",
              " 'P00270242',\n",
              " 'P00197342',\n",
              " 'P00318142',\n",
              " 'P00049642',\n",
              " 'P00303642',\n",
              " 'P00071442',\n",
              " 'P00226442',\n",
              " 'P0098542',\n",
              " 'P00231142',\n",
              " 'P00031542',\n",
              " 'P00053842',\n",
              " 'P00176042',\n",
              " 'P00116142',\n",
              " 'P00089442',\n",
              " 'P00128942',\n",
              " 'P00139942',\n",
              " 'P00194442',\n",
              " 'P00178442',\n",
              " 'P00119742',\n",
              " 'P00279642',\n",
              " 'P00048142',\n",
              " 'P00042942',\n",
              " 'P00241242',\n",
              " 'P00250542',\n",
              " 'P00100442',\n",
              " 'P00279142',\n",
              " 'P00256542',\n",
              " 'P00272042',\n",
              " 'P00057642',\n",
              " 'P00348542',\n",
              " 'P00310242',\n",
              " 'P00350542',\n",
              " 'P00318942',\n",
              " 'P00150142',\n",
              " 'P00062742',\n",
              " 'P00367042',\n",
              " 'P00070042',\n",
              " 'P00211942',\n",
              " 'P00252842',\n",
              " 'P00341342',\n",
              " 'P00117342',\n",
              " 'P00044342',\n",
              " 'P00090942',\n",
              " 'P00302742',\n",
              " 'P00286842',\n",
              " 'P00102342',\n",
              " 'P00104542',\n",
              " 'P00360042',\n",
              " 'P00307642',\n",
              " 'P00052842',\n",
              " 'P00057542',\n",
              " 'P00282842',\n",
              " 'P00281542',\n",
              " 'P00367542',\n",
              " 'P00253042',\n",
              " 'P00221942',\n",
              " 'P00288342',\n",
              " 'P00115542',\n",
              " 'P00321942',\n",
              " 'P00100142',\n",
              " 'P00313542',\n",
              " 'P00120142',\n",
              " 'P00129742',\n",
              " 'P00182742',\n",
              " 'P00020342',\n",
              " 'P00158142',\n",
              " 'P00002142',\n",
              " 'P00247742',\n",
              " 'P00092642',\n",
              " 'P00051142',\n",
              " 'P00005642',\n",
              " 'P00102242',\n",
              " 'P00283242',\n",
              " 'P00017742',\n",
              " 'P00247642',\n",
              " 'P0009942',\n",
              " 'P00155742',\n",
              " 'P00023642',\n",
              " 'P00307542',\n",
              " 'P00125342',\n",
              " 'P00367242',\n",
              " 'P0095142',\n",
              " 'P00023142',\n",
              " 'P00127342',\n",
              " 'P00153742',\n",
              " 'P00117742',\n",
              " 'P00143342',\n",
              " 'P00277542',\n",
              " 'P00324942',\n",
              " 'P00092242',\n",
              " 'P00355942',\n",
              " 'P00013342',\n",
              " 'P00089542',\n",
              " 'P00107642',\n",
              " 'P00267142',\n",
              " 'P00021842',\n",
              " 'P00182242',\n",
              " 'P00050342',\n",
              " 'P0099742',\n",
              " 'P00212342',\n",
              " 'P00153642',\n",
              " 'P00244042',\n",
              " 'P00049442',\n",
              " 'P00068942',\n",
              " 'P00029842',\n",
              " 'P00089242',\n",
              " 'P00322742',\n",
              " 'P00168742',\n",
              " 'P00136442',\n",
              " 'P00256642',\n",
              " 'P00158242',\n",
              " 'P00357942',\n",
              " 'P00042842',\n",
              " 'P00330042',\n",
              " 'P00038342',\n",
              " 'P00287542',\n",
              " 'P00196142',\n",
              " 'P00187442',\n",
              " 'P00303142',\n",
              " 'P00277842',\n",
              " 'P0095342',\n",
              " 'P00048442',\n",
              " 'P00128342',\n",
              " 'P00021342',\n",
              " 'P00226142',\n",
              " 'P00164342',\n",
              " 'P00041142',\n",
              " 'P00222942',\n",
              " 'P00041042',\n",
              " 'P00354342',\n",
              " 'P00223642',\n",
              " 'P00179642',\n",
              " 'P00093642',\n",
              " 'P00272242',\n",
              " 'P00075742',\n",
              " 'P00224142',\n",
              " 'P00027642',\n",
              " 'P00265542',\n",
              " 'P00041742',\n",
              " 'P00053542',\n",
              " 'P00227842',\n",
              " 'P00137242',\n",
              " 'P00207242',\n",
              " 'P00328342',\n",
              " 'P00055142',\n",
              " 'P00297042',\n",
              " 'P00289242',\n",
              " 'P00230842',\n",
              " 'P00193242',\n",
              " 'P00326842',\n",
              " 'P00050742',\n",
              " 'P00266542',\n",
              " 'P00352842',\n",
              " 'P00242742',\n",
              " 'P00015642',\n",
              " 'P00114042',\n",
              " 'P00357242',\n",
              " 'P00118542',\n",
              " 'P00313442',\n",
              " 'P00285842',\n",
              " 'P00161142',\n",
              " 'P00200642',\n",
              " 'P00343042',\n",
              " 'P00326242',\n",
              " 'P00196742',\n",
              " 'P00129342',\n",
              " 'P00025542',\n",
              " 'P00128742',\n",
              " 'P00087442',\n",
              " 'P00335242',\n",
              " 'P00161242',\n",
              " 'P00033342',\n",
              " 'P00101242',\n",
              " 'P00205242',\n",
              " 'P00302042',\n",
              " 'P00362442',\n",
              " 'P00206642',\n",
              " 'P00045342',\n",
              " 'P00214742',\n",
              " 'P00344842',\n",
              " 'P00119642',\n",
              " 'P00362542',\n",
              " 'P00246942',\n",
              " 'P00191742',\n",
              " 'P00303042',\n",
              " 'P00281942',\n",
              " 'P00295242',\n",
              " 'P00295842',\n",
              " 'P00178042',\n",
              " 'P00114342',\n",
              " 'P00249042',\n",
              " 'P00136342',\n",
              " 'P00331942',\n",
              " 'P00218842',\n",
              " 'P00102942',\n",
              " 'P00058042',\n",
              " 'P00022642',\n",
              " 'P00268442',\n",
              " 'P00114642',\n",
              " 'P00255742',\n",
              " 'P00106942',\n",
              " 'P00111842',\n",
              " 'P00304142',\n",
              " 'P00249842',\n",
              " 'P00323442',\n",
              " 'P00129442',\n",
              " 'P00021042',\n",
              " 'P00363742',\n",
              " 'P00225042',\n",
              " 'P00002642',\n",
              " 'P00234542',\n",
              " 'P00173842',\n",
              " 'P00205942',\n",
              " 'P00327342',\n",
              " 'P00089142',\n",
              " 'P00024742',\n",
              " 'P00053642',\n",
              " 'P00101842',\n",
              " 'P00011342',\n",
              " 'P00002942',\n",
              " 'P00258442',\n",
              " 'P00246342',\n",
              " 'P00331342',\n",
              " 'P00360742',\n",
              " 'P00120442',\n",
              " 'P00196042',\n",
              " 'P00276142',\n",
              " 'P00176942',\n",
              " 'P00216542',\n",
              " 'P00295542',\n",
              " 'P00091142',\n",
              " 'P00026542',\n",
              " 'P00242042',\n",
              " 'P00184342',\n",
              " 'P00049542',\n",
              " 'P00155642',\n",
              " 'P00347342',\n",
              " 'P00007142',\n",
              " 'P00221442',\n",
              " 'P00167942',\n",
              " 'P00201442',\n",
              " 'P00014642',\n",
              " 'P00285642',\n",
              " 'P00246042',\n",
              " 'P00204342',\n",
              " 'P00025042',\n",
              " 'P00066542',\n",
              " 'P00177342',\n",
              " 'P00322942',\n",
              " 'P00266042',\n",
              " 'P00177642',\n",
              " 'P00281642',\n",
              " 'P00282442',\n",
              " 'P00042742',\n",
              " 'P00001242',\n",
              " 'P00339942',\n",
              " 'P00029542',\n",
              " 'P00244342',\n",
              " 'P00280642',\n",
              " 'P00244442',\n",
              " 'P00105442',\n",
              " 'P00194142',\n",
              " 'P00313942',\n",
              " 'P00084342',\n",
              " 'P00198642',\n",
              " 'P00115842',\n",
              " 'P00128142',\n",
              " 'P00021142',\n",
              " 'P00043542',\n",
              " 'P00102842',\n",
              " 'P00041842',\n",
              " 'P00242642',\n",
              " 'P00231942',\n",
              " 'P00174142',\n",
              " 'P00260442',\n",
              " 'P00016842',\n",
              " 'P00255942',\n",
              " 'P00268342',\n",
              " 'P00223542',\n",
              " 'P00122442',\n",
              " 'P00298942',\n",
              " 'P00042542',\n",
              " 'P00078842',\n",
              " 'P00084842',\n",
              " 'P00216742',\n",
              " 'P00006142',\n",
              " 'P00233442',\n",
              " 'P00024342',\n",
              " 'P00024242',\n",
              " 'P00093342',\n",
              " 'P00333642',\n",
              " 'P00364442',\n",
              " 'P00346042',\n",
              " 'P00282242',\n",
              " 'P00180342',\n",
              " 'P00113642',\n",
              " 'P00001042',\n",
              " 'P00083942',\n",
              " 'P00117842',\n",
              " 'P00148042',\n",
              " 'P00053042',\n",
              " 'P00004642',\n",
              " 'P00158042',\n",
              " 'P00259142',\n",
              " 'P00282042',\n",
              " 'P00047942',\n",
              " 'P00131542',\n",
              " 'P00264242',\n",
              " 'P00343442',\n",
              " 'P00254642',\n",
              " 'P00320842',\n",
              " 'P00074242',\n",
              " 'P00018142',\n",
              " 'P00229942',\n",
              " 'P00355642',\n",
              " 'P00142942',\n",
              " 'P00035342',\n",
              " ...]"
            ]
          },
          "metadata": {},
          "execution_count": 33
        }
      ]
    },
    {
      "cell_type": "code",
      "metadata": {
        "id": "Ohkpqjxr3Bfg"
      },
      "source": [
        "# Convert to Dict\n",
        "def make_dict(col):\n",
        "    d = {v:k for k,v in enumerate(col.unique())}\n",
        "    return d"
      ],
      "execution_count": 34,
      "outputs": []
    },
    {
      "cell_type": "code",
      "metadata": {
        "id": "c-6yiGDw3Bjd"
      },
      "source": [
        "age_dict = make_dict(df['Age'])"
      ],
      "execution_count": 35,
      "outputs": []
    },
    {
      "cell_type": "code",
      "metadata": {
        "colab": {
          "base_uri": "https://localhost:8080/"
        },
        "id": "Ka8Stc423BnI",
        "outputId": "5eed8365-0365-4190-e7f5-471a62c87079"
      },
      "source": [
        "age_dict"
      ],
      "execution_count": 36,
      "outputs": [
        {
          "output_type": "execute_result",
          "data": {
            "text/plain": [
              "{'0-17': 0,\n",
              " '18-25': 6,\n",
              " '26-35': 2,\n",
              " '36-45': 5,\n",
              " '46-50': 3,\n",
              " '51-55': 4,\n",
              " '55+': 1}"
            ]
          },
          "metadata": {},
          "execution_count": 36
        }
      ]
    },
    {
      "cell_type": "code",
      "metadata": {
        "id": "MAH39nv23Bqa"
      },
      "source": [
        "age_dict = {'0-17': 1,\n",
        " '55+': 7,\n",
        " '26-35': 3,\n",
        " '46-50': 5,\n",
        " '51-55': 6,\n",
        " '36-45': 4,\n",
        " '18-25': 2}"
      ],
      "execution_count": 37,
      "outputs": []
    },
    {
      "cell_type": "code",
      "metadata": {
        "colab": {
          "base_uri": "https://localhost:8080/"
        },
        "id": "ZZhk2G1G2lsg",
        "outputId": "e38cf1ff-5e05-4cc3-faa6-421b1647a5e5"
      },
      "source": [
        "age_dict"
      ],
      "execution_count": 38,
      "outputs": [
        {
          "output_type": "execute_result",
          "data": {
            "text/plain": [
              "{'0-17': 1,\n",
              " '18-25': 2,\n",
              " '26-35': 3,\n",
              " '36-45': 4,\n",
              " '46-50': 5,\n",
              " '51-55': 6,\n",
              " '55+': 7}"
            ]
          },
          "metadata": {},
          "execution_count": 38
        }
      ]
    },
    {
      "cell_type": "code",
      "metadata": {
        "id": "azHJaVK13U5n"
      },
      "source": [
        "ity_dict = make_dict(df['City_Category'])"
      ],
      "execution_count": 39,
      "outputs": []
    },
    {
      "cell_type": "code",
      "metadata": {
        "id": "DKa9fnHs3U_q"
      },
      "source": [
        "city_dict = {'A': 0, 'C': 2, 'B': 1}"
      ],
      "execution_count": 40,
      "outputs": []
    },
    {
      "cell_type": "code",
      "metadata": {
        "colab": {
          "base_uri": "https://localhost:8080/"
        },
        "id": "NQOIbMKp3VFK",
        "outputId": "41bb835f-0177-44f8-d60a-7d611c2faab8"
      },
      "source": [
        "df['Stay_In_Current_City_Years'].unique()"
      ],
      "execution_count": 41,
      "outputs": [
        {
          "output_type": "execute_result",
          "data": {
            "text/plain": [
              "array(['2', '4+', '3', '1', '0'], dtype=object)"
            ]
          },
          "metadata": {},
          "execution_count": 41
        }
      ]
    },
    {
      "cell_type": "code",
      "metadata": {
        "id": "QUlIAHCZ3VJi"
      },
      "source": [
        "df['Stay_In_Current_City_Years'].replace('4+',4,inplace=True)"
      ],
      "execution_count": 42,
      "outputs": []
    },
    {
      "cell_type": "code",
      "metadata": {
        "colab": {
          "base_uri": "https://localhost:8080/"
        },
        "id": "MZvFtJSA3VNv",
        "outputId": "5aed6481-8226-4ff3-88c6-3862bde109dc"
      },
      "source": [
        "# Occupation\n",
        "df['Occupation'].unique()"
      ],
      "execution_count": 43,
      "outputs": [
        {
          "output_type": "execute_result",
          "data": {
            "text/plain": [
              "array([10, 16, 15,  7, 20,  9,  1, 12, 17,  0,  3,  4, 11,  8, 19,  2, 18,\n",
              "        5, 14, 13,  6])"
            ]
          },
          "metadata": {},
          "execution_count": 43
        }
      ]
    },
    {
      "cell_type": "code",
      "metadata": {
        "colab": {
          "base_uri": "https://localhost:8080/"
        },
        "id": "SUTafx1x3tXA",
        "outputId": "f400221f-9571-4d48-87be-05fe371c1716"
      },
      "source": [
        "# Marital Status\n",
        "df['Marital_Status'].unique()"
      ],
      "execution_count": 44,
      "outputs": [
        {
          "output_type": "execute_result",
          "data": {
            "text/plain": [
              "array([0, 1])"
            ]
          },
          "metadata": {},
          "execution_count": 44
        }
      ]
    },
    {
      "cell_type": "code",
      "metadata": {
        "colab": {
          "base_uri": "https://localhost:8080/"
        },
        "id": "gJQayvkV3tco",
        "outputId": "e787ea41-763f-403c-aad4-e25fcce29d1d"
      },
      "source": [
        "df['Product_Category_1'].isnull().sum()"
      ],
      "execution_count": 45,
      "outputs": [
        {
          "output_type": "execute_result",
          "data": {
            "text/plain": [
              "0"
            ]
          },
          "metadata": {},
          "execution_count": 45
        }
      ]
    },
    {
      "cell_type": "code",
      "metadata": {
        "colab": {
          "base_uri": "https://localhost:8080/"
        },
        "id": "82ePxkQe3tj_",
        "outputId": "ec436836-74e4-429f-d880-97f19eb47297"
      },
      "source": [
        "df['Product_Category_2'].isnull().sum()"
      ],
      "execution_count": 46,
      "outputs": [
        {
          "output_type": "execute_result",
          "data": {
            "text/plain": [
              "166986"
            ]
          },
          "metadata": {},
          "execution_count": 46
        }
      ]
    },
    {
      "cell_type": "code",
      "metadata": {
        "colab": {
          "base_uri": "https://localhost:8080/"
        },
        "id": "vlqPLW5E3tqt",
        "outputId": "97a3ffeb-3f0a-46d8-bec4-263f0555dc15"
      },
      "source": [
        "df['Product_Category_2'].unique()"
      ],
      "execution_count": 47,
      "outputs": [
        {
          "output_type": "execute_result",
          "data": {
            "text/plain": [
              "array([nan,  6., 14.,  2.,  8., 15., 16., 11.,  5.,  3.,  4., 12.,  9.,\n",
              "       10., 17., 13.,  7., 18.])"
            ]
          },
          "metadata": {},
          "execution_count": 47
        }
      ]
    },
    {
      "cell_type": "code",
      "metadata": {
        "id": "WDNcJm0M3tu0"
      },
      "source": [
        "# Fill Na\n",
        "df['Product_Category_2'].fillna(df['Product_Category_2'].value_counts().idxmax(),inplace=True)"
      ],
      "execution_count": 48,
      "outputs": []
    },
    {
      "cell_type": "code",
      "metadata": {
        "id": "mUhEahBX3ty1"
      },
      "source": [
        "# Fill Na\n",
        "df['Product_Category_3'].fillna(df['Product_Category_3'].value_counts().idxmax(),inplace=True)"
      ],
      "execution_count": 49,
      "outputs": []
    },
    {
      "cell_type": "code",
      "metadata": {
        "colab": {
          "base_uri": "https://localhost:8080/"
        },
        "id": "WsK743LA3VRT",
        "outputId": "697ea99a-28f5-4f91-adf1-e418762c5758"
      },
      "source": [
        "# Check For Missing Values\n",
        "df.isnull().sum()"
      ],
      "execution_count": 50,
      "outputs": [
        {
          "output_type": "execute_result",
          "data": {
            "text/plain": [
              "User_ID                       0\n",
              "Product_ID                    0\n",
              "Gender                        0\n",
              "Age                           0\n",
              "Occupation                    0\n",
              "City_Category                 0\n",
              "Stay_In_Current_City_Years    0\n",
              "Marital_Status                0\n",
              "Product_Category_1            0\n",
              "Product_Category_2            0\n",
              "Product_Category_3            0\n",
              "Purchase                      0\n",
              "dtype: int64"
            ]
          },
          "metadata": {},
          "execution_count": 50
        }
      ]
    },
    {
      "cell_type": "code",
      "metadata": {
        "colab": {
          "base_uri": "https://localhost:8080/"
        },
        "id": "pvv-5nmv3VUt",
        "outputId": "42c88031-f7c9-4108-bb29-23fb4c76d8ac"
      },
      "source": [
        "# Encoding Dataset\n",
        "df.dtypes"
      ],
      "execution_count": 51,
      "outputs": [
        {
          "output_type": "execute_result",
          "data": {
            "text/plain": [
              "User_ID                         int64\n",
              "Product_ID                     object\n",
              "Gender                         object\n",
              "Age                            object\n",
              "Occupation                      int64\n",
              "City_Category                  object\n",
              "Stay_In_Current_City_Years     object\n",
              "Marital_Status                  int64\n",
              "Product_Category_1              int64\n",
              "Product_Category_2            float64\n",
              "Product_Category_3            float64\n",
              "Purchase                        int64\n",
              "dtype: object"
            ]
          },
          "metadata": {},
          "execution_count": 51
        }
      ]
    },
    {
      "cell_type": "code",
      "metadata": {
        "id": "GoZgZIrw4Fta"
      },
      "source": [
        "df_clean = df"
      ],
      "execution_count": 52,
      "outputs": []
    },
    {
      "cell_type": "code",
      "metadata": {
        "id": "bQubHurS4Fz1"
      },
      "source": [
        "df_clean.to_csv(\"Black_Friday_No_Missing_Value.csv\")"
      ],
      "execution_count": 53,
      "outputs": []
    },
    {
      "cell_type": "code",
      "metadata": {
        "id": "LGgeZGwT4Oeb"
      },
      "source": [
        "# Gender\n",
        "df['Gender'] = df['Gender'].map({\"F\":0,\"M\":1})"
      ],
      "execution_count": 54,
      "outputs": []
    },
    {
      "cell_type": "code",
      "metadata": {
        "colab": {
          "base_uri": "https://localhost:8080/",
          "height": 295
        },
        "id": "fExeasij4F21",
        "outputId": "d9151cc0-b755-4c47-a430-0df222db660e"
      },
      "source": [
        "df.head()"
      ],
      "execution_count": 55,
      "outputs": [
        {
          "output_type": "execute_result",
          "data": {
            "text/html": [
              "<div>\n",
              "<style scoped>\n",
              "    .dataframe tbody tr th:only-of-type {\n",
              "        vertical-align: middle;\n",
              "    }\n",
              "\n",
              "    .dataframe tbody tr th {\n",
              "        vertical-align: top;\n",
              "    }\n",
              "\n",
              "    .dataframe thead th {\n",
              "        text-align: right;\n",
              "    }\n",
              "</style>\n",
              "<table border=\"1\" class=\"dataframe\">\n",
              "  <thead>\n",
              "    <tr style=\"text-align: right;\">\n",
              "      <th></th>\n",
              "      <th>User_ID</th>\n",
              "      <th>Product_ID</th>\n",
              "      <th>Gender</th>\n",
              "      <th>Age</th>\n",
              "      <th>Occupation</th>\n",
              "      <th>City_Category</th>\n",
              "      <th>Stay_In_Current_City_Years</th>\n",
              "      <th>Marital_Status</th>\n",
              "      <th>Product_Category_1</th>\n",
              "      <th>Product_Category_2</th>\n",
              "      <th>Product_Category_3</th>\n",
              "      <th>Purchase</th>\n",
              "    </tr>\n",
              "  </thead>\n",
              "  <tbody>\n",
              "    <tr>\n",
              "      <th>0</th>\n",
              "      <td>1000001</td>\n",
              "      <td>P00069042</td>\n",
              "      <td>0</td>\n",
              "      <td>0-17</td>\n",
              "      <td>10</td>\n",
              "      <td>A</td>\n",
              "      <td>2</td>\n",
              "      <td>0</td>\n",
              "      <td>3</td>\n",
              "      <td>8.0</td>\n",
              "      <td>16.0</td>\n",
              "      <td>8370</td>\n",
              "    </tr>\n",
              "    <tr>\n",
              "      <th>1</th>\n",
              "      <td>1000001</td>\n",
              "      <td>P00248942</td>\n",
              "      <td>0</td>\n",
              "      <td>0-17</td>\n",
              "      <td>10</td>\n",
              "      <td>A</td>\n",
              "      <td>2</td>\n",
              "      <td>0</td>\n",
              "      <td>1</td>\n",
              "      <td>6.0</td>\n",
              "      <td>14.0</td>\n",
              "      <td>15200</td>\n",
              "    </tr>\n",
              "    <tr>\n",
              "      <th>2</th>\n",
              "      <td>1000001</td>\n",
              "      <td>P00087842</td>\n",
              "      <td>0</td>\n",
              "      <td>0-17</td>\n",
              "      <td>10</td>\n",
              "      <td>A</td>\n",
              "      <td>2</td>\n",
              "      <td>0</td>\n",
              "      <td>12</td>\n",
              "      <td>8.0</td>\n",
              "      <td>16.0</td>\n",
              "      <td>1422</td>\n",
              "    </tr>\n",
              "    <tr>\n",
              "      <th>3</th>\n",
              "      <td>1000001</td>\n",
              "      <td>P00085442</td>\n",
              "      <td>0</td>\n",
              "      <td>0-17</td>\n",
              "      <td>10</td>\n",
              "      <td>A</td>\n",
              "      <td>2</td>\n",
              "      <td>0</td>\n",
              "      <td>12</td>\n",
              "      <td>14.0</td>\n",
              "      <td>16.0</td>\n",
              "      <td>1057</td>\n",
              "    </tr>\n",
              "    <tr>\n",
              "      <th>4</th>\n",
              "      <td>1000002</td>\n",
              "      <td>P00285442</td>\n",
              "      <td>1</td>\n",
              "      <td>55+</td>\n",
              "      <td>16</td>\n",
              "      <td>C</td>\n",
              "      <td>4</td>\n",
              "      <td>0</td>\n",
              "      <td>8</td>\n",
              "      <td>8.0</td>\n",
              "      <td>16.0</td>\n",
              "      <td>7969</td>\n",
              "    </tr>\n",
              "  </tbody>\n",
              "</table>\n",
              "</div>"
            ],
            "text/plain": [
              "   User_ID Product_ID  Gender  ... Product_Category_2  Product_Category_3 Purchase\n",
              "0  1000001  P00069042       0  ...                8.0                16.0     8370\n",
              "1  1000001  P00248942       0  ...                6.0                14.0    15200\n",
              "2  1000001  P00087842       0  ...                8.0                16.0     1422\n",
              "3  1000001  P00085442       0  ...               14.0                16.0     1057\n",
              "4  1000002  P00285442       1  ...                8.0                16.0     7969\n",
              "\n",
              "[5 rows x 12 columns]"
            ]
          },
          "metadata": {},
          "execution_count": 55
        }
      ]
    },
    {
      "cell_type": "code",
      "metadata": {
        "id": "4weUnHoZ4F6p"
      },
      "source": [
        "df['Age'] = df['Age'].map(age_dict)"
      ],
      "execution_count": 56,
      "outputs": []
    },
    {
      "cell_type": "code",
      "metadata": {
        "colab": {
          "base_uri": "https://localhost:8080/"
        },
        "id": "sOgu1rvo4F9r",
        "outputId": "6428a198-ca00-4d82-b056-71680d5dcb53"
      },
      "source": [
        "age_dict"
      ],
      "execution_count": 57,
      "outputs": [
        {
          "output_type": "execute_result",
          "data": {
            "text/plain": [
              "{'0-17': 1,\n",
              " '18-25': 2,\n",
              " '26-35': 3,\n",
              " '36-45': 4,\n",
              " '46-50': 5,\n",
              " '51-55': 6,\n",
              " '55+': 7}"
            ]
          },
          "metadata": {},
          "execution_count": 57
        }
      ]
    },
    {
      "cell_type": "code",
      "metadata": {
        "id": "6LT95yZJ4GBk"
      },
      "source": [
        "df['City_Category'] = df['City_Category'].map(city_dict)"
      ],
      "execution_count": 58,
      "outputs": []
    },
    {
      "cell_type": "code",
      "metadata": {
        "colab": {
          "base_uri": "https://localhost:8080/",
          "height": 225
        },
        "id": "wTbo8-2n4GFD",
        "outputId": "1b87b8bf-8753-4697-a7b6-c9d0cc2673b6"
      },
      "source": [
        "df.head()"
      ],
      "execution_count": 59,
      "outputs": [
        {
          "output_type": "execute_result",
          "data": {
            "text/html": [
              "<div>\n",
              "<style scoped>\n",
              "    .dataframe tbody tr th:only-of-type {\n",
              "        vertical-align: middle;\n",
              "    }\n",
              "\n",
              "    .dataframe tbody tr th {\n",
              "        vertical-align: top;\n",
              "    }\n",
              "\n",
              "    .dataframe thead th {\n",
              "        text-align: right;\n",
              "    }\n",
              "</style>\n",
              "<table border=\"1\" class=\"dataframe\">\n",
              "  <thead>\n",
              "    <tr style=\"text-align: right;\">\n",
              "      <th></th>\n",
              "      <th>User_ID</th>\n",
              "      <th>Product_ID</th>\n",
              "      <th>Gender</th>\n",
              "      <th>Age</th>\n",
              "      <th>Occupation</th>\n",
              "      <th>City_Category</th>\n",
              "      <th>Stay_In_Current_City_Years</th>\n",
              "      <th>Marital_Status</th>\n",
              "      <th>Product_Category_1</th>\n",
              "      <th>Product_Category_2</th>\n",
              "      <th>Product_Category_3</th>\n",
              "      <th>Purchase</th>\n",
              "    </tr>\n",
              "  </thead>\n",
              "  <tbody>\n",
              "    <tr>\n",
              "      <th>0</th>\n",
              "      <td>1000001</td>\n",
              "      <td>P00069042</td>\n",
              "      <td>0</td>\n",
              "      <td>1</td>\n",
              "      <td>10</td>\n",
              "      <td>0</td>\n",
              "      <td>2</td>\n",
              "      <td>0</td>\n",
              "      <td>3</td>\n",
              "      <td>8.0</td>\n",
              "      <td>16.0</td>\n",
              "      <td>8370</td>\n",
              "    </tr>\n",
              "    <tr>\n",
              "      <th>1</th>\n",
              "      <td>1000001</td>\n",
              "      <td>P00248942</td>\n",
              "      <td>0</td>\n",
              "      <td>1</td>\n",
              "      <td>10</td>\n",
              "      <td>0</td>\n",
              "      <td>2</td>\n",
              "      <td>0</td>\n",
              "      <td>1</td>\n",
              "      <td>6.0</td>\n",
              "      <td>14.0</td>\n",
              "      <td>15200</td>\n",
              "    </tr>\n",
              "    <tr>\n",
              "      <th>2</th>\n",
              "      <td>1000001</td>\n",
              "      <td>P00087842</td>\n",
              "      <td>0</td>\n",
              "      <td>1</td>\n",
              "      <td>10</td>\n",
              "      <td>0</td>\n",
              "      <td>2</td>\n",
              "      <td>0</td>\n",
              "      <td>12</td>\n",
              "      <td>8.0</td>\n",
              "      <td>16.0</td>\n",
              "      <td>1422</td>\n",
              "    </tr>\n",
              "    <tr>\n",
              "      <th>3</th>\n",
              "      <td>1000001</td>\n",
              "      <td>P00085442</td>\n",
              "      <td>0</td>\n",
              "      <td>1</td>\n",
              "      <td>10</td>\n",
              "      <td>0</td>\n",
              "      <td>2</td>\n",
              "      <td>0</td>\n",
              "      <td>12</td>\n",
              "      <td>14.0</td>\n",
              "      <td>16.0</td>\n",
              "      <td>1057</td>\n",
              "    </tr>\n",
              "    <tr>\n",
              "      <th>4</th>\n",
              "      <td>1000002</td>\n",
              "      <td>P00285442</td>\n",
              "      <td>1</td>\n",
              "      <td>7</td>\n",
              "      <td>16</td>\n",
              "      <td>2</td>\n",
              "      <td>4</td>\n",
              "      <td>0</td>\n",
              "      <td>8</td>\n",
              "      <td>8.0</td>\n",
              "      <td>16.0</td>\n",
              "      <td>7969</td>\n",
              "    </tr>\n",
              "  </tbody>\n",
              "</table>\n",
              "</div>"
            ],
            "text/plain": [
              "   User_ID Product_ID  Gender  ...  Product_Category_2  Product_Category_3  Purchase\n",
              "0  1000001  P00069042       0  ...                 8.0                16.0      8370\n",
              "1  1000001  P00248942       0  ...                 6.0                14.0     15200\n",
              "2  1000001  P00087842       0  ...                 8.0                16.0      1422\n",
              "3  1000001  P00085442       0  ...                14.0                16.0      1057\n",
              "4  1000002  P00285442       1  ...                 8.0                16.0      7969\n",
              "\n",
              "[5 rows x 12 columns]"
            ]
          },
          "metadata": {},
          "execution_count": 59
        }
      ]
    },
    {
      "cell_type": "code",
      "metadata": {
        "colab": {
          "base_uri": "https://localhost:8080/"
        },
        "id": "MlLcEyYh4GJP",
        "outputId": "09ec6ec1-82e2-4c12-e9b4-45cacfbdcbbf"
      },
      "source": [
        "# Save Numeric Data\n",
        "df.dtypes"
      ],
      "execution_count": 60,
      "outputs": [
        {
          "output_type": "execute_result",
          "data": {
            "text/plain": [
              "User_ID                         int64\n",
              "Product_ID                     object\n",
              "Gender                          int64\n",
              "Age                             int64\n",
              "Occupation                      int64\n",
              "City_Category                   int64\n",
              "Stay_In_Current_City_Years     object\n",
              "Marital_Status                  int64\n",
              "Product_Category_1              int64\n",
              "Product_Category_2            float64\n",
              "Product_Category_3            float64\n",
              "Purchase                        int64\n",
              "dtype: object"
            ]
          },
          "metadata": {},
          "execution_count": 60
        }
      ]
    },
    {
      "cell_type": "code",
      "metadata": {
        "id": "5yDJZ7zP4GMf"
      },
      "source": [
        "df['Stay_In_Current_City_Years'] = df['Stay_In_Current_City_Years'].astype(int)"
      ],
      "execution_count": 61,
      "outputs": []
    },
    {
      "cell_type": "code",
      "metadata": {
        "colab": {
          "base_uri": "https://localhost:8080/"
        },
        "id": "CQhTGDXD4m8B",
        "outputId": "525ee8f4-5209-4555-849f-9c1012bfa40f"
      },
      "source": [
        "df.dtypes"
      ],
      "execution_count": 62,
      "outputs": [
        {
          "output_type": "execute_result",
          "data": {
            "text/plain": [
              "User_ID                         int64\n",
              "Product_ID                     object\n",
              "Gender                          int64\n",
              "Age                             int64\n",
              "Occupation                      int64\n",
              "City_Category                   int64\n",
              "Stay_In_Current_City_Years      int64\n",
              "Marital_Status                  int64\n",
              "Product_Category_1              int64\n",
              "Product_Category_2            float64\n",
              "Product_Category_3            float64\n",
              "Purchase                        int64\n",
              "dtype: object"
            ]
          },
          "metadata": {},
          "execution_count": 62
        }
      ]
    },
    {
      "cell_type": "code",
      "metadata": {
        "id": "CkAR7QO64nCJ"
      },
      "source": [
        "df.to_csv(\"Black_Friday_Data_Encoded.csv\")"
      ],
      "execution_count": 63,
      "outputs": []
    },
    {
      "cell_type": "code",
      "metadata": {
        "id": "MPEE5AS-4yse"
      },
      "source": [
        "### Machine Learning"
      ],
      "execution_count": 64,
      "outputs": []
    },
    {
      "cell_type": "code",
      "metadata": {
        "colab": {
          "base_uri": "https://localhost:8080/"
        },
        "id": "V38GxyRg4yx6",
        "outputId": "b7b99ed0-fb8c-4d12-8a5f-f72a8d5262ca"
      },
      "source": [
        "df.columns"
      ],
      "execution_count": 65,
      "outputs": [
        {
          "output_type": "execute_result",
          "data": {
            "text/plain": [
              "Index(['User_ID', 'Product_ID', 'Gender', 'Age', 'Occupation', 'City_Category',\n",
              "       'Stay_In_Current_City_Years', 'Marital_Status', 'Product_Category_1',\n",
              "       'Product_Category_2', 'Product_Category_3', 'Purchase'],\n",
              "      dtype='object')"
            ]
          },
          "metadata": {},
          "execution_count": 65
        }
      ]
    },
    {
      "cell_type": "code",
      "metadata": {
        "id": "8xsPlxbl4y4F"
      },
      "source": [
        "df2 = df[['Gender', 'Age', 'Occupation', 'City_Category',\n",
        "       'Stay_In_Current_City_Years', 'Marital_Status', 'Product_Category_1',\n",
        "       'Product_Category_2', 'Product_Category_3', 'Purchase']]"
      ],
      "execution_count": 66,
      "outputs": []
    },
    {
      "cell_type": "code",
      "metadata": {
        "colab": {
          "base_uri": "https://localhost:8080/",
          "height": 412
        },
        "id": "K7bocQhx4y81",
        "outputId": "9045b2c9-d76e-4fdd-a934-e4f55add1360"
      },
      "source": [
        "sns.heatmap(df2.corr(),annot=True)"
      ],
      "execution_count": 67,
      "outputs": [
        {
          "output_type": "execute_result",
          "data": {
            "text/plain": [
              "<matplotlib.axes._subplots.AxesSubplot at 0x7f97513dbd50>"
            ]
          },
          "metadata": {},
          "execution_count": 67
        },
        {
          "output_type": "display_data",
          "data": {
            "image/png": "[encoded data removed]",
            "text/plain": [
              "<Figure size 432x288 with 2 Axes>"
            ]
          },
          "metadata": {
            "needs_background": "light"
          }
        }
      ]
    },
    {
      "cell_type": "code",
      "metadata": {
        "id": "Mklwkd434zCA"
      },
      "source": [
        "# Remove User ID and Product ID\n",
        "\n",
        "Xfeatures = df[['Gender', 'Age', 'Occupation', 'City_Category',\n",
        "       'Stay_In_Current_City_Years', 'Marital_Status', 'Product_Category_1',\n",
        "       'Product_Category_2', 'Product_Category_3']]"
      ],
      "execution_count": 68,
      "outputs": []
    },
    {
      "cell_type": "code",
      "metadata": {
        "colab": {
          "base_uri": "https://localhost:8080/",
          "height": 442
        },
        "id": "Q7scPsIq4zGt",
        "outputId": "16b37445-cff7-421c-b689-788bf5ad08fe"
      },
      "source": [
        "Xfeatures"
      ],
      "execution_count": 69,
      "outputs": [
        {
          "output_type": "execute_result",
          "data": {
            "text/html": [
              "<div>\n",
              "<style scoped>\n",
              "    .dataframe tbody tr th:only-of-type {\n",
              "        vertical-align: middle;\n",
              "    }\n",
              "\n",
              "    .dataframe tbody tr th {\n",
              "        vertical-align: top;\n",
              "    }\n",
              "\n",
              "    .dataframe thead th {\n",
              "        text-align: right;\n",
              "    }\n",
              "</style>\n",
              "<table border=\"1\" class=\"dataframe\">\n",
              "  <thead>\n",
              "    <tr style=\"text-align: right;\">\n",
              "      <th></th>\n",
              "      <th>Gender</th>\n",
              "      <th>Age</th>\n",
              "      <th>Occupation</th>\n",
              "      <th>City_Category</th>\n",
              "      <th>Stay_In_Current_City_Years</th>\n",
              "      <th>Marital_Status</th>\n",
              "      <th>Product_Category_1</th>\n",
              "      <th>Product_Category_2</th>\n",
              "      <th>Product_Category_3</th>\n",
              "    </tr>\n",
              "  </thead>\n",
              "  <tbody>\n",
              "    <tr>\n",
              "      <th>0</th>\n",
              "      <td>0</td>\n",
              "      <td>1</td>\n",
              "      <td>10</td>\n",
              "      <td>0</td>\n",
              "      <td>2</td>\n",
              "      <td>0</td>\n",
              "      <td>3</td>\n",
              "      <td>8.0</td>\n",
              "      <td>16.0</td>\n",
              "    </tr>\n",
              "    <tr>\n",
              "      <th>1</th>\n",
              "      <td>0</td>\n",
              "      <td>1</td>\n",
              "      <td>10</td>\n",
              "      <td>0</td>\n",
              "      <td>2</td>\n",
              "      <td>0</td>\n",
              "      <td>1</td>\n",
              "      <td>6.0</td>\n",
              "      <td>14.0</td>\n",
              "    </tr>\n",
              "    <tr>\n",
              "      <th>2</th>\n",
              "      <td>0</td>\n",
              "      <td>1</td>\n",
              "      <td>10</td>\n",
              "      <td>0</td>\n",
              "      <td>2</td>\n",
              "      <td>0</td>\n",
              "      <td>12</td>\n",
              "      <td>8.0</td>\n",
              "      <td>16.0</td>\n",
              "    </tr>\n",
              "    <tr>\n",
              "      <th>3</th>\n",
              "      <td>0</td>\n",
              "      <td>1</td>\n",
              "      <td>10</td>\n",
              "      <td>0</td>\n",
              "      <td>2</td>\n",
              "      <td>0</td>\n",
              "      <td>12</td>\n",
              "      <td>14.0</td>\n",
              "      <td>16.0</td>\n",
              "    </tr>\n",
              "    <tr>\n",
              "      <th>4</th>\n",
              "      <td>1</td>\n",
              "      <td>7</td>\n",
              "      <td>16</td>\n",
              "      <td>2</td>\n",
              "      <td>4</td>\n",
              "      <td>0</td>\n",
              "      <td>8</td>\n",
              "      <td>8.0</td>\n",
              "      <td>16.0</td>\n",
              "    </tr>\n",
              "    <tr>\n",
              "      <th>...</th>\n",
              "      <td>...</td>\n",
              "      <td>...</td>\n",
              "      <td>...</td>\n",
              "      <td>...</td>\n",
              "      <td>...</td>\n",
              "      <td>...</td>\n",
              "      <td>...</td>\n",
              "      <td>...</td>\n",
              "      <td>...</td>\n",
              "    </tr>\n",
              "    <tr>\n",
              "      <th>537572</th>\n",
              "      <td>1</td>\n",
              "      <td>4</td>\n",
              "      <td>16</td>\n",
              "      <td>2</td>\n",
              "      <td>1</td>\n",
              "      <td>0</td>\n",
              "      <td>1</td>\n",
              "      <td>2.0</td>\n",
              "      <td>16.0</td>\n",
              "    </tr>\n",
              "    <tr>\n",
              "      <th>537573</th>\n",
              "      <td>1</td>\n",
              "      <td>4</td>\n",
              "      <td>16</td>\n",
              "      <td>2</td>\n",
              "      <td>1</td>\n",
              "      <td>0</td>\n",
              "      <td>1</td>\n",
              "      <td>15.0</td>\n",
              "      <td>16.0</td>\n",
              "    </tr>\n",
              "    <tr>\n",
              "      <th>537574</th>\n",
              "      <td>1</td>\n",
              "      <td>4</td>\n",
              "      <td>16</td>\n",
              "      <td>2</td>\n",
              "      <td>1</td>\n",
              "      <td>0</td>\n",
              "      <td>8</td>\n",
              "      <td>15.0</td>\n",
              "      <td>16.0</td>\n",
              "    </tr>\n",
              "    <tr>\n",
              "      <th>537575</th>\n",
              "      <td>1</td>\n",
              "      <td>4</td>\n",
              "      <td>16</td>\n",
              "      <td>2</td>\n",
              "      <td>1</td>\n",
              "      <td>0</td>\n",
              "      <td>5</td>\n",
              "      <td>8.0</td>\n",
              "      <td>16.0</td>\n",
              "    </tr>\n",
              "    <tr>\n",
              "      <th>537576</th>\n",
              "      <td>1</td>\n",
              "      <td>4</td>\n",
              "      <td>16</td>\n",
              "      <td>2</td>\n",
              "      <td>1</td>\n",
              "      <td>0</td>\n",
              "      <td>5</td>\n",
              "      <td>8.0</td>\n",
              "      <td>16.0</td>\n",
              "    </tr>\n",
              "  </tbody>\n",
              "</table>\n",
              "<p>537577 rows × 9 columns</p>\n",
              "</div>"
            ],
            "text/plain": [
              "        Gender  Age  ...  Product_Category_2  Product_Category_3\n",
              "0            0    1  ...                 8.0                16.0\n",
              "1            0    1  ...                 6.0                14.0\n",
              "2            0    1  ...                 8.0                16.0\n",
              "3            0    1  ...                14.0                16.0\n",
              "4            1    7  ...                 8.0                16.0\n",
              "...        ...  ...  ...                 ...                 ...\n",
              "537572       1    4  ...                 2.0                16.0\n",
              "537573       1    4  ...                15.0                16.0\n",
              "537574       1    4  ...                15.0                16.0\n",
              "537575       1    4  ...                 8.0                16.0\n",
              "537576       1    4  ...                 8.0                16.0\n",
              "\n",
              "[537577 rows x 9 columns]"
            ]
          },
          "metadata": {},
          "execution_count": 69
        }
      ]
    },
    {
      "cell_type": "code",
      "metadata": {
        "id": "rgO3J9Yw5Ael"
      },
      "source": [
        "from sklearn.preprocessing import StandardScaler\n",
        "scaler = StandardScaler()"
      ],
      "execution_count": 70,
      "outputs": []
    },
    {
      "cell_type": "code",
      "metadata": {
        "id": "LmAhtea-5Alg"
      },
      "source": [
        "X = scaler.fit_transform(Xfeatures)"
      ],
      "execution_count": 71,
      "outputs": []
    },
    {
      "cell_type": "code",
      "metadata": {
        "colab": {
          "base_uri": "https://localhost:8080/",
          "height": 225
        },
        "id": "d0WkLSYW5Aon",
        "outputId": "8f68f3b2-94f8-4085-ed50-d9f808eb6263"
      },
      "source": [
        "Xfeatures.head()"
      ],
      "execution_count": 72,
      "outputs": [
        {
          "output_type": "execute_result",
          "data": {
            "text/html": [
              "<div>\n",
              "<style scoped>\n",
              "    .dataframe tbody tr th:only-of-type {\n",
              "        vertical-align: middle;\n",
              "    }\n",
              "\n",
              "    .dataframe tbody tr th {\n",
              "        vertical-align: top;\n",
              "    }\n",
              "\n",
              "    .dataframe thead th {\n",
              "        text-align: right;\n",
              "    }\n",
              "</style>\n",
              "<table border=\"1\" class=\"dataframe\">\n",
              "  <thead>\n",
              "    <tr style=\"text-align: right;\">\n",
              "      <th></th>\n",
              "      <th>Gender</th>\n",
              "      <th>Age</th>\n",
              "      <th>Occupation</th>\n",
              "      <th>City_Category</th>\n",
              "      <th>Stay_In_Current_City_Years</th>\n",
              "      <th>Marital_Status</th>\n",
              "      <th>Product_Category_1</th>\n",
              "      <th>Product_Category_2</th>\n",
              "      <th>Product_Category_3</th>\n",
              "    </tr>\n",
              "  </thead>\n",
              "  <tbody>\n",
              "    <tr>\n",
              "      <th>0</th>\n",
              "      <td>0</td>\n",
              "      <td>1</td>\n",
              "      <td>10</td>\n",
              "      <td>0</td>\n",
              "      <td>2</td>\n",
              "      <td>0</td>\n",
              "      <td>3</td>\n",
              "      <td>8.0</td>\n",
              "      <td>16.0</td>\n",
              "    </tr>\n",
              "    <tr>\n",
              "      <th>1</th>\n",
              "      <td>0</td>\n",
              "      <td>1</td>\n",
              "      <td>10</td>\n",
              "      <td>0</td>\n",
              "      <td>2</td>\n",
              "      <td>0</td>\n",
              "      <td>1</td>\n",
              "      <td>6.0</td>\n",
              "      <td>14.0</td>\n",
              "    </tr>\n",
              "    <tr>\n",
              "      <th>2</th>\n",
              "      <td>0</td>\n",
              "      <td>1</td>\n",
              "      <td>10</td>\n",
              "      <td>0</td>\n",
              "      <td>2</td>\n",
              "      <td>0</td>\n",
              "      <td>12</td>\n",
              "      <td>8.0</td>\n",
              "      <td>16.0</td>\n",
              "    </tr>\n",
              "    <tr>\n",
              "      <th>3</th>\n",
              "      <td>0</td>\n",
              "      <td>1</td>\n",
              "      <td>10</td>\n",
              "      <td>0</td>\n",
              "      <td>2</td>\n",
              "      <td>0</td>\n",
              "      <td>12</td>\n",
              "      <td>14.0</td>\n",
              "      <td>16.0</td>\n",
              "    </tr>\n",
              "    <tr>\n",
              "      <th>4</th>\n",
              "      <td>1</td>\n",
              "      <td>7</td>\n",
              "      <td>16</td>\n",
              "      <td>2</td>\n",
              "      <td>4</td>\n",
              "      <td>0</td>\n",
              "      <td>8</td>\n",
              "      <td>8.0</td>\n",
              "      <td>16.0</td>\n",
              "    </tr>\n",
              "  </tbody>\n",
              "</table>\n",
              "</div>"
            ],
            "text/plain": [
              "   Gender  Age  ...  Product_Category_2  Product_Category_3\n",
              "0       0    1  ...                 8.0                16.0\n",
              "1       0    1  ...                 6.0                14.0\n",
              "2       0    1  ...                 8.0                16.0\n",
              "3       0    1  ...                14.0                16.0\n",
              "4       1    7  ...                 8.0                16.0\n",
              "\n",
              "[5 rows x 9 columns]"
            ]
          },
          "metadata": {},
          "execution_count": 72
        }
      ]
    },
    {
      "cell_type": "code",
      "metadata": {
        "colab": {
          "base_uri": "https://localhost:8080/"
        },
        "id": "n26A5u5M5AuE",
        "outputId": "1e0666cf-5223-4a6d-8377-6e24b71044f7"
      },
      "source": [
        "X"
      ],
      "execution_count": 73,
      "outputs": [
        {
          "output_type": "execute_result",
          "data": {
            "text/plain": [
              "array([[-1.75113795, -1.84443901,  0.29387746, ..., -0.6120319 ,\n",
              "        -0.2947123 ,  0.3703298 ],\n",
              "       [-1.75113795, -1.84443901,  0.29387746, ..., -1.14526606,\n",
              "        -0.75885388, -0.35747489],\n",
              "       [-1.75113795, -1.84443901,  0.29387746, ...,  1.78752181,\n",
              "        -0.2947123 ,  0.3703298 ],\n",
              "       ...,\n",
              "       [ 0.57105724,  0.37354097,  1.21354261, ...,  0.72105349,\n",
              "         1.32978324,  0.3703298 ],\n",
              "       [ 0.57105724,  0.37354097,  1.21354261, ..., -0.07879774,\n",
              "        -0.2947123 ,  0.3703298 ],\n",
              "       [ 0.57105724,  0.37354097,  1.21354261, ..., -0.07879774,\n",
              "        -0.2947123 ,  0.3703298 ]])"
            ]
          },
          "metadata": {},
          "execution_count": 73
        }
      ]
    },
    {
      "cell_type": "code",
      "metadata": {
        "id": "-5gYLMmH5LuT"
      },
      "source": [
        "#Xfeatures.column"
      ],
      "execution_count": 74,
      "outputs": []
    },
    {
      "cell_type": "code",
      "metadata": {
        "id": "kSLmytS65L13"
      },
      "source": [
        "X2 = pd.DataFrame(X,columns=Xfeatures.columns)"
      ],
      "execution_count": 75,
      "outputs": []
    },
    {
      "cell_type": "code",
      "metadata": {
        "colab": {
          "base_uri": "https://localhost:8080/",
          "height": 225
        },
        "id": "9ZJo2g1F5L8I",
        "outputId": "bbf93dea-56e9-4c60-8a12-98ab17a4df98"
      },
      "source": [
        "X2.head()"
      ],
      "execution_count": 76,
      "outputs": [
        {
          "output_type": "execute_result",
          "data": {
            "text/html": [
              "<div>\n",
              "<style scoped>\n",
              "    .dataframe tbody tr th:only-of-type {\n",
              "        vertical-align: middle;\n",
              "    }\n",
              "\n",
              "    .dataframe tbody tr th {\n",
              "        vertical-align: top;\n",
              "    }\n",
              "\n",
              "    .dataframe thead th {\n",
              "        text-align: right;\n",
              "    }\n",
              "</style>\n",
              "<table border=\"1\" class=\"dataframe\">\n",
              "  <thead>\n",
              "    <tr style=\"text-align: right;\">\n",
              "      <th></th>\n",
              "      <th>Gender</th>\n",
              "      <th>Age</th>\n",
              "      <th>Occupation</th>\n",
              "      <th>City_Category</th>\n",
              "      <th>Stay_In_Current_City_Years</th>\n",
              "      <th>Marital_Status</th>\n",
              "      <th>Product_Category_1</th>\n",
              "      <th>Product_Category_2</th>\n",
              "      <th>Product_Category_3</th>\n",
              "    </tr>\n",
              "  </thead>\n",
              "  <tbody>\n",
              "    <tr>\n",
              "      <th>0</th>\n",
              "      <td>-1.751138</td>\n",
              "      <td>-1.844439</td>\n",
              "      <td>0.293877</td>\n",
              "      <td>-1.369841</td>\n",
              "      <td>0.108962</td>\n",
              "      <td>-0.831545</td>\n",
              "      <td>-0.612032</td>\n",
              "      <td>-0.294712</td>\n",
              "      <td>0.370330</td>\n",
              "    </tr>\n",
              "    <tr>\n",
              "      <th>1</th>\n",
              "      <td>-1.751138</td>\n",
              "      <td>-1.844439</td>\n",
              "      <td>0.293877</td>\n",
              "      <td>-1.369841</td>\n",
              "      <td>0.108962</td>\n",
              "      <td>-0.831545</td>\n",
              "      <td>-1.145266</td>\n",
              "      <td>-0.758854</td>\n",
              "      <td>-0.357475</td>\n",
              "    </tr>\n",
              "    <tr>\n",
              "      <th>2</th>\n",
              "      <td>-1.751138</td>\n",
              "      <td>-1.844439</td>\n",
              "      <td>0.293877</td>\n",
              "      <td>-1.369841</td>\n",
              "      <td>0.108962</td>\n",
              "      <td>-0.831545</td>\n",
              "      <td>1.787522</td>\n",
              "      <td>-0.294712</td>\n",
              "      <td>0.370330</td>\n",
              "    </tr>\n",
              "    <tr>\n",
              "      <th>3</th>\n",
              "      <td>-1.751138</td>\n",
              "      <td>-1.844439</td>\n",
              "      <td>0.293877</td>\n",
              "      <td>-1.369841</td>\n",
              "      <td>0.108962</td>\n",
              "      <td>-0.831545</td>\n",
              "      <td>1.787522</td>\n",
              "      <td>1.097712</td>\n",
              "      <td>0.370330</td>\n",
              "    </tr>\n",
              "    <tr>\n",
              "      <th>4</th>\n",
              "      <td>0.571057</td>\n",
              "      <td>2.591521</td>\n",
              "      <td>1.213543</td>\n",
              "      <td>1.263032</td>\n",
              "      <td>1.659557</td>\n",
              "      <td>-0.831545</td>\n",
              "      <td>0.721053</td>\n",
              "      <td>-0.294712</td>\n",
              "      <td>0.370330</td>\n",
              "    </tr>\n",
              "  </tbody>\n",
              "</table>\n",
              "</div>"
            ],
            "text/plain": [
              "     Gender       Age  ...  Product_Category_2  Product_Category_3\n",
              "0 -1.751138 -1.844439  ...           -0.294712            0.370330\n",
              "1 -1.751138 -1.844439  ...           -0.758854           -0.357475\n",
              "2 -1.751138 -1.844439  ...           -0.294712            0.370330\n",
              "3 -1.751138 -1.844439  ...            1.097712            0.370330\n",
              "4  0.571057  2.591521  ...           -0.294712            0.370330\n",
              "\n",
              "[5 rows x 9 columns]"
            ]
          },
          "metadata": {},
          "execution_count": 76
        }
      ]
    },
    {
      "cell_type": "code",
      "metadata": {
        "id": "K7TfTQgQ5XN-"
      },
      "source": [
        "from sklearn.model_selection import train_test_split"
      ],
      "execution_count": 77,
      "outputs": []
    },
    {
      "cell_type": "code",
      "metadata": {
        "id": "c0WqA6aH5XTz"
      },
      "source": [
        "y = df['Purchase']"
      ],
      "execution_count": 78,
      "outputs": []
    },
    {
      "cell_type": "code",
      "metadata": {
        "id": "ZoqaDZL15XaU"
      },
      "source": [
        "# split into training and testing sets\n",
        "X_train, X_test, y_train, y_test = train_test_split(\n",
        "    X2, y, test_size=0.2, random_state=42)"
      ],
      "execution_count": 79,
      "outputs": []
    },
    {
      "cell_type": "code",
      "metadata": {
        "id": "O_ND9fcP5Xfi"
      },
      "source": [
        "# split into training and testing sets\n",
        "# Unscaled\n",
        "X_train2, X_test2, y_train2, y_test2 = train_test_split(\n",
        "    Xfeatures, y, test_size=0.2, random_state=42)"
      ],
      "execution_count": 80,
      "outputs": []
    },
    {
      "cell_type": "code",
      "metadata": {
        "id": "IeQEgF7s5XjU"
      },
      "source": [
        "from sklearn.linear_model import LinearRegression\n",
        "from sklearn.tree import DecisionTreeRegressor"
      ],
      "execution_count": 81,
      "outputs": []
    },
    {
      "cell_type": "code",
      "metadata": {
        "colab": {
          "base_uri": "https://localhost:8080/"
        },
        "id": "lkcb7Ozv5Xmb",
        "outputId": "396aa839-3d41-46c3-f372-c98f476a013b"
      },
      "source": [
        "lr_model = LinearRegression()\n",
        "lr_model.fit(X_train,y_train)"
      ],
      "execution_count": 82,
      "outputs": [
        {
          "output_type": "execute_result",
          "data": {
            "text/plain": [
              "LinearRegression(copy_X=True, fit_intercept=True, n_jobs=None, normalize=False)"
            ]
          },
          "metadata": {},
          "execution_count": 82
        }
      ]
    },
    {
      "cell_type": "code",
      "metadata": {
        "id": "Y3YxwYHI5Xqo"
      },
      "source": [
        "from sklearn.metrics import accuracy_score,mean_squared_error,r2_score"
      ],
      "execution_count": 83,
      "outputs": []
    },
    {
      "cell_type": "code",
      "metadata": {
        "id": "ROUBD8vZ5XvV"
      },
      "source": [
        "y_pred_lr = lr_model.predict(X_test)"
      ],
      "execution_count": 84,
      "outputs": []
    },
    {
      "cell_type": "code",
      "metadata": {
        "colab": {
          "base_uri": "https://localhost:8080/"
        },
        "id": "qmuhy93S5XzK",
        "outputId": "f7ac8f17-00fc-4ef6-aa3f-61fa59e1e98c"
      },
      "source": [
        "y_pred_lr"
      ],
      "execution_count": 85,
      "outputs": [
        {
          "output_type": "execute_result",
          "data": {
            "text/plain": [
              "array([11516.40695968, 10484.33467112,  8017.8019378 , ...,\n",
              "        8918.05822166,  8965.55346022,  9463.95458624])"
            ]
          },
          "metadata": {},
          "execution_count": 85
        }
      ]
    },
    {
      "cell_type": "code",
      "metadata": {
        "id": "olFQXc8t55Gb"
      },
      "source": [
        "actual_df = pd.DataFrame(y_pred_lr,columns=['Prediction'])"
      ],
      "execution_count": 86,
      "outputs": []
    },
    {
      "cell_type": "code",
      "metadata": {
        "id": "S9i56eSI55XR"
      },
      "source": [
        "actual_df['Actual'] = y_test"
      ],
      "execution_count": 87,
      "outputs": []
    },
    {
      "cell_type": "code",
      "metadata": {
        "colab": {
          "base_uri": "https://localhost:8080/",
          "height": 422
        },
        "id": "AZ836std55br",
        "outputId": "110be834-184c-4b8a-af63-df0a8f4a3f35"
      },
      "source": [
        "actual_df"
      ],
      "execution_count": 88,
      "outputs": [
        {
          "output_type": "execute_result",
          "data": {
            "text/html": [
              "<div>\n",
              "<style scoped>\n",
              "    .dataframe tbody tr th:only-of-type {\n",
              "        vertical-align: middle;\n",
              "    }\n",
              "\n",
              "    .dataframe tbody tr th {\n",
              "        vertical-align: top;\n",
              "    }\n",
              "\n",
              "    .dataframe thead th {\n",
              "        text-align: right;\n",
              "    }\n",
              "</style>\n",
              "<table border=\"1\" class=\"dataframe\">\n",
              "  <thead>\n",
              "    <tr style=\"text-align: right;\">\n",
              "      <th></th>\n",
              "      <th>Prediction</th>\n",
              "      <th>Actual</th>\n",
              "    </tr>\n",
              "  </thead>\n",
              "  <tbody>\n",
              "    <tr>\n",
              "      <th>0</th>\n",
              "      <td>11516.406960</td>\n",
              "      <td>NaN</td>\n",
              "    </tr>\n",
              "    <tr>\n",
              "      <th>1</th>\n",
              "      <td>10484.334671</td>\n",
              "      <td>NaN</td>\n",
              "    </tr>\n",
              "    <tr>\n",
              "      <th>2</th>\n",
              "      <td>8017.801938</td>\n",
              "      <td>1422.0</td>\n",
              "    </tr>\n",
              "    <tr>\n",
              "      <th>3</th>\n",
              "      <td>7945.256084</td>\n",
              "      <td>NaN</td>\n",
              "    </tr>\n",
              "    <tr>\n",
              "      <th>4</th>\n",
              "      <td>8733.744740</td>\n",
              "      <td>NaN</td>\n",
              "    </tr>\n",
              "    <tr>\n",
              "      <th>...</th>\n",
              "      <td>...</td>\n",
              "      <td>...</td>\n",
              "    </tr>\n",
              "    <tr>\n",
              "      <th>107511</th>\n",
              "      <td>7720.957885</td>\n",
              "      <td>NaN</td>\n",
              "    </tr>\n",
              "    <tr>\n",
              "      <th>107512</th>\n",
              "      <td>4551.201924</td>\n",
              "      <td>NaN</td>\n",
              "    </tr>\n",
              "    <tr>\n",
              "      <th>107513</th>\n",
              "      <td>8918.058222</td>\n",
              "      <td>NaN</td>\n",
              "    </tr>\n",
              "    <tr>\n",
              "      <th>107514</th>\n",
              "      <td>8965.553460</td>\n",
              "      <td>15309.0</td>\n",
              "    </tr>\n",
              "    <tr>\n",
              "      <th>107515</th>\n",
              "      <td>9463.954586</td>\n",
              "      <td>NaN</td>\n",
              "    </tr>\n",
              "  </tbody>\n",
              "</table>\n",
              "<p>107516 rows × 2 columns</p>\n",
              "</div>"
            ],
            "text/plain": [
              "          Prediction   Actual\n",
              "0       11516.406960      NaN\n",
              "1       10484.334671      NaN\n",
              "2        8017.801938   1422.0\n",
              "3        7945.256084      NaN\n",
              "4        8733.744740      NaN\n",
              "...              ...      ...\n",
              "107511   7720.957885      NaN\n",
              "107512   4551.201924      NaN\n",
              "107513   8918.058222      NaN\n",
              "107514   8965.553460  15309.0\n",
              "107515   9463.954586      NaN\n",
              "\n",
              "[107516 rows x 2 columns]"
            ]
          },
          "metadata": {},
          "execution_count": 88
        }
      ]
    },
    {
      "cell_type": "code",
      "metadata": {
        "colab": {
          "base_uri": "https://localhost:8080/"
        },
        "id": "n9Ju1U3F55e0",
        "outputId": "2406933e-33ab-494c-c745-2207c26986d8"
      },
      "source": [
        "y_test.iloc[0]"
      ],
      "execution_count": 89,
      "outputs": [
        {
          "output_type": "execute_result",
          "data": {
            "text/plain": [
              "8058"
            ]
          },
          "metadata": {},
          "execution_count": 89
        }
      ]
    },
    {
      "cell_type": "code",
      "metadata": {
        "colab": {
          "base_uri": "https://localhost:8080/"
        },
        "id": "IRHDbAFI6DEh",
        "outputId": "74f10689-38c1-4f21-f955-a2c8006e6ecb"
      },
      "source": [
        "lr_model.predict(np.array(X_test.iloc[0]).reshape(1,-1))"
      ],
      "execution_count": 90,
      "outputs": [
        {
          "output_type": "execute_result",
          "data": {
            "text/plain": [
              "array([11516.40695968])"
            ]
          },
          "metadata": {},
          "execution_count": 90
        }
      ]
    },
    {
      "cell_type": "code",
      "metadata": {
        "colab": {
          "base_uri": "https://localhost:8080/"
        },
        "id": "sq3sYJkz6DJD",
        "outputId": "39f72a4c-b733-4066-d8ee-a22ba8de9eb7"
      },
      "source": [
        "print(\"Linear Regression: \")\n",
        "print(\"RMSE:\",np.sqrt(mean_squared_error(y_test, y_pred_lr)))\n",
        "print(\"R2 score:\", r2_score(y_test, y_pred_lr))"
      ],
      "execution_count": 91,
      "outputs": [
        {
          "output_type": "stream",
          "text": [
            "Linear Regression: \n",
            "RMSE: 4701.9906626835855\n",
            "R2 score: 0.10972681622758684\n"
          ],
          "name": "stdout"
        }
      ]
    },
    {
      "cell_type": "code",
      "metadata": {
        "id": "ZbhYMI_-6Dlu"
      },
      "source": [
        "import joblib"
      ],
      "execution_count": 92,
      "outputs": []
    },
    {
      "cell_type": "code",
      "metadata": {
        "id": "v2a6igIh6DrN"
      },
      "source": [
        "lr_model_file = open(\"lr_bf_sales_model_23_oct.pkl\",\"wb\")\n",
        "joblib.dump(lr_model,lr_model_file)\n",
        "lr_model_file.close()"
      ],
      "execution_count": 93,
      "outputs": []
    },
    {
      "cell_type": "code",
      "metadata": {
        "id": "ZCGFHzAJ6OKw"
      },
      "source": [
        "from sklearn.tree import DecisionTreeRegressor\n",
        "dtree = DecisionTreeRegressor()"
      ],
      "execution_count": 94,
      "outputs": []
    },
    {
      "cell_type": "code",
      "metadata": {
        "colab": {
          "base_uri": "https://localhost:8080/"
        },
        "id": "ywRfQjir6OSB",
        "outputId": "25f16a03-c659-4a46-b3f4-1f5750f83cbd"
      },
      "source": [
        "dtree.fit(X_train,y_train)"
      ],
      "execution_count": 95,
      "outputs": [
        {
          "output_type": "execute_result",
          "data": {
            "text/plain": [
              "DecisionTreeRegressor(ccp_alpha=0.0, criterion='mse', max_depth=None,\n",
              "                      max_features=None, max_leaf_nodes=None,\n",
              "                      min_impurity_decrease=0.0, min_impurity_split=None,\n",
              "                      min_samples_leaf=1, min_samples_split=2,\n",
              "                      min_weight_fraction_leaf=0.0, presort='deprecated',\n",
              "                      random_state=None, splitter='best')"
            ]
          },
          "metadata": {},
          "execution_count": 95
        }
      ]
    },
    {
      "cell_type": "code",
      "metadata": {
        "id": "ZFD8ErjV6OXp"
      },
      "source": [
        "y_pred_dt = dtree.predict(X_test)"
      ],
      "execution_count": 96,
      "outputs": []
    },
    {
      "cell_type": "code",
      "metadata": {
        "colab": {
          "base_uri": "https://localhost:8080/"
        },
        "id": "fR9vZDHT6Odi",
        "outputId": "81e62ead-aad4-4760-b2e7-a57e7b35bfe3"
      },
      "source": [
        "print(\"Decision Tree Regression: \")\n",
        "print(\"RMSE:\",np.sqrt(mean_squared_error(y_test, y_pred_dt)))\n",
        "print(\"R2 score:\", r2_score(y_test, y_pred_dt))"
      ],
      "execution_count": 97,
      "outputs": [
        {
          "output_type": "stream",
          "text": [
            "Decision Tree Regression: \n",
            "RMSE: 3305.9057634516375\n",
            "R2 score: 0.559910804387351\n"
          ],
          "name": "stdout"
        }
      ]
    },
    {
      "cell_type": "code",
      "metadata": {
        "id": "_bTc-N3x6a2C"
      },
      "source": [
        "dt_model_file = open(\"dt_bf_sales_model_23_oct.pkl\",\"wb\")\n",
        "joblib.dump(dtree,dt_model_file)\n",
        "dt_model_file.close()"
      ],
      "execution_count": 98,
      "outputs": []
    },
    {
      "cell_type": "code",
      "metadata": {
        "colab": {
          "base_uri": "https://localhost:8080/"
        },
        "id": "E0wS-pJD6a7W",
        "outputId": "868a552e-75df-47c9-edcf-cd30179b7b64"
      },
      "source": [
        "lr_model2 = LinearRegression()\n",
        "lr_model2.fit(X_train2,y_train2)"
      ],
      "execution_count": 99,
      "outputs": [
        {
          "output_type": "execute_result",
          "data": {
            "text/plain": [
              "LinearRegression(copy_X=True, fit_intercept=True, n_jobs=None, normalize=False)"
            ]
          },
          "metadata": {},
          "execution_count": 99
        }
      ]
    },
    {
      "cell_type": "code",
      "metadata": {
        "id": "C_6mmrK_6bCn"
      },
      "source": [
        "y_pred_lr2 = lr_model2.predict(X_test2)"
      ],
      "execution_count": 100,
      "outputs": []
    },
    {
      "cell_type": "code",
      "metadata": {
        "colab": {
          "base_uri": "https://localhost:8080/"
        },
        "id": "FxfadtGM6bdz",
        "outputId": "295d7b7f-c652-48f7-f999-8b4c1ea5ad53"
      },
      "source": [
        "print(\"Linear Regression: \")\n",
        "print(\"RMSE:\",np.sqrt(mean_squared_error(y_test2, y_pred_lr2)))\n",
        "print(\"R2 score:\", r2_score(y_test2, y_pred_lr2))"
      ],
      "execution_count": 101,
      "outputs": [
        {
          "output_type": "stream",
          "text": [
            "Linear Regression: \n",
            "RMSE: 4701.9906626835855\n",
            "R2 score: 0.10972681622758684\n"
          ],
          "name": "stdout"
        }
      ]
    },
    {
      "cell_type": "code",
      "metadata": {
        "id": "SmnCfqjb6uUy"
      },
      "source": [
        "lr_model2_file = open(\"lr2_bf_sales_model_23_oct.pkl\",\"wb\")\n",
        "joblib.dump(lr_model2,lr_model2_file)\n",
        "lr_model2_file.close()"
      ],
      "execution_count": 102,
      "outputs": []
    },
    {
      "cell_type": "code",
      "metadata": {
        "colab": {
          "base_uri": "https://localhost:8080/"
        },
        "id": "yDdW6OQk6ub9",
        "outputId": "af7a85da-4b7c-4363-d83b-eb3e2fa4088b"
      },
      "source": [
        "dtree2 = DecisionTreeRegressor()\n",
        "dtree2.fit(X_train2,y_train2)"
      ],
      "execution_count": 103,
      "outputs": [
        {
          "output_type": "execute_result",
          "data": {
            "text/plain": [
              "DecisionTreeRegressor(ccp_alpha=0.0, criterion='mse', max_depth=None,\n",
              "                      max_features=None, max_leaf_nodes=None,\n",
              "                      min_impurity_decrease=0.0, min_impurity_split=None,\n",
              "                      min_samples_leaf=1, min_samples_split=2,\n",
              "                      min_weight_fraction_leaf=0.0, presort='deprecated',\n",
              "                      random_state=None, splitter='best')"
            ]
          },
          "metadata": {},
          "execution_count": 103
        }
      ]
    },
    {
      "cell_type": "code",
      "metadata": {
        "id": "2TYbbLRP6uiB"
      },
      "source": [
        "y_pred_dt2 = dtree2.predict(X_test2)"
      ],
      "execution_count": 104,
      "outputs": []
    },
    {
      "cell_type": "code",
      "metadata": {
        "colab": {
          "base_uri": "https://localhost:8080/"
        },
        "id": "XlQuWG5Q69xc",
        "outputId": "efb5a39a-eed0-4ca9-81d0-9d4b6f156fba"
      },
      "source": [
        "print(\"Decision Tree Regression: \")\n",
        "print(\"RMSE:\",np.sqrt(mean_squared_error(y_test2, y_pred_dt2)))\n",
        "print(\"R2 score:\", r2_score(y_test2, y_pred_dt2))"
      ],
      "execution_count": 105,
      "outputs": [
        {
          "output_type": "stream",
          "text": [
            "Decision Tree Regression: \n",
            "RMSE: 3304.176819645153\n",
            "R2 score: 0.5603710053586137\n"
          ],
          "name": "stdout"
        }
      ]
    },
    {
      "cell_type": "code",
      "metadata": {
        "id": "ZRCEP2_S693d"
      },
      "source": [
        "dt2_model_file = open(\"dt2_bf_sales_model_23_oct.pkl\",\"wb\")\n",
        "joblib.dump(dtree2,dt2_model_file)\n",
        "dt2_model_file.close()"
      ],
      "execution_count": 106,
      "outputs": []
    },
    {
      "cell_type": "code",
      "metadata": {
        "id": "u3sWau7_6999"
      },
      "source": [
        "thanksgiving_day = {\"English\":\"Happy Thanksgiving Day\",\n",
        "\"French\":\"le Jour de Merci Donnant\",\n",
        "\"Spanish\":\"el Día de Acción de Gracias\",\n",
        "\"Portuguese\": \"O Dia de Acção de Graças\",\n",
        "\"German\":\"Danksagung\",\n",
        "\"Hebrew\":\"חג ההודיה שמח\",\n",
        "\"Russian\":\"С Днем Благодарения день\",\n",
        "\"Igbo\":\"Ekele ụbọchị\",\n",
        "\"Yoruba\":\"ojó idupe\",\n",
        "\"Hindi\":\"धन्यवाद दिवस की शुभकामनाएं\",\n",
        "\"Arabic\":\"عيد شكر سعيد\",\n",
        "\"Danish\": \"Helligdag\",\n",
        "\"Twi\":\"Aseda Da\",\n",
        "\"Dutch\": \"Gedenkdagen\",\n",
        "\"Swedish\": \"Helgdag\",\n",
        "\"Polish\": \"Dzień Dziękczynienia\",\n",
        "\"Chinese\": \"感恩節日 [感恩节日] (gănēnjiérì)\",\n",
        "\"Japanese\":\"感謝祭 (kanshasai)\"}\n",
        "\n",
        "happy ={\n",
        "\"English\":\"Happy Thanksgiving\",\n",
        "\"French\": \"Action de grâce\",\n",
        "\"Spanish\":\"Feliz Día de Acción de Gracias!\",\n",
        "\"Portuguese\": \"Feliz (dia de) acção de graças\",\n",
        "\"German\": \"Herzliche Danksagung\",\n",
        "\"Hebrew\":\"חג הודיה שמח\",\n",
        "\"Russian\":\"счастливого дня благодарения\",\n",
        "\"Igbo\":\"ekele ekele\",\n",
        "\"Yoruba\":\"idunnu idunnu\",\n",
        "\"Hindi\":\"थैंक्सगिविंग की शुभकामनाएं\",\n",
        "\"Arabic\":\"عيد شكر سعيد\",\n",
        "\"Danish\": \"Glædelig Helligdag\",\n",
        "\"Twi\":\"Aseda(Afehyiapa)\",\n",
        "\"Dutch\": \"Vrolijke gedenkdagen\",\n",
        "\"Swedish\": \"God Helgdag\",\n",
        "\"Polish\": \"Święto dziękczynienia\",\n",
        "\"Chinese\":\"感恩節快樂 [感恩节快乐] (gănēnjié kuàilè)\",\n",
        "\"Japanese\":\"感謝祭おめでとう (kanshasai omedetō)\"}"
      ],
      "execution_count": 107,
      "outputs": []
    },
    {
      "cell_type": "code",
      "metadata": {
        "id": "YH7GfAwv7JHj"
      },
      "source": [
        "tdf = pd.DataFrame([thanksgiving_day,happy])"
      ],
      "execution_count": 108,
      "outputs": []
    },
    {
      "cell_type": "code",
      "metadata": {
        "colab": {
          "base_uri": "https://localhost:8080/",
          "height": 612
        },
        "id": "Kbe4Yg5_7JQF",
        "outputId": "08b671d8-609c-46ad-897c-ef0b9d4b9721"
      },
      "source": [
        "tdf.T"
      ],
      "execution_count": 109,
      "outputs": [
        {
          "output_type": "execute_result",
          "data": {
            "text/html": [
              "<div>\n",
              "<style scoped>\n",
              "    .dataframe tbody tr th:only-of-type {\n",
              "        vertical-align: middle;\n",
              "    }\n",
              "\n",
              "    .dataframe tbody tr th {\n",
              "        vertical-align: top;\n",
              "    }\n",
              "\n",
              "    .dataframe thead th {\n",
              "        text-align: right;\n",
              "    }\n",
              "</style>\n",
              "<table border=\"1\" class=\"dataframe\">\n",
              "  <thead>\n",
              "    <tr style=\"text-align: right;\">\n",
              "      <th></th>\n",
              "      <th>0</th>\n",
              "      <th>1</th>\n",
              "    </tr>\n",
              "  </thead>\n",
              "  <tbody>\n",
              "    <tr>\n",
              "      <th>English</th>\n",
              "      <td>Happy Thanksgiving Day</td>\n",
              "      <td>Happy Thanksgiving</td>\n",
              "    </tr>\n",
              "    <tr>\n",
              "      <th>French</th>\n",
              "      <td>le Jour de Merci Donnant</td>\n",
              "      <td>Action de grâce</td>\n",
              "    </tr>\n",
              "    <tr>\n",
              "      <th>Spanish</th>\n",
              "      <td>el Día de Acción de Gracias</td>\n",
              "      <td>Feliz Día de Acción de Gracias!</td>\n",
              "    </tr>\n",
              "    <tr>\n",
              "      <th>Portuguese</th>\n",
              "      <td>O Dia de Acção de Graças</td>\n",
              "      <td>Feliz (dia de) acção de graças</td>\n",
              "    </tr>\n",
              "    <tr>\n",
              "      <th>German</th>\n",
              "      <td>Danksagung</td>\n",
              "      <td>Herzliche Danksagung</td>\n",
              "    </tr>\n",
              "    <tr>\n",
              "      <th>Hebrew</th>\n",
              "      <td>חג ההודיה שמח</td>\n",
              "      <td>חג הודיה שמח</td>\n",
              "    </tr>\n",
              "    <tr>\n",
              "      <th>Russian</th>\n",
              "      <td>С Днем Благодарения день</td>\n",
              "      <td>счастливого дня благодарения</td>\n",
              "    </tr>\n",
              "    <tr>\n",
              "      <th>Igbo</th>\n",
              "      <td>Ekele ụbọchị</td>\n",
              "      <td>ekele ekele</td>\n",
              "    </tr>\n",
              "    <tr>\n",
              "      <th>Yoruba</th>\n",
              "      <td>ojó idupe</td>\n",
              "      <td>idunnu idunnu</td>\n",
              "    </tr>\n",
              "    <tr>\n",
              "      <th>Hindi</th>\n",
              "      <td>धन्यवाद दिवस की शुभकामनाएं</td>\n",
              "      <td>थैंक्सगिविंग की शुभकामनाएं</td>\n",
              "    </tr>\n",
              "    <tr>\n",
              "      <th>Arabic</th>\n",
              "      <td>عيد شكر سعيد</td>\n",
              "      <td>عيد شكر سعيد</td>\n",
              "    </tr>\n",
              "    <tr>\n",
              "      <th>Danish</th>\n",
              "      <td>Helligdag</td>\n",
              "      <td>Glædelig Helligdag</td>\n",
              "    </tr>\n",
              "    <tr>\n",
              "      <th>Twi</th>\n",
              "      <td>Aseda Da</td>\n",
              "      <td>Aseda(Afehyiapa)</td>\n",
              "    </tr>\n",
              "    <tr>\n",
              "      <th>Dutch</th>\n",
              "      <td>Gedenkdagen</td>\n",
              "      <td>Vrolijke gedenkdagen</td>\n",
              "    </tr>\n",
              "    <tr>\n",
              "      <th>Swedish</th>\n",
              "      <td>Helgdag</td>\n",
              "      <td>God Helgdag</td>\n",
              "    </tr>\n",
              "    <tr>\n",
              "      <th>Polish</th>\n",
              "      <td>Dzień Dziękczynienia</td>\n",
              "      <td>Święto dziękczynienia</td>\n",
              "    </tr>\n",
              "    <tr>\n",
              "      <th>Chinese</th>\n",
              "      <td>感恩節日 [感恩节日] (gănēnjiérì)</td>\n",
              "      <td>感恩節快樂 [感恩节快乐] (gănēnjié kuàilè)</td>\n",
              "    </tr>\n",
              "    <tr>\n",
              "      <th>Japanese</th>\n",
              "      <td>感謝祭 (kanshasai)</td>\n",
              "      <td>感謝祭おめでとう (kanshasai omedetō)</td>\n",
              "    </tr>\n",
              "  </tbody>\n",
              "</table>\n",
              "</div>"
            ],
            "text/plain": [
              "                                      0                                1\n",
              "English          Happy Thanksgiving Day               Happy Thanksgiving\n",
              "French         le Jour de Merci Donnant                  Action de grâce\n",
              "Spanish     el Día de Acción de Gracias  Feliz Día de Acción de Gracias!\n",
              "Portuguese     O Dia de Acção de Graças   Feliz (dia de) acção de graças\n",
              "German                       Danksagung             Herzliche Danksagung\n",
              "Hebrew                    חג ההודיה שמח                     חג הודיה שמח\n",
              "Russian        С Днем Благодарения день     счастливого дня благодарения\n",
              "Igbo                       Ekele ụbọchị                      ekele ekele\n",
              "Yoruba                        ojó idupe                    idunnu idunnu\n",
              "Hindi        धन्यवाद दिवस की शुभकामनाएं       थैंक्सगिविंग की शुभकामनाएं\n",
              "Arabic                     عيد شكر سعيد                     عيد شكر سعيد\n",
              "Danish                        Helligdag               Glædelig Helligdag\n",
              "Twi                            Aseda Da                 Aseda(Afehyiapa)\n",
              "Dutch                       Gedenkdagen             Vrolijke gedenkdagen\n",
              "Swedish                         Helgdag                      God Helgdag\n",
              "Polish             Dzień Dziękczynienia            Święto dziękczynienia\n",
              "Chinese        感恩節日 [感恩节日] (gănēnjiérì)  感恩節快樂 [感恩节快乐] (gănēnjié kuàilè)\n",
              "Japanese                感謝祭 (kanshasai)     感謝祭おめでとう (kanshasai omedetō)"
            ]
          },
          "metadata": {},
          "execution_count": 109
        }
      ]
    },
    {
      "cell_type": "code",
      "metadata": {
        "colab": {
          "base_uri": "https://localhost:8080/"
        },
        "id": "KxHTJ-hN7JV1",
        "outputId": "b2bb1f3a-c563-4da6-820d-a19a0dd17736"
      },
      "source": [
        "tdf.columns"
      ],
      "execution_count": 110,
      "outputs": [
        {
          "output_type": "execute_result",
          "data": {
            "text/plain": [
              "Index(['English', 'French', 'Spanish', 'Portuguese', 'German', 'Hebrew',\n",
              "       'Russian', 'Igbo', 'Yoruba', 'Hindi', 'Arabic', 'Danish', 'Twi',\n",
              "       'Dutch', 'Swedish', 'Polish', 'Chinese', 'Japanese'],\n",
              "      dtype='object')"
            ]
          },
          "metadata": {},
          "execution_count": 110
        }
      ]
    },
    {
      "cell_type": "code",
      "metadata": {
        "id": "wb98IzVs7Q07"
      },
      "source": [
        "tdf2 = pd.DataFrame(tdf.T)"
      ],
      "execution_count": 111,
      "outputs": []
    },
    {
      "cell_type": "code",
      "metadata": {
        "colab": {
          "base_uri": "https://localhost:8080/",
          "height": 205
        },
        "id": "c_3vBB1w7Q64",
        "outputId": "96219ed4-c547-4e8d-dfa7-e45c2da02fd2"
      },
      "source": [
        "tdf2.head()"
      ],
      "execution_count": 112,
      "outputs": [
        {
          "output_type": "execute_result",
          "data": {
            "text/html": [
              "<div>\n",
              "<style scoped>\n",
              "    .dataframe tbody tr th:only-of-type {\n",
              "        vertical-align: middle;\n",
              "    }\n",
              "\n",
              "    .dataframe tbody tr th {\n",
              "        vertical-align: top;\n",
              "    }\n",
              "\n",
              "    .dataframe thead th {\n",
              "        text-align: right;\n",
              "    }\n",
              "</style>\n",
              "<table border=\"1\" class=\"dataframe\">\n",
              "  <thead>\n",
              "    <tr style=\"text-align: right;\">\n",
              "      <th></th>\n",
              "      <th>0</th>\n",
              "      <th>1</th>\n",
              "    </tr>\n",
              "  </thead>\n",
              "  <tbody>\n",
              "    <tr>\n",
              "      <th>English</th>\n",
              "      <td>Happy Thanksgiving Day</td>\n",
              "      <td>Happy Thanksgiving</td>\n",
              "    </tr>\n",
              "    <tr>\n",
              "      <th>French</th>\n",
              "      <td>le Jour de Merci Donnant</td>\n",
              "      <td>Action de grâce</td>\n",
              "    </tr>\n",
              "    <tr>\n",
              "      <th>Spanish</th>\n",
              "      <td>el Día de Acción de Gracias</td>\n",
              "      <td>Feliz Día de Acción de Gracias!</td>\n",
              "    </tr>\n",
              "    <tr>\n",
              "      <th>Portuguese</th>\n",
              "      <td>O Dia de Acção de Graças</td>\n",
              "      <td>Feliz (dia de) acção de graças</td>\n",
              "    </tr>\n",
              "    <tr>\n",
              "      <th>German</th>\n",
              "      <td>Danksagung</td>\n",
              "      <td>Herzliche Danksagung</td>\n",
              "    </tr>\n",
              "  </tbody>\n",
              "</table>\n",
              "</div>"
            ],
            "text/plain": [
              "                                      0                                1\n",
              "English          Happy Thanksgiving Day               Happy Thanksgiving\n",
              "French         le Jour de Merci Donnant                  Action de grâce\n",
              "Spanish     el Día de Acción de Gracias  Feliz Día de Acción de Gracias!\n",
              "Portuguese     O Dia de Acção de Graças   Feliz (dia de) acção de graças\n",
              "German                       Danksagung             Herzliche Danksagung"
            ]
          },
          "metadata": {},
          "execution_count": 112
        }
      ]
    },
    {
      "cell_type": "code",
      "metadata": {
        "id": "GM10eJya7RAl"
      },
      "source": [
        "tdf2 = tdf2.reset_index()"
      ],
      "execution_count": 113,
      "outputs": []
    },
    {
      "cell_type": "code",
      "metadata": {
        "id": "CILCy6Yq7dIJ"
      },
      "source": [
        "tdf2.columns = [\"Language\",\"Day\",\"Word\"]"
      ],
      "execution_count": 114,
      "outputs": []
    },
    {
      "cell_type": "code",
      "metadata": {
        "colab": {
          "base_uri": "https://localhost:8080/",
          "height": 205
        },
        "id": "_27i9Qkl7dQj",
        "outputId": "17b44bdc-2347-4b3b-b261-45f11756fc01"
      },
      "source": [
        "tdf2.head()"
      ],
      "execution_count": 115,
      "outputs": [
        {
          "output_type": "execute_result",
          "data": {
            "text/html": [
              "<div>\n",
              "<style scoped>\n",
              "    .dataframe tbody tr th:only-of-type {\n",
              "        vertical-align: middle;\n",
              "    }\n",
              "\n",
              "    .dataframe tbody tr th {\n",
              "        vertical-align: top;\n",
              "    }\n",
              "\n",
              "    .dataframe thead th {\n",
              "        text-align: right;\n",
              "    }\n",
              "</style>\n",
              "<table border=\"1\" class=\"dataframe\">\n",
              "  <thead>\n",
              "    <tr style=\"text-align: right;\">\n",
              "      <th></th>\n",
              "      <th>Language</th>\n",
              "      <th>Day</th>\n",
              "      <th>Word</th>\n",
              "    </tr>\n",
              "  </thead>\n",
              "  <tbody>\n",
              "    <tr>\n",
              "      <th>0</th>\n",
              "      <td>English</td>\n",
              "      <td>Happy Thanksgiving Day</td>\n",
              "      <td>Happy Thanksgiving</td>\n",
              "    </tr>\n",
              "    <tr>\n",
              "      <th>1</th>\n",
              "      <td>French</td>\n",
              "      <td>le Jour de Merci Donnant</td>\n",
              "      <td>Action de grâce</td>\n",
              "    </tr>\n",
              "    <tr>\n",
              "      <th>2</th>\n",
              "      <td>Spanish</td>\n",
              "      <td>el Día de Acción de Gracias</td>\n",
              "      <td>Feliz Día de Acción de Gracias!</td>\n",
              "    </tr>\n",
              "    <tr>\n",
              "      <th>3</th>\n",
              "      <td>Portuguese</td>\n",
              "      <td>O Dia de Acção de Graças</td>\n",
              "      <td>Feliz (dia de) acção de graças</td>\n",
              "    </tr>\n",
              "    <tr>\n",
              "      <th>4</th>\n",
              "      <td>German</td>\n",
              "      <td>Danksagung</td>\n",
              "      <td>Herzliche Danksagung</td>\n",
              "    </tr>\n",
              "  </tbody>\n",
              "</table>\n",
              "</div>"
            ],
            "text/plain": [
              "     Language                          Day                             Word\n",
              "0     English       Happy Thanksgiving Day               Happy Thanksgiving\n",
              "1      French     le Jour de Merci Donnant                  Action de grâce\n",
              "2     Spanish  el Día de Acción de Gracias  Feliz Día de Acción de Gracias!\n",
              "3  Portuguese     O Dia de Acção de Graças   Feliz (dia de) acção de graças\n",
              "4      German                   Danksagung             Herzliche Danksagung"
            ]
          },
          "metadata": {},
          "execution_count": 115
        }
      ]
    },
    {
      "cell_type": "code",
      "metadata": {
        "id": "Ofy2I2hU5MCJ"
      },
      "source": [
        "tdf2.to_csv(\"thanksgiving_in_multi_lang_data.csv\")"
      ],
      "execution_count": 116,
      "outputs": []
    },
    {
      "cell_type": "code",
      "metadata": {
        "id": "2icIShdA7pNJ"
      },
      "source": [
        "from wordcloud import WordCloud"
      ],
      "execution_count": 117,
      "outputs": []
    },
    {
      "cell_type": "code",
      "metadata": {
        "id": "5PpmqRuF7pVc"
      },
      "source": [
        "day = \" \".join(tdf2['Day'].tolist())"
      ],
      "execution_count": 118,
      "outputs": []
    },
    {
      "cell_type": "code",
      "metadata": {
        "id": "qb-Dbdr87pcl"
      },
      "source": [
        "mywordcloud = WordCloud().generate(day)"
      ],
      "execution_count": 119,
      "outputs": []
    },
    {
      "cell_type": "code",
      "metadata": {
        "colab": {
          "base_uri": "https://localhost:8080/",
          "height": 219
        },
        "id": "nMq6w0SI7piA",
        "outputId": "76cd8cb0-43e7-4502-dcc5-f4257f671d05"
      },
      "source": [
        "plt.imshow(mywordcloud,interpolation='bilinear')\n",
        "plt.show()"
      ],
      "execution_count": 120,
      "outputs": [
        {
          "output_type": "display_data",
          "data": {
            "image/png": "[encoded data removed]",
            "text/plain": [
              "<Figure size 432x288 with 1 Axes>"
            ]
          },
          "metadata": {
            "needs_background": "light"
          }
        }
      ]
    }
  ]
}