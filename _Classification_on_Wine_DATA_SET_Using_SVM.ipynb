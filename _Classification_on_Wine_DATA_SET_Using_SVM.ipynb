{
  "nbformat": 4,
  "nbformat_minor": 0,
  "metadata": {
    "colab": {
      "name": " / Classification-on-Wine-DATA-SET Using_SVM.ipynb",
      "provenance": [],
      "collapsed_sections": [],
      "authorship_tag": "ABX9TyPah16USXCflANRZbg3HFCl",
      "include_colab_link": true
    },
    "kernelspec": {
      "name": "python3",
      "display_name": "Python 3"
    },
    "language_info": {
      "name": "python"
    }
  },
  "cells": [
    {
      "cell_type": "markdown",
      "metadata": {
        "id": "view-in-github",
        "colab_type": "text"
      },
      "source": [
        "<a href=\"https://colab.research.google.com/github/anoldKupara/Machine-Learning-Course/blob/main/_Classification_on_Wine_DATA_SET_Using_SVM.ipynb\" target=\"_parent\"><img src=\"https://colab.research.google.com/assets/colab-badge.svg\" alt=\"Open In Colab\"/></a>"
      ]
    },
    {
      "cell_type": "code",
      "metadata": {
        "id": "o6E-vccjnuqM"
      },
      "source": [
        "import pandas as pd\n",
        "import numpy as np\n",
        "import matplotlib.pyplot as plt\n",
        "from sklearn import datasets"
      ],
      "execution_count": 1,
      "outputs": []
    },
    {
      "cell_type": "code",
      "metadata": {
        "id": "zPkxYLL9q5ur"
      },
      "source": [
        "wine = datasets.load_wine()"
      ],
      "execution_count": 2,
      "outputs": []
    },
    {
      "cell_type": "code",
      "metadata": {
        "id": "gGcoVkyAq51P"
      },
      "source": [
        "x = wine.data\n",
        "y = wine.target"
      ],
      "execution_count": 3,
      "outputs": []
    },
    {
      "cell_type": "code",
      "metadata": {
        "id": "Y69KKnyiq_xk"
      },
      "source": [
        "################################################################### how to train and split\n",
        "\n",
        "from sklearn.model_selection import train_test_split"
      ],
      "execution_count": 4,
      "outputs": []
    },
    {
      "cell_type": "code",
      "metadata": {
        "id": "DWhh7u-6q_0t"
      },
      "source": [
        "#####################  choosing 2 features \n",
        "X=x[:,6:8]\n",
        "x_train, x_test, y_train, y_test = train_test_split(X,y,test_size=0.3,random_state=1,stratify=y)"
      ],
      "execution_count": 5,
      "outputs": []
    },
    {
      "cell_type": "code",
      "metadata": {
        "id": "WwCD7jNZq_35"
      },
      "source": [
        "from sklearn import svm\n",
        "from sklearn.svm import SVC"
      ],
      "execution_count": 6,
      "outputs": []
    },
    {
      "cell_type": "code",
      "metadata": {
        "id": "WtN10jzxq_6x"
      },
      "source": [
        "######### predict using kernel = 'linear'\n",
        "classification1=svm.SVC(kernel='linear')  \n",
        "classification1.fit(x_train,y_train)\n",
        "linear = classification1.predict(x_test)"
      ],
      "execution_count": 7,
      "outputs": []
    },
    {
      "cell_type": "code",
      "metadata": {
        "colab": {
          "base_uri": "https://localhost:8080/"
        },
        "id": "o8qXBfbqq_-D",
        "outputId": "ef257107-0609-4d4a-a851-46ee8d00abe4"
      },
      "source": [
        "linear"
      ],
      "execution_count": 8,
      "outputs": [
        {
          "output_type": "execute_result",
          "data": {
            "text/plain": [
              "array([2, 1, 2, 1, 0, 0, 1, 1, 1, 2, 2, 0, 1, 0, 2, 1, 0, 0, 1, 2, 0, 1,\n",
              "       0, 0, 1, 2, 2, 0, 0, 0, 1, 1, 1, 1, 2, 0, 2, 1, 1, 2, 0, 2, 0, 0,\n",
              "       0, 1, 1, 2, 1, 0, 1, 0, 0, 2])"
            ]
          },
          "metadata": {
            "tags": []
          },
          "execution_count": 8
        }
      ]
    },
    {
      "cell_type": "code",
      "metadata": {
        "id": "U8w8YDlYrABA"
      },
      "source": [
        "############ predict using kernel = 'polynomial'\n",
        "classification2=svm.SVC(kernel='poly',degree=3)\n",
        "classification2.fit(x_train,y_train)\n",
        "non_linear1= classification2.predict(x_test)"
      ],
      "execution_count": 9,
      "outputs": []
    },
    {
      "cell_type": "code",
      "metadata": {
        "colab": {
          "base_uri": "https://localhost:8080/"
        },
        "id": "qIHFU-vorVkK",
        "outputId": "f3890976-bea2-426c-fb1c-fdb6a5a31b47"
      },
      "source": [
        "non_linear1"
      ],
      "execution_count": 10,
      "outputs": [
        {
          "output_type": "execute_result",
          "data": {
            "text/plain": [
              "array([2, 2, 2, 1, 0, 0, 1, 1, 1, 2, 2, 0, 1, 0, 2, 1, 0, 1, 1, 2, 0, 1,\n",
              "       1, 0, 1, 2, 2, 1, 0, 0, 1, 1, 1, 1, 2, 1, 2, 1, 1, 2, 0, 2, 0, 0,\n",
              "       1, 1, 1, 2, 1, 0, 1, 1, 0, 2])"
            ]
          },
          "metadata": {
            "tags": []
          },
          "execution_count": 10
        }
      ]
    },
    {
      "cell_type": "code",
      "metadata": {
        "id": "oDzXdmPMrVnN"
      },
      "source": [
        "\n",
        "############## predict using kernel = 'rbf'\n",
        "classification3=svm.SVC(kernel='rbf')\n",
        "classification3.fit(x_train,y_train)\n",
        "non_linear2= classification3.predict(x_test)"
      ],
      "execution_count": 11,
      "outputs": []
    },
    {
      "cell_type": "code",
      "metadata": {
        "colab": {
          "base_uri": "https://localhost:8080/"
        },
        "id": "TGG_GN6DrVrm",
        "outputId": "8cf6304e-b8a0-494a-f69d-01b5f810bcc8"
      },
      "source": [
        "non_linear2"
      ],
      "execution_count": 12,
      "outputs": [
        {
          "output_type": "execute_result",
          "data": {
            "text/plain": [
              "array([2, 1, 2, 1, 0, 0, 1, 1, 1, 2, 2, 0, 1, 0, 1, 1, 0, 0, 0, 2, 0, 1,\n",
              "       0, 0, 1, 2, 2, 0, 0, 0, 1, 1, 1, 1, 2, 0, 2, 0, 1, 2, 0, 2, 0, 0,\n",
              "       0, 1, 0, 2, 1, 0, 1, 0, 0, 2])"
            ]
          },
          "metadata": {
            "tags": []
          },
          "execution_count": 12
        }
      ]
    },
    {
      "cell_type": "code",
      "metadata": {
        "id": "zeg9DXGkrVvU"
      },
      "source": [
        "############# imporing confusion_matrix and Classfication_report\n",
        "from sklearn.metrics import confusion_matrix\n",
        "from sklearn.metrics import classification_report"
      ],
      "execution_count": 13,
      "outputs": []
    },
    {
      "cell_type": "code",
      "metadata": {
        "colab": {
          "base_uri": "https://localhost:8080/"
        },
        "id": "lZ9KGGNFrVzv",
        "outputId": "d745cc6c-2702-4d7d-dcbf-f10928d55942"
      },
      "source": [
        "############ confusion matrix for kernel = 'linear'\n",
        "confusion_matrix(y_test,linear)"
      ],
      "execution_count": 14,
      "outputs": [
        {
          "output_type": "execute_result",
          "data": {
            "text/plain": [
              "array([[14,  4,  0],\n",
              "       [ 6, 14,  1],\n",
              "       [ 0,  2, 13]])"
            ]
          },
          "metadata": {
            "tags": []
          },
          "execution_count": 14
        }
      ]
    },
    {
      "cell_type": "code",
      "metadata": {
        "colab": {
          "base_uri": "https://localhost:8080/",
          "height": 69
        },
        "id": "F3mJj2wrrADg",
        "outputId": "443c29c5-62bb-4dfd-ad4c-bfac3e3d8216"
      },
      "source": [
        "target=wine.target_names\n",
        "classification_report(y_test,linear,target_names=target)"
      ],
      "execution_count": 15,
      "outputs": [
        {
          "output_type": "execute_result",
          "data": {
            "application/vnd.google.colaboratory.intrinsic+json": {
              "type": "string"
            },
            "text/plain": [
              "'              precision    recall  f1-score   support\\n\\n     class_0       0.70      0.78      0.74        18\\n     class_1       0.70      0.67      0.68        21\\n     class_2       0.93      0.87      0.90        15\\n\\n    accuracy                           0.76        54\\n   macro avg       0.78      0.77      0.77        54\\nweighted avg       0.76      0.76      0.76        54\\n'"
            ]
          },
          "metadata": {
            "tags": []
          },
          "execution_count": 15
        }
      ]
    },
    {
      "cell_type": "code",
      "metadata": {
        "colab": {
          "base_uri": "https://localhost:8080/"
        },
        "id": "Qi2v1E_8rnT5",
        "outputId": "ff7d35a0-ee38-4fd1-dae0-df5759751cab"
      },
      "source": [
        "############# confusion matrix for kernel ='polynomial'\n",
        "confusion_matrix(y_test,non_linear1)"
      ],
      "execution_count": 16,
      "outputs": [
        {
          "output_type": "execute_result",
          "data": {
            "text/plain": [
              "array([[11,  7,  0],\n",
              "       [ 3, 17,  1],\n",
              "       [ 0,  1, 14]])"
            ]
          },
          "metadata": {
            "tags": []
          },
          "execution_count": 16
        }
      ]
    },
    {
      "cell_type": "code",
      "metadata": {
        "colab": {
          "base_uri": "https://localhost:8080/",
          "height": 69
        },
        "id": "24CT319QrAGp",
        "outputId": "ca476eb6-2366-4e75-d920-32c6cf036700"
      },
      "source": [
        "classification_report(y_test,non_linear1,target_names=target)"
      ],
      "execution_count": 17,
      "outputs": [
        {
          "output_type": "execute_result",
          "data": {
            "application/vnd.google.colaboratory.intrinsic+json": {
              "type": "string"
            },
            "text/plain": [
              "'              precision    recall  f1-score   support\\n\\n     class_0       0.79      0.61      0.69        18\\n     class_1       0.68      0.81      0.74        21\\n     class_2       0.93      0.93      0.93        15\\n\\n    accuracy                           0.78        54\\n   macro avg       0.80      0.78      0.79        54\\nweighted avg       0.79      0.78      0.78        54\\n'"
            ]
          },
          "metadata": {
            "tags": []
          },
          "execution_count": 17
        }
      ]
    },
    {
      "cell_type": "code",
      "metadata": {
        "colab": {
          "base_uri": "https://localhost:8080/"
        },
        "id": "5XHIc6UXrwnY",
        "outputId": "df0597ce-c394-4383-ad4e-2c78a45eea13"
      },
      "source": [
        "##################### confusion matrix for kernel = 'rbf'\n",
        "confusion_matrix(y_test,non_linear2)"
      ],
      "execution_count": 18,
      "outputs": [
        {
          "output_type": "execute_result",
          "data": {
            "text/plain": [
              "array([[16,  2,  0],\n",
              "       [ 7, 13,  1],\n",
              "       [ 0,  3, 12]])"
            ]
          },
          "metadata": {
            "tags": []
          },
          "execution_count": 18
        }
      ]
    },
    {
      "cell_type": "code",
      "metadata": {
        "colab": {
          "base_uri": "https://localhost:8080/"
        },
        "id": "H7iY8HZlr0n_",
        "outputId": "c54a4a09-9292-48c3-9dda-60705bc1e8a2"
      },
      "source": [
        "print(classification_report(y_test,non_linear2,target_names=target))"
      ],
      "execution_count": 19,
      "outputs": [
        {
          "output_type": "stream",
          "text": [
            "              precision    recall  f1-score   support\n",
            "\n",
            "     class_0       0.70      0.89      0.78        18\n",
            "     class_1       0.72      0.62      0.67        21\n",
            "     class_2       0.92      0.80      0.86        15\n",
            "\n",
            "    accuracy                           0.76        54\n",
            "   macro avg       0.78      0.77      0.77        54\n",
            "weighted avg       0.77      0.76      0.76        54\n",
            "\n"
          ],
          "name": "stdout"
        }
      ]
    },
    {
      "cell_type": "code",
      "metadata": {
        "colab": {
          "base_uri": "https://localhost:8080/",
          "height": 298
        },
        "id": "xRkNBp2Tr3QZ",
        "outputId": "4ca6a71e-3139-42c5-feec-1c218b966ac0"
      },
      "source": [
        "####################### plotting the classifier in 2d projection\n",
        "print(__doc__)\n",
        "\n",
        "import numpy as np\n",
        "import matplotlib.pyplot as plt\n",
        "from sklearn import svm, datasets\n",
        "\n",
        "\n",
        "def make_meshgrid(x, y, h=.02):\n",
        "    \"\"\"Create a mesh of points to plot in\n",
        "\n",
        "    Parameters\n",
        "    ----------\n",
        "    x: data to base x-axis meshgrid on\n",
        "    y: data to base y-axis meshgrid on\n",
        "    h: stepsize for meshgrid, optional\n",
        "\n",
        "    Returns\n",
        "    -------\n",
        "    xx, yy : ndarray\n",
        "    \"\"\"\n",
        "    x_min, x_max = x.min() - 1, x.max() + 1\n",
        "    y_min, y_max = y.min() - 1, y.max() + 1\n",
        "    xx, yy = np.meshgrid(np.arange(x_min, x_max, h),\n",
        "                         np.arange(y_min, y_max, h))\n",
        "    return xx, yy\n",
        "\n",
        "\n",
        "def plot_contours(ax, clf, xx, yy, **params):\n",
        "    \"\"\"Plot the decision boundaries for a classifier.\n",
        "\n",
        "    Parameters\n",
        "    ----------\n",
        "    ax: matplotlib axes object\n",
        "    clf: a classifier\n",
        "    xx: meshgrid ndarray\n",
        "    yy: meshgrid ndarray\n",
        "    params: dictionary of params to pass to contourf, optional\n",
        "    \"\"\"\n",
        "    Z = clf.predict(np.c_[xx.ravel(), yy.ravel()])\n",
        "    Z = Z.reshape(xx.shape)\n",
        "    out = ax.contourf(xx, yy, Z, **params)\n",
        "    return out\n",
        "\n",
        "\n",
        "\n",
        "# we create an instance of SVM and fit out data. We do not scale our\n",
        "# data since we want to plot the support vectors\n",
        "C = 1.0  # SVM regularization parameter\n",
        "models = (svm.SVC(kernel='linear', C=C),\n",
        "          svm.SVC(kernel='rbf', gamma=0.7, C=C),\n",
        "          svm.SVC(kernel='poly', degree=3, C=C))\n",
        "models = (clf.fit(X, y) for clf in models)\n",
        "\n",
        "# title for the plots\n",
        "titles = ('SVC with linear kernel',\n",
        "          'SVC with RBF kernel',\n",
        "          'SVC with polynomial (degree 3) kernel')\n",
        "\n",
        "# Set-up 2x2 grid for plotting.\n",
        "fig, sub = plt.subplots(2, 2)\n",
        "plt.subplots_adjust(wspace=0.8, hspace=0.8)\n",
        "\n",
        "X0, X1 = X[:, 0], X[:, 1]\n",
        "xx, yy = make_meshgrid(X0, X1)\n",
        "\n",
        "for clf, title, ax in zip(models, titles, sub.flatten()):\n",
        "    plot_contours(ax, clf, xx, yy,\n",
        "                  cmap=plt.cm.coolwarm, alpha=0.9)\n",
        "    ax.scatter(X0, X1, c=y, cmap=plt.cm.coolwarm, s=18, edgecolors='k')\n",
        "    ax.set_xlim(xx.min(), xx.max())\n",
        "    ax.set_ylim(yy.min(), yy.max())\n",
        "    ax.set_xlabel('flavanoids')\n",
        "    ax.set_ylabel('nonflavanoid_phenols')\n",
        "    ax.set_xticks(())\n",
        "    ax.set_yticks(())\n",
        "    ax.set_title(title)\n",
        "\n",
        "plt.show()"
      ],
      "execution_count": 20,
      "outputs": [
        {
          "output_type": "stream",
          "text": [
            "Automatically created module for IPython interactive environment\n"
          ],
          "name": "stdout"
        },
        {
          "output_type": "display_data",
          "data": {
            "image/png": "[encoded data removed]",
            "text/plain": [
              "<Figure size 432x288 with 4 Axes>"
            ]
          },
          "metadata": {
            "tags": [],
            "needs_background": "light"
          }
        }
      ]
    }
  ]
}