{
  "nbformat": 4,
  "nbformat_minor": 0,
  "metadata": {
    "colab": {
      "name": "Data Imputation Theory.ipynb",
      "provenance": [],
      "authorship_tag": "ABX9TyNb8tLrapeCBVUKi7imUQAE",
      "include_colab_link": true
    },
    "kernelspec": {
      "name": "python3",
      "display_name": "Python 3"
    },
    "language_info": {
      "name": "python"
    }
  },
  "cells": [
    {
      "cell_type": "markdown",
      "metadata": {
        "id": "view-in-github",
        "colab_type": "text"
      },
      "source": [
        "<a href=\"https://colab.research.google.com/github/anoldKupara/Machine-Learning-Course/blob/main/Data_Imputation_Theory.ipynb\" target=\"_parent\"><img src=\"https://colab.research.google.com/assets/colab-badge.svg\" alt=\"Open In Colab\"/></a>"
      ]
    },
    {
      "cell_type": "code",
      "metadata": {
        "id": "8mqo-U8XUhEP"
      },
      "source": [
        ""
      ],
      "execution_count": null,
      "outputs": []
    },
    {
      "cell_type": "code",
      "metadata": {
        "id": "Kf9JYRofUiTg"
      },
      "source": [
        ""
      ],
      "execution_count": null,
      "outputs": []
    },
    {
      "cell_type": "code",
      "metadata": {
        "id": "c9mSXR6sUiYb"
      },
      "source": [
        ""
      ],
      "execution_count": null,
      "outputs": []
    },
    {
      "cell_type": "code",
      "metadata": {
        "id": "1I0h5PVpUid2"
      },
      "source": [
        ""
      ],
      "execution_count": null,
      "outputs": []
    },
    {
      "cell_type": "code",
      "metadata": {
        "id": "VqKWrKfAUijG"
      },
      "source": [
        ""
      ],
      "execution_count": null,
      "outputs": []
    },
    {
      "cell_type": "code",
      "metadata": {
        "id": "qnKuo-dAUin-"
      },
      "source": [
        ""
      ],
      "execution_count": null,
      "outputs": []
    },
    {
      "cell_type": "code",
      "metadata": {
        "id": "GqiJzDmNUitE"
      },
      "source": [
        ""
      ],
      "execution_count": null,
      "outputs": []
    },
    {
      "cell_type": "code",
      "metadata": {
        "id": "_7G555yEUiyQ"
      },
      "source": [
        ""
      ],
      "execution_count": null,
      "outputs": []
    },
    {
      "cell_type": "code",
      "metadata": {
        "id": "LfkTOjKVUi3t"
      },
      "source": [
        ""
      ],
      "execution_count": null,
      "outputs": []
    },
    {
      "cell_type": "code",
      "metadata": {
        "id": "ma-ZLhz7Ui85"
      },
      "source": [
        ""
      ],
      "execution_count": null,
      "outputs": []
    },
    {
      "cell_type": "code",
      "metadata": {
        "id": "GIbN4joGUjBm"
      },
      "source": [
        ""
      ],
      "execution_count": null,
      "outputs": []
    },
    {
      "cell_type": "code",
      "metadata": {
        "id": "qDvOTSLOUjFS"
      },
      "source": [
        "#Imports:\n",
        "\n",
        "import numpy as np\n",
        "import pandas as pd\n",
        "from scipy.stats import norm, binom"
      ],
      "execution_count": null,
      "outputs": []
    },
    {
      "cell_type": "code",
      "metadata": {
        "id": "yEWptgEmUjKo"
      },
      "source": [
        "# visualization libraries\n",
        "import seaborn as sns\n",
        "import matplotlib.pyplot as plt\n",
        "%matplotlib inline\n",
        "sns.set()"
      ],
      "execution_count": null,
      "outputs": []
    },
    {
      "cell_type": "code",
      "metadata": {
        "id": "Zcv4ulMvUjNr"
      },
      "source": [
        "# data imputation libraries\n",
        "import missingno as msno"
      ],
      "execution_count": null,
      "outputs": []
    },
    {
      "cell_type": "code",
      "metadata": {
        "id": "z99CMcTDUjTL"
      },
      "source": [
        "#Some utilities and configurations\n",
        "\n",
        "# seed to follow along\n",
        "np.random.seed(0)"
      ],
      "execution_count": null,
      "outputs": []
    },
    {
      "cell_type": "code",
      "metadata": {
        "id": "cQd1YpCfUjXr"
      },
      "source": [
        "#Generating data (Missing Completely At Random MCAR)\n",
        "\n",
        "# generate 1500 data points\n",
        "N = np.arange(1500)\n",
        "\n",
        "# helper function for this data\n",
        "vary = lambda v: np.random.choice(np.arange(v))\n",
        "\n",
        "# create correlated, random variables\n",
        "a = 2\n",
        "b = 1/2\n",
        "eps = np.array([norm(0, vary(50)).rvs() for n in N])\n",
        "y = (a + b*N + eps) / 100                         \n",
        "x = (N + norm(10, vary(250)).rvs(len(N))) / 100\n",
        "\n",
        "data = pd.DataFrame({\"y\": y, \"x\": x})\n",
        "\n",
        "# 20% missing in x, 30% missing in y\n",
        "x[binom(1, 0.2).rvs(len(N)) == 1] = np.nan\n",
        "y[binom(1, 0.3).rvs(len(N)) == 1] = np.nan\n",
        "\n",
        "# collect results in a dataframe \n",
        "data_miss = pd.DataFrame({\"y\": y, \"x\": x})"
      ],
      "execution_count": null,
      "outputs": []
    },
    {
      "cell_type": "code",
      "metadata": {
        "colab": {
          "base_uri": "https://localhost:8080/",
          "height": 303
        },
        "id": "RJ-Dt_kbVHI4",
        "outputId": "f10899ae-371d-4c9f-f666-40dd409a9fec"
      },
      "source": [
        "#Data Visualization¶\n",
        "\n",
        "sns.scatterplot(x=\"x\", y=\"y\", data=data)"
      ],
      "execution_count": null,
      "outputs": [
        {
          "output_type": "execute_result",
          "data": {
            "text/plain": [
              "<matplotlib.axes._subplots.AxesSubplot at 0x7ff82346b690>"
            ]
          },
          "metadata": {},
          "execution_count": 6
        },
        {
          "output_type": "display_data",
          "data": {
            "image/png": "[encoded data removed]",
            "text/plain": [
              "<Figure size 432x288 with 1 Axes>"
            ]
          },
          "metadata": {}
        }
      ]
    },
    {
      "cell_type": "code",
      "metadata": {
        "colab": {
          "base_uri": "https://localhost:8080/",
          "height": 303
        },
        "id": "EJC7mco1VHP9",
        "outputId": "bce44800-0b10-43d3-9ce0-43424291210f"
      },
      "source": [
        "sns.scatterplot(x=\"x\", y=\"y\", data=data_miss)"
      ],
      "execution_count": null,
      "outputs": [
        {
          "output_type": "execute_result",
          "data": {
            "text/plain": [
              "<matplotlib.axes._subplots.AxesSubplot at 0x7ff822934bd0>"
            ]
          },
          "metadata": {},
          "execution_count": 7
        },
        {
          "output_type": "display_data",
          "data": {
            "image/png": "[encoded data removed]",
            "text/plain": [
              "<Figure size 432x288 with 1 Axes>"
            ]
          },
          "metadata": {}
        }
      ]
    },
    {
      "cell_type": "code",
      "metadata": {
        "colab": {
          "base_uri": "https://localhost:8080/"
        },
        "id": "gxaEHUHoVHVr",
        "outputId": "5d51b65d-4a47-4248-eb25-fe581b7ec0c3"
      },
      "source": [
        "#Missing values?\n",
        "#Using pandas directly (fast but somehow limited)\n",
        "#using imputation libraries (like missingno or autoimpute)\n",
        "#Note here that autoimpute uses missingno\n",
        "\n",
        "data_miss.info()"
      ],
      "execution_count": null,
      "outputs": [
        {
          "output_type": "stream",
          "name": "stdout",
          "text": [
            "<class 'pandas.core.frame.DataFrame'>\n",
            "RangeIndex: 1500 entries, 0 to 1499\n",
            "Data columns (total 2 columns):\n",
            " #   Column  Non-Null Count  Dtype  \n",
            "---  ------  --------------  -----  \n",
            " 0   y       1096 non-null   float64\n",
            " 1   x       1155 non-null   float64\n",
            "dtypes: float64(2)\n",
            "memory usage: 23.6 KB\n"
          ]
        }
      ]
    },
    {
      "cell_type": "code",
      "metadata": {
        "colab": {
          "base_uri": "https://localhost:8080/",
          "height": 99
        },
        "id": "NE0mwHdFVHcr",
        "outputId": "ecd2c849-f967-4a61-91d0-f71a66837b81"
      },
      "source": [
        "print(\"Amount of data missing before imputation takes place\")\n",
        "pd.DataFrame(data_miss.isnull().sum(), columns=[\"records missing\"]).T"
      ],
      "execution_count": null,
      "outputs": [
        {
          "output_type": "stream",
          "name": "stdout",
          "text": [
            "Amount of data missing before imputation takes place\n"
          ]
        },
        {
          "output_type": "execute_result",
          "data": {
            "text/html": [
              "<div>\n",
              "<style scoped>\n",
              "    .dataframe tbody tr th:only-of-type {\n",
              "        vertical-align: middle;\n",
              "    }\n",
              "\n",
              "    .dataframe tbody tr th {\n",
              "        vertical-align: top;\n",
              "    }\n",
              "\n",
              "    .dataframe thead th {\n",
              "        text-align: right;\n",
              "    }\n",
              "</style>\n",
              "<table border=\"1\" class=\"dataframe\">\n",
              "  <thead>\n",
              "    <tr style=\"text-align: right;\">\n",
              "      <th></th>\n",
              "      <th>y</th>\n",
              "      <th>x</th>\n",
              "    </tr>\n",
              "  </thead>\n",
              "  <tbody>\n",
              "    <tr>\n",
              "      <th>records missing</th>\n",
              "      <td>404</td>\n",
              "      <td>345</td>\n",
              "    </tr>\n",
              "  </tbody>\n",
              "</table>\n",
              "</div>"
            ],
            "text/plain": [
              "                   y    x\n",
              "records missing  404  345"
            ]
          },
          "metadata": {},
          "execution_count": 9
        }
      ]
    },
    {
      "cell_type": "code",
      "metadata": {
        "id": "rUyPPApDVHjU"
      },
      "source": [
        "from autoimpute.visuals import plot_md_locations, plot_md_percent"
      ],
      "execution_count": null,
      "outputs": []
    },
    {
      "cell_type": "code",
      "metadata": {
        "colab": {
          "base_uri": "https://localhost:8080/",
          "height": 376
        },
        "id": "NhDluSD9VHoh",
        "outputId": "7e19e41c-1416-42dd-e8e6-95e9fe6babba"
      },
      "source": [
        "# plotplot_md_percent(data_miss)\n",
        "msno.bar(data_miss, figsize=(8,5), fontsize=10)"
      ],
      "execution_count": null,
      "outputs": [
        {
          "output_type": "execute_result",
          "data": {
            "text/plain": [
              "<matplotlib.axes._subplots.AxesSubplot at 0x7ff820fdea50>"
            ]
          },
          "metadata": {},
          "execution_count": 13
        },
        {
          "output_type": "display_data",
          "data": {
            "image/png": "[encoded data removed]",
            "text/plain": [
              "<Figure size 576x360 with 3 Axes>"
            ]
          },
          "metadata": {}
        }
      ]
    },
    {
      "cell_type": "code",
      "metadata": {
        "colab": {
          "base_uri": "https://localhost:8080/",
          "height": 349
        },
        "id": "DV-ZQlnqVHvH",
        "outputId": "88b73882-9734-4d59-8670-2c2e9d791396"
      },
      "source": [
        "# plot_md_location(data_miss)\n",
        "msno.matrix(data_miss, figsize=(6,5), fontsize=10)"
      ],
      "execution_count": null,
      "outputs": [
        {
          "output_type": "execute_result",
          "data": {
            "text/plain": [
              "<matplotlib.axes._subplots.AxesSubplot at 0x7ff818676250>"
            ]
          },
          "metadata": {},
          "execution_count": 14
        },
        {
          "output_type": "display_data",
          "data": {
            "image/png": "[encoded data removed]",
            "text/plain": [
              "<Figure size 432x360 with 2 Axes>"
            ]
          },
          "metadata": {}
        }
      ]
    },
    {
      "cell_type": "code",
      "metadata": {
        "id": "hqcsCIplUmSo"
      },
      "source": [
        "# Correlation between missing values?\n",
        "# https://github.com/ResidentMario/missingno#heatmap\n",
        "\n",
        "#from autoimpute.visuals import plot_nullility_corr, plot_nullility_dendogram"
      ],
      "execution_count": null,
      "outputs": []
    },
    {
      "cell_type": "code",
      "metadata": {
        "colab": {
          "base_uri": "https://localhost:8080/",
          "height": 352
        },
        "id": "rIsyMSjHUsNk",
        "outputId": "4714903f-774d-4e0d-d981-71d5d2768693"
      },
      "source": [
        "#plot_nullility_corr(data_miss, figsize=(5,5))\n",
        "msno.heatmap(data_miss, figsize=(5,5))"
      ],
      "execution_count": null,
      "outputs": [
        {
          "output_type": "execute_result",
          "data": {
            "text/plain": [
              "<matplotlib.axes._subplots.AxesSubplot at 0x7ff8185c6990>"
            ]
          },
          "metadata": {},
          "execution_count": 17
        },
        {
          "output_type": "display_data",
          "data": {
            "image/png": "[encoded data removed]",
            "text/plain": [
              "<Figure size 360x360 with 2 Axes>"
            ]
          },
          "metadata": {}
        }
      ]
    },
    {
      "cell_type": "code",
      "metadata": {
        "id": "ONY603IDUsfi"
      },
      "source": [
        "#lmpact of missing values on the analysis\n",
        "\n",
        "from sklearn.linear_model import LinearRegression\n",
        "\n",
        "# prep for regression\n",
        "X = data_miss.x.values.reshape(-1, 1) # reshape because one feature only\n",
        "y = data_miss.y\n",
        "lm = LinearRegression()\n",
        "\n",
        "# try to fit the model\n",
        "print_header(\"Fitting linear model to estimate relationship between X and y\")\n",
        "try:\n",
        "    lm.fit(X, y)\n",
        "except ValueError as ve:\n",
        "    print(f\"{ve.__class__.__name__}: {ve}\")"
      ],
      "execution_count": null,
      "outputs": []
    },
    {
      "cell_type": "code",
      "metadata": {
        "id": "t60ERs97WvR2"
      },
      "source": [
        "data_miss.shape"
      ],
      "execution_count": null,
      "outputs": []
    },
    {
      "cell_type": "code",
      "metadata": {
        "id": "Ewo43QSBWvY2"
      },
      "source": [
        "# drop all rows that contains at least one missing value\n",
        "data_miss.dropna(axis='index', how='any').shape"
      ],
      "execution_count": null,
      "outputs": []
    },
    {
      "cell_type": "code",
      "metadata": {
        "id": "52bQUCNSWvgL"
      },
      "source": [
        "# drop rows that only contains missing values\n",
        "data_miss.dropna(axis='index', how='all').shape"
      ],
      "execution_count": null,
      "outputs": []
    },
    {
      "cell_type": "code",
      "metadata": {
        "id": "g-qKNfrUWvnS"
      },
      "source": [
        "# keep rows that have at least 2 non missing values\n",
        "data_miss.dropna(axis='index', thresh=2).shape"
      ],
      "execution_count": null,
      "outputs": []
    },
    {
      "cell_type": "code",
      "metadata": {
        "id": "2NQMtqJ1WvtI"
      },
      "source": [
        "# keep columns that contains at least 600 non-missing value\n",
        "data_miss.dropna(axis='columns', thresh=1100).shape"
      ],
      "execution_count": null,
      "outputs": []
    },
    {
      "cell_type": "code",
      "metadata": {
        "id": "rMJ2VlFgWvxy"
      },
      "source": [
        "#Imputing values (Single Imputation)¶\n",
        "#Single imputation vs multiple imputations\n",
        "\n",
        "from autoimpute.imputations import SingleImputer, MultipleImputer"
      ],
      "execution_count": null,
      "outputs": []
    },
    {
      "cell_type": "code",
      "metadata": {
        "id": "DBj3nb6GWv2o"
      },
      "source": [
        "# create the mean imputer\n",
        "mean_imputer = SingleImputer(strategy='mean')"
      ],
      "execution_count": null,
      "outputs": []
    },
    {
      "cell_type": "code",
      "metadata": {
        "id": "jidPW89WWv7C"
      },
      "source": [
        "# fit the imputer with train dataset\n",
        "mean_imputer.fit(data_miss)"
      ],
      "execution_count": null,
      "outputs": []
    },
    {
      "cell_type": "code",
      "metadata": {
        "id": "GGa03aMMWv_7"
      },
      "source": [
        "# impute the data\n",
        "data_imputed_once = mean_imputer.transform(data_miss)"
      ],
      "execution_count": null,
      "outputs": []
    },
    {
      "cell_type": "code",
      "metadata": {
        "id": "Z_gLQGRYWwFa"
      },
      "source": [
        "#Some informations about the imputed data\n",
        "\n",
        "# amount of missing data after imputation\n",
        "print_header(\"Amount of data missing after imputation takes place\")\n",
        "pd.DataFrame(data_imputed_once.isnull().sum(), columns=[\"records missing\"]).T"
      ],
      "execution_count": null,
      "outputs": []
    },
    {
      "cell_type": "code",
      "metadata": {
        "id": "_pApwz1TWwK7"
      },
      "source": [
        "print_header(\"Showing the first 5 imputations for column x\")\n",
        "data_imputed_once.loc[mean_imputer.imputed_['x'], 'x'].head()"
      ],
      "execution_count": null,
      "outputs": []
    },
    {
      "cell_type": "code",
      "metadata": {
        "id": "ZQDbTTbzWwQe"
      },
      "source": [
        "data_miss['x'].mean()"
      ],
      "execution_count": null,
      "outputs": []
    },
    {
      "cell_type": "code",
      "metadata": {
        "id": "sGPCxHPnWwVv"
      },
      "source": [
        "#Visualizing the imputed data\n",
        "#https://autoimpute.readthedocs.io/en/latest/user_guide/visuals.html\n",
        "\n",
        "from autoimpute.visuals import plot_imp_scatter\n",
        "plot_imp_scatter(data_miss, 'x', 'y', strategy='mean')"
      ],
      "execution_count": null,
      "outputs": []
    },
    {
      "cell_type": "code",
      "metadata": {
        "id": "3Rbuqz9qWwjQ"
      },
      "source": [
        "plot_imp_scatter(data_miss, 'x', 'y', strategy='least squares)"
      ],
      "execution_count": null,
      "outputs": []
    },
    {
      "cell_type": "code",
      "metadata": {
        "id": "Qy8T9OwOUskH"
      },
      "source": [
        "plot_imp_scatter(data_miss, 'x', 'y', strategy='stochastic')"
      ],
      "execution_count": null,
      "outputs": []
    },
    {
      "cell_type": "code",
      "metadata": {
        "id": "d-n3l8HNYTXj"
      },
      "source": [
        "#Comparing linear regressions, dropped missing values vs. imputed data vs original data¶\n",
        "\n",
        "data_dropna                = data_miss.dropna()\n",
        "data_imputed_mean          = SingleImputer(strategy='mean').fit_transform(data_miss)\n",
        "data_imputed_least_squares = SingleImputer(strategy='least squares').fit_transform(data_miss)\n",
        "data_imputed_stochastic    = SingleImputer(strategy='stochastic').fit_transform(data_miss)"
      ],
      "execution_count": null,
      "outputs": []
    },
    {
      "cell_type": "code",
      "metadata": {
        "id": "q-He5a5fYTfU"
      },
      "source": [
        "def prepare_data(df):\n",
        "    return {'X':df.x.values.reshape(-1, 1), 'y':df.y.values.reshape(-1, 1)}"
      ],
      "execution_count": null,
      "outputs": []
    },
    {
      "cell_type": "code",
      "metadata": {
        "id": "9Ka-mRHiYTmY"
      },
      "source": [
        "from sklearn.linear_model import LinearRegression\n",
        "\n",
        "# linear regressions with different data sets (TODO: train and test here) \n",
        "linreg_original              = LinearRegression().fit(**prepare_data(data))\n",
        "linreg_dropna                = LinearRegression().fit(**prepare_data(data_dropna))\n",
        "linreg_Imputed_mean          = LinearRegression().fit(**prepare_data(data_imputed_mean))\n",
        "linreg_imputed_least_squares = LinearRegression().fit(**prepare_data(data_imputed_least_squares))\n",
        "linreg_imputed_stochastic    = LinearRegression().fit(**prepare_data(data_imputed_stochastic))"
      ],
      "execution_count": null,
      "outputs": []
    },
    {
      "cell_type": "code",
      "metadata": {
        "id": "HKrNxmw2YTwp"
      },
      "source": [
        "scores = pd.DataFrame.from_records({\n",
        "    'original':linreg_original.score(**prepare_data(data)),\n",
        "    'dropna':linreg_dropna.score(**prepare_data(data_dropna)),\n",
        "    'Imputed_mean':linreg_Imputed_mean.score(**prepare_data(data_imputed_mean)),\n",
        "    'imputed_least_squares':linreg_imputed_least_squares.score(**prepare_data(data_imputed_least_squares)),\n",
        "    'imputed_stochastic':linreg_imputed_stochastic.score(**prepare_data(data_imputed_stochastic)),\n",
        "}, index=['R2 score'])"
      ],
      "execution_count": null,
      "outputs": []
    },
    {
      "cell_type": "code",
      "metadata": {
        "id": "3kiIGHgPYT4W"
      },
      "source": [
        "scores.T"
      ],
      "execution_count": null,
      "outputs": []
    },
    {
      "cell_type": "code",
      "metadata": {
        "id": "z7fbjQUyYT9f"
      },
      "source": [
        ""
      ],
      "execution_count": null,
      "outputs": []
    },
    {
      "cell_type": "code",
      "metadata": {
        "id": "Kb7-VCyPYUDA"
      },
      "source": [
        ""
      ],
      "execution_count": null,
      "outputs": []
    },
    {
      "cell_type": "code",
      "metadata": {
        "id": "5Rf_OrdyYUIK"
      },
      "source": [
        ""
      ],
      "execution_count": null,
      "outputs": []
    },
    {
      "cell_type": "code",
      "metadata": {
        "id": "4cGoP5zeYUNi"
      },
      "source": [
        ""
      ],
      "execution_count": null,
      "outputs": []
    }
  ]
}