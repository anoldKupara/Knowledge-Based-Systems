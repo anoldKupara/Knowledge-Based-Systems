{
  "nbformat": 4,
  "nbformat_minor": 0,
  "metadata": {
    "colab": {
      "name": "Untitled0.ipynb",
      "provenance": [],
      "collapsed_sections": [],
      "mount_file_id": "1MIPSvO3glYqDR6vMIo4zJdeOJwLkcsTd",
      "authorship_tag": "ABX9TyNbv29Orr7mr7YO/7rAPY0t",
      "include_colab_link": true
    },
    "kernelspec": {
      "name": "python3",
      "display_name": "Python 3"
    },
    "language_info": {
      "name": "python"
    }
  },
  "cells": [
    {
      "cell_type": "markdown",
      "metadata": {
        "id": "view-in-github",
        "colab_type": "text"
      },
      "source": [
        "<a href=\"https://colab.research.google.com/github/anoldKupara/Machine-Learning-Course/blob/main/Assignment1.ipynb\" target=\"_parent\"><img src=\"https://colab.research.google.com/assets/colab-badge.svg\" alt=\"Open In Colab\"/></a>"
      ]
    },
    {
      "cell_type": "code",
      "metadata": {
        "id": "pPh9XXf5_lx6"
      },
      "source": [
        "#Anold Kudakwashe Kupara\n",
        "#Level 4:1\n",
        "#Advanced AI \n",
        "#CTHSC"
      ],
      "execution_count": 1,
      "outputs": []
    },
    {
      "cell_type": "code",
      "metadata": {
        "id": "tU2yV01j_xYA"
      },
      "source": [
        "# Data manipulation imports\n",
        "import re\n",
        "import json\n",
        "import time\n",
        "import numpy as np\n",
        "import pandas as pd\n",
        "import datetime as dt"
      ],
      "execution_count": 2,
      "outputs": []
    },
    {
      "cell_type": "code",
      "metadata": {
        "id": "QwC-thdVDlVw"
      },
      "source": [
        ""
      ],
      "execution_count": null,
      "outputs": []
    },
    {
      "cell_type": "code",
      "metadata": {
        "colab": {
          "base_uri": "https://localhost:8080/"
        },
        "id": "smQfYgwb_2B7",
        "outputId": "4634d4fb-c790-4fd5-dcb8-a8e02d576f15"
      },
      "source": [
        "# Loading the Arrests CSV\n",
        "date_of_arrest_arrests = pd.read_csv('/content/drive/MyDrive/Colab Notebooks/Arrest_Data_from_2010_to_Present.csv')"
      ],
      "execution_count": 4,
      "outputs": [
        {
          "output_type": "stream",
          "text": [
            "/usr/local/lib/python3.7/dist-packages/IPython/core/interactiveshell.py:2718: DtypeWarning: Columns (0) have mixed types.Specify dtype option on import or set low_memory=False.\n",
            "  interactivity=interactivity, compiler=compiler, result=result)\n"
          ],
          "name": "stderr"
        }
      ]
    },
    {
      "cell_type": "code",
      "metadata": {
        "colab": {
          "base_uri": "https://localhost:8080/",
          "height": 360
        },
        "id": "T25a5y3NC26D",
        "outputId": "2aa0b384-fca5-413e-c1bf-fbfaf4dbe746"
      },
      "source": [
        "date_of_arrest_arrests.head()"
      ],
      "execution_count": 5,
      "outputs": [
        {
          "output_type": "execute_result",
          "data": {
            "text/html": [
              "<div>\n",
              "<style scoped>\n",
              "    .dataframe tbody tr th:only-of-type {\n",
              "        vertical-align: middle;\n",
              "    }\n",
              "\n",
              "    .dataframe tbody tr th {\n",
              "        vertical-align: top;\n",
              "    }\n",
              "\n",
              "    .dataframe thead th {\n",
              "        text-align: right;\n",
              "    }\n",
              "</style>\n",
              "<table border=\"1\" class=\"dataframe\">\n",
              "  <thead>\n",
              "    <tr style=\"text-align: right;\">\n",
              "      <th></th>\n",
              "      <th>Report ID</th>\n",
              "      <th>Arrest Date</th>\n",
              "      <th>Time</th>\n",
              "      <th>Area ID</th>\n",
              "      <th>Area Name</th>\n",
              "      <th>Reporting District</th>\n",
              "      <th>Age</th>\n",
              "      <th>Sex Code</th>\n",
              "      <th>Descent Code</th>\n",
              "      <th>Charge Group Code</th>\n",
              "      <th>Charge Group Description</th>\n",
              "      <th>Arrest Type Code</th>\n",
              "      <th>Charge</th>\n",
              "      <th>Charge Description</th>\n",
              "      <th>Address</th>\n",
              "      <th>Cross Street</th>\n",
              "      <th>Location</th>\n",
              "    </tr>\n",
              "  </thead>\n",
              "  <tbody>\n",
              "    <tr>\n",
              "      <th>0</th>\n",
              "      <td>4248313</td>\n",
              "      <td>02/24/2015</td>\n",
              "      <td>1310.0</td>\n",
              "      <td>20.0</td>\n",
              "      <td>Olympic</td>\n",
              "      <td>2022.0</td>\n",
              "      <td>37.0</td>\n",
              "      <td>M</td>\n",
              "      <td>H</td>\n",
              "      <td>5.0</td>\n",
              "      <td>Burglary</td>\n",
              "      <td>F</td>\n",
              "      <td>459PC</td>\n",
              "      <td>BURGLARY</td>\n",
              "      <td>5TH</td>\n",
              "      <td>WILTON</td>\n",
              "      <td>(34.0653, -118.314)</td>\n",
              "    </tr>\n",
              "    <tr>\n",
              "      <th>1</th>\n",
              "      <td>191811472</td>\n",
              "      <td>05/03/2019</td>\n",
              "      <td>1700.0</td>\n",
              "      <td>18.0</td>\n",
              "      <td>Southeast</td>\n",
              "      <td>1802.0</td>\n",
              "      <td>23.0</td>\n",
              "      <td>F</td>\n",
              "      <td>B</td>\n",
              "      <td>NaN</td>\n",
              "      <td>NaN</td>\n",
              "      <td>M</td>\n",
              "      <td>653.22 PC</td>\n",
              "      <td>NaN</td>\n",
              "      <td>91ST</td>\n",
              "      <td>FIGUEROA</td>\n",
              "      <td>(33.9543, -118.2827)</td>\n",
              "    </tr>\n",
              "    <tr>\n",
              "      <th>2</th>\n",
              "      <td>4254777</td>\n",
              "      <td>02/26/2015</td>\n",
              "      <td>2010.0</td>\n",
              "      <td>19.0</td>\n",
              "      <td>Mission</td>\n",
              "      <td>1985.0</td>\n",
              "      <td>22.0</td>\n",
              "      <td>M</td>\n",
              "      <td>H</td>\n",
              "      <td>6.0</td>\n",
              "      <td>Larceny</td>\n",
              "      <td>M</td>\n",
              "      <td>459.5PC</td>\n",
              "      <td>SHOPLIFTING</td>\n",
              "      <td>8300    VAN NUYS                     BL</td>\n",
              "      <td>NaN</td>\n",
              "      <td>(34.2216, -118.4488)</td>\n",
              "    </tr>\n",
              "    <tr>\n",
              "      <th>3</th>\n",
              "      <td>5614161</td>\n",
              "      <td>04/29/2019</td>\n",
              "      <td>1040.0</td>\n",
              "      <td>8.0</td>\n",
              "      <td>West LA</td>\n",
              "      <td>842.0</td>\n",
              "      <td>41.0</td>\n",
              "      <td>M</td>\n",
              "      <td>H</td>\n",
              "      <td>3.0</td>\n",
              "      <td>Robbery</td>\n",
              "      <td>F</td>\n",
              "      <td>211PC</td>\n",
              "      <td>ROBBERY</td>\n",
              "      <td>11600    WILSHIRE                     BL</td>\n",
              "      <td>NaN</td>\n",
              "      <td>(34.0508, -118.4592)</td>\n",
              "    </tr>\n",
              "    <tr>\n",
              "      <th>4</th>\n",
              "      <td>5615197</td>\n",
              "      <td>04/30/2019</td>\n",
              "      <td>615.0</td>\n",
              "      <td>6.0</td>\n",
              "      <td>Hollywood</td>\n",
              "      <td>663.0</td>\n",
              "      <td>27.0</td>\n",
              "      <td>M</td>\n",
              "      <td>O</td>\n",
              "      <td>5.0</td>\n",
              "      <td>Burglary</td>\n",
              "      <td>F</td>\n",
              "      <td>459PC</td>\n",
              "      <td>BURGLARY</td>\n",
              "      <td>LA BREA</td>\n",
              "      <td>LEXINGTON</td>\n",
              "      <td>(34.0907, -118.3384)</td>\n",
              "    </tr>\n",
              "  </tbody>\n",
              "</table>\n",
              "</div>"
            ],
            "text/plain": [
              "   Report ID Arrest Date  ...  Cross Street              Location\n",
              "0    4248313  02/24/2015  ...        WILTON   (34.0653, -118.314)\n",
              "1  191811472  05/03/2019  ...      FIGUEROA  (33.9543, -118.2827)\n",
              "2    4254777  02/26/2015  ...           NaN  (34.2216, -118.4488)\n",
              "3    5614161  04/29/2019  ...           NaN  (34.0508, -118.4592)\n",
              "4    5615197  04/30/2019  ...     LEXINGTON  (34.0907, -118.3384)\n",
              "\n",
              "[5 rows x 17 columns]"
            ]
          },
          "metadata": {
            "tags": []
          },
          "execution_count": 5
        }
      ]
    },
    {
      "cell_type": "code",
      "metadata": {
        "colab": {
          "base_uri": "https://localhost:8080/"
        },
        "id": "LCE9SbfZDVxh",
        "outputId": "f45c1b2f-32d4-4849-b986-cc6afc86031c"
      },
      "source": [
        "date_of_arrest_arrests.isnull().sum()"
      ],
      "execution_count": 6,
      "outputs": [
        {
          "output_type": "execute_result",
          "data": {
            "text/plain": [
              "Report ID                        0\n",
              "Arrest Date                      4\n",
              "Time                           199\n",
              "Area ID                          4\n",
              "Area Name                        4\n",
              "Reporting District               4\n",
              "Age                              4\n",
              "Sex Code                         4\n",
              "Descent Code                     4\n",
              "Charge Group Code            87570\n",
              "Charge Group Description     88006\n",
              "Arrest Type Code                 5\n",
              "Charge                           5\n",
              "Charge Description           87534\n",
              "Address                          5\n",
              "Cross Street                520187\n",
              "Location                         5\n",
              "dtype: int64"
            ]
          },
          "metadata": {
            "tags": []
          },
          "execution_count": 6
        }
      ]
    },
    {
      "cell_type": "code",
      "metadata": {
        "colab": {
          "base_uri": "https://localhost:8080/"
        },
        "id": "NRzSUaAsDm5z",
        "outputId": "3f94c3e0-0b5f-4554-fd84-8dbaeb749750"
      },
      "source": [
        "date_of_arrest_arrests.notnull().sum()"
      ],
      "execution_count": 7,
      "outputs": [
        {
          "output_type": "execute_result",
          "data": {
            "text/plain": [
              "Report ID                   1227521\n",
              "Arrest Date                 1227517\n",
              "Time                        1227322\n",
              "Area ID                     1227517\n",
              "Area Name                   1227517\n",
              "Reporting District          1227517\n",
              "Age                         1227517\n",
              "Sex Code                    1227517\n",
              "Descent Code                1227517\n",
              "Charge Group Code           1139951\n",
              "Charge Group Description    1139515\n",
              "Arrest Type Code            1227516\n",
              "Charge                      1227516\n",
              "Charge Description          1139987\n",
              "Address                     1227516\n",
              "Cross Street                 707334\n",
              "Location                    1227516\n",
              "dtype: int64"
            ]
          },
          "metadata": {
            "tags": []
          },
          "execution_count": 7
        }
      ]
    },
    {
      "cell_type": "code",
      "metadata": {
        "colab": {
          "base_uri": "https://localhost:8080/",
          "height": 677
        },
        "id": "AdpJYQIdDsKY",
        "outputId": "de282722-5358-4dd5-921c-4bb233b1a2ee"
      },
      "source": [
        "date_of_arrest_arrests"
      ],
      "execution_count": 8,
      "outputs": [
        {
          "output_type": "execute_result",
          "data": {
            "text/html": [
              "<div>\n",
              "<style scoped>\n",
              "    .dataframe tbody tr th:only-of-type {\n",
              "        vertical-align: middle;\n",
              "    }\n",
              "\n",
              "    .dataframe tbody tr th {\n",
              "        vertical-align: top;\n",
              "    }\n",
              "\n",
              "    .dataframe thead th {\n",
              "        text-align: right;\n",
              "    }\n",
              "</style>\n",
              "<table border=\"1\" class=\"dataframe\">\n",
              "  <thead>\n",
              "    <tr style=\"text-align: right;\">\n",
              "      <th></th>\n",
              "      <th>Report ID</th>\n",
              "      <th>Arrest Date</th>\n",
              "      <th>Time</th>\n",
              "      <th>Area ID</th>\n",
              "      <th>Area Name</th>\n",
              "      <th>Reporting District</th>\n",
              "      <th>Age</th>\n",
              "      <th>Sex Code</th>\n",
              "      <th>Descent Code</th>\n",
              "      <th>Charge Group Code</th>\n",
              "      <th>Charge Group Description</th>\n",
              "      <th>Arrest Type Code</th>\n",
              "      <th>Charge</th>\n",
              "      <th>Charge Description</th>\n",
              "      <th>Address</th>\n",
              "      <th>Cross Street</th>\n",
              "      <th>Location</th>\n",
              "    </tr>\n",
              "  </thead>\n",
              "  <tbody>\n",
              "    <tr>\n",
              "      <th>0</th>\n",
              "      <td>4248313</td>\n",
              "      <td>02/24/2015</td>\n",
              "      <td>1310.0</td>\n",
              "      <td>20.0</td>\n",
              "      <td>Olympic</td>\n",
              "      <td>2022.0</td>\n",
              "      <td>37.0</td>\n",
              "      <td>M</td>\n",
              "      <td>H</td>\n",
              "      <td>5.0</td>\n",
              "      <td>Burglary</td>\n",
              "      <td>F</td>\n",
              "      <td>459PC</td>\n",
              "      <td>BURGLARY</td>\n",
              "      <td>5TH</td>\n",
              "      <td>WILTON</td>\n",
              "      <td>(34.0653, -118.314)</td>\n",
              "    </tr>\n",
              "    <tr>\n",
              "      <th>1</th>\n",
              "      <td>191811472</td>\n",
              "      <td>05/03/2019</td>\n",
              "      <td>1700.0</td>\n",
              "      <td>18.0</td>\n",
              "      <td>Southeast</td>\n",
              "      <td>1802.0</td>\n",
              "      <td>23.0</td>\n",
              "      <td>F</td>\n",
              "      <td>B</td>\n",
              "      <td>NaN</td>\n",
              "      <td>NaN</td>\n",
              "      <td>M</td>\n",
              "      <td>653.22 PC</td>\n",
              "      <td>NaN</td>\n",
              "      <td>91ST</td>\n",
              "      <td>FIGUEROA</td>\n",
              "      <td>(33.9543, -118.2827)</td>\n",
              "    </tr>\n",
              "    <tr>\n",
              "      <th>2</th>\n",
              "      <td>4254777</td>\n",
              "      <td>02/26/2015</td>\n",
              "      <td>2010.0</td>\n",
              "      <td>19.0</td>\n",
              "      <td>Mission</td>\n",
              "      <td>1985.0</td>\n",
              "      <td>22.0</td>\n",
              "      <td>M</td>\n",
              "      <td>H</td>\n",
              "      <td>6.0</td>\n",
              "      <td>Larceny</td>\n",
              "      <td>M</td>\n",
              "      <td>459.5PC</td>\n",
              "      <td>SHOPLIFTING</td>\n",
              "      <td>8300    VAN NUYS                     BL</td>\n",
              "      <td>NaN</td>\n",
              "      <td>(34.2216, -118.4488)</td>\n",
              "    </tr>\n",
              "    <tr>\n",
              "      <th>3</th>\n",
              "      <td>5614161</td>\n",
              "      <td>04/29/2019</td>\n",
              "      <td>1040.0</td>\n",
              "      <td>8.0</td>\n",
              "      <td>West LA</td>\n",
              "      <td>842.0</td>\n",
              "      <td>41.0</td>\n",
              "      <td>M</td>\n",
              "      <td>H</td>\n",
              "      <td>3.0</td>\n",
              "      <td>Robbery</td>\n",
              "      <td>F</td>\n",
              "      <td>211PC</td>\n",
              "      <td>ROBBERY</td>\n",
              "      <td>11600    WILSHIRE                     BL</td>\n",
              "      <td>NaN</td>\n",
              "      <td>(34.0508, -118.4592)</td>\n",
              "    </tr>\n",
              "    <tr>\n",
              "      <th>4</th>\n",
              "      <td>5615197</td>\n",
              "      <td>04/30/2019</td>\n",
              "      <td>615.0</td>\n",
              "      <td>6.0</td>\n",
              "      <td>Hollywood</td>\n",
              "      <td>663.0</td>\n",
              "      <td>27.0</td>\n",
              "      <td>M</td>\n",
              "      <td>O</td>\n",
              "      <td>5.0</td>\n",
              "      <td>Burglary</td>\n",
              "      <td>F</td>\n",
              "      <td>459PC</td>\n",
              "      <td>BURGLARY</td>\n",
              "      <td>LA BREA</td>\n",
              "      <td>LEXINGTON</td>\n",
              "      <td>(34.0907, -118.3384)</td>\n",
              "    </tr>\n",
              "    <tr>\n",
              "      <th>...</th>\n",
              "      <td>...</td>\n",
              "      <td>...</td>\n",
              "      <td>...</td>\n",
              "      <td>...</td>\n",
              "      <td>...</td>\n",
              "      <td>...</td>\n",
              "      <td>...</td>\n",
              "      <td>...</td>\n",
              "      <td>...</td>\n",
              "      <td>...</td>\n",
              "      <td>...</td>\n",
              "      <td>...</td>\n",
              "      <td>...</td>\n",
              "      <td>...</td>\n",
              "      <td>...</td>\n",
              "      <td>...</td>\n",
              "      <td>...</td>\n",
              "    </tr>\n",
              "    <tr>\n",
              "      <th>1227516</th>\n",
              "      <td>5238234</td>\n",
              "      <td>02/20/2018</td>\n",
              "      <td>2140.0</td>\n",
              "      <td>9.0</td>\n",
              "      <td>Van Nuys</td>\n",
              "      <td>905.0</td>\n",
              "      <td>17.0</td>\n",
              "      <td>M</td>\n",
              "      <td>H</td>\n",
              "      <td>24.0</td>\n",
              "      <td>Miscellaneous Other Violatio{</td>\n",
              "      <td>NaN</td>\n",
              "      <td>NaN</td>\n",
              "      <td>NaN</td>\n",
              "      <td>NaN</td>\n",
              "      <td>NaN</td>\n",
              "      <td>NaN</td>\n",
              "    </tr>\n",
              "    <tr>\n",
              "      <th>1227517</th>\n",
              "      <td>\"error\" : true</td>\n",
              "      <td>NaN</td>\n",
              "      <td>NaN</td>\n",
              "      <td>NaN</td>\n",
              "      <td>NaN</td>\n",
              "      <td>NaN</td>\n",
              "      <td>NaN</td>\n",
              "      <td>NaN</td>\n",
              "      <td>NaN</td>\n",
              "      <td>NaN</td>\n",
              "      <td>NaN</td>\n",
              "      <td>NaN</td>\n",
              "      <td>NaN</td>\n",
              "      <td>NaN</td>\n",
              "      <td>NaN</td>\n",
              "      <td>NaN</td>\n",
              "      <td>NaN</td>\n",
              "    </tr>\n",
              "    <tr>\n",
              "      <th>1227518</th>\n",
              "      <td>\"message\" : \"Internal error\"</td>\n",
              "      <td>NaN</td>\n",
              "      <td>NaN</td>\n",
              "      <td>NaN</td>\n",
              "      <td>NaN</td>\n",
              "      <td>NaN</td>\n",
              "      <td>NaN</td>\n",
              "      <td>NaN</td>\n",
              "      <td>NaN</td>\n",
              "      <td>NaN</td>\n",
              "      <td>NaN</td>\n",
              "      <td>NaN</td>\n",
              "      <td>NaN</td>\n",
              "      <td>NaN</td>\n",
              "      <td>NaN</td>\n",
              "      <td>NaN</td>\n",
              "      <td>NaN</td>\n",
              "    </tr>\n",
              "    <tr>\n",
              "      <th>1227519</th>\n",
              "      <td>\"status\" : 500</td>\n",
              "      <td>NaN</td>\n",
              "      <td>NaN</td>\n",
              "      <td>NaN</td>\n",
              "      <td>NaN</td>\n",
              "      <td>NaN</td>\n",
              "      <td>NaN</td>\n",
              "      <td>NaN</td>\n",
              "      <td>NaN</td>\n",
              "      <td>NaN</td>\n",
              "      <td>NaN</td>\n",
              "      <td>NaN</td>\n",
              "      <td>NaN</td>\n",
              "      <td>NaN</td>\n",
              "      <td>NaN</td>\n",
              "      <td>NaN</td>\n",
              "      <td>NaN</td>\n",
              "    </tr>\n",
              "    <tr>\n",
              "      <th>1227520</th>\n",
              "      <td>}</td>\n",
              "      <td>NaN</td>\n",
              "      <td>NaN</td>\n",
              "      <td>NaN</td>\n",
              "      <td>NaN</td>\n",
              "      <td>NaN</td>\n",
              "      <td>NaN</td>\n",
              "      <td>NaN</td>\n",
              "      <td>NaN</td>\n",
              "      <td>NaN</td>\n",
              "      <td>NaN</td>\n",
              "      <td>NaN</td>\n",
              "      <td>NaN</td>\n",
              "      <td>NaN</td>\n",
              "      <td>NaN</td>\n",
              "      <td>NaN</td>\n",
              "      <td>NaN</td>\n",
              "    </tr>\n",
              "  </tbody>\n",
              "</table>\n",
              "<p>1227521 rows × 17 columns</p>\n",
              "</div>"
            ],
            "text/plain": [
              "                              Report ID  ...              Location\n",
              "0                               4248313  ...   (34.0653, -118.314)\n",
              "1                             191811472  ...  (33.9543, -118.2827)\n",
              "2                               4254777  ...  (34.2216, -118.4488)\n",
              "3                               5614161  ...  (34.0508, -118.4592)\n",
              "4                               5615197  ...  (34.0907, -118.3384)\n",
              "...                                 ...  ...                   ...\n",
              "1227516                         5238234  ...                   NaN\n",
              "1227517                  \"error\" : true  ...                   NaN\n",
              "1227518    \"message\" : \"Internal error\"  ...                   NaN\n",
              "1227519                  \"status\" : 500  ...                   NaN\n",
              "1227520                               }  ...                   NaN\n",
              "\n",
              "[1227521 rows x 17 columns]"
            ]
          },
          "metadata": {
            "tags": []
          },
          "execution_count": 8
        }
      ]
    },
    {
      "cell_type": "code",
      "metadata": {
        "id": "Hi7QEjE6D3J7"
      },
      "source": [
        "# Converting the 'Arrest Date' column from String to Datetime, to facilitate manipulation\n",
        "date_of_arrest_arrests[\"Arrest Date\"] = pd.to_datetime(date_of_arrest_arrests[\"Arrest Date\"])"
      ],
      "execution_count": 9,
      "outputs": []
    },
    {
      "cell_type": "code",
      "metadata": {
        "id": "tO_QOrW0Gx4W"
      },
      "source": [
        "date_of_arrest_arrests[\"new_year\"]=pd.DatetimeIndex(date_of_arrest_arrests['Arrest Date']).year"
      ],
      "execution_count": 13,
      "outputs": []
    },
    {
      "cell_type": "code",
      "metadata": {
        "colab": {
          "base_uri": "https://localhost:8080/"
        },
        "id": "qghFrTZTHBYZ",
        "outputId": "0ca9e44b-c82d-4e4e-9770-e3172043a85b"
      },
      "source": [
        "date_of_arrest_arrests['new_year'].value_counts()"
      ],
      "execution_count": 15,
      "outputs": [
        {
          "output_type": "execute_result",
          "data": {
            "text/plain": [
              "2012.0    163313\n",
              "2010.0    162399\n",
              "2011.0    157637\n",
              "2013.0    152671\n",
              "2014.0    139379\n",
              "2015.0    126154\n",
              "2016.0    118125\n",
              "2017.0    107647\n",
              "2019.0     57811\n",
              "2018.0     42381\n",
              "Name: new_year, dtype: int64"
            ]
          },
          "metadata": {
            "tags": []
          },
          "execution_count": 15
        }
      ]
    },
    {
      "cell_type": "code",
      "metadata": {
        "colab": {
          "base_uri": "https://localhost:8080/"
        },
        "id": "qNS4VG-vEIGa",
        "outputId": "177e4eab-540c-4a04-e512-c10c24374c77"
      },
      "source": [
        "len(date_of_arrest_arrests[(date_of_arrest_arrests['new_year']==2018)])"
      ],
      "execution_count": 16,
      "outputs": [
        {
          "output_type": "execute_result",
          "data": {
            "text/plain": [
              "42381"
            ]
          },
          "metadata": {
            "tags": []
          },
          "execution_count": 16
        }
      ]
    },
    {
      "cell_type": "markdown",
      "metadata": {
        "id": "CrG4Z2bHJca4"
      },
      "source": [
        " 42381 arrests were made in 2018"
      ]
    },
    {
      "cell_type": "code",
      "metadata": {
        "id": "cjhWz5MYJd1b"
      },
      "source": [
        "date_of_arrest_arrests=date_of_arrest_arrests[(date_of_arrest_arrests['new_year']==2018)]"
      ],
      "execution_count": 17,
      "outputs": []
    },
    {
      "cell_type": "code",
      "metadata": {
        "colab": {
          "base_uri": "https://localhost:8080/"
        },
        "id": "H31uXeyFKXQB",
        "outputId": "b0683079-ac30-4426-e332-3f0d5edd08ac"
      },
      "source": [
        "date_of_arrest_arrests['Area Name'].value_counts()"
      ],
      "execution_count": 18,
      "outputs": [
        {
          "output_type": "execute_result",
          "data": {
            "text/plain": [
              "Central        5621\n",
              "Hollywood      5378\n",
              "Rampart        4243\n",
              "Pacific        3545\n",
              "Van Nuys       2332\n",
              "N Hollywood    2052\n",
              "Southwest      1768\n",
              "Mission        1701\n",
              "Newton         1638\n",
              "Harbor         1628\n",
              "Northeast      1579\n",
              "77th Street    1457\n",
              "West LA        1415\n",
              "Olympic        1350\n",
              "Devonshire     1336\n",
              "Topanga        1208\n",
              "Hollenbeck      995\n",
              "West Valley     955\n",
              "Foothill        801\n",
              "Southeast       764\n",
              "Wilshire        615\n",
              "Name: Area Name, dtype: int64"
            ]
          },
          "metadata": {
            "tags": []
          },
          "execution_count": 18
        }
      ]
    },
    {
      "cell_type": "code",
      "metadata": {
        "colab": {
          "base_uri": "https://localhost:8080/"
        },
        "id": "ZAryBHFIKai6",
        "outputId": "6cd29e50-a3df-4515-d828-96fe41219a8c"
      },
      "source": [
        "date_of_arrest_arrests['Area Name'].value_counts().max"
      ],
      "execution_count": 19,
      "outputs": [
        {
          "output_type": "execute_result",
          "data": {
            "text/plain": [
              "<bound method Series.max of Central        5621\n",
              "Hollywood      5378\n",
              "Rampart        4243\n",
              "Pacific        3545\n",
              "Van Nuys       2332\n",
              "N Hollywood    2052\n",
              "Southwest      1768\n",
              "Mission        1701\n",
              "Newton         1638\n",
              "Harbor         1628\n",
              "Northeast      1579\n",
              "77th Street    1457\n",
              "West LA        1415\n",
              "Olympic        1350\n",
              "Devonshire     1336\n",
              "Topanga        1208\n",
              "Hollenbeck      995\n",
              "West Valley     955\n",
              "Foothill        801\n",
              "Southeast       764\n",
              "Wilshire        615\n",
              "Name: Area Name, dtype: int64>"
            ]
          },
          "metadata": {
            "tags": []
          },
          "execution_count": 19
        }
      ]
    },
    {
      "cell_type": "code",
      "metadata": {
        "id": "eBJZPDQFKejJ"
      },
      "source": [
        "#Question 3\n",
        "\n",
        "var = date_of_arrest_arrests['Charge Group Description'].isin(['Pre-Delinquency','Non-Criminal Detention'])"
      ],
      "execution_count": 21,
      "outputs": []
    },
    {
      "cell_type": "code",
      "metadata": {
        "id": "Wt2B9AZEKkWB"
      },
      "source": [
        "isnullgroup=date_of_arrest_arrests['Charge Group Description'].isnull()"
      ],
      "execution_count": 22,
      "outputs": []
    },
    {
      "cell_type": "code",
      "metadata": {
        "id": "yjffN8s9KoGh"
      },
      "source": [
        "new_date_of_arrest=date_of_arrest_arrests[~var]"
      ],
      "execution_count": 23,
      "outputs": []
    },
    {
      "cell_type": "code",
      "metadata": {
        "colab": {
          "base_uri": "https://localhost:8080/"
        },
        "id": "p6iEoSlPKzhK",
        "outputId": "799b32a4-b2e3-41f9-d5fd-5a8b8652deb9"
      },
      "source": [
        "new_date_of_arrest=new_date_of_arrest[~isnullgroup]"
      ],
      "execution_count": 24,
      "outputs": [
        {
          "output_type": "stream",
          "text": [
            "/usr/local/lib/python3.7/dist-packages/ipykernel_launcher.py:1: UserWarning: Boolean Series key will be reindexed to match DataFrame index.\n",
            "  \"\"\"Entry point for launching an IPython kernel.\n"
          ],
          "name": "stderr"
        }
      ]
    },
    {
      "cell_type": "code",
      "metadata": {
        "colab": {
          "base_uri": "https://localhost:8080/",
          "height": 886
        },
        "id": "TvmlWvM-K8aZ",
        "outputId": "6ab30212-fa91-429d-a7ea-11939d4678c3"
      },
      "source": [
        "new_date_of_arrest[['Charge Group Description','new_year','Age']].groupby('Charge Group Description').mean('Age')"
      ],
      "execution_count": 25,
      "outputs": [
        {
          "output_type": "execute_result",
          "data": {
            "text/html": [
              "<div>\n",
              "<style scoped>\n",
              "    .dataframe tbody tr th:only-of-type {\n",
              "        vertical-align: middle;\n",
              "    }\n",
              "\n",
              "    .dataframe tbody tr th {\n",
              "        vertical-align: top;\n",
              "    }\n",
              "\n",
              "    .dataframe thead th {\n",
              "        text-align: right;\n",
              "    }\n",
              "</style>\n",
              "<table border=\"1\" class=\"dataframe\">\n",
              "  <thead>\n",
              "    <tr style=\"text-align: right;\">\n",
              "      <th></th>\n",
              "      <th>new_year</th>\n",
              "      <th>Age</th>\n",
              "    </tr>\n",
              "    <tr>\n",
              "      <th>Charge Group Description</th>\n",
              "      <th></th>\n",
              "      <th></th>\n",
              "    </tr>\n",
              "  </thead>\n",
              "  <tbody>\n",
              "    <tr>\n",
              "      <th>Against Family/Child</th>\n",
              "      <td>2018.0</td>\n",
              "      <td>36.950355</td>\n",
              "    </tr>\n",
              "    <tr>\n",
              "      <th>Aggravated Assault</th>\n",
              "      <td>2018.0</td>\n",
              "      <td>33.907359</td>\n",
              "    </tr>\n",
              "    <tr>\n",
              "      <th>Burglary</th>\n",
              "      <td>2018.0</td>\n",
              "      <td>30.366755</td>\n",
              "    </tr>\n",
              "    <tr>\n",
              "      <th>Disorderly Conduct</th>\n",
              "      <td>2018.0</td>\n",
              "      <td>41.924290</td>\n",
              "    </tr>\n",
              "    <tr>\n",
              "      <th>Disturbing the Peace</th>\n",
              "      <td>2018.0</td>\n",
              "      <td>39.727273</td>\n",
              "    </tr>\n",
              "    <tr>\n",
              "      <th>Driving Under Influence</th>\n",
              "      <td>2018.0</td>\n",
              "      <td>34.428291</td>\n",
              "    </tr>\n",
              "    <tr>\n",
              "      <th>Drunkeness</th>\n",
              "      <td>2018.0</td>\n",
              "      <td>44.219972</td>\n",
              "    </tr>\n",
              "    <tr>\n",
              "      <th>Federal Offenses</th>\n",
              "      <td>2018.0</td>\n",
              "      <td>34.600000</td>\n",
              "    </tr>\n",
              "    <tr>\n",
              "      <th>Forgery/Counterfeit</th>\n",
              "      <td>2018.0</td>\n",
              "      <td>35.066667</td>\n",
              "    </tr>\n",
              "    <tr>\n",
              "      <th>Fraud/Embezzlement</th>\n",
              "      <td>2018.0</td>\n",
              "      <td>35.689076</td>\n",
              "    </tr>\n",
              "    <tr>\n",
              "      <th>Gambling</th>\n",
              "      <td>2018.0</td>\n",
              "      <td>40.557047</td>\n",
              "    </tr>\n",
              "    <tr>\n",
              "      <th>Homicide</th>\n",
              "      <td>2018.0</td>\n",
              "      <td>30.896552</td>\n",
              "    </tr>\n",
              "    <tr>\n",
              "      <th>Larceny</th>\n",
              "      <td>2018.0</td>\n",
              "      <td>32.725796</td>\n",
              "    </tr>\n",
              "    <tr>\n",
              "      <th>Liquor Laws</th>\n",
              "      <td>2018.0</td>\n",
              "      <td>42.540955</td>\n",
              "    </tr>\n",
              "    <tr>\n",
              "      <th>Miscellaneous Other Violations</th>\n",
              "      <td>2018.0</td>\n",
              "      <td>36.252076</td>\n",
              "    </tr>\n",
              "    <tr>\n",
              "      <th>Miscellaneous Other Violatio{</th>\n",
              "      <td>2018.0</td>\n",
              "      <td>17.000000</td>\n",
              "    </tr>\n",
              "    <tr>\n",
              "      <th>Moving Traffic Violations</th>\n",
              "      <td>2018.0</td>\n",
              "      <td>33.085622</td>\n",
              "    </tr>\n",
              "    <tr>\n",
              "      <th>Narcotic Drug Laws</th>\n",
              "      <td>2018.0</td>\n",
              "      <td>36.097954</td>\n",
              "    </tr>\n",
              "    <tr>\n",
              "      <th>Other Assaults</th>\n",
              "      <td>2018.0</td>\n",
              "      <td>33.451139</td>\n",
              "    </tr>\n",
              "    <tr>\n",
              "      <th>Prostitution/Allied</th>\n",
              "      <td>2018.0</td>\n",
              "      <td>31.620470</td>\n",
              "    </tr>\n",
              "    <tr>\n",
              "      <th>Rape</th>\n",
              "      <td>2018.0</td>\n",
              "      <td>36.203704</td>\n",
              "    </tr>\n",
              "    <tr>\n",
              "      <th>Receive Stolen Property</th>\n",
              "      <td>2018.0</td>\n",
              "      <td>33.687500</td>\n",
              "    </tr>\n",
              "    <tr>\n",
              "      <th>Robbery</th>\n",
              "      <td>2018.0</td>\n",
              "      <td>27.538739</td>\n",
              "    </tr>\n",
              "    <tr>\n",
              "      <th>Sex (except rape/prst)</th>\n",
              "      <td>2018.0</td>\n",
              "      <td>36.555838</td>\n",
              "    </tr>\n",
              "    <tr>\n",
              "      <th>Vehicle Theft</th>\n",
              "      <td>2018.0</td>\n",
              "      <td>30.095624</td>\n",
              "    </tr>\n",
              "    <tr>\n",
              "      <th>Weapon (carry/poss)</th>\n",
              "      <td>2018.0</td>\n",
              "      <td>29.477178</td>\n",
              "    </tr>\n",
              "  </tbody>\n",
              "</table>\n",
              "</div>"
            ],
            "text/plain": [
              "                                new_year        Age\n",
              "Charge Group Description                           \n",
              "Against Family/Child              2018.0  36.950355\n",
              "Aggravated Assault                2018.0  33.907359\n",
              "Burglary                          2018.0  30.366755\n",
              "Disorderly Conduct                2018.0  41.924290\n",
              "Disturbing the Peace              2018.0  39.727273\n",
              "Driving Under Influence           2018.0  34.428291\n",
              "Drunkeness                        2018.0  44.219972\n",
              "Federal Offenses                  2018.0  34.600000\n",
              "Forgery/Counterfeit               2018.0  35.066667\n",
              "Fraud/Embezzlement                2018.0  35.689076\n",
              "Gambling                          2018.0  40.557047\n",
              "Homicide                          2018.0  30.896552\n",
              "Larceny                           2018.0  32.725796\n",
              "Liquor Laws                       2018.0  42.540955\n",
              "Miscellaneous Other Violations    2018.0  36.252076\n",
              "Miscellaneous Other Violatio{     2018.0  17.000000\n",
              "Moving Traffic Violations         2018.0  33.085622\n",
              "Narcotic Drug Laws                2018.0  36.097954\n",
              "Other Assaults                    2018.0  33.451139\n",
              "Prostitution/Allied               2018.0  31.620470\n",
              "Rape                              2018.0  36.203704\n",
              "Receive Stolen Property           2018.0  33.687500\n",
              "Robbery                           2018.0  27.538739\n",
              "Sex (except rape/prst)            2018.0  36.555838\n",
              "Vehicle Theft                     2018.0  30.095624\n",
              "Weapon (carry/poss)               2018.0  29.477178"
            ]
          },
          "metadata": {
            "tags": []
          },
          "execution_count": 25
        }
      ]
    },
    {
      "cell_type": "code",
      "metadata": {
        "id": "eh4zQJUbLC8a"
      },
      "source": [
        "quartile = date_of_arrest_arrests['Charge Group Description'].isin(['Vehicle Theft','Robbery','Burglary','Receive Stolen Property'])"
      ],
      "execution_count": 27,
      "outputs": []
    },
    {
      "cell_type": "code",
      "metadata": {
        "id": "vWDpFBv5LKuG"
      },
      "source": [
        "new_date_of_arrest=date_of_arrest_arrests[quartile]"
      ],
      "execution_count": 28,
      "outputs": []
    },
    {
      "cell_type": "code",
      "metadata": {
        "colab": {
          "base_uri": "https://localhost:8080/"
        },
        "id": "LMkX8y7pLOub",
        "outputId": "46b10ddf-1ba2-44b2-c78b-8edbfebe3092"
      },
      "source": [
        "new_date_of_arrest.Age.quantile(0.95)"
      ],
      "execution_count": 31,
      "outputs": [
        {
          "output_type": "execute_result",
          "data": {
            "text/plain": [
              "52.0"
            ]
          },
          "metadata": {
            "tags": []
          },
          "execution_count": 31
        }
      ]
    },
    {
      "cell_type": "code",
      "metadata": {
        "id": "YGdRiE_jMbId"
      },
      "source": [
        ""
      ],
      "execution_count": null,
      "outputs": []
    }
  ]
}