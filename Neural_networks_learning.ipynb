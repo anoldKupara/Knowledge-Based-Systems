{
  "nbformat": 4,
  "nbformat_minor": 0,
  "metadata": {
    "colab": {
      "name": "Neural networks learning.ipynb",
      "provenance": [],
      "mount_file_id": "1NB4Ce7XNl1uDaqskoVJgYLJT6OxetVd4",
      "authorship_tag": "ABX9TyOAAjJzQBnYMCos371I9PIa",
      "include_colab_link": true
    },
    "kernelspec": {
      "name": "python3",
      "display_name": "Python 3"
    },
    "language_info": {
      "name": "python"
    }
  },
  "cells": [
    {
      "cell_type": "markdown",
      "metadata": {
        "id": "view-in-github",
        "colab_type": "text"
      },
      "source": [
        "<a href=\"https://colab.research.google.com/github/anoldKupara/Machine-Learning-Course/blob/main/Neural_networks_learning.ipynb\" target=\"_parent\"><img src=\"https://colab.research.google.com/assets/colab-badge.svg\" alt=\"Open In Colab\"/></a>"
      ]
    },
    {
      "cell_type": "code",
      "metadata": {
        "id": "anhGNMyqeVBB"
      },
      "source": [
        "import scipy.io as sio\n",
        "import pandas as pd\n",
        "import matplotlib.pyplot as plt\n",
        "\n",
        "from sklearn.neural_network import MLPClassifier\n",
        "from sklearn.model_selection import StratifiedShuffleSplit, GridSearchCV\n",
        "\n",
        "%matplotlib inline"
      ],
      "execution_count": 1,
      "outputs": []
    },
    {
      "cell_type": "code",
      "metadata": {
        "id": "NhHudbugefxj"
      },
      "source": [
        "# Load the hand-written digits dataset\n",
        "digits = sio.loadmat('/content/drive/MyDrive/Colab Notebooks/Datasets/data/ml-ex4/ex4data1.mat')"
      ],
      "execution_count": 2,
      "outputs": []
    },
    {
      "cell_type": "code",
      "metadata": {
        "id": "yp9TowXEef0p"
      },
      "source": [
        "# Digit image data (5000 images with 400 features/pixels)\n",
        "X = digits['X']\n",
        "\n",
        "# Digit classes (1-10) where digit 0 is assigned class 10\n",
        "y = digits['y'].ravel()"
      ],
      "execution_count": 3,
      "outputs": []
    },
    {
      "cell_type": "code",
      "metadata": {
        "colab": {
          "base_uri": "https://localhost:8080/"
        },
        "id": "Bf2CPY2eef6l",
        "outputId": "c047b1af-3262-46a9-ef91-cc3ce4533656"
      },
      "source": [
        "# Create a feed-forward neural network with a single hidden layer \n",
        "# with 25 logistic units. Input layer size is derived from number\n",
        "# of features in X. Output layer size is derived from number of \n",
        "# classes in y.\n",
        "clf = MLPClassifier((25,), activation='logistic', solver='lbfgs')\n",
        "clf.fit(X, y)"
      ],
      "execution_count": 4,
      "outputs": [
        {
          "output_type": "execute_result",
          "data": {
            "text/plain": [
              "MLPClassifier(activation='logistic', alpha=0.0001, batch_size='auto',\n",
              "              beta_1=0.9, beta_2=0.999, early_stopping=False, epsilon=1e-08,\n",
              "              hidden_layer_sizes=(25,), learning_rate='constant',\n",
              "              learning_rate_init=0.001, max_fun=15000, max_iter=200,\n",
              "              momentum=0.9, n_iter_no_change=10, nesterovs_momentum=True,\n",
              "              power_t=0.5, random_state=None, shuffle=True, solver='lbfgs',\n",
              "              tol=0.0001, validation_fraction=0.1, verbose=False,\n",
              "              warm_start=False)"
            ]
          },
          "metadata": {},
          "execution_count": 4
        }
      ]
    },
    {
      "cell_type": "code",
      "metadata": {
        "colab": {
          "base_uri": "https://localhost:8080/"
        },
        "id": "m_2Yd7Ynef-e",
        "outputId": "ec061856-2ff4-4b6c-bce8-196bca3a4948"
      },
      "source": [
        "# Classification accuracy on training set\n",
        "clf.score(X, y)"
      ],
      "execution_count": 5,
      "outputs": [
        {
          "output_type": "execute_result",
          "data": {
            "text/plain": [
              "1.0"
            ]
          },
          "metadata": {},
          "execution_count": 5
        }
      ]
    },
    {
      "cell_type": "code",
      "metadata": {
        "colab": {
          "base_uri": "https://localhost:8080/"
        },
        "id": "V6ubHAm6egBc",
        "outputId": "6f31951f-686e-4cf1-9d1e-55ef34d7d77a"
      },
      "source": [
        "# For cross validation, use two stratified randomized folds \n",
        "# where the test set size = 0.1 * dataset size. Statified \n",
        "# means that the folds are made by preserving the percentage \n",
        "# of samples for each class.\n",
        "cv = StratifiedShuffleSplit(2, test_size=0.1, random_state=0)\n",
        "\n",
        "# Run a grid search to find the best value values for regularization \n",
        "# parameter alpha using the cross validator (cv) defined above.\n",
        "gs = GridSearchCV(clf, param_grid={'alpha':[1e-2, 1e-1, 1e0, 1e1]}, cv=cv)\n",
        "gs.fit(X, y)"
      ],
      "execution_count": 6,
      "outputs": [
        {
          "output_type": "stream",
          "text": [
            "/usr/local/lib/python3.7/dist-packages/sklearn/neural_network/_multilayer_perceptron.py:470: ConvergenceWarning: lbfgs failed to converge (status=1):\n",
            "STOP: TOTAL NO. of ITERATIONS REACHED LIMIT.\n",
            "\n",
            "Increase the number of iterations (max_iter) or scale the data as shown in:\n",
            "    https://scikit-learn.org/stable/modules/preprocessing.html\n",
            "  self.n_iter_ = _check_optimize_result(\"lbfgs\", opt_res, self.max_iter)\n",
            "/usr/local/lib/python3.7/dist-packages/sklearn/neural_network/_multilayer_perceptron.py:470: ConvergenceWarning: lbfgs failed to converge (status=1):\n",
            "STOP: TOTAL NO. of ITERATIONS REACHED LIMIT.\n",
            "\n",
            "Increase the number of iterations (max_iter) or scale the data as shown in:\n",
            "    https://scikit-learn.org/stable/modules/preprocessing.html\n",
            "  self.n_iter_ = _check_optimize_result(\"lbfgs\", opt_res, self.max_iter)\n",
            "/usr/local/lib/python3.7/dist-packages/sklearn/neural_network/_multilayer_perceptron.py:470: ConvergenceWarning: lbfgs failed to converge (status=1):\n",
            "STOP: TOTAL NO. of ITERATIONS REACHED LIMIT.\n",
            "\n",
            "Increase the number of iterations (max_iter) or scale the data as shown in:\n",
            "    https://scikit-learn.org/stable/modules/preprocessing.html\n",
            "  self.n_iter_ = _check_optimize_result(\"lbfgs\", opt_res, self.max_iter)\n",
            "/usr/local/lib/python3.7/dist-packages/sklearn/neural_network/_multilayer_perceptron.py:470: ConvergenceWarning: lbfgs failed to converge (status=1):\n",
            "STOP: TOTAL NO. of ITERATIONS REACHED LIMIT.\n",
            "\n",
            "Increase the number of iterations (max_iter) or scale the data as shown in:\n",
            "    https://scikit-learn.org/stable/modules/preprocessing.html\n",
            "  self.n_iter_ = _check_optimize_result(\"lbfgs\", opt_res, self.max_iter)\n"
          ],
          "name": "stderr"
        },
        {
          "output_type": "execute_result",
          "data": {
            "text/plain": [
              "GridSearchCV(cv=StratifiedShuffleSplit(n_splits=2, random_state=0, test_size=0.1,\n",
              "            train_size=None),\n",
              "             error_score=nan,\n",
              "             estimator=MLPClassifier(activation='logistic', alpha=0.0001,\n",
              "                                     batch_size='auto', beta_1=0.9,\n",
              "                                     beta_2=0.999, early_stopping=False,\n",
              "                                     epsilon=1e-08, hidden_layer_sizes=(25,),\n",
              "                                     learning_rate='constant',\n",
              "                                     learning_rate_init=0.001, max_fun=15000,\n",
              "                                     max_iter=200, momentum=0.9,\n",
              "                                     n_iter_no_change=10,\n",
              "                                     nesterovs_momentum=True, power_t=0.5,\n",
              "                                     random_state=None, shuffle=True,\n",
              "                                     solver='lbfgs', tol=0.0001,\n",
              "                                     validation_fraction=0.1, verbose=False,\n",
              "                                     warm_start=False),\n",
              "             iid='deprecated', n_jobs=None,\n",
              "             param_grid={'alpha': [0.01, 0.1, 1.0, 10.0]},\n",
              "             pre_dispatch='2*n_jobs', refit=True, return_train_score=False,\n",
              "             scoring=None, verbose=0)"
            ]
          },
          "metadata": {},
          "execution_count": 6
        }
      ]
    },
    {
      "cell_type": "code",
      "metadata": {
        "colab": {
          "base_uri": "https://localhost:8080/",
          "height": 264
        },
        "id": "CBN4l7GEegFF",
        "outputId": "7a10b384-ae9e-4d39-e085-853a1d91fcd7"
      },
      "source": [
        "# Show the cross validation results in a pandas data frame\n",
        "# - column mean_train_score: mean classification accuracy on training set\n",
        "# - column mean_test_score: mean classification accuracy on test set\n",
        "pd.DataFrame(gs.cv_results_)"
      ],
      "execution_count": 7,
      "outputs": [
        {
          "output_type": "execute_result",
          "data": {
            "text/html": [
              "<div>\n",
              "<style scoped>\n",
              "    .dataframe tbody tr th:only-of-type {\n",
              "        vertical-align: middle;\n",
              "    }\n",
              "\n",
              "    .dataframe tbody tr th {\n",
              "        vertical-align: top;\n",
              "    }\n",
              "\n",
              "    .dataframe thead th {\n",
              "        text-align: right;\n",
              "    }\n",
              "</style>\n",
              "<table border=\"1\" class=\"dataframe\">\n",
              "  <thead>\n",
              "    <tr style=\"text-align: right;\">\n",
              "      <th></th>\n",
              "      <th>mean_fit_time</th>\n",
              "      <th>std_fit_time</th>\n",
              "      <th>mean_score_time</th>\n",
              "      <th>std_score_time</th>\n",
              "      <th>param_alpha</th>\n",
              "      <th>params</th>\n",
              "      <th>split0_test_score</th>\n",
              "      <th>split1_test_score</th>\n",
              "      <th>mean_test_score</th>\n",
              "      <th>std_test_score</th>\n",
              "      <th>rank_test_score</th>\n",
              "    </tr>\n",
              "  </thead>\n",
              "  <tbody>\n",
              "    <tr>\n",
              "      <th>0</th>\n",
              "      <td>3.749802</td>\n",
              "      <td>0.153041</td>\n",
              "      <td>0.005656</td>\n",
              "      <td>0.002378</td>\n",
              "      <td>0.01</td>\n",
              "      <td>{'alpha': 0.01}</td>\n",
              "      <td>0.918</td>\n",
              "      <td>0.924</td>\n",
              "      <td>0.921</td>\n",
              "      <td>0.003</td>\n",
              "      <td>4</td>\n",
              "    </tr>\n",
              "    <tr>\n",
              "      <th>1</th>\n",
              "      <td>5.980486</td>\n",
              "      <td>0.522594</td>\n",
              "      <td>0.004118</td>\n",
              "      <td>0.000844</td>\n",
              "      <td>0.1</td>\n",
              "      <td>{'alpha': 0.1}</td>\n",
              "      <td>0.938</td>\n",
              "      <td>0.944</td>\n",
              "      <td>0.941</td>\n",
              "      <td>0.003</td>\n",
              "      <td>2</td>\n",
              "    </tr>\n",
              "    <tr>\n",
              "      <th>2</th>\n",
              "      <td>9.375058</td>\n",
              "      <td>0.119454</td>\n",
              "      <td>0.003628</td>\n",
              "      <td>0.000935</td>\n",
              "      <td>1</td>\n",
              "      <td>{'alpha': 1.0}</td>\n",
              "      <td>0.936</td>\n",
              "      <td>0.948</td>\n",
              "      <td>0.942</td>\n",
              "      <td>0.006</td>\n",
              "      <td>1</td>\n",
              "    </tr>\n",
              "    <tr>\n",
              "      <th>3</th>\n",
              "      <td>9.700944</td>\n",
              "      <td>0.102357</td>\n",
              "      <td>0.003332</td>\n",
              "      <td>0.000667</td>\n",
              "      <td>10</td>\n",
              "      <td>{'alpha': 10.0}</td>\n",
              "      <td>0.918</td>\n",
              "      <td>0.930</td>\n",
              "      <td>0.924</td>\n",
              "      <td>0.006</td>\n",
              "      <td>3</td>\n",
              "    </tr>\n",
              "  </tbody>\n",
              "</table>\n",
              "</div>"
            ],
            "text/plain": [
              "   mean_fit_time  std_fit_time  ...  std_test_score  rank_test_score\n",
              "0       3.749802      0.153041  ...           0.003                4\n",
              "1       5.980486      0.522594  ...           0.003                2\n",
              "2       9.375058      0.119454  ...           0.006                1\n",
              "3       9.700944      0.102357  ...           0.006                3\n",
              "\n",
              "[4 rows x 11 columns]"
            ]
          },
          "metadata": {},
          "execution_count": 7
        }
      ]
    },
    {
      "cell_type": "code",
      "metadata": {
        "colab": {
          "base_uri": "https://localhost:8080/"
        },
        "id": "ao2-xET4egJ1",
        "outputId": "d01ea341-806b-4936-d963-43f78cb957dd"
      },
      "source": [
        "# Best classifier is the neural network with alpha=1.0\n",
        "clf_best = gs.best_estimator_\n",
        "clf_best"
      ],
      "execution_count": 8,
      "outputs": [
        {
          "output_type": "execute_result",
          "data": {
            "text/plain": [
              "MLPClassifier(activation='logistic', alpha=1.0, batch_size='auto', beta_1=0.9,\n",
              "              beta_2=0.999, early_stopping=False, epsilon=1e-08,\n",
              "              hidden_layer_sizes=(25,), learning_rate='constant',\n",
              "              learning_rate_init=0.001, max_fun=15000, max_iter=200,\n",
              "              momentum=0.9, n_iter_no_change=10, nesterovs_momentum=True,\n",
              "              power_t=0.5, random_state=None, shuffle=True, solver='lbfgs',\n",
              "              tol=0.0001, validation_fraction=0.1, verbose=False,\n",
              "              warm_start=False)"
            ]
          },
          "metadata": {},
          "execution_count": 8
        }
      ]
    },
    {
      "cell_type": "code",
      "metadata": {
        "colab": {
          "base_uri": "https://localhost:8080/"
        },
        "id": "Cw8ErMEJegNZ",
        "outputId": "00f4715c-9cd4-4ebd-87a3-e5d845cf7bad"
      },
      "source": [
        "# Classification accuracy on training set\n",
        "clf_best.score(X, y)"
      ],
      "execution_count": 9,
      "outputs": [
        {
          "output_type": "execute_result",
          "data": {
            "text/plain": [
              "0.9978"
            ]
          },
          "metadata": {},
          "execution_count": 9
        }
      ]
    },
    {
      "cell_type": "code",
      "metadata": {
        "colab": {
          "base_uri": "https://localhost:8080/"
        },
        "id": "NgPiQtWAegRm",
        "outputId": "1441510c-4b77-45bb-cb97-b0e037084229"
      },
      "source": [
        "# Obtain weight matrix between input and hidden layer\n",
        "# (input layer size = 400, hidden layer size = 25)\n",
        "Theta1 = clf_best.coefs_[0].T\n",
        "Theta1.shape"
      ],
      "execution_count": 10,
      "outputs": [
        {
          "output_type": "execute_result",
          "data": {
            "text/plain": [
              "(25, 400)"
            ]
          },
          "metadata": {},
          "execution_count": 10
        }
      ]
    },
    {
      "cell_type": "code",
      "metadata": {
        "colab": {
          "base_uri": "https://localhost:8080/",
          "height": 695
        },
        "id": "COQWTJsGegVn",
        "outputId": "0b61faf1-9e27-4629-a7d4-1324acb4d1f7"
      },
      "source": [
        "# Visualize input weights into hidden units (400 per hidden unit)\n",
        "n_rows = 5\n",
        "n_cols = 5\n",
        "\n",
        "plt.subplots_adjust(top=.9, hspace=.4)\n",
        "plt.figure(figsize=(1.8 * n_cols, 2.4 * n_rows))\n",
        "\n",
        "for i, row in enumerate(Theta1):\n",
        "    plt.subplot(n_rows, n_cols, i + 1)\n",
        "    plt.imshow(row.reshape((20,20), order='F'), cmap=plt.cm.gray)\n",
        "    plt.title(f'hidden unit {i + 1}')\n",
        "    plt.xticks(())\n",
        "    plt.yticks(())"
      ],
      "execution_count": 11,
      "outputs": [
        {
          "output_type": "display_data",
          "data": {
            "text/plain": [
              "<Figure size 432x288 with 0 Axes>"
            ]
          },
          "metadata": {}
        },
        {
          "output_type": "display_data",
          "data": {
            "image/png": "[encoded data removed]",
            "text/plain": [
              "<Figure size 648x864 with 25 Axes>"
            ]
          },
          "metadata": {}
        }
      ]
    }
  ]
}