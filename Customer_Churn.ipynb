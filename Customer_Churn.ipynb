{
  "nbformat": 4,
  "nbformat_minor": 0,
  "metadata": {
    "colab": {
      "name": "Customer-Churn.ipynb",
      "provenance": [],
      "collapsed_sections": [],
      "authorship_tag": "ABX9TyPAfa3CPVnz4S2mZ/iQ91g1",
      "include_colab_link": true
    },
    "kernelspec": {
      "name": "python3",
      "display_name": "Python 3"
    },
    "language_info": {
      "name": "python"
    }
  },
  "cells": [
    {
      "cell_type": "markdown",
      "metadata": {
        "id": "view-in-github",
        "colab_type": "text"
      },
      "source": [
        "<a href=\"https://colab.research.google.com/github/anoldKupara/Machine-Learning-Course/blob/main/Customer_Churn.ipynb\" target=\"_parent\"><img src=\"https://colab.research.google.com/assets/colab-badge.svg\" alt=\"Open In Colab\"/></a>"
      ]
    },
    {
      "cell_type": "code",
      "metadata": {
        "id": "U-GkTAdVw_3c"
      },
      "source": [
        "#!pip install streamlit"
      ],
      "execution_count": 1,
      "outputs": []
    },
    {
      "cell_type": "code",
      "metadata": {
        "colab": {
          "base_uri": "https://localhost:8080/"
        },
        "id": "PNu2DgySydI5",
        "outputId": "e1894e24-6655-4160-b06e-34bceee1837d"
      },
      "source": [
        "%%writefile app.py\n",
        "import streamlit as st"
      ],
      "execution_count": 2,
      "outputs": [
        {
          "output_type": "stream",
          "text": [
            "Overwriting app.py\n"
          ],
          "name": "stdout"
        }
      ]
    },
    {
      "cell_type": "code",
      "metadata": {
        "id": "ojF1CLh4xGHL"
      },
      "source": [
        "import numpy as np \n",
        "import pandas as pd\n",
        "import matplotlib.pyplot as plt\n",
        "from sklearn import datasets\n",
        "from sklearn.model_selection import train_test_split\n",
        "from sklearn.decomposition import PCA\n",
        "from sklearn.svm import SVC\n",
        "from sklearn.neighbors import KNeighborsClassifier\n",
        "from sklearn.ensemble import RandomForestClassifier\n",
        "from sklearn.metrics import accuracy_score,plot_confusion_matrix,plot_roc_curve,precision_score,recall_score,precision_recall_curve,roc_auc_score,auc\n",
        "from sklearn.preprocessing import LabelEncoder\n",
        "from sklearn.linear_model import LogisticRegression\n",
        "import xgboost as xgb"
      ],
      "execution_count": 3,
      "outputs": []
    },
    {
      "cell_type": "code",
      "metadata": {
        "id": "m2QfPr_3xGLm"
      },
      "source": [
        "import warnings\n",
        "warnings.filterwarnings('ignore')"
      ],
      "execution_count": 4,
      "outputs": []
    },
    {
      "cell_type": "code",
      "metadata": {
        "id": "cNTF9QZhxCHU"
      },
      "source": [
        "data=pd.read_csv('https://raw.githubusercontent.com/Diane10/ML/master/Customer-Churn.csv')"
      ],
      "execution_count": 5,
      "outputs": []
    },
    {
      "cell_type": "code",
      "metadata": {
        "colab": {
          "base_uri": "https://localhost:8080/"
        },
        "id": "9EgrB_92xPRa",
        "outputId": "e086840e-ad14-454f-d0a1-c9742ef7f52e"
      },
      "source": [
        "print(data.head())"
      ],
      "execution_count": 6,
      "outputs": [
        {
          "output_type": "stream",
          "text": [
            "   customerID  gender  SeniorCitizen  ... MonthlyCharges TotalCharges  Churn\n",
            "0  7590-VHVEG  Female              0  ...          29.85        29.85     No\n",
            "1  5575-GNVDE    Male              0  ...          56.95      1889.50     No\n",
            "2  3668-QPYBK    Male              0  ...          53.85       108.15    Yes\n",
            "3  7795-CFOCW    Male              0  ...          42.30      1840.75     No\n",
            "4  9237-HQITU  Female              0  ...          70.70       151.65    Yes\n",
            "\n",
            "[5 rows x 21 columns]\n"
          ],
          "name": "stdout"
        }
      ]
    },
    {
      "cell_type": "code",
      "metadata": {
        "colab": {
          "base_uri": "https://localhost:8080/"
        },
        "id": "bfZc7OTGxQqf",
        "outputId": "91a3ae48-f56c-4ba1-f117-f6004747a580"
      },
      "source": [
        "print(data.info())"
      ],
      "execution_count": 7,
      "outputs": [
        {
          "output_type": "stream",
          "text": [
            "<class 'pandas.core.frame.DataFrame'>\n",
            "RangeIndex: 7043 entries, 0 to 7042\n",
            "Data columns (total 21 columns):\n",
            " #   Column            Non-Null Count  Dtype  \n",
            "---  ------            --------------  -----  \n",
            " 0   customerID        7043 non-null   object \n",
            " 1   gender            7043 non-null   object \n",
            " 2   SeniorCitizen     7043 non-null   int64  \n",
            " 3   Partner           7043 non-null   object \n",
            " 4   Dependents        7043 non-null   object \n",
            " 5   tenure            7043 non-null   int64  \n",
            " 6   PhoneService      7043 non-null   object \n",
            " 7   MultipleLines     7043 non-null   object \n",
            " 8   InternetService   7043 non-null   object \n",
            " 9   OnlineSecurity    7043 non-null   object \n",
            " 10  OnlineBackup      7043 non-null   object \n",
            " 11  DeviceProtection  7043 non-null   object \n",
            " 12  TechSupport       7043 non-null   object \n",
            " 13  StreamingTV       7043 non-null   object \n",
            " 14  StreamingMovies   7043 non-null   object \n",
            " 15  Contract          7043 non-null   object \n",
            " 16  PaperlessBilling  7043 non-null   object \n",
            " 17  PaymentMethod     7043 non-null   object \n",
            " 18  MonthlyCharges    7043 non-null   float64\n",
            " 19  TotalCharges      7032 non-null   float64\n",
            " 20  Churn             7043 non-null   object \n",
            "dtypes: float64(2), int64(2), object(17)\n",
            "memory usage: 1.1+ MB\n",
            "None\n"
          ],
          "name": "stdout"
        }
      ]
    },
    {
      "cell_type": "code",
      "metadata": {
        "colab": {
          "base_uri": "https://localhost:8080/"
        },
        "id": "pwxxJnqbxQxK",
        "outputId": "22c32a5f-81c3-4ea4-aa68-d4710d99dd8f"
      },
      "source": [
        "print(data.describe())"
      ],
      "execution_count": 8,
      "outputs": [
        {
          "output_type": "stream",
          "text": [
            "       SeniorCitizen       tenure  MonthlyCharges  TotalCharges\n",
            "count    7043.000000  7043.000000     7043.000000   7032.000000\n",
            "mean        0.162147    32.371149       64.761692   2283.300441\n",
            "std         0.368612    24.559481       30.090047   2266.771362\n",
            "min         0.000000     0.000000       18.250000     18.800000\n",
            "25%         0.000000     9.000000       35.500000    401.450000\n",
            "50%         0.000000    29.000000       70.350000   1397.475000\n",
            "75%         0.000000    55.000000       89.850000   3794.737500\n",
            "max         1.000000    72.000000      118.750000   8684.800000\n"
          ],
          "name": "stdout"
        }
      ]
    },
    {
      "cell_type": "code",
      "metadata": {
        "colab": {
          "base_uri": "https://localhost:8080/"
        },
        "id": "HoIK9GddxUOT",
        "outputId": "9680058f-5335-4bb0-c9e6-bcdf60af21b6"
      },
      "source": [
        "#fetuare extracting\n",
        "#q1 Using the given dataset extract the relevant features that can define a customer churn. [5]\n",
        "cols=['gender','Dependents','tenure','PhoneService','InternetService','OnlineSecurity','OnlineBackup','TechSupport','PaymentMethod','TotalCharges','Churn']\n",
        "newdata=data[cols]\n",
        "print(newdata.info())"
      ],
      "execution_count": 9,
      "outputs": [
        {
          "output_type": "stream",
          "text": [
            "<class 'pandas.core.frame.DataFrame'>\n",
            "RangeIndex: 7043 entries, 0 to 7042\n",
            "Data columns (total 11 columns):\n",
            " #   Column           Non-Null Count  Dtype  \n",
            "---  ------           --------------  -----  \n",
            " 0   gender           7043 non-null   object \n",
            " 1   Dependents       7043 non-null   object \n",
            " 2   tenure           7043 non-null   int64  \n",
            " 3   PhoneService     7043 non-null   object \n",
            " 4   InternetService  7043 non-null   object \n",
            " 5   OnlineSecurity   7043 non-null   object \n",
            " 6   OnlineBackup     7043 non-null   object \n",
            " 7   TechSupport      7043 non-null   object \n",
            " 8   PaymentMethod    7043 non-null   object \n",
            " 9   TotalCharges     7032 non-null   float64\n",
            " 10  Churn            7043 non-null   object \n",
            "dtypes: float64(1), int64(1), object(9)\n",
            "memory usage: 605.4+ KB\n",
            "None\n"
          ],
          "name": "stdout"
        }
      ]
    },
    {
      "cell_type": "code",
      "metadata": {
        "id": "uV4ewwdzxUZe"
      },
      "source": [
        "le=LabelEncoder()\n",
        "newdata['gender']=le.fit_transform(newdata['gender'])\n",
        "newdata['Dependents']=le.fit_transform(newdata['Dependents'])\n",
        "newdata['PhoneService']=le.fit_transform(newdata['PhoneService'])\n",
        "newdata['InternetService']=le.fit_transform(newdata['InternetService'])\n",
        "newdata['OnlineSecurity']=le.fit_transform(newdata['OnlineSecurity'])\n",
        "newdata['OnlineBackup']=le.fit_transform(newdata['OnlineBackup'])\n",
        "newdata['TechSupport']=le.fit_transform(newdata['TechSupport'])\n",
        "newdata['PaymentMethod']=le.fit_transform(newdata['PaymentMethod'])\n",
        "newdata['Churn']=le.fit_transform(newdata['Churn'])\n",
        "newdata['TotalCharges']=newdata['TotalCharges'].fillna(newdata['TotalCharges'].mean)\n",
        "newdata['TotalCharges'] = pd.to_numeric(newdata['TotalCharges'], errors='coerce')\n",
        "new=newdata[['gender','OnlineSecurity','TechSupport','PaymentMethod','Churn']]\n",
        "#X=newdata[['gender','Dependents','tenure','PhoneService','InternetService','OnlineSecurity','OnlineBackup','TechSupport','PaymentMethod']]\n",
        "X=newdata[['gender','OnlineSecurity','TechSupport','PaymentMethod','Churn']]"
      ],
      "execution_count": 10,
      "outputs": []
    },
    {
      "cell_type": "code",
      "metadata": {
        "id": "22TcYNt2xUen"
      },
      "source": [
        "y=newdata['Churn']\n",
        "X_train, X_test, y_train, y_test = train_test_split( X, y, test_size=0.3, random_state=0)"
      ],
      "execution_count": 11,
      "outputs": []
    },
    {
      "cell_type": "code",
      "metadata": {
        "id": "4lIpkAywxcMw"
      },
      "source": [
        "from sklearn.preprocessing import StandardScaler\n",
        "sl=StandardScaler()\n",
        "X_trained= sl.fit_transform(X_train)\n",
        "X_tested= sl.fit_transform(X_test)"
      ],
      "execution_count": 12,
      "outputs": []
    },
    {
      "cell_type": "code",
      "metadata": {
        "colab": {
          "base_uri": "https://localhost:8080/"
        },
        "id": "EzhmkZ8hzpQu",
        "outputId": "d4b9f4e4-1798-40ef-f0cc-3efed58df397"
      },
      "source": [
        "!pip install ipykernel>=5.1.2\n",
        "!pip install pydeck"
      ],
      "execution_count": 13,
      "outputs": [
        {
          "output_type": "stream",
          "text": [
            "Requirement already satisfied: pydeck in /usr/local/lib/python3.7/dist-packages (0.6.2)\n",
            "Requirement already satisfied: jinja2>=2.10.1 in /usr/local/lib/python3.7/dist-packages (from pydeck) (2.11.3)\n",
            "Requirement already satisfied: ipywidgets>=7.0.0 in /usr/local/lib/python3.7/dist-packages (from pydeck) (7.6.3)\n",
            "Requirement already satisfied: traitlets>=4.3.2 in /usr/local/lib/python3.7/dist-packages (from pydeck) (5.0.5)\n",
            "Requirement already satisfied: ipykernel>=5.1.2 in /usr/local/lib/python3.7/dist-packages (from pydeck) (6.2.0)\n",
            "Requirement already satisfied: numpy>=1.16.4 in /usr/local/lib/python3.7/dist-packages (from pydeck) (1.19.5)\n",
            "Requirement already satisfied: matplotlib-inline<0.2.0,>=0.1.0 in /usr/local/lib/python3.7/dist-packages (from ipykernel>=5.1.2->pydeck) (0.1.2)\n",
            "Requirement already satisfied: jupyter-client<8.0 in /usr/local/lib/python3.7/dist-packages (from ipykernel>=5.1.2->pydeck) (5.3.5)\n",
            "Requirement already satisfied: tornado<7.0,>=4.2 in /usr/local/lib/python3.7/dist-packages (from ipykernel>=5.1.2->pydeck) (5.1.1)\n",
            "Requirement already satisfied: importlib-metadata<5 in /usr/local/lib/python3.7/dist-packages (from ipykernel>=5.1.2->pydeck) (4.6.4)\n",
            "Requirement already satisfied: debugpy<2.0,>=1.0.0 in /usr/local/lib/python3.7/dist-packages (from ipykernel>=5.1.2->pydeck) (1.0.0)\n",
            "Requirement already satisfied: argcomplete>=1.12.3 in /usr/local/lib/python3.7/dist-packages (from ipykernel>=5.1.2->pydeck) (1.12.3)\n",
            "Requirement already satisfied: ipython<8.0,>=7.23.1 in /usr/local/lib/python3.7/dist-packages (from ipykernel>=5.1.2->pydeck) (7.26.0)\n",
            "Requirement already satisfied: zipp>=0.5 in /usr/local/lib/python3.7/dist-packages (from importlib-metadata<5->ipykernel>=5.1.2->pydeck) (3.5.0)\n",
            "Requirement already satisfied: typing-extensions>=3.6.4 in /usr/local/lib/python3.7/dist-packages (from importlib-metadata<5->ipykernel>=5.1.2->pydeck) (3.7.4.3)\n",
            "Requirement already satisfied: jedi>=0.16 in /usr/local/lib/python3.7/dist-packages (from ipython<8.0,>=7.23.1->ipykernel>=5.1.2->pydeck) (0.18.0)\n",
            "Requirement already satisfied: pickleshare in /usr/local/lib/python3.7/dist-packages (from ipython<8.0,>=7.23.1->ipykernel>=5.1.2->pydeck) (0.7.5)\n",
            "Requirement already satisfied: prompt-toolkit!=3.0.0,!=3.0.1,<3.1.0,>=2.0.0 in /usr/local/lib/python3.7/dist-packages (from ipython<8.0,>=7.23.1->ipykernel>=5.1.2->pydeck) (3.0.20)\n",
            "Requirement already satisfied: pygments in /usr/local/lib/python3.7/dist-packages (from ipython<8.0,>=7.23.1->ipykernel>=5.1.2->pydeck) (2.6.1)\n",
            "Requirement already satisfied: backcall in /usr/local/lib/python3.7/dist-packages (from ipython<8.0,>=7.23.1->ipykernel>=5.1.2->pydeck) (0.2.0)\n",
            "Requirement already satisfied: pexpect>4.3 in /usr/local/lib/python3.7/dist-packages (from ipython<8.0,>=7.23.1->ipykernel>=5.1.2->pydeck) (4.8.0)\n",
            "Requirement already satisfied: decorator in /usr/local/lib/python3.7/dist-packages (from ipython<8.0,>=7.23.1->ipykernel>=5.1.2->pydeck) (4.4.2)\n",
            "Requirement already satisfied: setuptools>=18.5 in /usr/local/lib/python3.7/dist-packages (from ipython<8.0,>=7.23.1->ipykernel>=5.1.2->pydeck) (57.4.0)\n",
            "Requirement already satisfied: widgetsnbextension~=3.5.0 in /usr/local/lib/python3.7/dist-packages (from ipywidgets>=7.0.0->pydeck) (3.5.1)\n",
            "Requirement already satisfied: nbformat>=4.2.0 in /usr/local/lib/python3.7/dist-packages (from ipywidgets>=7.0.0->pydeck) (5.1.3)\n",
            "Requirement already satisfied: jupyterlab-widgets>=1.0.0 in /usr/local/lib/python3.7/dist-packages (from ipywidgets>=7.0.0->pydeck) (1.0.0)\n",
            "Requirement already satisfied: parso<0.9.0,>=0.8.0 in /usr/local/lib/python3.7/dist-packages (from jedi>=0.16->ipython<8.0,>=7.23.1->ipykernel>=5.1.2->pydeck) (0.8.2)\n",
            "Requirement already satisfied: MarkupSafe>=0.23 in /usr/local/lib/python3.7/dist-packages (from jinja2>=2.10.1->pydeck) (2.0.1)\n",
            "Requirement already satisfied: pyzmq>=13 in /usr/local/lib/python3.7/dist-packages (from jupyter-client<8.0->ipykernel>=5.1.2->pydeck) (22.2.1)\n",
            "Requirement already satisfied: python-dateutil>=2.1 in /usr/local/lib/python3.7/dist-packages (from jupyter-client<8.0->ipykernel>=5.1.2->pydeck) (2.8.2)\n",
            "Requirement already satisfied: jupyter-core>=4.6.0 in /usr/local/lib/python3.7/dist-packages (from jupyter-client<8.0->ipykernel>=5.1.2->pydeck) (4.7.1)\n",
            "Requirement already satisfied: jsonschema!=2.5.0,>=2.4 in /usr/local/lib/python3.7/dist-packages (from nbformat>=4.2.0->ipywidgets>=7.0.0->pydeck) (2.6.0)\n",
            "Requirement already satisfied: ipython-genutils in /usr/local/lib/python3.7/dist-packages (from nbformat>=4.2.0->ipywidgets>=7.0.0->pydeck) (0.2.0)\n",
            "Requirement already satisfied: ptyprocess>=0.5 in /usr/local/lib/python3.7/dist-packages (from pexpect>4.3->ipython<8.0,>=7.23.1->ipykernel>=5.1.2->pydeck) (0.7.0)\n",
            "Requirement already satisfied: wcwidth in /usr/local/lib/python3.7/dist-packages (from prompt-toolkit!=3.0.0,!=3.0.1,<3.1.0,>=2.0.0->ipython<8.0,>=7.23.1->ipykernel>=5.1.2->pydeck) (0.2.5)\n",
            "Requirement already satisfied: six>=1.5 in /usr/local/lib/python3.7/dist-packages (from python-dateutil>=2.1->jupyter-client<8.0->ipykernel>=5.1.2->pydeck) (1.15.0)\n",
            "Requirement already satisfied: notebook>=4.4.1 in /usr/local/lib/python3.7/dist-packages (from widgetsnbextension~=3.5.0->ipywidgets>=7.0.0->pydeck) (5.3.1)\n",
            "Requirement already satisfied: terminado>=0.8.1 in /usr/local/lib/python3.7/dist-packages (from notebook>=4.4.1->widgetsnbextension~=3.5.0->ipywidgets>=7.0.0->pydeck) (0.11.0)\n",
            "Requirement already satisfied: nbconvert in /usr/local/lib/python3.7/dist-packages (from notebook>=4.4.1->widgetsnbextension~=3.5.0->ipywidgets>=7.0.0->pydeck) (5.6.1)\n",
            "Requirement already satisfied: Send2Trash in /usr/local/lib/python3.7/dist-packages (from notebook>=4.4.1->widgetsnbextension~=3.5.0->ipywidgets>=7.0.0->pydeck) (1.8.0)\n",
            "Requirement already satisfied: pandocfilters>=1.4.1 in /usr/local/lib/python3.7/dist-packages (from nbconvert->notebook>=4.4.1->widgetsnbextension~=3.5.0->ipywidgets>=7.0.0->pydeck) (1.4.3)\n",
            "Requirement already satisfied: defusedxml in /usr/local/lib/python3.7/dist-packages (from nbconvert->notebook>=4.4.1->widgetsnbextension~=3.5.0->ipywidgets>=7.0.0->pydeck) (0.7.1)\n",
            "Requirement already satisfied: mistune<2,>=0.8.1 in /usr/local/lib/python3.7/dist-packages (from nbconvert->notebook>=4.4.1->widgetsnbextension~=3.5.0->ipywidgets>=7.0.0->pydeck) (0.8.4)\n",
            "Requirement already satisfied: entrypoints>=0.2.2 in /usr/local/lib/python3.7/dist-packages (from nbconvert->notebook>=4.4.1->widgetsnbextension~=3.5.0->ipywidgets>=7.0.0->pydeck) (0.3)\n",
            "Requirement already satisfied: bleach in /usr/local/lib/python3.7/dist-packages (from nbconvert->notebook>=4.4.1->widgetsnbextension~=3.5.0->ipywidgets>=7.0.0->pydeck) (4.0.0)\n",
            "Requirement already satisfied: testpath in /usr/local/lib/python3.7/dist-packages (from nbconvert->notebook>=4.4.1->widgetsnbextension~=3.5.0->ipywidgets>=7.0.0->pydeck) (0.5.0)\n",
            "Requirement already satisfied: webencodings in /usr/local/lib/python3.7/dist-packages (from bleach->nbconvert->notebook>=4.4.1->widgetsnbextension~=3.5.0->ipywidgets>=7.0.0->pydeck) (0.5.1)\n",
            "Requirement already satisfied: packaging in /usr/local/lib/python3.7/dist-packages (from bleach->nbconvert->notebook>=4.4.1->widgetsnbextension~=3.5.0->ipywidgets>=7.0.0->pydeck) (21.0)\n",
            "Requirement already satisfied: pyparsing>=2.0.2 in /usr/local/lib/python3.7/dist-packages (from packaging->bleach->nbconvert->notebook>=4.4.1->widgetsnbextension~=3.5.0->ipywidgets>=7.0.0->pydeck) (2.4.7)\n"
          ],
          "name": "stdout"
        }
      ]
    },
    {
      "cell_type": "code",
      "metadata": {
        "id": "E-SJ2GmqxcYr"
      },
      "source": [
        "import streamlit as st"
      ],
      "execution_count": 14,
      "outputs": []
    },
    {
      "cell_type": "code",
      "metadata": {
        "colab": {
          "base_uri": "https://localhost:8080/"
        },
        "id": "Boox3sqdxCLO",
        "outputId": "8e892b48-dd15-4b44-96f7-54fec89f9774"
      },
      "source": [
        "class_name=['yes','no']\n",
        "st.title('Customer churn Prediction')\n",
        "\n",
        "st.markdown(\"\"\"\n",
        "Machine Learning models which predict potential customer to churn\n",
        "\"\"\")\n",
        "st.sidebar.title('Customer churn Prediction')\n",
        "\n",
        "st.sidebar.markdown(\"\"\"\n",
        "Machine Learning models which predict potential customer to churn\n",
        "\"\"\")\n",
        "\n",
        "\n",
        "if st.sidebar.checkbox(\"show raw data\",False):\n",
        "    st.subheader(\"Customer Churn for classification\")\n",
        "    st.write(data)\n",
        "if st.sidebar.checkbox(\"Show Encoded Data\"):\n",
        "    st.write(newdata)\n",
        "if st.sidebar.checkbox(\"Show a Statistical Analysis\"):\n",
        "\tst.write(newdata.describe())\n",
        "\n",
        "st.sidebar.subheader('Visualization')\n",
        "if st.sidebar.checkbox(\"Pair plot\",False):\n",
        "   import seaborn as sns\n",
        "   st.subheader('Pairplot Graph')\n",
        "   sns.pairplot(new, hue=\"Churn\")\n",
        "   st.pyplot()\n",
        "if st.sidebar.checkbox(\"Graph plot\",False):\n",
        "   import seaborn as sns\n",
        "   st.subheader('Counter plot')\n",
        "   sns.countplot(y=\"Churn\", data=new)\n",
        "   st.pyplot()\n",
        "\n",
        "st.sidebar.subheader('Choose Classifer')\n",
        "classifier_name = st.sidebar.selectbox(\n",
        "    'Choose classifier',\n",
        "    ('KNN', 'SVM', 'Random Forest','Logistic Regression','XGBOOST')\n",
        ")\n",
        "if classifier_name == 'SVM':\n",
        "    st.sidebar.subheader('Model Hyperparmeter')\n",
        "    c= st.sidebar.number_input(\"c(Reguralization)\",0.01,10.0,step=0.01,key='c')\n",
        "    kernel= st.sidebar.radio(\"kernel\",(\"linear\",\"rbf\"),key='kernel')\n",
        "    gamma= st.sidebar.radio(\"gamma(kernel coefficiency\",(\"scale\",\"auto\"),key='gamma')\n",
        "\n",
        "    metrics= st.sidebar.multiselect(\"What is the metrics to plot?\",('confusion matrix','roc_curve','precision_recall_curve'))\n",
        "\n",
        "    if st.sidebar.button(\"classify\",key='classify'):\n",
        "        st.subheader(\"SVM result\")\n",
        "        svcclassifier= SVC(C=c,kernel=kernel,gamma=gamma)\n",
        "        svcclassifier.fit(X_trained,y_train)\n",
        "        y_pred= svcclassifier.predict(X_tested)\n",
        "        acc= accuracy_score(y_test,y_pred)\n",
        "        st.write(\"Accuracy:\",acc.round(2))\n",
        "        st.write(\"precision_score:\",precision_score(y_test,y_pred,labels=class_name).round(2))\n",
        "        st.write(\"recall_score:\",recall_score(y_test,y_pred,labels=class_name).round(2))\n",
        "        if 'confusion matrix' in metrics:\n",
        "            st.subheader('confusion matrix')\n",
        "            plot_confusion_matrix(svcclassifier,X_tested,y_test,display_labels=class_name)\n",
        "            st.pyplot()\n",
        "        if 'roc_curve' in metrics:\n",
        "            st.subheader('plot_roc_curve')\n",
        "            plot_roc_curve(svcclassifier,X_tested,y_test)\n",
        "            st.pyplot()\n",
        "        if 'precision_recall_curve' in metrics:\n",
        "            st.subheader('precision_recall_curve')\n",
        "            plot_roc_curve(svcclassifier,X_tested,y_test)\n",
        "            st.pyplot()\n",
        "        \n",
        "\n",
        "\n",
        "if classifier_name == 'Logistic Regression':\n",
        "    st.sidebar.subheader('Model Hyperparmeter')\n",
        "    c= st.sidebar.number_input(\"c(Reguralization)\",0.01,10.0,step=0.01,key='Logistic')\n",
        "    max_iter= st.sidebar.slider(\"maximum number of iteration\",100,500,key='max_item')\n",
        "   \n",
        "\n",
        "    metrics= st.sidebar.multiselect(\"What is the metrics to plot?\",('confusion matrix','roc_curve','precision_recall_curve'))\n",
        "\n",
        "    if st.sidebar.button(\"classify\",key='classify'):\n",
        "        st.subheader(\"Logistic Regression result\")\n",
        "        Regression= LogisticRegression(C=c,max_iter=max_iter)\n",
        "        Regression.fit(X_trained,y_train)\n",
        "        y_prediction= Regression.predict(X_tested)\n",
        "        acc= accuracy_score(y_test,y_prediction)\n",
        "        st.write(\"Accuracy:\",acc.round(2))\n",
        "        st.write(\"precision_score:\",precision_score(y_test,y_prediction,labels=class_name).round(2))\n",
        "        st.write(\"recall_score:\",recall_score(y_test,y_prediction,labels=class_name).round(2))\n",
        "        if 'confusion matrix' in metrics:\n",
        "            st.subheader('confusion matrix')\n",
        "            plot_confusion_matrix(Regression,X_tested,y_test,display_labels=class_name)\n",
        "            st.pyplot()\n",
        "        if 'roc_curve' in metrics:\n",
        "            st.subheader('plot_roc_curve')\n",
        "            plot_roc_curve(Regression,X_tested,y_test)\n",
        "            st.pyplot()\n",
        "        if 'precision_recall_curve' in metrics:\n",
        "            st.subheader('precision_recall_curve')\n",
        "            plot_roc_curve(Regression,X_tested,y_test)\n",
        "            st.pyplot()\n",
        "        \n",
        "            \n",
        "\n",
        "if classifier_name == 'Random Forest':\n",
        "    st.sidebar.subheader('Model Hyperparmeter')\n",
        "    n_estimators= st.sidebar.number_input(\"Number of trees in the forest\",100,5000,step=10,key='estimators')\n",
        "    max_depth= st.sidebar.number_input(\"maximum depth of tree\",1,20,step=1,key='max_depth')\n",
        "    bootstrap= st.sidebar.radio(\"Boostrap sample when building trees\",(\"True\",\"False\"),key='boostrap')\n",
        "\n",
        "\n",
        "    metrics= st.sidebar.multiselect(\"What is the metrics to plot?\",('confusion matrix','roc_curve','precision_recall_curve'))\n",
        "\n",
        "    if st.sidebar.button(\"classify\",key='classify'):\n",
        "        st.subheader(\"Random Forest result\")\n",
        "        model= RandomForestClassifier(n_estimators=n_estimators,max_depth=max_depth,bootstrap=bootstrap)\n",
        "        model.fit(X_trained,y_train)\n",
        "        y_prediction= model.predict(X_tested)\n",
        "        acc= accuracy_score(y_test,y_prediction)\n",
        "        st.write(\"Accuracy:\",acc.round(2))\n",
        "        st.write(\"precision_score:\",precision_score(y_test,y_prediction,labels=class_name).round(2))\n",
        "        st.write(\"recall_score:\",recall_score(y_test,y_prediction,labels=class_name).round(2))\n",
        "        if 'confusion matrix' in metrics:\n",
        "            st.subheader('confusion matrix')\n",
        "            plot_confusion_matrix(model,X_tested,y_test,display_labels=class_name)\n",
        "            st.pyplot()\n",
        "        if 'roc_curve' in metrics:\n",
        "            st.subheader('plot_roc_curve')\n",
        "            plot_roc_curve(model,X_tested,y_test)\n",
        "            st.pyplot()\n",
        "        if 'precision_recall_curve' in metrics:\n",
        "            st.subheader('precision_recall_curve')\n",
        "            plot_roc_curve(model,X_tested,y_test)\n",
        "            st.pyplot() \n",
        "\n",
        "\n",
        "if classifier_name == 'KNN':\n",
        "    st.sidebar.subheader('Model Hyperparmeter')\n",
        "    n_neighbors= st.sidebar.number_input(\"Number of n_neighbors\",5,30,step=1,key='neighbors')\n",
        "    leaf_size= st.sidebar.slider(\"leaf size\",30,200,key='leaf')\n",
        "    weights= st.sidebar.radio(\"weight function used in prediction\",(\"uniform\",\"distance\"),key='weight')\n",
        "\n",
        "\n",
        "    metrics= st.sidebar.multiselect(\"What is the metrics to plot?\",('confusion matrix','roc_curve','precision_recall_curve'))\n",
        "\n",
        "    if st.sidebar.button(\"classify\",key='classify'):\n",
        "        st.subheader(\"KNN result\")\n",
        "        model= KNeighborsClassifier(n_neighbors=n_neighbors,leaf_size=leaf_size,weights=weights)\n",
        "        model.fit(X_trained,y_train)\n",
        "        y_prediction= model.predict(X_tested)\n",
        "        acc= accuracy_score(y_test,y_prediction)\n",
        "        st.write(\"Accuracy:\",acc.round(2))\n",
        "        st.write(\"precision_score:\",precision_score(y_test,y_prediction,labels=class_name).round(2))\n",
        "        st.write(\"recall_score:\",recall_score(y_test,y_prediction,labels=class_name).round(2))\n",
        "        if 'confusion matrix' in metrics:\n",
        "            st.subheader('confusion matrix')\n",
        "            plot_confusion_matrix(model,X_tested,y_test,display_labels=class_name)\n",
        "            st.pyplot()\n",
        "        if 'roc_curve' in metrics:\n",
        "            st.subheader('plot_roc_curve')\n",
        "            plot_roc_curve(model,X_tested,y_test)\n",
        "            st.pyplot()\n",
        "        if 'precision_recall_curve' in metrics:\n",
        "            st.subheader('precision_recall_curve')\n",
        "            plot_roc_curve(model,X_tested,y_test)\n",
        "            st.pyplot() \n",
        "\n",
        "\n",
        "if classifier_name == 'XGBOOST':\n",
        "    st.sidebar.subheader('Model Hyperparmeter')\n",
        "    n_estimators= st.sidebar.number_input(\"Number of trees in the forest\",100,5000,step=10,key='XGBestimators')\n",
        "    seed= st.sidebar.number_input(\"number of the seed\",1,150,step=1,key='seed')\n",
        "    \n",
        "    \n",
        "    \n",
        "\n",
        "\n",
        "    metrics= st.sidebar.multiselect(\"What is the metrics to plot?\",('confusion matrix','roc_curve','precision_recall_curve'))\n",
        "\n",
        "    if st.sidebar.button(\"classify\",key='classify'):\n",
        "        st.subheader(\"XGBOOST result\")\n",
        "        model= xgb.XGBClassifier(n_estimators=n_estimators,seed=seed)\n",
        "        model.fit(X_trained,y_train)\n",
        "        y_prediction= model.predict(X_tested)\n",
        "        acc= accuracy_score(y_test,y_prediction)\n",
        "        st.write(\"Accuracy:\",acc.round(2))\n",
        "        st.write(\"precision_score:\",precision_score(y_test,y_prediction,labels=class_name).round(2))\n",
        "        st.write(\"recall_score:\",recall_score(y_test,y_prediction,labels=class_name).round(2))\n",
        "        st.write(\"ROC_AUC_score:\",roc_auc_score(y_test,y_prediction).round(2))\n",
        "\n",
        "       \n",
        "\n",
        "        if 'confusion matrix' in metrics:\n",
        "            st.subheader('confusion matrix')\n",
        "            plot_confusion_matrix(model,X_tested,y_test,display_labels=class_name)\n",
        "            st.pyplot()\n",
        "        if 'roc_curve' in metrics:\n",
        "            st.subheader('plot_roc_curve')\n",
        "            plot_roc_curve(model,X_tested,y_test)\n",
        "            st.pyplot()\n",
        "        if 'precision_recall_curve' in metrics:\n",
        "            st.subheader('precision_recall_curve')\n",
        "            plot_roc_curve(model,X_tested,y_test)\n",
        "            st.pyplot() \n",
        "\n",
        "if st.sidebar.checkbox(\"Do u want to predict?\",key='prediction'):\n",
        "\n",
        "    st.sidebar.subheader('Model Prediction')\n",
        "    gender= st.sidebar.number_input(\"what is your gender?\",1,3,step=1,key='gender')\n",
        "    security= st.sidebar.number_input(\"do u have online security?\",1,3,step=1,key='security')\n",
        "    techsupport= st.sidebar.number_input(\"do u have Techsupport\",1,3,step=1,key='support')\n",
        "    PaymentMethod= st.sidebar.number_input(\"do u have PaymentMethod\",1,3,step=1,key='payment')\n",
        "\n",
        "    if st.sidebar.button(\"Prediction\",key='predict'):\n",
        "        X_predict=[[gender,security,techsupport,PaymentMethod]]\n",
        "        model= xgb.XGBClassifier(n_estimators=30,seed=14)\n",
        "        model.fit(X_trained,y_train)\n",
        "        y_user_prediction= model.predict(X_predict)\n",
        "        if y_user_prediction==0:\n",
        "          st.write(\"a new customer can result in a churn\")\n",
        "        else:\n",
        "          st.write(\"a new customer can not result in a churn\")"
      ],
      "execution_count": 15,
      "outputs": [
        {
          "output_type": "stream",
          "text": [
            "2021-08-26 00:15:02.047 \n",
            "  \u001b[33m\u001b[1mWarning:\u001b[0m to view this Streamlit app on a browser, run it with the following\n",
            "  command:\n",
            "\n",
            "    streamlit run /usr/local/lib/python3.7/dist-packages/ipykernel_launcher.py [ARGUMENTS]\n"
          ],
          "name": "stderr"
        }
      ]
    }
  ]
}