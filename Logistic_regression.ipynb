{
  "nbformat": 4,
  "nbformat_minor": 0,
  "metadata": {
    "colab": {
      "name": "Logistic regression.ipynb",
      "provenance": [],
      "collapsed_sections": [],
      "mount_file_id": "10cLtiGlVFRj0_jn74uU-XFPRiu4wkurT",
      "authorship_tag": "ABX9TyPAAPFYDE6jJQ0rzdC4A8LN",
      "include_colab_link": true
    },
    "kernelspec": {
      "name": "python3",
      "display_name": "Python 3"
    },
    "language_info": {
      "name": "python"
    }
  },
  "cells": [
    {
      "cell_type": "markdown",
      "metadata": {
        "id": "view-in-github",
        "colab_type": "text"
      },
      "source": [
        "<a href=\"https://colab.research.google.com/github/anoldKupara/Machine-Learning-Course/blob/main/Logistic_regression.ipynb\" target=\"_parent\"><img src=\"https://colab.research.google.com/assets/colab-badge.svg\" alt=\"Open In Colab\"/></a>"
      ]
    },
    {
      "cell_type": "code",
      "metadata": {
        "id": "jS6d7wzpFl-w"
      },
      "source": [
        "import numpy as np\n",
        "import matplotlib.pyplot as plt\n",
        "\n",
        "from matplotlib import colors\n",
        "from sklearn.linear_model import LogisticRegression\n",
        "from sklearn.pipeline import Pipeline\n",
        "from sklearn.preprocessing import PolynomialFeatures, StandardScaler\n",
        "from scipy.special import logit\n",
        "\n",
        "%matplotlib inline"
      ],
      "execution_count": 1,
      "outputs": []
    },
    {
      "cell_type": "code",
      "metadata": {
        "id": "WdYMJjbdFsFE"
      },
      "source": [
        "#Unregularized logistic regression\n",
        "\n",
        "# Admission data: \n",
        "# - exam 1 score (x1) \n",
        "# - exam 2 score (x2)\n",
        "# - admitted (y)\n",
        "data = np.loadtxt('/content/drive/MyDrive/Colab Notebooks/Datasets/data/ml-ex2/ex2data1.txt', delimiter=',')"
      ],
      "execution_count": 2,
      "outputs": []
    },
    {
      "cell_type": "code",
      "metadata": {
        "id": "99ifBqhjFsJK"
      },
      "source": [
        "# Separate features (x1, x2) from target (y)\n",
        "X, y = np.hsplit(data, np.array([2]))"
      ],
      "execution_count": 3,
      "outputs": []
    },
    {
      "cell_type": "code",
      "metadata": {
        "id": "-YtGbfEJFsO5"
      },
      "source": [
        "# LogisticRegression estimator expect an y row vector\n",
        "y = y.ravel()"
      ],
      "execution_count": 4,
      "outputs": []
    },
    {
      "cell_type": "code",
      "metadata": {
        "id": "yLuUXGHqFsTL",
        "colab": {
          "base_uri": "https://localhost:8080/"
        },
        "outputId": "a08abc8a-8172-47fc-feef-6ce5cce7d846"
      },
      "source": [
        "# Use 'lbfgs' solver for logistic regression as this is what Octave fminunc does.\n",
        "# Parameter C ist the inverse regularization strength (high values = low regularization).\n",
        "clf = LogisticRegression(C=1e9, solver='lbfgs')\n",
        "clf.fit(X, y)"
      ],
      "execution_count": 6,
      "outputs": [
        {
          "output_type": "execute_result",
          "data": {
            "text/plain": [
              "LogisticRegression(C=1000000000.0, class_weight=None, dual=False,\n",
              "                   fit_intercept=True, intercept_scaling=1, l1_ratio=None,\n",
              "                   max_iter=100, multi_class='auto', n_jobs=None, penalty='l2',\n",
              "                   random_state=None, solver='lbfgs', tol=0.0001, verbose=0,\n",
              "                   warm_start=False)"
            ]
          },
          "metadata": {},
          "execution_count": 6
        }
      ]
    },
    {
      "cell_type": "code",
      "metadata": {
        "id": "YlhxaYKSFsW5"
      },
      "source": [
        "theta0 = clf.intercept_[0]\n",
        "theta1 = clf.coef_[0,0]\n",
        "theta2 = clf.coef_[0,1]"
      ],
      "execution_count": 7,
      "outputs": []
    },
    {
      "cell_type": "code",
      "metadata": {
        "id": "xgz1UC5jFsaS"
      },
      "source": [
        "# Computes x2 at y = logit(0.5) from x1 and model parameters\n",
        "# based on equation y = sigmoid(theta0 + theta1*x1 + theta2*x2)\n",
        "# where logit is the inverse of sigmoid.\n",
        "# (used for computing the linear decision boundary)\n",
        "def x2(x1):\n",
        "    return (logit(0.5) - theta0 - theta1*x1) / theta2"
      ],
      "execution_count": 8,
      "outputs": []
    },
    {
      "cell_type": "code",
      "metadata": {
        "id": "HRpyW6WVFsdJ"
      },
      "source": [
        "x1_min = X[:,0].min()\n",
        "x1_max = X[:,0].max()"
      ],
      "execution_count": 10,
      "outputs": []
    },
    {
      "cell_type": "code",
      "metadata": {
        "id": "JSTLGTZycgyK"
      },
      "source": [
        "# x1 and x2 data of linear decision boundary\n",
        "x1_plot = np.array([x1_min, x1_max])\n",
        "x2_plot = x2(x1_plot)"
      ],
      "execution_count": 11,
      "outputs": []
    },
    {
      "cell_type": "code",
      "metadata": {
        "id": "k_Yzg9X5FsgN",
        "colab": {
          "base_uri": "https://localhost:8080/",
          "height": 297
        },
        "outputId": "f0f2e5ad-672b-4253-93d9-d3543e1dc913"
      },
      "source": [
        "fig, ax = plt.subplots()\n",
        "\n",
        "# Mask for selecting positive and negative examples\n",
        "y_pos = y == 1\n",
        "y_neg = y == 0\n",
        "\n",
        "# Plot examples and decision boundary\n",
        "ax.plot(X[y_pos,0], X[y_pos,1], 'b+', label='Admitted')\n",
        "ax.plot(X[y_neg,0], X[y_neg,1], 'yo', label='Not admitted')\n",
        "ax.set_xlabel('Exam 1 score')\n",
        "ax.set_ylabel('Exam 2 score')\n",
        "ax.legend(loc='upper right')\n",
        "\n",
        "# Plot decision boundary\n",
        "ax.plot(x1_plot, x2_plot)"
      ],
      "execution_count": 12,
      "outputs": [
        {
          "output_type": "execute_result",
          "data": {
            "text/plain": [
              "[<matplotlib.lines.Line2D at 0x7f2e85ddc750>]"
            ]
          },
          "metadata": {},
          "execution_count": 12
        },
        {
          "output_type": "display_data",
          "data": {
            "image/png": "[encoded data removed]",
            "text/plain": [
              "<Figure size 432x288 with 1 Axes>"
            ]
          },
          "metadata": {
            "needs_background": "light"
          }
        }
      ]
    },
    {
      "cell_type": "code",
      "metadata": {
        "id": "LTQoIY1LFsjY"
      },
      "source": [
        "X_test = np.array([\n",
        "    [45., 85.],\n",
        "    [50., 50.],\n",
        "    [80., 80.]\n",
        "])"
      ],
      "execution_count": 13,
      "outputs": []
    },
    {
      "cell_type": "code",
      "metadata": {
        "id": "4vTukl2CFsmT",
        "colab": {
          "base_uri": "https://localhost:8080/"
        },
        "outputId": "df76fd28-65a0-42a1-b6dd-1bf58176c256"
      },
      "source": [
        "# Predict class\n",
        "clf.predict(X_test)"
      ],
      "execution_count": 14,
      "outputs": [
        {
          "output_type": "execute_result",
          "data": {
            "text/plain": [
              "array([1., 0., 1.])"
            ]
          },
          "metadata": {},
          "execution_count": 14
        }
      ]
    },
    {
      "cell_type": "code",
      "metadata": {
        "id": "wiIN-N7cFspA",
        "colab": {
          "base_uri": "https://localhost:8080/"
        },
        "outputId": "7c6eea76-3909-4d19-ab56-c2c8af8e8b6e"
      },
      "source": [
        "# Predict class probabilities\n",
        "clf.predict_proba(X_test)"
      ],
      "execution_count": 15,
      "outputs": [
        {
          "output_type": "execute_result",
          "data": {
            "text/plain": [
              "array([[2.23709868e-01, 7.76290132e-01],\n",
              "       [9.91642300e-01, 8.35769979e-03],\n",
              "       [5.78239123e-04, 9.99421761e-01]])"
            ]
          },
          "metadata": {},
          "execution_count": 15
        }
      ]
    },
    {
      "cell_type": "code",
      "metadata": {
        "id": "_f-V6kD-FssQ"
      },
      "source": [
        "theta0 = clf.intercept_[0]\n",
        "theta1 = clf.coef_[0,0]\n",
        "theta2 = clf.coef_[0,1]"
      ],
      "execution_count": 16,
      "outputs": []
    },
    {
      "cell_type": "code",
      "metadata": {
        "id": "mC9y1KpyFsvN",
        "colab": {
          "base_uri": "https://localhost:8080/"
        },
        "outputId": "2253d0dd-33c3-4ab4-d014-a497ced78f4c"
      },
      "source": [
        "theta0, theta1, theta2"
      ],
      "execution_count": 17,
      "outputs": [
        {
          "output_type": "execute_result",
          "data": {
            "text/plain": [
              "(-25.16138567101979, 0.20623222395628096, 0.20147190519771885)"
            ]
          },
          "metadata": {},
          "execution_count": 17
        }
      ]
    },
    {
      "cell_type": "code",
      "metadata": {
        "id": "HDKtc-99FsyX",
        "colab": {
          "base_uri": "https://localhost:8080/"
        },
        "outputId": "b647dc4f-bd3f-4dfa-f010-4bb77762ccfa"
      },
      "source": [
        "# Classification accuracy on training set\n",
        "clf.score(X, y)"
      ],
      "execution_count": 18,
      "outputs": [
        {
          "output_type": "execute_result",
          "data": {
            "text/plain": [
              "0.89"
            ]
          },
          "metadata": {},
          "execution_count": 18
        }
      ]
    },
    {
      "cell_type": "code",
      "metadata": {
        "id": "A2slb6PVFs3P"
      },
      "source": [
        "#Regularized logistic regression\n",
        "\n",
        "# Microchip test: \n",
        "# - test 1 (x1) \n",
        "# - test 2 (x2)\n",
        "# - accepted=1, rejected=0 (y)\n",
        "data = np.loadtxt('/content/drive/MyDrive/Colab Notebooks/Datasets/data/ml-ex2/ex2data2.txt', delimiter=',')"
      ],
      "execution_count": 19,
      "outputs": []
    },
    {
      "cell_type": "code",
      "metadata": {
        "id": "dJwaFhLkFs6c"
      },
      "source": [
        "# LogisticRegression estimator expect an y row vector\n",
        "X, y = np.hsplit(data, np.array([2]))"
      ],
      "execution_count": 20,
      "outputs": []
    },
    {
      "cell_type": "code",
      "metadata": {
        "id": "dCtIT2YBHPH2"
      },
      "source": [
        "# Logistic regression estimator requires an y row vector\n",
        "y = y.ravel()"
      ],
      "execution_count": 21,
      "outputs": []
    },
    {
      "cell_type": "code",
      "metadata": {
        "id": "f--WHdjPHPK-",
        "colab": {
          "base_uri": "https://localhost:8080/",
          "height": 297
        },
        "outputId": "f0265027-c474-43ca-9f9f-7135d67eccad"
      },
      "source": [
        "fig, ax = plt.subplots()\n",
        "\n",
        "# Mask for selecting positive and negative examples\n",
        "y_pos = y == 1\n",
        "y_neg = y == 0\n",
        "\n",
        "# Plot examples\n",
        "ax.plot(X[y_pos,0], X[y_pos,1], 'b+', label='Accepted')\n",
        "ax.plot(X[y_neg,0], X[y_neg,1], 'yo', label='Rejected')\n",
        "ax.set_xlabel('Microchip test 1')\n",
        "ax.set_ylabel('Microchip test 2')\n",
        "ax.legend(loc='upper right')"
      ],
      "execution_count": 22,
      "outputs": [
        {
          "output_type": "execute_result",
          "data": {
            "text/plain": [
              "<matplotlib.legend.Legend at 0x7f2e85d6e4d0>"
            ]
          },
          "metadata": {},
          "execution_count": 22
        },
        {
          "output_type": "display_data",
          "data": {
            "image/png": "[encoded data removed]",
            "text/plain": [
              "<Figure size 432x288 with 1 Axes>"
            ]
          },
          "metadata": {
            "needs_background": "light"
          }
        }
      ]
    },
    {
      "cell_type": "code",
      "metadata": {
        "id": "NdYycsbpHPO2",
        "colab": {
          "base_uri": "https://localhost:8080/"
        },
        "outputId": "91472f0e-ad78-4009-9428-b7f001f64f52"
      },
      "source": [
        "# Preprocessor to include polynomial features up to degree 6\n",
        "poly = PolynomialFeatures(6, include_bias=False)\n",
        "\n",
        "# Mean and standard deviation scaler\n",
        "scaler = StandardScaler()\n",
        "\n",
        "# Logistic regression classifier. \n",
        "# - C=1.0 will result in good fit\n",
        "# - C=1e4 will result in overfit (to little regularization)\n",
        "# - C=1e-2 will result in underfit (to much regularization)\n",
        "clf = LogisticRegression(C=1.0, solver='lbfgs')\n",
        "\n",
        "# Pipeline of polynomial feature generator, feature scaler and linear regressor\n",
        "model = Pipeline([('poly', poly), ('scaler', scaler), ('clf', clf)])\n",
        "\n",
        "# Fit data to model\n",
        "model.fit(X, y)"
      ],
      "execution_count": 23,
      "outputs": [
        {
          "output_type": "execute_result",
          "data": {
            "text/plain": [
              "Pipeline(memory=None,\n",
              "         steps=[('poly',\n",
              "                 PolynomialFeatures(degree=6, include_bias=False,\n",
              "                                    interaction_only=False, order='C')),\n",
              "                ('scaler',\n",
              "                 StandardScaler(copy=True, with_mean=True, with_std=True)),\n",
              "                ('clf',\n",
              "                 LogisticRegression(C=1.0, class_weight=None, dual=False,\n",
              "                                    fit_intercept=True, intercept_scaling=1,\n",
              "                                    l1_ratio=None, max_iter=100,\n",
              "                                    multi_class='auto', n_jobs=None,\n",
              "                                    penalty='l2', random_state=None,\n",
              "                                    solver='lbfgs', tol=0.0001, verbose=0,\n",
              "                                    warm_start=False))],\n",
              "         verbose=False)"
            ]
          },
          "metadata": {},
          "execution_count": 23
        }
      ]
    },
    {
      "cell_type": "code",
      "metadata": {
        "id": "wZMDeYBAHPu2",
        "colab": {
          "base_uri": "https://localhost:8080/"
        },
        "outputId": "e6bbc9f0-4182-46d5-a30d-9034acb375e8"
      },
      "source": [
        "# Classification accuracy on training set\n",
        "model.score(X, y)"
      ],
      "execution_count": 24,
      "outputs": [
        {
          "output_type": "execute_result",
          "data": {
            "text/plain": [
              "0.8305084745762712"
            ]
          },
          "metadata": {},
          "execution_count": 24
        }
      ]
    },
    {
      "cell_type": "code",
      "metadata": {
        "id": "_XlPPJnpHdOd",
        "colab": {
          "base_uri": "https://localhost:8080/",
          "height": 279
        },
        "outputId": "0150090a-e7fc-4e8d-c911-9087e3860ba7"
      },
      "source": [
        "grid = np.mgrid[-1:1:500j, -1:1:500j]\n",
        "\n",
        "# Compute acceptance probabilities on 500*500 grid \n",
        "X_grid = np.c_[grid[0].ravel(), grid[1].ravel()]\n",
        "y_grid = model.predict(X_grid).reshape(grid[0].shape)\n",
        "\n",
        "# Plot decision boundary on previous figure\n",
        "cs = ax.contour(grid[0], grid[1], y_grid, 'g-', levels=[0.5])\n",
        "ax.clabel(cs)\n",
        "\n",
        "# Show previous figure with decision boundary\n",
        "fig"
      ],
      "execution_count": 25,
      "outputs": [
        {
          "output_type": "execute_result",
          "data": {
            "image/png": "[encoded data removed]",
            "text/plain": [
              "<Figure size 432x288 with 1 Axes>"
            ]
          },
          "metadata": {},
          "execution_count": 25
        }
      ]
    }
  ]
}