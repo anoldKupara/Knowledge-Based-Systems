{
  "nbformat": 4,
  "nbformat_minor": 0,
  "metadata": {
    "colab": {
      "name": " Classification-on-Wine-DATA-SET Using_DT.ipynb",
      "provenance": [],
      "authorship_tag": "ABX9TyNp9KjRsPn626B7vhG43E6/",
      "include_colab_link": true
    },
    "kernelspec": {
      "name": "python3",
      "display_name": "Python 3"
    },
    "language_info": {
      "name": "python"
    }
  },
  "cells": [
    {
      "cell_type": "markdown",
      "metadata": {
        "id": "view-in-github",
        "colab_type": "text"
      },
      "source": [
        "<a href=\"https://colab.research.google.com/github/anoldKupara/Machine-Learning-Course/blob/main/Classification_on_Wine_DATA_SET_Using_DT.ipynb\" target=\"_parent\"><img src=\"https://colab.research.google.com/assets/colab-badge.svg\" alt=\"Open In Colab\"/></a>"
      ]
    },
    {
      "cell_type": "code",
      "metadata": {
        "id": "2wFhLutYs-Mi"
      },
      "source": [
        "import pandas as pd\n",
        "import numpy as np\n",
        "import matplotlib.pyplot as plt"
      ],
      "execution_count": 1,
      "outputs": []
    },
    {
      "cell_type": "code",
      "metadata": {
        "id": "wbEYgrYMtIvH"
      },
      "source": [
        "############### import wine dataset from sklearn\n",
        "from sklearn import datasets\n",
        "wine = datasets.load_wine()"
      ],
      "execution_count": 2,
      "outputs": []
    },
    {
      "cell_type": "code",
      "metadata": {
        "id": "Uu31FXPAtIy1"
      },
      "source": [
        "x = wine.data\n",
        "y = wine.target"
      ],
      "execution_count": 3,
      "outputs": []
    },
    {
      "cell_type": "code",
      "metadata": {
        "id": "FZ3wwa-BtI1Y"
      },
      "source": [
        "################ Creating a data frame\n",
        "df = pd.DataFrame(x, columns= wine.feature_names)"
      ],
      "execution_count": 4,
      "outputs": []
    },
    {
      "cell_type": "code",
      "metadata": {
        "colab": {
          "base_uri": "https://localhost:8080/",
          "height": 224
        },
        "id": "oWvMfnf0tI4J",
        "outputId": "625c47b2-84cd-4cb9-fd8d-e683186a1de4"
      },
      "source": [
        "################ first 5 records\n",
        "df.head()"
      ],
      "execution_count": 5,
      "outputs": [
        {
          "output_type": "execute_result",
          "data": {
            "text/html": [
              "<div>\n",
              "<style scoped>\n",
              "    .dataframe tbody tr th:only-of-type {\n",
              "        vertical-align: middle;\n",
              "    }\n",
              "\n",
              "    .dataframe tbody tr th {\n",
              "        vertical-align: top;\n",
              "    }\n",
              "\n",
              "    .dataframe thead th {\n",
              "        text-align: right;\n",
              "    }\n",
              "</style>\n",
              "<table border=\"1\" class=\"dataframe\">\n",
              "  <thead>\n",
              "    <tr style=\"text-align: right;\">\n",
              "      <th></th>\n",
              "      <th>alcohol</th>\n",
              "      <th>malic_acid</th>\n",
              "      <th>ash</th>\n",
              "      <th>alcalinity_of_ash</th>\n",
              "      <th>magnesium</th>\n",
              "      <th>total_phenols</th>\n",
              "      <th>flavanoids</th>\n",
              "      <th>nonflavanoid_phenols</th>\n",
              "      <th>proanthocyanins</th>\n",
              "      <th>color_intensity</th>\n",
              "      <th>hue</th>\n",
              "      <th>od280/od315_of_diluted_wines</th>\n",
              "      <th>proline</th>\n",
              "    </tr>\n",
              "  </thead>\n",
              "  <tbody>\n",
              "    <tr>\n",
              "      <th>0</th>\n",
              "      <td>14.23</td>\n",
              "      <td>1.71</td>\n",
              "      <td>2.43</td>\n",
              "      <td>15.6</td>\n",
              "      <td>127.0</td>\n",
              "      <td>2.80</td>\n",
              "      <td>3.06</td>\n",
              "      <td>0.28</td>\n",
              "      <td>2.29</td>\n",
              "      <td>5.64</td>\n",
              "      <td>1.04</td>\n",
              "      <td>3.92</td>\n",
              "      <td>1065.0</td>\n",
              "    </tr>\n",
              "    <tr>\n",
              "      <th>1</th>\n",
              "      <td>13.20</td>\n",
              "      <td>1.78</td>\n",
              "      <td>2.14</td>\n",
              "      <td>11.2</td>\n",
              "      <td>100.0</td>\n",
              "      <td>2.65</td>\n",
              "      <td>2.76</td>\n",
              "      <td>0.26</td>\n",
              "      <td>1.28</td>\n",
              "      <td>4.38</td>\n",
              "      <td>1.05</td>\n",
              "      <td>3.40</td>\n",
              "      <td>1050.0</td>\n",
              "    </tr>\n",
              "    <tr>\n",
              "      <th>2</th>\n",
              "      <td>13.16</td>\n",
              "      <td>2.36</td>\n",
              "      <td>2.67</td>\n",
              "      <td>18.6</td>\n",
              "      <td>101.0</td>\n",
              "      <td>2.80</td>\n",
              "      <td>3.24</td>\n",
              "      <td>0.30</td>\n",
              "      <td>2.81</td>\n",
              "      <td>5.68</td>\n",
              "      <td>1.03</td>\n",
              "      <td>3.17</td>\n",
              "      <td>1185.0</td>\n",
              "    </tr>\n",
              "    <tr>\n",
              "      <th>3</th>\n",
              "      <td>14.37</td>\n",
              "      <td>1.95</td>\n",
              "      <td>2.50</td>\n",
              "      <td>16.8</td>\n",
              "      <td>113.0</td>\n",
              "      <td>3.85</td>\n",
              "      <td>3.49</td>\n",
              "      <td>0.24</td>\n",
              "      <td>2.18</td>\n",
              "      <td>7.80</td>\n",
              "      <td>0.86</td>\n",
              "      <td>3.45</td>\n",
              "      <td>1480.0</td>\n",
              "    </tr>\n",
              "    <tr>\n",
              "      <th>4</th>\n",
              "      <td>13.24</td>\n",
              "      <td>2.59</td>\n",
              "      <td>2.87</td>\n",
              "      <td>21.0</td>\n",
              "      <td>118.0</td>\n",
              "      <td>2.80</td>\n",
              "      <td>2.69</td>\n",
              "      <td>0.39</td>\n",
              "      <td>1.82</td>\n",
              "      <td>4.32</td>\n",
              "      <td>1.04</td>\n",
              "      <td>2.93</td>\n",
              "      <td>735.0</td>\n",
              "    </tr>\n",
              "  </tbody>\n",
              "</table>\n",
              "</div>"
            ],
            "text/plain": [
              "   alcohol  malic_acid   ash  ...   hue  od280/od315_of_diluted_wines  proline\n",
              "0    14.23        1.71  2.43  ...  1.04                          3.92   1065.0\n",
              "1    13.20        1.78  2.14  ...  1.05                          3.40   1050.0\n",
              "2    13.16        2.36  2.67  ...  1.03                          3.17   1185.0\n",
              "3    14.37        1.95  2.50  ...  0.86                          3.45   1480.0\n",
              "4    13.24        2.59  2.87  ...  1.04                          2.93    735.0\n",
              "\n",
              "[5 rows x 13 columns]"
            ]
          },
          "metadata": {
            "tags": []
          },
          "execution_count": 5
        }
      ]
    },
    {
      "cell_type": "code",
      "metadata": {
        "colab": {
          "base_uri": "https://localhost:8080/",
          "height": 224
        },
        "id": "FXfeylnqtI61",
        "outputId": "a5020842-7329-4975-ae07-84ae5a27232e"
      },
      "source": [
        "############### last 5 records\n",
        "df.tail()"
      ],
      "execution_count": 6,
      "outputs": [
        {
          "output_type": "execute_result",
          "data": {
            "text/html": [
              "<div>\n",
              "<style scoped>\n",
              "    .dataframe tbody tr th:only-of-type {\n",
              "        vertical-align: middle;\n",
              "    }\n",
              "\n",
              "    .dataframe tbody tr th {\n",
              "        vertical-align: top;\n",
              "    }\n",
              "\n",
              "    .dataframe thead th {\n",
              "        text-align: right;\n",
              "    }\n",
              "</style>\n",
              "<table border=\"1\" class=\"dataframe\">\n",
              "  <thead>\n",
              "    <tr style=\"text-align: right;\">\n",
              "      <th></th>\n",
              "      <th>alcohol</th>\n",
              "      <th>malic_acid</th>\n",
              "      <th>ash</th>\n",
              "      <th>alcalinity_of_ash</th>\n",
              "      <th>magnesium</th>\n",
              "      <th>total_phenols</th>\n",
              "      <th>flavanoids</th>\n",
              "      <th>nonflavanoid_phenols</th>\n",
              "      <th>proanthocyanins</th>\n",
              "      <th>color_intensity</th>\n",
              "      <th>hue</th>\n",
              "      <th>od280/od315_of_diluted_wines</th>\n",
              "      <th>proline</th>\n",
              "    </tr>\n",
              "  </thead>\n",
              "  <tbody>\n",
              "    <tr>\n",
              "      <th>173</th>\n",
              "      <td>13.71</td>\n",
              "      <td>5.65</td>\n",
              "      <td>2.45</td>\n",
              "      <td>20.5</td>\n",
              "      <td>95.0</td>\n",
              "      <td>1.68</td>\n",
              "      <td>0.61</td>\n",
              "      <td>0.52</td>\n",
              "      <td>1.06</td>\n",
              "      <td>7.7</td>\n",
              "      <td>0.64</td>\n",
              "      <td>1.74</td>\n",
              "      <td>740.0</td>\n",
              "    </tr>\n",
              "    <tr>\n",
              "      <th>174</th>\n",
              "      <td>13.40</td>\n",
              "      <td>3.91</td>\n",
              "      <td>2.48</td>\n",
              "      <td>23.0</td>\n",
              "      <td>102.0</td>\n",
              "      <td>1.80</td>\n",
              "      <td>0.75</td>\n",
              "      <td>0.43</td>\n",
              "      <td>1.41</td>\n",
              "      <td>7.3</td>\n",
              "      <td>0.70</td>\n",
              "      <td>1.56</td>\n",
              "      <td>750.0</td>\n",
              "    </tr>\n",
              "    <tr>\n",
              "      <th>175</th>\n",
              "      <td>13.27</td>\n",
              "      <td>4.28</td>\n",
              "      <td>2.26</td>\n",
              "      <td>20.0</td>\n",
              "      <td>120.0</td>\n",
              "      <td>1.59</td>\n",
              "      <td>0.69</td>\n",
              "      <td>0.43</td>\n",
              "      <td>1.35</td>\n",
              "      <td>10.2</td>\n",
              "      <td>0.59</td>\n",
              "      <td>1.56</td>\n",
              "      <td>835.0</td>\n",
              "    </tr>\n",
              "    <tr>\n",
              "      <th>176</th>\n",
              "      <td>13.17</td>\n",
              "      <td>2.59</td>\n",
              "      <td>2.37</td>\n",
              "      <td>20.0</td>\n",
              "      <td>120.0</td>\n",
              "      <td>1.65</td>\n",
              "      <td>0.68</td>\n",
              "      <td>0.53</td>\n",
              "      <td>1.46</td>\n",
              "      <td>9.3</td>\n",
              "      <td>0.60</td>\n",
              "      <td>1.62</td>\n",
              "      <td>840.0</td>\n",
              "    </tr>\n",
              "    <tr>\n",
              "      <th>177</th>\n",
              "      <td>14.13</td>\n",
              "      <td>4.10</td>\n",
              "      <td>2.74</td>\n",
              "      <td>24.5</td>\n",
              "      <td>96.0</td>\n",
              "      <td>2.05</td>\n",
              "      <td>0.76</td>\n",
              "      <td>0.56</td>\n",
              "      <td>1.35</td>\n",
              "      <td>9.2</td>\n",
              "      <td>0.61</td>\n",
              "      <td>1.60</td>\n",
              "      <td>560.0</td>\n",
              "    </tr>\n",
              "  </tbody>\n",
              "</table>\n",
              "</div>"
            ],
            "text/plain": [
              "     alcohol  malic_acid   ash  ...   hue  od280/od315_of_diluted_wines  proline\n",
              "173    13.71        5.65  2.45  ...  0.64                          1.74    740.0\n",
              "174    13.40        3.91  2.48  ...  0.70                          1.56    750.0\n",
              "175    13.27        4.28  2.26  ...  0.59                          1.56    835.0\n",
              "176    13.17        2.59  2.37  ...  0.60                          1.62    840.0\n",
              "177    14.13        4.10  2.74  ...  0.61                          1.60    560.0\n",
              "\n",
              "[5 rows x 13 columns]"
            ]
          },
          "metadata": {
            "tags": []
          },
          "execution_count": 6
        }
      ]
    },
    {
      "cell_type": "code",
      "metadata": {
        "colab": {
          "base_uri": "https://localhost:8080/"
        },
        "id": "Zo0aX5OvtI9_",
        "outputId": "43c70561-db8c-4268-ef92-903d834ff425"
      },
      "source": [
        "################# print class name\n",
        "print(wine.target_names)"
      ],
      "execution_count": 7,
      "outputs": [
        {
          "output_type": "stream",
          "text": [
            "['class_0' 'class_1' 'class_2']\n"
          ],
          "name": "stdout"
        }
      ]
    },
    {
      "cell_type": "code",
      "metadata": {
        "id": "5km82W1QtJBy"
      },
      "source": [
        "################# how to train and split\n",
        "from sklearn.model_selection import train_test_split"
      ],
      "execution_count": 8,
      "outputs": []
    },
    {
      "cell_type": "code",
      "metadata": {
        "id": "mJsoUpg3tJEx"
      },
      "source": [
        "################ split data 30% for testing & 70% for training\n",
        "x_train, x_test, y_train, y_test = train_test_split(x,y,test_size=0.3,random_state=1,stratify=y)"
      ],
      "execution_count": 9,
      "outputs": []
    },
    {
      "cell_type": "code",
      "metadata": {
        "id": "sJfUfsPGtJHv"
      },
      "source": [
        "############### import decision tree classifier\n",
        "from sklearn.tree import DecisionTreeClassifier"
      ],
      "execution_count": 10,
      "outputs": []
    },
    {
      "cell_type": "code",
      "metadata": {
        "id": "jcbkF8I7tJMd"
      },
      "source": [
        "##############import accuracy score\n",
        "from sklearn.metrics import accuracy_score"
      ],
      "execution_count": 11,
      "outputs": []
    },
    {
      "cell_type": "code",
      "metadata": {
        "id": "RM9yYr46tJQJ"
      },
      "source": [
        "###intialize Decision Tree (DT) & set criterion as 'gini' to meaure qulity of split\n",
        "dt=DecisionTreeClassifier(criterion='gini',random_state=1, max_depth=5)"
      ],
      "execution_count": 12,
      "outputs": []
    },
    {
      "cell_type": "code",
      "metadata": {
        "colab": {
          "base_uri": "https://localhost:8080/"
        },
        "id": "RYeUV485tJTv",
        "outputId": "864a5b6b-e1f0-4e2b-8642-2af91b328d63"
      },
      "source": [
        "############# Fit Dt to training for gini\n",
        "dt.fit(x_train , y_train)"
      ],
      "execution_count": 13,
      "outputs": [
        {
          "output_type": "execute_result",
          "data": {
            "text/plain": [
              "DecisionTreeClassifier(ccp_alpha=0.0, class_weight=None, criterion='gini',\n",
              "                       max_depth=5, max_features=None, max_leaf_nodes=None,\n",
              "                       min_impurity_decrease=0.0, min_impurity_split=None,\n",
              "                       min_samples_leaf=1, min_samples_split=2,\n",
              "                       min_weight_fraction_leaf=0.0, presort='deprecated',\n",
              "                       random_state=1, splitter='best')"
            ]
          },
          "metadata": {
            "tags": []
          },
          "execution_count": 13
        }
      ]
    },
    {
      "cell_type": "code",
      "metadata": {
        "id": "O3R5h7oXtJWu"
      },
      "source": [
        "##############predict test labels for gini\n",
        "y_pred = dt.predict(x_test)"
      ],
      "execution_count": 14,
      "outputs": []
    },
    {
      "cell_type": "code",
      "metadata": {
        "colab": {
          "base_uri": "https://localhost:8080/"
        },
        "id": "4ipKUhYHtJaI",
        "outputId": "85498934-33b7-4175-a40f-cf677b0359b9"
      },
      "source": [
        "print(y_pred)"
      ],
      "execution_count": 15,
      "outputs": [
        {
          "output_type": "stream",
          "text": [
            "[2 2 2 1 1 0 1 0 1 2 2 0 1 0 2 1 0 0 0 2 0 1 1 0 1 2 2 1 1 1 2 1 0 1 1 0 2\n",
            " 1 1 2 0 2 0 0 1 1 0 2 1 0 1 0 0 2]\n"
          ],
          "name": "stdout"
        }
      ]
    },
    {
      "cell_type": "code",
      "metadata": {
        "colab": {
          "base_uri": "https://localhost:8080/"
        },
        "id": "aHBJZ4gJtJdT",
        "outputId": "9b3559f5-12b6-4cd5-c578-a8c9928a1b17"
      },
      "source": [
        "################# Evaluate test-set-accuracy for gini\n",
        "accuracy_score=(y_test,y_pred)\n",
        "accuracy_score"
      ],
      "execution_count": 16,
      "outputs": [
        {
          "output_type": "execute_result",
          "data": {
            "text/plain": [
              "(array([2, 2, 2, 1, 1, 0, 1, 0, 1, 2, 2, 0, 1, 0, 2, 1, 0, 0, 0, 2, 0, 1,\n",
              "        1, 0, 1, 2, 2, 1, 1, 1, 2, 1, 0, 1, 1, 1, 2, 1, 1, 2, 0, 2, 0, 0,\n",
              "        0, 1, 0, 2, 1, 0, 1, 0, 0, 2]),\n",
              " array([2, 2, 2, 1, 1, 0, 1, 0, 1, 2, 2, 0, 1, 0, 2, 1, 0, 0, 0, 2, 0, 1,\n",
              "        1, 0, 1, 2, 2, 1, 1, 1, 2, 1, 0, 1, 1, 0, 2, 1, 1, 2, 0, 2, 0, 0,\n",
              "        1, 1, 0, 2, 1, 0, 1, 0, 0, 2]))"
            ]
          },
          "metadata": {
            "tags": []
          },
          "execution_count": 16
        }
      ]
    },
    {
      "cell_type": "code",
      "metadata": {
        "colab": {
          "base_uri": "https://localhost:8080/"
        },
        "id": "ChxU0eiutJgh",
        "outputId": "fc9a54e0-1c47-414d-c520-6c06294145e5"
      },
      "source": [
        "dt.score(x_test,y_test)"
      ],
      "execution_count": 17,
      "outputs": [
        {
          "output_type": "execute_result",
          "data": {
            "text/plain": [
              "0.9629629629629629"
            ]
          },
          "metadata": {
            "tags": []
          },
          "execution_count": 17
        }
      ]
    },
    {
      "cell_type": "code",
      "metadata": {
        "id": "d42pgQJFtJkc"
      },
      "source": [
        "###############intialize Decision Tree (DT) & set criterion as 'entropy' to measure the quality of split\n",
        "dt1=DecisionTreeClassifier(criterion='entropy',random_state=1)"
      ],
      "execution_count": 18,
      "outputs": []
    },
    {
      "cell_type": "code",
      "metadata": {
        "colab": {
          "base_uri": "https://localhost:8080/"
        },
        "id": "ewtKljbPtJok",
        "outputId": "eea58892-9ad9-4a3f-f63e-d52649042b93"
      },
      "source": [
        "############### Fit Dt to training  for entropy\n",
        "dt1.fit(x_train , y_train)"
      ],
      "execution_count": 19,
      "outputs": [
        {
          "output_type": "execute_result",
          "data": {
            "text/plain": [
              "DecisionTreeClassifier(ccp_alpha=0.0, class_weight=None, criterion='entropy',\n",
              "                       max_depth=None, max_features=None, max_leaf_nodes=None,\n",
              "                       min_impurity_decrease=0.0, min_impurity_split=None,\n",
              "                       min_samples_leaf=1, min_samples_split=2,\n",
              "                       min_weight_fraction_leaf=0.0, presort='deprecated',\n",
              "                       random_state=1, splitter='best')"
            ]
          },
          "metadata": {
            "tags": []
          },
          "execution_count": 19
        }
      ]
    },
    {
      "cell_type": "code",
      "metadata": {
        "id": "ghhkyi3PtJrc"
      },
      "source": [
        "##############predict test labels for entropy\n",
        "y_prediction = dt1.predict(x_test)"
      ],
      "execution_count": 20,
      "outputs": []
    },
    {
      "cell_type": "code",
      "metadata": {
        "colab": {
          "base_uri": "https://localhost:8080/"
        },
        "id": "RIOBexMLvggK",
        "outputId": "444a3432-e315-432a-a83c-acc70d37fe54"
      },
      "source": [
        "print(y_prediction)"
      ],
      "execution_count": 21,
      "outputs": [
        {
          "output_type": "stream",
          "text": [
            "[2 2 2 1 1 0 1 0 1 1 2 0 0 0 2 1 0 0 0 2 0 1 1 0 0 2 2 1 1 1 2 1 0 1 1 1 2\n",
            " 1 1 2 0 2 0 0 1 0 0 2 1 0 1 0 0 2]\n"
          ],
          "name": "stdout"
        }
      ]
    },
    {
      "cell_type": "code",
      "metadata": {
        "colab": {
          "base_uri": "https://localhost:8080/"
        },
        "id": "zjsuk8_ivgkC",
        "outputId": "b80ebf11-a03a-46aa-c731-41f5e25c4221"
      },
      "source": [
        "################# Evaluate test-set-accuracy for entropy\n",
        "accuracy_score=(y_test,y_prediction)\n",
        "accuracy_score"
      ],
      "execution_count": 22,
      "outputs": [
        {
          "output_type": "execute_result",
          "data": {
            "text/plain": [
              "(array([2, 2, 2, 1, 1, 0, 1, 0, 1, 2, 2, 0, 1, 0, 2, 1, 0, 0, 0, 2, 0, 1,\n",
              "        1, 0, 1, 2, 2, 1, 1, 1, 2, 1, 0, 1, 1, 1, 2, 1, 1, 2, 0, 2, 0, 0,\n",
              "        0, 1, 0, 2, 1, 0, 1, 0, 0, 2]),\n",
              " array([2, 2, 2, 1, 1, 0, 1, 0, 1, 1, 2, 0, 0, 0, 2, 1, 0, 0, 0, 2, 0, 1,\n",
              "        1, 0, 0, 2, 2, 1, 1, 1, 2, 1, 0, 1, 1, 1, 2, 1, 1, 2, 0, 2, 0, 0,\n",
              "        1, 0, 0, 2, 1, 0, 1, 0, 0, 2]))"
            ]
          },
          "metadata": {
            "tags": []
          },
          "execution_count": 22
        }
      ]
    },
    {
      "cell_type": "code",
      "metadata": {
        "colab": {
          "base_uri": "https://localhost:8080/"
        },
        "id": "SIxqi5pHvgoN",
        "outputId": "0814fe7e-d0e7-4b13-d5f3-fa6866c5588d"
      },
      "source": [
        "dt1.score(x_test,y_test)"
      ],
      "execution_count": 23,
      "outputs": [
        {
          "output_type": "execute_result",
          "data": {
            "text/plain": [
              "0.9074074074074074"
            ]
          },
          "metadata": {
            "tags": []
          },
          "execution_count": 23
        }
      ]
    },
    {
      "cell_type": "code",
      "metadata": {
        "id": "QUOyw_Jrvtdl"
      },
      "source": [
        "############### import confusion matrix\n",
        "from sklearn.metrics import confusion_matrix"
      ],
      "execution_count": 24,
      "outputs": []
    },
    {
      "cell_type": "code",
      "metadata": {
        "id": "91YbPSEfvtg4"
      },
      "source": [
        "############### import classification report\n",
        "from sklearn.metrics import classification_report"
      ],
      "execution_count": 25,
      "outputs": []
    },
    {
      "cell_type": "code",
      "metadata": {
        "colab": {
          "base_uri": "https://localhost:8080/"
        },
        "id": "IodSbDpIvtkF",
        "outputId": "7cd6d837-48d6-484d-d560-f7230ac3f9c4"
      },
      "source": [
        "############ confusion matrix for 'Gini'\n",
        "print(confusion_matrix(y_test,y_pred))"
      ],
      "execution_count": 26,
      "outputs": [
        {
          "output_type": "stream",
          "text": [
            "[[17  1  0]\n",
            " [ 1 20  0]\n",
            " [ 0  0 15]]\n"
          ],
          "name": "stdout"
        }
      ]
    },
    {
      "cell_type": "code",
      "metadata": {
        "colab": {
          "base_uri": "https://localhost:8080/"
        },
        "id": "LBkE1Ygzv3ai",
        "outputId": "68c7ce31-e3a3-4d53-daa3-85287f8b545d"
      },
      "source": [
        "############## classification report for 'Gini'\n",
        "target=wine.target_names\n",
        "print(classification_report(y_test,y_pred,target_names=target))"
      ],
      "execution_count": 27,
      "outputs": [
        {
          "output_type": "stream",
          "text": [
            "              precision    recall  f1-score   support\n",
            "\n",
            "     class_0       0.94      0.94      0.94        18\n",
            "     class_1       0.95      0.95      0.95        21\n",
            "     class_2       1.00      1.00      1.00        15\n",
            "\n",
            "    accuracy                           0.96        54\n",
            "   macro avg       0.97      0.97      0.97        54\n",
            "weighted avg       0.96      0.96      0.96        54\n",
            "\n"
          ],
          "name": "stdout"
        }
      ]
    },
    {
      "cell_type": "code",
      "metadata": {
        "colab": {
          "base_uri": "https://localhost:8080/"
        },
        "id": "ShLp3Vonv3gf",
        "outputId": "b02a28b3-2bbd-462a-b596-9a3450ff6049"
      },
      "source": [
        "############# confusion matrix for 'entropy'\n",
        "print(confusion_matrix(y_test,y_prediction))"
      ],
      "execution_count": 28,
      "outputs": [
        {
          "output_type": "stream",
          "text": [
            "[[17  1  0]\n",
            " [ 3 18  0]\n",
            " [ 0  1 14]]\n"
          ],
          "name": "stdout"
        }
      ]
    },
    {
      "cell_type": "code",
      "metadata": {
        "colab": {
          "base_uri": "https://localhost:8080/"
        },
        "id": "PKIc2lgmvtmt",
        "outputId": "b751512d-9ab4-4d12-b1e1-a76ebd358506"
      },
      "source": [
        "############# confusion matrix for 'entropy'\n",
        "print(confusion_matrix(y_test,y_prediction))"
      ],
      "execution_count": 29,
      "outputs": [
        {
          "output_type": "stream",
          "text": [
            "[[17  1  0]\n",
            " [ 3 18  0]\n",
            " [ 0  1 14]]\n"
          ],
          "name": "stdout"
        }
      ]
    },
    {
      "cell_type": "code",
      "metadata": {
        "id": "NmWar71mwDpa"
      },
      "source": [
        "##################### import tree for visualization\n",
        "from sklearn import tree"
      ],
      "execution_count": 30,
      "outputs": []
    },
    {
      "cell_type": "code",
      "metadata": {
        "id": "xee5_AAnwDss"
      },
      "source": [
        "#################### set criterion to Gini\n",
        "clf = tree.DecisionTreeClassifier(criterion='gini')\n",
        "clf = clf.fit(x, y)"
      ],
      "execution_count": 31,
      "outputs": []
    },
    {
      "cell_type": "code",
      "metadata": {
        "id": "f8x8dg1awDwE"
      },
      "source": [
        "################# import graphviz\n",
        "import graphviz\n",
        "from sklearn.tree import export_graphviz"
      ],
      "execution_count": 32,
      "outputs": []
    },
    {
      "cell_type": "code",
      "metadata": {
        "colab": {
          "base_uri": "https://localhost:8080/",
          "height": 936
        },
        "id": "b-u6QAR8vgrG",
        "outputId": "81836171-2033-4e08-a242-0d14f2a06842"
      },
      "source": [
        "###################### print decision tree visualization\n",
        "dot_data = tree.export_graphviz(clf, out_file=None) \n",
        "graph = graphviz.Source(dot_data) \n",
        "graph.render(\"wine\") \n",
        "dot_data = tree.export_graphviz(clf, out_file=None, \n",
        "                         feature_names=wine.feature_names,  \n",
        "                         class_names=wine.target_names,  \n",
        "                         filled=True, rounded=True,\n",
        "                         special_characters=True)  \n",
        "graph = graphviz.Source(dot_data)  \n",
        "graph"
      ],
      "execution_count": 33,
      "outputs": [
        {
          "output_type": "execute_result",
          "data": {
            "text/plain": [
              "<graphviz.files.Source at 0x7f0d54d5ba90>"
            ],
            "image/svg+xml": "<?xml version=\"1.0\" encoding=\"UTF-8\" standalone=\"no\"?>\n<!DOCTYPE svg PUBLIC \"-//W3C//DTD SVG 1.1//EN\"\n \"http://www.w3.org/Graphics/SVG/1.1/DTD/svg11.dtd\">\n<!-- Generated by graphviz version 2.40.1 (20161225.0304)\n -->\n<!-- Title: Tree Pages: 1 -->\n<svg width=\"1229pt\" height=\"671pt\"\n viewBox=\"0.00 0.00 1229.00 671.00\" xmlns=\"http://www.w3.org/2000/svg\" xmlns:xlink=\"http://www.w3.org/1999/xlink\">\n<g id=\"graph0\" class=\"graph\" transform=\"scale(1 1) rotate(0) translate(4 667)\">\n<title>Tree</title>\n<polygon fill=\"#ffffff\" stroke=\"transparent\" points=\"-4,4 -4,-667 1225,-667 1225,4 -4,4\"/>\n<!-- 0 -->\n<g id=\"node1\" class=\"node\">\n<title>0</title>\n<path fill=\"#ebfcf2\" stroke=\"#000000\" d=\"M700.5,-663C700.5,-663 584.5,-663 584.5,-663 578.5,-663 572.5,-657 572.5,-651 572.5,-651 572.5,-592 572.5,-592 572.5,-586 578.5,-580 584.5,-580 584.5,-580 700.5,-580 700.5,-580 706.5,-580 712.5,-586 712.5,-592 712.5,-592 712.5,-651 712.5,-651 712.5,-657 706.5,-663 700.5,-663\"/>\n<text text-anchor=\"start\" x=\"594.5\" y=\"-647.8\" font-family=\"Helvetica,sans-Serif\" font-size=\"14.00\" fill=\"#000000\">proline ≤ 755.0</text>\n<text text-anchor=\"start\" x=\"604.5\" y=\"-632.8\" font-family=\"Helvetica,sans-Serif\" font-size=\"14.00\" fill=\"#000000\">gini = 0.658</text>\n<text text-anchor=\"start\" x=\"594.5\" y=\"-617.8\" font-family=\"Helvetica,sans-Serif\" font-size=\"14.00\" fill=\"#000000\">samples = 178</text>\n<text text-anchor=\"start\" x=\"580.5\" y=\"-602.8\" font-family=\"Helvetica,sans-Serif\" font-size=\"14.00\" fill=\"#000000\">value = [59, 71, 48]</text>\n<text text-anchor=\"start\" x=\"592.5\" y=\"-587.8\" font-family=\"Helvetica,sans-Serif\" font-size=\"14.00\" fill=\"#000000\">class = class_1</text>\n</g>\n<!-- 1 -->\n<g id=\"node2\" class=\"node\">\n<title>1</title>\n<path fill=\"#b7f6d1\" stroke=\"#000000\" d=\"M633.5,-544C633.5,-544 385.5,-544 385.5,-544 379.5,-544 373.5,-538 373.5,-532 373.5,-532 373.5,-473 373.5,-473 373.5,-467 379.5,-461 385.5,-461 385.5,-461 633.5,-461 633.5,-461 639.5,-461 645.5,-467 645.5,-473 645.5,-473 645.5,-532 645.5,-532 645.5,-538 639.5,-544 633.5,-544\"/>\n<text text-anchor=\"start\" x=\"381.5\" y=\"-528.8\" font-family=\"Helvetica,sans-Serif\" font-size=\"14.00\" fill=\"#000000\">od280/od315_of_diluted_wines ≤ 2.115</text>\n<text text-anchor=\"start\" x=\"471.5\" y=\"-513.8\" font-family=\"Helvetica,sans-Serif\" font-size=\"14.00\" fill=\"#000000\">gini = 0.492</text>\n<text text-anchor=\"start\" x=\"461.5\" y=\"-498.8\" font-family=\"Helvetica,sans-Serif\" font-size=\"14.00\" fill=\"#000000\">samples = 111</text>\n<text text-anchor=\"start\" x=\"452\" y=\"-483.8\" font-family=\"Helvetica,sans-Serif\" font-size=\"14.00\" fill=\"#000000\">value = [2, 67, 42]</text>\n<text text-anchor=\"start\" x=\"459.5\" y=\"-468.8\" font-family=\"Helvetica,sans-Serif\" font-size=\"14.00\" fill=\"#000000\">class = class_1</text>\n</g>\n<!-- 0&#45;&gt;1 -->\n<g id=\"edge1\" class=\"edge\">\n<title>0&#45;&gt;1</title>\n<path fill=\"none\" stroke=\"#000000\" d=\"M595.9831,-579.8796C585.6152,-570.6031 574.5329,-560.6874 563.8801,-551.1559\"/>\n<polygon fill=\"#000000\" stroke=\"#000000\" points=\"566.0017,-548.3577 556.2155,-544.2981 561.3341,-553.5744 566.0017,-548.3577\"/>\n<text text-anchor=\"middle\" x=\"557.6022\" y=\"-565.5596\" font-family=\"Helvetica,sans-Serif\" font-size=\"14.00\" fill=\"#000000\">True</text>\n</g>\n<!-- 16 -->\n<g id=\"node17\" class=\"node\">\n<title>16</title>\n<path fill=\"#e99659\" stroke=\"#000000\" d=\"M858.5,-544C858.5,-544 748.5,-544 748.5,-544 742.5,-544 736.5,-538 736.5,-532 736.5,-532 736.5,-473 736.5,-473 736.5,-467 742.5,-461 748.5,-461 748.5,-461 858.5,-461 858.5,-461 864.5,-461 870.5,-467 870.5,-473 870.5,-473 870.5,-532 870.5,-532 870.5,-538 864.5,-544 858.5,-544\"/>\n<text text-anchor=\"start\" x=\"744.5\" y=\"-528.8\" font-family=\"Helvetica,sans-Serif\" font-size=\"14.00\" fill=\"#000000\">flavanoids ≤ 2.165</text>\n<text text-anchor=\"start\" x=\"765.5\" y=\"-513.8\" font-family=\"Helvetica,sans-Serif\" font-size=\"14.00\" fill=\"#000000\">gini = 0.265</text>\n<text text-anchor=\"start\" x=\"759.5\" y=\"-498.8\" font-family=\"Helvetica,sans-Serif\" font-size=\"14.00\" fill=\"#000000\">samples = 67</text>\n<text text-anchor=\"start\" x=\"750\" y=\"-483.8\" font-family=\"Helvetica,sans-Serif\" font-size=\"14.00\" fill=\"#000000\">value = [57, 4, 6]</text>\n<text text-anchor=\"start\" x=\"753.5\" y=\"-468.8\" font-family=\"Helvetica,sans-Serif\" font-size=\"14.00\" fill=\"#000000\">class = class_0</text>\n</g>\n<!-- 0&#45;&gt;16 -->\n<g id=\"edge16\" class=\"edge\">\n<title>0&#45;&gt;16</title>\n<path fill=\"none\" stroke=\"#000000\" d=\"M698.81,-579.8796C711.8012,-570.2774 725.719,-559.9903 739.0277,-550.1534\"/>\n<polygon fill=\"#000000\" stroke=\"#000000\" points=\"741.2604,-552.8555 747.2218,-544.0969 737.0996,-547.2263 741.2604,-552.8555\"/>\n<text text-anchor=\"middle\" x=\"743.5133\" y=\"-565.1203\" font-family=\"Helvetica,sans-Serif\" font-size=\"14.00\" fill=\"#000000\">False</text>\n</g>\n<!-- 2 -->\n<g id=\"node3\" class=\"node\">\n<title>2</title>\n<path fill=\"#9457e9\" stroke=\"#000000\" d=\"M389,-425C389,-425 290,-425 290,-425 284,-425 278,-419 278,-413 278,-413 278,-354 278,-354 278,-348 284,-342 290,-342 290,-342 389,-342 389,-342 395,-342 401,-348 401,-354 401,-354 401,-413 401,-413 401,-419 395,-425 389,-425\"/>\n<text text-anchor=\"start\" x=\"301\" y=\"-409.8\" font-family=\"Helvetica,sans-Serif\" font-size=\"14.00\" fill=\"#000000\">hue ≤ 0.935</text>\n<text text-anchor=\"start\" x=\"301.5\" y=\"-394.8\" font-family=\"Helvetica,sans-Serif\" font-size=\"14.00\" fill=\"#000000\">gini = 0.227</text>\n<text text-anchor=\"start\" x=\"295.5\" y=\"-379.8\" font-family=\"Helvetica,sans-Serif\" font-size=\"14.00\" fill=\"#000000\">samples = 46</text>\n<text text-anchor=\"start\" x=\"286\" y=\"-364.8\" font-family=\"Helvetica,sans-Serif\" font-size=\"14.00\" fill=\"#000000\">value = [0, 6, 40]</text>\n<text text-anchor=\"start\" x=\"289.5\" y=\"-349.8\" font-family=\"Helvetica,sans-Serif\" font-size=\"14.00\" fill=\"#000000\">class = class_2</text>\n</g>\n<!-- 1&#45;&gt;2 -->\n<g id=\"edge2\" class=\"edge\">\n<title>1&#45;&gt;2</title>\n<path fill=\"none\" stroke=\"#000000\" d=\"M450.0422,-460.8796C436.1954,-451.1868 421.3516,-440.7961 407.1788,-430.8752\"/>\n<polygon fill=\"#000000\" stroke=\"#000000\" points=\"409.1236,-427.9643 398.9242,-425.0969 405.1094,-433.6989 409.1236,-427.9643\"/>\n</g>\n<!-- 9 -->\n<g id=\"node10\" class=\"node\">\n<title>9</title>\n<path fill=\"#46e789\" stroke=\"#000000\" d=\"M564.5,-425C564.5,-425 454.5,-425 454.5,-425 448.5,-425 442.5,-419 442.5,-413 442.5,-413 442.5,-354 442.5,-354 442.5,-348 448.5,-342 454.5,-342 454.5,-342 564.5,-342 564.5,-342 570.5,-342 576.5,-348 576.5,-354 576.5,-354 576.5,-413 576.5,-413 576.5,-419 570.5,-425 564.5,-425\"/>\n<text text-anchor=\"start\" x=\"450.5\" y=\"-409.8\" font-family=\"Helvetica,sans-Serif\" font-size=\"14.00\" fill=\"#000000\">flavanoids ≤ 0.795</text>\n<text text-anchor=\"start\" x=\"471.5\" y=\"-394.8\" font-family=\"Helvetica,sans-Serif\" font-size=\"14.00\" fill=\"#000000\">gini = 0.117</text>\n<text text-anchor=\"start\" x=\"465.5\" y=\"-379.8\" font-family=\"Helvetica,sans-Serif\" font-size=\"14.00\" fill=\"#000000\">samples = 65</text>\n<text text-anchor=\"start\" x=\"456\" y=\"-364.8\" font-family=\"Helvetica,sans-Serif\" font-size=\"14.00\" fill=\"#000000\">value = [2, 61, 2]</text>\n<text text-anchor=\"start\" x=\"459.5\" y=\"-349.8\" font-family=\"Helvetica,sans-Serif\" font-size=\"14.00\" fill=\"#000000\">class = class_1</text>\n</g>\n<!-- 1&#45;&gt;9 -->\n<g id=\"edge9\" class=\"edge\">\n<title>1&#45;&gt;9</title>\n<path fill=\"none\" stroke=\"#000000\" d=\"M509.5,-460.8796C509.5,-452.6838 509.5,-443.9891 509.5,-435.5013\"/>\n<polygon fill=\"#000000\" stroke=\"#000000\" points=\"513.0001,-435.298 509.5,-425.2981 506.0001,-435.2981 513.0001,-435.298\"/>\n</g>\n<!-- 3 -->\n<g id=\"node4\" class=\"node\">\n<title>3</title>\n<path fill=\"#843ee6\" stroke=\"#000000\" d=\"M247.5,-306C247.5,-306 145.5,-306 145.5,-306 139.5,-306 133.5,-300 133.5,-294 133.5,-294 133.5,-235 133.5,-235 133.5,-229 139.5,-223 145.5,-223 145.5,-223 247.5,-223 247.5,-223 253.5,-223 259.5,-229 259.5,-235 259.5,-235 259.5,-294 259.5,-294 259.5,-300 253.5,-306 247.5,-306\"/>\n<text text-anchor=\"start\" x=\"141.5\" y=\"-290.8\" font-family=\"Helvetica,sans-Serif\" font-size=\"14.00\" fill=\"#000000\">flavanoids ≤ 1.58</text>\n<text text-anchor=\"start\" x=\"158.5\" y=\"-275.8\" font-family=\"Helvetica,sans-Serif\" font-size=\"14.00\" fill=\"#000000\">gini = 0.049</text>\n<text text-anchor=\"start\" x=\"152.5\" y=\"-260.8\" font-family=\"Helvetica,sans-Serif\" font-size=\"14.00\" fill=\"#000000\">samples = 40</text>\n<text text-anchor=\"start\" x=\"143\" y=\"-245.8\" font-family=\"Helvetica,sans-Serif\" font-size=\"14.00\" fill=\"#000000\">value = [0, 1, 39]</text>\n<text text-anchor=\"start\" x=\"146.5\" y=\"-230.8\" font-family=\"Helvetica,sans-Serif\" font-size=\"14.00\" fill=\"#000000\">class = class_2</text>\n</g>\n<!-- 2&#45;&gt;3 -->\n<g id=\"edge3\" class=\"edge\">\n<title>2&#45;&gt;3</title>\n<path fill=\"none\" stroke=\"#000000\" d=\"M289.4855,-341.8796C278.2299,-332.513 266.1912,-322.4948 254.6354,-312.8784\"/>\n<polygon fill=\"#000000\" stroke=\"#000000\" points=\"256.6534,-310.0043 246.7279,-306.2981 252.1758,-315.385 256.6534,-310.0043\"/>\n</g>\n<!-- 6 -->\n<g id=\"node7\" class=\"node\">\n<title>6</title>\n<path fill=\"#61ea9a\" stroke=\"#000000\" d=\"M389,-306C389,-306 290,-306 290,-306 284,-306 278,-300 278,-294 278,-294 278,-235 278,-235 278,-229 284,-223 290,-223 290,-223 389,-223 389,-223 395,-223 401,-229 401,-235 401,-235 401,-294 401,-294 401,-300 395,-306 389,-306\"/>\n<text text-anchor=\"start\" x=\"286\" y=\"-290.8\" font-family=\"Helvetica,sans-Serif\" font-size=\"14.00\" fill=\"#000000\">alcohol ≤ 13.515</text>\n<text text-anchor=\"start\" x=\"301.5\" y=\"-275.8\" font-family=\"Helvetica,sans-Serif\" font-size=\"14.00\" fill=\"#000000\">gini = 0.278</text>\n<text text-anchor=\"start\" x=\"300\" y=\"-260.8\" font-family=\"Helvetica,sans-Serif\" font-size=\"14.00\" fill=\"#000000\">samples = 6</text>\n<text text-anchor=\"start\" x=\"290\" y=\"-245.8\" font-family=\"Helvetica,sans-Serif\" font-size=\"14.00\" fill=\"#000000\">value = [0, 5, 1]</text>\n<text text-anchor=\"start\" x=\"289.5\" y=\"-230.8\" font-family=\"Helvetica,sans-Serif\" font-size=\"14.00\" fill=\"#000000\">class = class_1</text>\n</g>\n<!-- 2&#45;&gt;6 -->\n<g id=\"edge6\" class=\"edge\">\n<title>2&#45;&gt;6</title>\n<path fill=\"none\" stroke=\"#000000\" d=\"M339.5,-341.8796C339.5,-333.6838 339.5,-324.9891 339.5,-316.5013\"/>\n<polygon fill=\"#000000\" stroke=\"#000000\" points=\"343.0001,-316.298 339.5,-306.2981 336.0001,-316.2981 343.0001,-316.298\"/>\n</g>\n<!-- 4 -->\n<g id=\"node5\" class=\"node\">\n<title>4</title>\n<path fill=\"#8139e5\" stroke=\"#000000\" d=\"M111,-179.5C111,-179.5 12,-179.5 12,-179.5 6,-179.5 0,-173.5 0,-167.5 0,-167.5 0,-123.5 0,-123.5 0,-117.5 6,-111.5 12,-111.5 12,-111.5 111,-111.5 111,-111.5 117,-111.5 123,-117.5 123,-123.5 123,-123.5 123,-167.5 123,-167.5 123,-173.5 117,-179.5 111,-179.5\"/>\n<text text-anchor=\"start\" x=\"32\" y=\"-164.3\" font-family=\"Helvetica,sans-Serif\" font-size=\"14.00\" fill=\"#000000\">gini = 0.0</text>\n<text text-anchor=\"start\" x=\"17.5\" y=\"-149.3\" font-family=\"Helvetica,sans-Serif\" font-size=\"14.00\" fill=\"#000000\">samples = 39</text>\n<text text-anchor=\"start\" x=\"8\" y=\"-134.3\" font-family=\"Helvetica,sans-Serif\" font-size=\"14.00\" fill=\"#000000\">value = [0, 0, 39]</text>\n<text text-anchor=\"start\" x=\"11.5\" y=\"-119.3\" font-family=\"Helvetica,sans-Serif\" font-size=\"14.00\" fill=\"#000000\">class = class_2</text>\n</g>\n<!-- 3&#45;&gt;4 -->\n<g id=\"edge4\" class=\"edge\">\n<title>3&#45;&gt;4</title>\n<path fill=\"none\" stroke=\"#000000\" d=\"M149.2836,-222.8796C135.9358,-211.1138 121.4215,-198.3197 108.1096,-186.5855\"/>\n<polygon fill=\"#000000\" stroke=\"#000000\" points=\"110.2448,-183.8019 100.4287,-179.8149 105.616,-189.0531 110.2448,-183.8019\"/>\n</g>\n<!-- 5 -->\n<g id=\"node6\" class=\"node\">\n<title>5</title>\n<path fill=\"#39e581\" stroke=\"#000000\" d=\"M245.5,-179.5C245.5,-179.5 153.5,-179.5 153.5,-179.5 147.5,-179.5 141.5,-173.5 141.5,-167.5 141.5,-167.5 141.5,-123.5 141.5,-123.5 141.5,-117.5 147.5,-111.5 153.5,-111.5 153.5,-111.5 245.5,-111.5 245.5,-111.5 251.5,-111.5 257.5,-117.5 257.5,-123.5 257.5,-123.5 257.5,-167.5 257.5,-167.5 257.5,-173.5 251.5,-179.5 245.5,-179.5\"/>\n<text text-anchor=\"start\" x=\"170\" y=\"-164.3\" font-family=\"Helvetica,sans-Serif\" font-size=\"14.00\" fill=\"#000000\">gini = 0.0</text>\n<text text-anchor=\"start\" x=\"160\" y=\"-149.3\" font-family=\"Helvetica,sans-Serif\" font-size=\"14.00\" fill=\"#000000\">samples = 1</text>\n<text text-anchor=\"start\" x=\"150\" y=\"-134.3\" font-family=\"Helvetica,sans-Serif\" font-size=\"14.00\" fill=\"#000000\">value = [0, 1, 0]</text>\n<text text-anchor=\"start\" x=\"149.5\" y=\"-119.3\" font-family=\"Helvetica,sans-Serif\" font-size=\"14.00\" fill=\"#000000\">class = class_1</text>\n</g>\n<!-- 3&#45;&gt;5 -->\n<g id=\"edge5\" class=\"edge\">\n<title>3&#45;&gt;5</title>\n<path fill=\"none\" stroke=\"#000000\" d=\"M197.5493,-222.8796C197.8182,-212.2134 198.1084,-200.7021 198.3806,-189.9015\"/>\n<polygon fill=\"#000000\" stroke=\"#000000\" points=\"201.8817,-189.9 198.6349,-179.8149 194.8839,-189.7235 201.8817,-189.9\"/>\n</g>\n<!-- 7 -->\n<g id=\"node8\" class=\"node\">\n<title>7</title>\n<path fill=\"#39e581\" stroke=\"#000000\" d=\"M383.5,-179.5C383.5,-179.5 291.5,-179.5 291.5,-179.5 285.5,-179.5 279.5,-173.5 279.5,-167.5 279.5,-167.5 279.5,-123.5 279.5,-123.5 279.5,-117.5 285.5,-111.5 291.5,-111.5 291.5,-111.5 383.5,-111.5 383.5,-111.5 389.5,-111.5 395.5,-117.5 395.5,-123.5 395.5,-123.5 395.5,-167.5 395.5,-167.5 395.5,-173.5 389.5,-179.5 383.5,-179.5\"/>\n<text text-anchor=\"start\" x=\"308\" y=\"-164.3\" font-family=\"Helvetica,sans-Serif\" font-size=\"14.00\" fill=\"#000000\">gini = 0.0</text>\n<text text-anchor=\"start\" x=\"298\" y=\"-149.3\" font-family=\"Helvetica,sans-Serif\" font-size=\"14.00\" fill=\"#000000\">samples = 5</text>\n<text text-anchor=\"start\" x=\"288\" y=\"-134.3\" font-family=\"Helvetica,sans-Serif\" font-size=\"14.00\" fill=\"#000000\">value = [0, 5, 0]</text>\n<text text-anchor=\"start\" x=\"287.5\" y=\"-119.3\" font-family=\"Helvetica,sans-Serif\" font-size=\"14.00\" fill=\"#000000\">class = class_1</text>\n</g>\n<!-- 6&#45;&gt;7 -->\n<g id=\"edge7\" class=\"edge\">\n<title>6&#45;&gt;7</title>\n<path fill=\"none\" stroke=\"#000000\" d=\"M338.8005,-222.8796C338.6212,-212.2134 338.4278,-200.7021 338.2462,-189.9015\"/>\n<polygon fill=\"#000000\" stroke=\"#000000\" points=\"341.7444,-189.7547 338.0767,-179.8149 334.7454,-189.8724 341.7444,-189.7547\"/>\n</g>\n<!-- 8 -->\n<g id=\"node9\" class=\"node\">\n<title>8</title>\n<path fill=\"#8139e5\" stroke=\"#000000\" d=\"M517.5,-179.5C517.5,-179.5 425.5,-179.5 425.5,-179.5 419.5,-179.5 413.5,-173.5 413.5,-167.5 413.5,-167.5 413.5,-123.5 413.5,-123.5 413.5,-117.5 419.5,-111.5 425.5,-111.5 425.5,-111.5 517.5,-111.5 517.5,-111.5 523.5,-111.5 529.5,-117.5 529.5,-123.5 529.5,-123.5 529.5,-167.5 529.5,-167.5 529.5,-173.5 523.5,-179.5 517.5,-179.5\"/>\n<text text-anchor=\"start\" x=\"442\" y=\"-164.3\" font-family=\"Helvetica,sans-Serif\" font-size=\"14.00\" fill=\"#000000\">gini = 0.0</text>\n<text text-anchor=\"start\" x=\"432\" y=\"-149.3\" font-family=\"Helvetica,sans-Serif\" font-size=\"14.00\" fill=\"#000000\">samples = 1</text>\n<text text-anchor=\"start\" x=\"422\" y=\"-134.3\" font-family=\"Helvetica,sans-Serif\" font-size=\"14.00\" fill=\"#000000\">value = [0, 0, 1]</text>\n<text text-anchor=\"start\" x=\"421.5\" y=\"-119.3\" font-family=\"Helvetica,sans-Serif\" font-size=\"14.00\" fill=\"#000000\">class = class_2</text>\n</g>\n<!-- 6&#45;&gt;8 -->\n<g id=\"edge8\" class=\"edge\">\n<title>6&#45;&gt;8</title>\n<path fill=\"none\" stroke=\"#000000\" d=\"M385.6672,-222.8796C398.7183,-211.1138 412.9101,-198.3197 425.9261,-186.5855\"/>\n<polygon fill=\"#000000\" stroke=\"#000000\" points=\"428.3526,-189.1104 433.4364,-179.8149 423.6654,-183.9113 428.3526,-189.1104\"/>\n</g>\n<!-- 10 -->\n<g id=\"node11\" class=\"node\">\n<title>10</title>\n<path fill=\"#8139e5\" stroke=\"#000000\" d=\"M523.5,-298.5C523.5,-298.5 431.5,-298.5 431.5,-298.5 425.5,-298.5 419.5,-292.5 419.5,-286.5 419.5,-286.5 419.5,-242.5 419.5,-242.5 419.5,-236.5 425.5,-230.5 431.5,-230.5 431.5,-230.5 523.5,-230.5 523.5,-230.5 529.5,-230.5 535.5,-236.5 535.5,-242.5 535.5,-242.5 535.5,-286.5 535.5,-286.5 535.5,-292.5 529.5,-298.5 523.5,-298.5\"/>\n<text text-anchor=\"start\" x=\"448\" y=\"-283.3\" font-family=\"Helvetica,sans-Serif\" font-size=\"14.00\" fill=\"#000000\">gini = 0.0</text>\n<text text-anchor=\"start\" x=\"438\" y=\"-268.3\" font-family=\"Helvetica,sans-Serif\" font-size=\"14.00\" fill=\"#000000\">samples = 2</text>\n<text text-anchor=\"start\" x=\"428\" y=\"-253.3\" font-family=\"Helvetica,sans-Serif\" font-size=\"14.00\" fill=\"#000000\">value = [0, 0, 2]</text>\n<text text-anchor=\"start\" x=\"427.5\" y=\"-238.3\" font-family=\"Helvetica,sans-Serif\" font-size=\"14.00\" fill=\"#000000\">class = class_2</text>\n</g>\n<!-- 9&#45;&gt;10 -->\n<g id=\"edge10\" class=\"edge\">\n<title>9&#45;&gt;10</title>\n<path fill=\"none\" stroke=\"#000000\" d=\"M498.308,-341.8796C495.4102,-331.1034 492.2804,-319.4647 489.3501,-308.5677\"/>\n<polygon fill=\"#000000\" stroke=\"#000000\" points=\"492.7044,-307.563 486.7275,-298.8149 485.9445,-309.3808 492.7044,-307.563\"/>\n</g>\n<!-- 11 -->\n<g id=\"node12\" class=\"node\">\n<title>11</title>\n<path fill=\"#3fe685\" stroke=\"#000000\" d=\"M665,-306C665,-306 566,-306 566,-306 560,-306 554,-300 554,-294 554,-294 554,-235 554,-235 554,-229 560,-223 566,-223 566,-223 665,-223 665,-223 671,-223 677,-229 677,-235 677,-235 677,-294 677,-294 677,-300 671,-306 665,-306\"/>\n<text text-anchor=\"start\" x=\"562\" y=\"-290.8\" font-family=\"Helvetica,sans-Serif\" font-size=\"14.00\" fill=\"#000000\">alcohol ≤ 13.175</text>\n<text text-anchor=\"start\" x=\"577.5\" y=\"-275.8\" font-family=\"Helvetica,sans-Serif\" font-size=\"14.00\" fill=\"#000000\">gini = 0.061</text>\n<text text-anchor=\"start\" x=\"571.5\" y=\"-260.8\" font-family=\"Helvetica,sans-Serif\" font-size=\"14.00\" fill=\"#000000\">samples = 63</text>\n<text text-anchor=\"start\" x=\"562\" y=\"-245.8\" font-family=\"Helvetica,sans-Serif\" font-size=\"14.00\" fill=\"#000000\">value = [2, 61, 0]</text>\n<text text-anchor=\"start\" x=\"565.5\" y=\"-230.8\" font-family=\"Helvetica,sans-Serif\" font-size=\"14.00\" fill=\"#000000\">class = class_1</text>\n</g>\n<!-- 9&#45;&gt;11 -->\n<g id=\"edge11\" class=\"edge\">\n<title>9&#45;&gt;11</title>\n<path fill=\"none\" stroke=\"#000000\" d=\"M546.5737,-341.8796C554.5961,-332.8733 563.1552,-323.2644 571.4167,-313.9897\"/>\n<polygon fill=\"#000000\" stroke=\"#000000\" points=\"574.2302,-316.0933 578.2681,-306.2981 569.0031,-311.4373 574.2302,-316.0933\"/>\n</g>\n<!-- 12 -->\n<g id=\"node13\" class=\"node\">\n<title>12</title>\n<path fill=\"#39e581\" stroke=\"#000000\" d=\"M662,-179.5C662,-179.5 563,-179.5 563,-179.5 557,-179.5 551,-173.5 551,-167.5 551,-167.5 551,-123.5 551,-123.5 551,-117.5 557,-111.5 563,-111.5 563,-111.5 662,-111.5 662,-111.5 668,-111.5 674,-117.5 674,-123.5 674,-123.5 674,-167.5 674,-167.5 674,-173.5 668,-179.5 662,-179.5\"/>\n<text text-anchor=\"start\" x=\"583\" y=\"-164.3\" font-family=\"Helvetica,sans-Serif\" font-size=\"14.00\" fill=\"#000000\">gini = 0.0</text>\n<text text-anchor=\"start\" x=\"568.5\" y=\"-149.3\" font-family=\"Helvetica,sans-Serif\" font-size=\"14.00\" fill=\"#000000\">samples = 58</text>\n<text text-anchor=\"start\" x=\"559\" y=\"-134.3\" font-family=\"Helvetica,sans-Serif\" font-size=\"14.00\" fill=\"#000000\">value = [0, 58, 0]</text>\n<text text-anchor=\"start\" x=\"562.5\" y=\"-119.3\" font-family=\"Helvetica,sans-Serif\" font-size=\"14.00\" fill=\"#000000\">class = class_1</text>\n</g>\n<!-- 11&#45;&gt;12 -->\n<g id=\"edge12\" class=\"edge\">\n<title>11&#45;&gt;12</title>\n<path fill=\"none\" stroke=\"#000000\" d=\"M614.4507,-222.8796C614.1818,-212.2134 613.8916,-200.7021 613.6194,-189.9015\"/>\n<polygon fill=\"#000000\" stroke=\"#000000\" points=\"617.1161,-189.7235 613.3651,-179.8149 610.1183,-189.9 617.1161,-189.7235\"/>\n</g>\n<!-- 13 -->\n<g id=\"node14\" class=\"node\">\n<title>13</title>\n<path fill=\"#bdf6d5\" stroke=\"#000000\" d=\"M796.5,-187C796.5,-187 704.5,-187 704.5,-187 698.5,-187 692.5,-181 692.5,-175 692.5,-175 692.5,-116 692.5,-116 692.5,-110 698.5,-104 704.5,-104 704.5,-104 796.5,-104 796.5,-104 802.5,-104 808.5,-110 808.5,-116 808.5,-116 808.5,-175 808.5,-175 808.5,-181 802.5,-187 796.5,-187\"/>\n<text text-anchor=\"start\" x=\"702.5\" y=\"-171.8\" font-family=\"Helvetica,sans-Serif\" font-size=\"14.00\" fill=\"#000000\">proline ≤ 655.0</text>\n<text text-anchor=\"start\" x=\"717\" y=\"-156.8\" font-family=\"Helvetica,sans-Serif\" font-size=\"14.00\" fill=\"#000000\">gini = 0.48</text>\n<text text-anchor=\"start\" x=\"711\" y=\"-141.8\" font-family=\"Helvetica,sans-Serif\" font-size=\"14.00\" fill=\"#000000\">samples = 5</text>\n<text text-anchor=\"start\" x=\"701\" y=\"-126.8\" font-family=\"Helvetica,sans-Serif\" font-size=\"14.00\" fill=\"#000000\">value = [2, 3, 0]</text>\n<text text-anchor=\"start\" x=\"700.5\" y=\"-111.8\" font-family=\"Helvetica,sans-Serif\" font-size=\"14.00\" fill=\"#000000\">class = class_1</text>\n</g>\n<!-- 11&#45;&gt;13 -->\n<g id=\"edge13\" class=\"edge\">\n<title>11&#45;&gt;13</title>\n<path fill=\"none\" stroke=\"#000000\" d=\"M662.7164,-222.8796C673.2402,-213.6031 684.4891,-203.6874 695.3021,-194.1559\"/>\n<polygon fill=\"#000000\" stroke=\"#000000\" points=\"697.8948,-196.5362 703.082,-187.2981 693.266,-191.2851 697.8948,-196.5362\"/>\n</g>\n<!-- 14 -->\n<g id=\"node15\" class=\"node\">\n<title>14</title>\n<path fill=\"#39e581\" stroke=\"#000000\" d=\"M729.5,-68C729.5,-68 637.5,-68 637.5,-68 631.5,-68 625.5,-62 625.5,-56 625.5,-56 625.5,-12 625.5,-12 625.5,-6 631.5,0 637.5,0 637.5,0 729.5,0 729.5,0 735.5,0 741.5,-6 741.5,-12 741.5,-12 741.5,-56 741.5,-56 741.5,-62 735.5,-68 729.5,-68\"/>\n<text text-anchor=\"start\" x=\"654\" y=\"-52.8\" font-family=\"Helvetica,sans-Serif\" font-size=\"14.00\" fill=\"#000000\">gini = 0.0</text>\n<text text-anchor=\"start\" x=\"644\" y=\"-37.8\" font-family=\"Helvetica,sans-Serif\" font-size=\"14.00\" fill=\"#000000\">samples = 3</text>\n<text text-anchor=\"start\" x=\"634\" y=\"-22.8\" font-family=\"Helvetica,sans-Serif\" font-size=\"14.00\" fill=\"#000000\">value = [0, 3, 0]</text>\n<text text-anchor=\"start\" x=\"633.5\" y=\"-7.8\" font-family=\"Helvetica,sans-Serif\" font-size=\"14.00\" fill=\"#000000\">class = class_1</text>\n</g>\n<!-- 13&#45;&gt;14 -->\n<g id=\"edge14\" class=\"edge\">\n<title>13&#45;&gt;14</title>\n<path fill=\"none\" stroke=\"#000000\" d=\"M725.5517,-103.9815C720.2499,-95.1585 714.6419,-85.8258 709.3089,-76.9506\"/>\n<polygon fill=\"#000000\" stroke=\"#000000\" points=\"712.2396,-75.0325 704.0889,-68.2637 706.2395,-78.638 712.2396,-75.0325\"/>\n</g>\n<!-- 15 -->\n<g id=\"node16\" class=\"node\">\n<title>15</title>\n<path fill=\"#e58139\" stroke=\"#000000\" d=\"M863.5,-68C863.5,-68 771.5,-68 771.5,-68 765.5,-68 759.5,-62 759.5,-56 759.5,-56 759.5,-12 759.5,-12 759.5,-6 765.5,0 771.5,0 771.5,0 863.5,0 863.5,0 869.5,0 875.5,-6 875.5,-12 875.5,-12 875.5,-56 875.5,-56 875.5,-62 869.5,-68 863.5,-68\"/>\n<text text-anchor=\"start\" x=\"788\" y=\"-52.8\" font-family=\"Helvetica,sans-Serif\" font-size=\"14.00\" fill=\"#000000\">gini = 0.0</text>\n<text text-anchor=\"start\" x=\"778\" y=\"-37.8\" font-family=\"Helvetica,sans-Serif\" font-size=\"14.00\" fill=\"#000000\">samples = 2</text>\n<text text-anchor=\"start\" x=\"768\" y=\"-22.8\" font-family=\"Helvetica,sans-Serif\" font-size=\"14.00\" fill=\"#000000\">value = [2, 0, 0]</text>\n<text text-anchor=\"start\" x=\"767.5\" y=\"-7.8\" font-family=\"Helvetica,sans-Serif\" font-size=\"14.00\" fill=\"#000000\">class = class_0</text>\n</g>\n<!-- 13&#45;&gt;15 -->\n<g id=\"edge15\" class=\"edge\">\n<title>13&#45;&gt;15</title>\n<path fill=\"none\" stroke=\"#000000\" d=\"M775.4483,-103.9815C780.7501,-95.1585 786.3581,-85.8258 791.6911,-76.9506\"/>\n<polygon fill=\"#000000\" stroke=\"#000000\" points=\"794.7605,-78.638 796.9111,-68.2637 788.7604,-75.0325 794.7605,-78.638\"/>\n</g>\n<!-- 17 -->\n<g id=\"node18\" class=\"node\">\n<title>17</title>\n<path fill=\"#ab7bee\" stroke=\"#000000\" d=\"M860,-425C860,-425 747,-425 747,-425 741,-425 735,-419 735,-413 735,-413 735,-354 735,-354 735,-348 741,-342 747,-342 747,-342 860,-342 860,-342 866,-342 872,-348 872,-354 872,-354 872,-413 872,-413 872,-419 866,-425 860,-425\"/>\n<text text-anchor=\"start\" x=\"743\" y=\"-409.8\" font-family=\"Helvetica,sans-Serif\" font-size=\"14.00\" fill=\"#000000\">malic_acid ≤ 2.085</text>\n<text text-anchor=\"start\" x=\"765.5\" y=\"-394.8\" font-family=\"Helvetica,sans-Serif\" font-size=\"14.00\" fill=\"#000000\">gini = 0.375</text>\n<text text-anchor=\"start\" x=\"764\" y=\"-379.8\" font-family=\"Helvetica,sans-Serif\" font-size=\"14.00\" fill=\"#000000\">samples = 8</text>\n<text text-anchor=\"start\" x=\"754\" y=\"-364.8\" font-family=\"Helvetica,sans-Serif\" font-size=\"14.00\" fill=\"#000000\">value = [0, 2, 6]</text>\n<text text-anchor=\"start\" x=\"753.5\" y=\"-349.8\" font-family=\"Helvetica,sans-Serif\" font-size=\"14.00\" fill=\"#000000\">class = class_2</text>\n</g>\n<!-- 16&#45;&gt;17 -->\n<g id=\"edge17\" class=\"edge\">\n<title>16&#45;&gt;17</title>\n<path fill=\"none\" stroke=\"#000000\" d=\"M803.5,-460.8796C803.5,-452.6838 803.5,-443.9891 803.5,-435.5013\"/>\n<polygon fill=\"#000000\" stroke=\"#000000\" points=\"807.0001,-435.298 803.5,-425.2981 800.0001,-435.2981 807.0001,-435.298\"/>\n</g>\n<!-- 20 -->\n<g id=\"node21\" class=\"node\">\n<title>20</title>\n<path fill=\"#e68540\" stroke=\"#000000\" d=\"M1090,-425C1090,-425 953,-425 953,-425 947,-425 941,-419 941,-413 941,-413 941,-354 941,-354 941,-348 947,-342 953,-342 953,-342 1090,-342 1090,-342 1096,-342 1102,-348 1102,-354 1102,-354 1102,-413 1102,-413 1102,-419 1096,-425 1090,-425\"/>\n<text text-anchor=\"start\" x=\"949\" y=\"-409.8\" font-family=\"Helvetica,sans-Serif\" font-size=\"14.00\" fill=\"#000000\">color_intensity ≤ 3.435</text>\n<text text-anchor=\"start\" x=\"983.5\" y=\"-394.8\" font-family=\"Helvetica,sans-Serif\" font-size=\"14.00\" fill=\"#000000\">gini = 0.065</text>\n<text text-anchor=\"start\" x=\"977.5\" y=\"-379.8\" font-family=\"Helvetica,sans-Serif\" font-size=\"14.00\" fill=\"#000000\">samples = 59</text>\n<text text-anchor=\"start\" x=\"968\" y=\"-364.8\" font-family=\"Helvetica,sans-Serif\" font-size=\"14.00\" fill=\"#000000\">value = [57, 2, 0]</text>\n<text text-anchor=\"start\" x=\"971.5\" y=\"-349.8\" font-family=\"Helvetica,sans-Serif\" font-size=\"14.00\" fill=\"#000000\">class = class_0</text>\n</g>\n<!-- 16&#45;&gt;20 -->\n<g id=\"edge20\" class=\"edge\">\n<title>16&#45;&gt;20</title>\n<path fill=\"none\" stroke=\"#000000\" d=\"M870.686,-465.8251C891.4675,-454.481 914.6392,-441.8322 936.4627,-429.9195\"/>\n<polygon fill=\"#000000\" stroke=\"#000000\" points=\"938.296,-432.9062 945.3965,-425.0428 934.9421,-426.762 938.296,-432.9062\"/>\n</g>\n<!-- 18 -->\n<g id=\"node19\" class=\"node\">\n<title>18</title>\n<path fill=\"#39e581\" stroke=\"#000000\" d=\"M799.5,-298.5C799.5,-298.5 707.5,-298.5 707.5,-298.5 701.5,-298.5 695.5,-292.5 695.5,-286.5 695.5,-286.5 695.5,-242.5 695.5,-242.5 695.5,-236.5 701.5,-230.5 707.5,-230.5 707.5,-230.5 799.5,-230.5 799.5,-230.5 805.5,-230.5 811.5,-236.5 811.5,-242.5 811.5,-242.5 811.5,-286.5 811.5,-286.5 811.5,-292.5 805.5,-298.5 799.5,-298.5\"/>\n<text text-anchor=\"start\" x=\"724\" y=\"-283.3\" font-family=\"Helvetica,sans-Serif\" font-size=\"14.00\" fill=\"#000000\">gini = 0.0</text>\n<text text-anchor=\"start\" x=\"714\" y=\"-268.3\" font-family=\"Helvetica,sans-Serif\" font-size=\"14.00\" fill=\"#000000\">samples = 2</text>\n<text text-anchor=\"start\" x=\"704\" y=\"-253.3\" font-family=\"Helvetica,sans-Serif\" font-size=\"14.00\" fill=\"#000000\">value = [0, 2, 0]</text>\n<text text-anchor=\"start\" x=\"703.5\" y=\"-238.3\" font-family=\"Helvetica,sans-Serif\" font-size=\"14.00\" fill=\"#000000\">class = class_1</text>\n</g>\n<!-- 17&#45;&gt;18 -->\n<g id=\"edge18\" class=\"edge\">\n<title>17&#45;&gt;18</title>\n<path fill=\"none\" stroke=\"#000000\" d=\"M786.0124,-341.8796C781.4384,-330.9935 776.4946,-319.227 771.8758,-308.2344\"/>\n<polygon fill=\"#000000\" stroke=\"#000000\" points=\"775.0185,-306.6784 767.918,-298.8149 768.565,-309.39 775.0185,-306.6784\"/>\n</g>\n<!-- 19 -->\n<g id=\"node20\" class=\"node\">\n<title>19</title>\n<path fill=\"#8139e5\" stroke=\"#000000\" d=\"M933.5,-298.5C933.5,-298.5 841.5,-298.5 841.5,-298.5 835.5,-298.5 829.5,-292.5 829.5,-286.5 829.5,-286.5 829.5,-242.5 829.5,-242.5 829.5,-236.5 835.5,-230.5 841.5,-230.5 841.5,-230.5 933.5,-230.5 933.5,-230.5 939.5,-230.5 945.5,-236.5 945.5,-242.5 945.5,-242.5 945.5,-286.5 945.5,-286.5 945.5,-292.5 939.5,-298.5 933.5,-298.5\"/>\n<text text-anchor=\"start\" x=\"858\" y=\"-283.3\" font-family=\"Helvetica,sans-Serif\" font-size=\"14.00\" fill=\"#000000\">gini = 0.0</text>\n<text text-anchor=\"start\" x=\"848\" y=\"-268.3\" font-family=\"Helvetica,sans-Serif\" font-size=\"14.00\" fill=\"#000000\">samples = 6</text>\n<text text-anchor=\"start\" x=\"838\" y=\"-253.3\" font-family=\"Helvetica,sans-Serif\" font-size=\"14.00\" fill=\"#000000\">value = [0, 0, 6]</text>\n<text text-anchor=\"start\" x=\"837.5\" y=\"-238.3\" font-family=\"Helvetica,sans-Serif\" font-size=\"14.00\" fill=\"#000000\">class = class_2</text>\n</g>\n<!-- 17&#45;&gt;19 -->\n<g id=\"edge19\" class=\"edge\">\n<title>17&#45;&gt;19</title>\n<path fill=\"none\" stroke=\"#000000\" d=\"M832.8791,-341.8796C840.7963,-330.6636 849.3731,-318.5131 857.3325,-307.2372\"/>\n<polygon fill=\"#000000\" stroke=\"#000000\" points=\"860.3702,-309.003 863.2777,-298.8149 854.6514,-304.9662 860.3702,-309.003\"/>\n</g>\n<!-- 21 -->\n<g id=\"node22\" class=\"node\">\n<title>21</title>\n<path fill=\"#39e581\" stroke=\"#000000\" d=\"M1067.5,-298.5C1067.5,-298.5 975.5,-298.5 975.5,-298.5 969.5,-298.5 963.5,-292.5 963.5,-286.5 963.5,-286.5 963.5,-242.5 963.5,-242.5 963.5,-236.5 969.5,-230.5 975.5,-230.5 975.5,-230.5 1067.5,-230.5 1067.5,-230.5 1073.5,-230.5 1079.5,-236.5 1079.5,-242.5 1079.5,-242.5 1079.5,-286.5 1079.5,-286.5 1079.5,-292.5 1073.5,-298.5 1067.5,-298.5\"/>\n<text text-anchor=\"start\" x=\"992\" y=\"-283.3\" font-family=\"Helvetica,sans-Serif\" font-size=\"14.00\" fill=\"#000000\">gini = 0.0</text>\n<text text-anchor=\"start\" x=\"982\" y=\"-268.3\" font-family=\"Helvetica,sans-Serif\" font-size=\"14.00\" fill=\"#000000\">samples = 2</text>\n<text text-anchor=\"start\" x=\"972\" y=\"-253.3\" font-family=\"Helvetica,sans-Serif\" font-size=\"14.00\" fill=\"#000000\">value = [0, 2, 0]</text>\n<text text-anchor=\"start\" x=\"971.5\" y=\"-238.3\" font-family=\"Helvetica,sans-Serif\" font-size=\"14.00\" fill=\"#000000\">class = class_1</text>\n</g>\n<!-- 20&#45;&gt;21 -->\n<g id=\"edge21\" class=\"edge\">\n<title>20&#45;&gt;21</title>\n<path fill=\"none\" stroke=\"#000000\" d=\"M1021.5,-341.8796C1021.5,-331.2134 1021.5,-319.7021 1021.5,-308.9015\"/>\n<polygon fill=\"#000000\" stroke=\"#000000\" points=\"1025.0001,-308.8149 1021.5,-298.8149 1018.0001,-308.815 1025.0001,-308.8149\"/>\n</g>\n<!-- 22 -->\n<g id=\"node23\" class=\"node\">\n<title>22</title>\n<path fill=\"#e58139\" stroke=\"#000000\" d=\"M1209,-298.5C1209,-298.5 1110,-298.5 1110,-298.5 1104,-298.5 1098,-292.5 1098,-286.5 1098,-286.5 1098,-242.5 1098,-242.5 1098,-236.5 1104,-230.5 1110,-230.5 1110,-230.5 1209,-230.5 1209,-230.5 1215,-230.5 1221,-236.5 1221,-242.5 1221,-242.5 1221,-286.5 1221,-286.5 1221,-292.5 1215,-298.5 1209,-298.5\"/>\n<text text-anchor=\"start\" x=\"1130\" y=\"-283.3\" font-family=\"Helvetica,sans-Serif\" font-size=\"14.00\" fill=\"#000000\">gini = 0.0</text>\n<text text-anchor=\"start\" x=\"1115.5\" y=\"-268.3\" font-family=\"Helvetica,sans-Serif\" font-size=\"14.00\" fill=\"#000000\">samples = 57</text>\n<text text-anchor=\"start\" x=\"1106\" y=\"-253.3\" font-family=\"Helvetica,sans-Serif\" font-size=\"14.00\" fill=\"#000000\">value = [57, 0, 0]</text>\n<text text-anchor=\"start\" x=\"1109.5\" y=\"-238.3\" font-family=\"Helvetica,sans-Serif\" font-size=\"14.00\" fill=\"#000000\">class = class_0</text>\n</g>\n<!-- 20&#45;&gt;22 -->\n<g id=\"edge22\" class=\"edge\">\n<title>20&#45;&gt;22</title>\n<path fill=\"none\" stroke=\"#000000\" d=\"M1069.7657,-341.8796C1083.4101,-330.1138 1098.2469,-317.3197 1111.8546,-305.5855\"/>\n<polygon fill=\"#000000\" stroke=\"#000000\" points=\"1114.4187,-307.9961 1119.7062,-298.8149 1109.8473,-302.6948 1114.4187,-307.9961\"/>\n</g>\n</g>\n</svg>\n"
          },
          "metadata": {
            "tags": []
          },
          "execution_count": 33
        }
      ]
    },
    {
      "cell_type": "code",
      "metadata": {
        "id": "-psfFD8TwS1D"
      },
      "source": [
        "#################### set criterion to entropy\n",
        "clf = tree.DecisionTreeClassifier(criterion='entropy')\n",
        "clf = clf.fit(wine.data, wine.target)"
      ],
      "execution_count": 34,
      "outputs": []
    },
    {
      "cell_type": "code",
      "metadata": {
        "colab": {
          "base_uri": "https://localhost:8080/",
          "height": 757
        },
        "id": "1dtcHnruwS4q",
        "outputId": "dee6aa7f-254d-4251-f6c9-e735c0c759b7"
      },
      "source": [
        "###################### print decision tree visualization\n",
        "dot_data = tree.export_graphviz(clf, out_file=None) \n",
        "graph = graphviz.Source(dot_data) \n",
        "graph.render(\"wine\") \n",
        "dot_data = tree.export_graphviz(clf, out_file=None, \n",
        "                         feature_names=wine.feature_names,  \n",
        "                         class_names=wine.target_names,  \n",
        "                         filled=True, rounded=True,\n",
        "                         special_characters=True)  \n",
        "graph = graphviz.Source(dot_data)  \n",
        "graph"
      ],
      "execution_count": 35,
      "outputs": [
        {
          "output_type": "execute_result",
          "data": {
            "text/plain": [
              "<graphviz.files.Source at 0x7f0d54423e10>"
            ],
            "image/svg+xml": "<?xml version=\"1.0\" encoding=\"UTF-8\" standalone=\"no\"?>\n<!DOCTYPE svg PUBLIC \"-//W3C//DTD SVG 1.1//EN\"\n \"http://www.w3.org/Graphics/SVG/1.1/DTD/svg11.dtd\">\n<!-- Generated by graphviz version 2.40.1 (20161225.0304)\n -->\n<!-- Title: Tree Pages: 1 -->\n<svg width=\"910pt\" height=\"552pt\"\n viewBox=\"0.00 0.00 910.00 552.00\" xmlns=\"http://www.w3.org/2000/svg\" xmlns:xlink=\"http://www.w3.org/1999/xlink\">\n<g id=\"graph0\" class=\"graph\" transform=\"scale(1 1) rotate(0) translate(4 548)\">\n<title>Tree</title>\n<polygon fill=\"#ffffff\" stroke=\"transparent\" points=\"-4,4 -4,-548 906,-548 906,4 -4,4\"/>\n<!-- 0 -->\n<g id=\"node1\" class=\"node\">\n<title>0</title>\n<path fill=\"#ebfcf2\" stroke=\"#000000\" d=\"M371.5,-544C371.5,-544 255.5,-544 255.5,-544 249.5,-544 243.5,-538 243.5,-532 243.5,-532 243.5,-473 243.5,-473 243.5,-467 249.5,-461 255.5,-461 255.5,-461 371.5,-461 371.5,-461 377.5,-461 383.5,-467 383.5,-473 383.5,-473 383.5,-532 383.5,-532 383.5,-538 377.5,-544 371.5,-544\"/>\n<text text-anchor=\"start\" x=\"254.5\" y=\"-528.8\" font-family=\"Helvetica,sans-Serif\" font-size=\"14.00\" fill=\"#000000\">flavanoids ≤ 1.575</text>\n<text text-anchor=\"start\" x=\"262.5\" y=\"-513.8\" font-family=\"Helvetica,sans-Serif\" font-size=\"14.00\" fill=\"#000000\">entropy = 1.567</text>\n<text text-anchor=\"start\" x=\"265.5\" y=\"-498.8\" font-family=\"Helvetica,sans-Serif\" font-size=\"14.00\" fill=\"#000000\">samples = 178</text>\n<text text-anchor=\"start\" x=\"251.5\" y=\"-483.8\" font-family=\"Helvetica,sans-Serif\" font-size=\"14.00\" fill=\"#000000\">value = [59, 71, 48]</text>\n<text text-anchor=\"start\" x=\"263.5\" y=\"-468.8\" font-family=\"Helvetica,sans-Serif\" font-size=\"14.00\" fill=\"#000000\">class = class_1</text>\n</g>\n<!-- 1 -->\n<g id=\"node2\" class=\"node\">\n<title>1</title>\n<path fill=\"#a673ed\" stroke=\"#000000\" d=\"M298,-425C298,-425 161,-425 161,-425 155,-425 149,-419 149,-413 149,-413 149,-354 149,-354 149,-348 155,-342 161,-342 161,-342 298,-342 298,-342 304,-342 310,-348 310,-354 310,-354 310,-413 310,-413 310,-419 304,-425 298,-425\"/>\n<text text-anchor=\"start\" x=\"157\" y=\"-409.8\" font-family=\"Helvetica,sans-Serif\" font-size=\"14.00\" fill=\"#000000\">color_intensity ≤ 3.825</text>\n<text text-anchor=\"start\" x=\"178.5\" y=\"-394.8\" font-family=\"Helvetica,sans-Serif\" font-size=\"14.00\" fill=\"#000000\">entropy = 0.771</text>\n<text text-anchor=\"start\" x=\"185.5\" y=\"-379.8\" font-family=\"Helvetica,sans-Serif\" font-size=\"14.00\" fill=\"#000000\">samples = 62</text>\n<text text-anchor=\"start\" x=\"172\" y=\"-364.8\" font-family=\"Helvetica,sans-Serif\" font-size=\"14.00\" fill=\"#000000\">value = [0, 14, 48]</text>\n<text text-anchor=\"start\" x=\"179.5\" y=\"-349.8\" font-family=\"Helvetica,sans-Serif\" font-size=\"14.00\" fill=\"#000000\">class = class_2</text>\n</g>\n<!-- 0&#45;&gt;1 -->\n<g id=\"edge1\" class=\"edge\">\n<title>0&#45;&gt;1</title>\n<path fill=\"none\" stroke=\"#000000\" d=\"M284.1209,-460.8796C277.8906,-452.0534 271.2519,-442.6485 264.827,-433.5466\"/>\n<polygon fill=\"#000000\" stroke=\"#000000\" points=\"267.6308,-431.4494 259.0045,-425.2981 261.912,-435.4862 267.6308,-431.4494\"/>\n<text text-anchor=\"middle\" x=\"254.7568\" y=\"-446.2346\" font-family=\"Helvetica,sans-Serif\" font-size=\"14.00\" fill=\"#000000\">True</text>\n</g>\n<!-- 6 -->\n<g id=\"node7\" class=\"node\">\n<title>6</title>\n<path fill=\"#fefbf8\" stroke=\"#000000\" d=\"M521,-425C521,-425 414,-425 414,-425 408,-425 402,-419 402,-413 402,-413 402,-354 402,-354 402,-348 408,-342 414,-342 414,-342 521,-342 521,-342 527,-342 533,-348 533,-354 533,-354 533,-413 533,-413 533,-419 527,-425 521,-425\"/>\n<text text-anchor=\"start\" x=\"419.5\" y=\"-409.8\" font-family=\"Helvetica,sans-Serif\" font-size=\"14.00\" fill=\"#000000\">proline ≤ 724.5</text>\n<text text-anchor=\"start\" x=\"425\" y=\"-394.8\" font-family=\"Helvetica,sans-Serif\" font-size=\"14.00\" fill=\"#000000\">entropy = 1.0</text>\n<text text-anchor=\"start\" x=\"419.5\" y=\"-379.8\" font-family=\"Helvetica,sans-Serif\" font-size=\"14.00\" fill=\"#000000\">samples = 116</text>\n<text text-anchor=\"start\" x=\"410\" y=\"-364.8\" font-family=\"Helvetica,sans-Serif\" font-size=\"14.00\" fill=\"#000000\">value = [59, 57, 0]</text>\n<text text-anchor=\"start\" x=\"417.5\" y=\"-349.8\" font-family=\"Helvetica,sans-Serif\" font-size=\"14.00\" fill=\"#000000\">class = class_0</text>\n</g>\n<!-- 0&#45;&gt;6 -->\n<g id=\"edge6\" class=\"edge\">\n<title>0&#45;&gt;6</title>\n<path fill=\"none\" stroke=\"#000000\" d=\"M367.3617,-460.8796C379.6709,-451.368 392.8497,-441.1843 405.4704,-431.432\"/>\n<polygon fill=\"#000000\" stroke=\"#000000\" points=\"407.8959,-433.9809 413.6687,-425.0969 403.6157,-428.4419 407.8959,-433.9809\"/>\n<text text-anchor=\"middle\" x=\"410.4896\" y=\"-446.194\" font-family=\"Helvetica,sans-Serif\" font-size=\"14.00\" fill=\"#000000\">False</text>\n</g>\n<!-- 2 -->\n<g id=\"node3\" class=\"node\">\n<title>2</title>\n<path fill=\"#39e581\" stroke=\"#000000\" d=\"M111,-298.5C111,-298.5 12,-298.5 12,-298.5 6,-298.5 0,-292.5 0,-286.5 0,-286.5 0,-242.5 0,-242.5 0,-236.5 6,-230.5 12,-230.5 12,-230.5 111,-230.5 111,-230.5 117,-230.5 123,-236.5 123,-242.5 123,-242.5 123,-286.5 123,-286.5 123,-292.5 117,-298.5 111,-298.5\"/>\n<text text-anchor=\"start\" x=\"19\" y=\"-283.3\" font-family=\"Helvetica,sans-Serif\" font-size=\"14.00\" fill=\"#000000\">entropy = 0.0</text>\n<text text-anchor=\"start\" x=\"17.5\" y=\"-268.3\" font-family=\"Helvetica,sans-Serif\" font-size=\"14.00\" fill=\"#000000\">samples = 13</text>\n<text text-anchor=\"start\" x=\"8\" y=\"-253.3\" font-family=\"Helvetica,sans-Serif\" font-size=\"14.00\" fill=\"#000000\">value = [0, 13, 0]</text>\n<text text-anchor=\"start\" x=\"11.5\" y=\"-238.3\" font-family=\"Helvetica,sans-Serif\" font-size=\"14.00\" fill=\"#000000\">class = class_1</text>\n</g>\n<!-- 1&#45;&gt;2 -->\n<g id=\"edge2\" class=\"edge\">\n<title>1&#45;&gt;2</title>\n<path fill=\"none\" stroke=\"#000000\" d=\"M170.7418,-341.8796C153.5842,-329.7263 134.8777,-316.4759 117.8714,-304.4297\"/>\n<polygon fill=\"#000000\" stroke=\"#000000\" points=\"119.857,-301.5472 109.6737,-298.623 115.8109,-307.2593 119.857,-301.5472\"/>\n</g>\n<!-- 3 -->\n<g id=\"node4\" class=\"node\">\n<title>3</title>\n<path fill=\"#843de6\" stroke=\"#000000\" d=\"M305.5,-306C305.5,-306 153.5,-306 153.5,-306 147.5,-306 141.5,-300 141.5,-294 141.5,-294 141.5,-235 141.5,-235 141.5,-229 147.5,-223 153.5,-223 153.5,-223 305.5,-223 305.5,-223 311.5,-223 317.5,-229 317.5,-235 317.5,-235 317.5,-294 317.5,-294 317.5,-300 311.5,-306 305.5,-306\"/>\n<text text-anchor=\"start\" x=\"149.5\" y=\"-290.8\" font-family=\"Helvetica,sans-Serif\" font-size=\"14.00\" fill=\"#000000\">alcalinity_of_ash ≤ 17.15</text>\n<text text-anchor=\"start\" x=\"178.5\" y=\"-275.8\" font-family=\"Helvetica,sans-Serif\" font-size=\"14.00\" fill=\"#000000\">entropy = 0.144</text>\n<text text-anchor=\"start\" x=\"185.5\" y=\"-260.8\" font-family=\"Helvetica,sans-Serif\" font-size=\"14.00\" fill=\"#000000\">samples = 49</text>\n<text text-anchor=\"start\" x=\"176\" y=\"-245.8\" font-family=\"Helvetica,sans-Serif\" font-size=\"14.00\" fill=\"#000000\">value = [0, 1, 48]</text>\n<text text-anchor=\"start\" x=\"179.5\" y=\"-230.8\" font-family=\"Helvetica,sans-Serif\" font-size=\"14.00\" fill=\"#000000\">class = class_2</text>\n</g>\n<!-- 1&#45;&gt;3 -->\n<g id=\"edge3\" class=\"edge\">\n<title>1&#45;&gt;3</title>\n<path fill=\"none\" stroke=\"#000000\" d=\"M229.5,-341.8796C229.5,-333.6838 229.5,-324.9891 229.5,-316.5013\"/>\n<polygon fill=\"#000000\" stroke=\"#000000\" points=\"233.0001,-316.298 229.5,-306.2981 226.0001,-316.2981 233.0001,-316.298\"/>\n</g>\n<!-- 4 -->\n<g id=\"node5\" class=\"node\">\n<title>4</title>\n<path fill=\"#39e581\" stroke=\"#000000\" d=\"M137.5,-179.5C137.5,-179.5 45.5,-179.5 45.5,-179.5 39.5,-179.5 33.5,-173.5 33.5,-167.5 33.5,-167.5 33.5,-123.5 33.5,-123.5 33.5,-117.5 39.5,-111.5 45.5,-111.5 45.5,-111.5 137.5,-111.5 137.5,-111.5 143.5,-111.5 149.5,-117.5 149.5,-123.5 149.5,-123.5 149.5,-167.5 149.5,-167.5 149.5,-173.5 143.5,-179.5 137.5,-179.5\"/>\n<text text-anchor=\"start\" x=\"49\" y=\"-164.3\" font-family=\"Helvetica,sans-Serif\" font-size=\"14.00\" fill=\"#000000\">entropy = 0.0</text>\n<text text-anchor=\"start\" x=\"52\" y=\"-149.3\" font-family=\"Helvetica,sans-Serif\" font-size=\"14.00\" fill=\"#000000\">samples = 1</text>\n<text text-anchor=\"start\" x=\"42\" y=\"-134.3\" font-family=\"Helvetica,sans-Serif\" font-size=\"14.00\" fill=\"#000000\">value = [0, 1, 0]</text>\n<text text-anchor=\"start\" x=\"41.5\" y=\"-119.3\" font-family=\"Helvetica,sans-Serif\" font-size=\"14.00\" fill=\"#000000\">class = class_1</text>\n</g>\n<!-- 3&#45;&gt;4 -->\n<g id=\"edge4\" class=\"edge\">\n<title>3&#45;&gt;4</title>\n<path fill=\"none\" stroke=\"#000000\" d=\"M181.2343,-222.8796C167.5899,-211.1138 152.7531,-198.3197 139.1454,-186.5855\"/>\n<polygon fill=\"#000000\" stroke=\"#000000\" points=\"141.1527,-183.6948 131.2938,-179.8149 136.5813,-188.9961 141.1527,-183.6948\"/>\n</g>\n<!-- 5 -->\n<g id=\"node6\" class=\"node\">\n<title>5</title>\n<path fill=\"#8139e5\" stroke=\"#000000\" d=\"M279,-179.5C279,-179.5 180,-179.5 180,-179.5 174,-179.5 168,-173.5 168,-167.5 168,-167.5 168,-123.5 168,-123.5 168,-117.5 174,-111.5 180,-111.5 180,-111.5 279,-111.5 279,-111.5 285,-111.5 291,-117.5 291,-123.5 291,-123.5 291,-167.5 291,-167.5 291,-173.5 285,-179.5 279,-179.5\"/>\n<text text-anchor=\"start\" x=\"187\" y=\"-164.3\" font-family=\"Helvetica,sans-Serif\" font-size=\"14.00\" fill=\"#000000\">entropy = 0.0</text>\n<text text-anchor=\"start\" x=\"185.5\" y=\"-149.3\" font-family=\"Helvetica,sans-Serif\" font-size=\"14.00\" fill=\"#000000\">samples = 48</text>\n<text text-anchor=\"start\" x=\"176\" y=\"-134.3\" font-family=\"Helvetica,sans-Serif\" font-size=\"14.00\" fill=\"#000000\">value = [0, 0, 48]</text>\n<text text-anchor=\"start\" x=\"179.5\" y=\"-119.3\" font-family=\"Helvetica,sans-Serif\" font-size=\"14.00\" fill=\"#000000\">class = class_2</text>\n</g>\n<!-- 3&#45;&gt;5 -->\n<g id=\"edge5\" class=\"edge\">\n<title>3&#45;&gt;5</title>\n<path fill=\"none\" stroke=\"#000000\" d=\"M229.5,-222.8796C229.5,-212.2134 229.5,-200.7021 229.5,-189.9015\"/>\n<polygon fill=\"#000000\" stroke=\"#000000\" points=\"233.0001,-189.8149 229.5,-179.8149 226.0001,-189.815 233.0001,-189.8149\"/>\n</g>\n<!-- 7 -->\n<g id=\"node8\" class=\"node\">\n<title>7</title>\n<path fill=\"#3de583\" stroke=\"#000000\" d=\"M517,-306C517,-306 418,-306 418,-306 412,-306 406,-300 406,-294 406,-294 406,-235 406,-235 406,-229 412,-223 418,-223 418,-223 517,-223 517,-223 523,-223 529,-229 529,-235 529,-235 529,-294 529,-294 529,-300 523,-306 517,-306\"/>\n<text text-anchor=\"start\" x=\"414\" y=\"-290.8\" font-family=\"Helvetica,sans-Serif\" font-size=\"14.00\" fill=\"#000000\">alcohol ≤ 13.175</text>\n<text text-anchor=\"start\" x=\"416.5\" y=\"-275.8\" font-family=\"Helvetica,sans-Serif\" font-size=\"14.00\" fill=\"#000000\">entropy = 0.133</text>\n<text text-anchor=\"start\" x=\"423.5\" y=\"-260.8\" font-family=\"Helvetica,sans-Serif\" font-size=\"14.00\" fill=\"#000000\">samples = 54</text>\n<text text-anchor=\"start\" x=\"414\" y=\"-245.8\" font-family=\"Helvetica,sans-Serif\" font-size=\"14.00\" fill=\"#000000\">value = [1, 53, 0]</text>\n<text text-anchor=\"start\" x=\"417.5\" y=\"-230.8\" font-family=\"Helvetica,sans-Serif\" font-size=\"14.00\" fill=\"#000000\">class = class_1</text>\n</g>\n<!-- 6&#45;&gt;7 -->\n<g id=\"edge7\" class=\"edge\">\n<title>6&#45;&gt;7</title>\n<path fill=\"none\" stroke=\"#000000\" d=\"M467.5,-341.8796C467.5,-333.6838 467.5,-324.9891 467.5,-316.5013\"/>\n<polygon fill=\"#000000\" stroke=\"#000000\" points=\"471.0001,-316.298 467.5,-306.2981 464.0001,-316.2981 471.0001,-316.298\"/>\n</g>\n<!-- 12 -->\n<g id=\"node13\" class=\"node\">\n<title>12</title>\n<path fill=\"#e78a47\" stroke=\"#000000\" d=\"M767,-306C767,-306 638,-306 638,-306 632,-306 626,-300 626,-294 626,-294 626,-235 626,-235 626,-229 632,-223 638,-223 638,-223 767,-223 767,-223 773,-223 779,-229 779,-235 779,-235 779,-294 779,-294 779,-300 773,-306 767,-306\"/>\n<text text-anchor=\"start\" x=\"634\" y=\"-290.8\" font-family=\"Helvetica,sans-Serif\" font-size=\"14.00\" fill=\"#000000\">color_intensity ≤ 3.46</text>\n<text text-anchor=\"start\" x=\"651.5\" y=\"-275.8\" font-family=\"Helvetica,sans-Serif\" font-size=\"14.00\" fill=\"#000000\">entropy = 0.345</text>\n<text text-anchor=\"start\" x=\"658.5\" y=\"-260.8\" font-family=\"Helvetica,sans-Serif\" font-size=\"14.00\" fill=\"#000000\">samples = 62</text>\n<text text-anchor=\"start\" x=\"649\" y=\"-245.8\" font-family=\"Helvetica,sans-Serif\" font-size=\"14.00\" fill=\"#000000\">value = [58, 4, 0]</text>\n<text text-anchor=\"start\" x=\"652.5\" y=\"-230.8\" font-family=\"Helvetica,sans-Serif\" font-size=\"14.00\" fill=\"#000000\">class = class_0</text>\n</g>\n<!-- 6&#45;&gt;12 -->\n<g id=\"edge12\" class=\"edge\">\n<title>6&#45;&gt;12</title>\n<path fill=\"none\" stroke=\"#000000\" d=\"M533.2731,-350.1936C559.1357,-337.0973 589.1755,-321.8856 616.7054,-307.9449\"/>\n<polygon fill=\"#000000\" stroke=\"#000000\" points=\"618.5956,-310.911 625.9358,-303.2708 615.4332,-304.666 618.5956,-310.911\"/>\n</g>\n<!-- 8 -->\n<g id=\"node9\" class=\"node\">\n<title>8</title>\n<path fill=\"#39e581\" stroke=\"#000000\" d=\"M420,-179.5C420,-179.5 321,-179.5 321,-179.5 315,-179.5 309,-173.5 309,-167.5 309,-167.5 309,-123.5 309,-123.5 309,-117.5 315,-111.5 321,-111.5 321,-111.5 420,-111.5 420,-111.5 426,-111.5 432,-117.5 432,-123.5 432,-123.5 432,-167.5 432,-167.5 432,-173.5 426,-179.5 420,-179.5\"/>\n<text text-anchor=\"start\" x=\"328\" y=\"-164.3\" font-family=\"Helvetica,sans-Serif\" font-size=\"14.00\" fill=\"#000000\">entropy = 0.0</text>\n<text text-anchor=\"start\" x=\"326.5\" y=\"-149.3\" font-family=\"Helvetica,sans-Serif\" font-size=\"14.00\" fill=\"#000000\">samples = 50</text>\n<text text-anchor=\"start\" x=\"317\" y=\"-134.3\" font-family=\"Helvetica,sans-Serif\" font-size=\"14.00\" fill=\"#000000\">value = [0, 50, 0]</text>\n<text text-anchor=\"start\" x=\"320.5\" y=\"-119.3\" font-family=\"Helvetica,sans-Serif\" font-size=\"14.00\" fill=\"#000000\">class = class_1</text>\n</g>\n<!-- 7&#45;&gt;8 -->\n<g id=\"edge8\" class=\"edge\">\n<title>7&#45;&gt;8</title>\n<path fill=\"none\" stroke=\"#000000\" d=\"M433.5741,-222.8796C424.2524,-211.4436 414.1388,-199.0363 404.7964,-187.575\"/>\n<polygon fill=\"#000000\" stroke=\"#000000\" points=\"407.5021,-185.3548 398.471,-179.8149 402.0763,-189.7775 407.5021,-185.3548\"/>\n</g>\n<!-- 9 -->\n<g id=\"node10\" class=\"node\">\n<title>9</title>\n<path fill=\"#7beeab\" stroke=\"#000000\" d=\"M614.5,-187C614.5,-187 462.5,-187 462.5,-187 456.5,-187 450.5,-181 450.5,-175 450.5,-175 450.5,-116 450.5,-116 450.5,-110 456.5,-104 462.5,-104 462.5,-104 614.5,-104 614.5,-104 620.5,-104 626.5,-110 626.5,-116 626.5,-116 626.5,-175 626.5,-175 626.5,-181 620.5,-187 614.5,-187\"/>\n<text text-anchor=\"start\" x=\"458.5\" y=\"-171.8\" font-family=\"Helvetica,sans-Serif\" font-size=\"14.00\" fill=\"#000000\">alcalinity_of_ash ≤ 17.75</text>\n<text text-anchor=\"start\" x=\"487.5\" y=\"-156.8\" font-family=\"Helvetica,sans-Serif\" font-size=\"14.00\" fill=\"#000000\">entropy = 0.811</text>\n<text text-anchor=\"start\" x=\"499\" y=\"-141.8\" font-family=\"Helvetica,sans-Serif\" font-size=\"14.00\" fill=\"#000000\">samples = 4</text>\n<text text-anchor=\"start\" x=\"489\" y=\"-126.8\" font-family=\"Helvetica,sans-Serif\" font-size=\"14.00\" fill=\"#000000\">value = [1, 3, 0]</text>\n<text text-anchor=\"start\" x=\"488.5\" y=\"-111.8\" font-family=\"Helvetica,sans-Serif\" font-size=\"14.00\" fill=\"#000000\">class = class_1</text>\n</g>\n<!-- 7&#45;&gt;9 -->\n<g id=\"edge9\" class=\"edge\">\n<title>7&#45;&gt;9</title>\n<path fill=\"none\" stroke=\"#000000\" d=\"M492.3324,-222.8796C497.4909,-214.2335 502.9808,-205.0322 508.3076,-196.1042\"/>\n<polygon fill=\"#000000\" stroke=\"#000000\" points=\"511.4436,-197.679 513.5617,-187.2981 505.4322,-194.0924 511.4436,-197.679\"/>\n</g>\n<!-- 10 -->\n<g id=\"node11\" class=\"node\">\n<title>10</title>\n<path fill=\"#e58139\" stroke=\"#000000\" d=\"M517.5,-68C517.5,-68 425.5,-68 425.5,-68 419.5,-68 413.5,-62 413.5,-56 413.5,-56 413.5,-12 413.5,-12 413.5,-6 419.5,0 425.5,0 425.5,0 517.5,0 517.5,0 523.5,0 529.5,-6 529.5,-12 529.5,-12 529.5,-56 529.5,-56 529.5,-62 523.5,-68 517.5,-68\"/>\n<text text-anchor=\"start\" x=\"429\" y=\"-52.8\" font-family=\"Helvetica,sans-Serif\" font-size=\"14.00\" fill=\"#000000\">entropy = 0.0</text>\n<text text-anchor=\"start\" x=\"432\" y=\"-37.8\" font-family=\"Helvetica,sans-Serif\" font-size=\"14.00\" fill=\"#000000\">samples = 1</text>\n<text text-anchor=\"start\" x=\"422\" y=\"-22.8\" font-family=\"Helvetica,sans-Serif\" font-size=\"14.00\" fill=\"#000000\">value = [1, 0, 0]</text>\n<text text-anchor=\"start\" x=\"421.5\" y=\"-7.8\" font-family=\"Helvetica,sans-Serif\" font-size=\"14.00\" fill=\"#000000\">class = class_0</text>\n</g>\n<!-- 9&#45;&gt;10 -->\n<g id=\"edge10\" class=\"edge\">\n<title>9&#45;&gt;10</title>\n<path fill=\"none\" stroke=\"#000000\" d=\"M513.5517,-103.9815C508.2499,-95.1585 502.6419,-85.8258 497.3089,-76.9506\"/>\n<polygon fill=\"#000000\" stroke=\"#000000\" points=\"500.2396,-75.0325 492.0889,-68.2637 494.2395,-78.638 500.2396,-75.0325\"/>\n</g>\n<!-- 11 -->\n<g id=\"node12\" class=\"node\">\n<title>11</title>\n<path fill=\"#39e581\" stroke=\"#000000\" d=\"M651.5,-68C651.5,-68 559.5,-68 559.5,-68 553.5,-68 547.5,-62 547.5,-56 547.5,-56 547.5,-12 547.5,-12 547.5,-6 553.5,0 559.5,0 559.5,0 651.5,0 651.5,0 657.5,0 663.5,-6 663.5,-12 663.5,-12 663.5,-56 663.5,-56 663.5,-62 657.5,-68 651.5,-68\"/>\n<text text-anchor=\"start\" x=\"563\" y=\"-52.8\" font-family=\"Helvetica,sans-Serif\" font-size=\"14.00\" fill=\"#000000\">entropy = 0.0</text>\n<text text-anchor=\"start\" x=\"566\" y=\"-37.8\" font-family=\"Helvetica,sans-Serif\" font-size=\"14.00\" fill=\"#000000\">samples = 3</text>\n<text text-anchor=\"start\" x=\"556\" y=\"-22.8\" font-family=\"Helvetica,sans-Serif\" font-size=\"14.00\" fill=\"#000000\">value = [0, 3, 0]</text>\n<text text-anchor=\"start\" x=\"555.5\" y=\"-7.8\" font-family=\"Helvetica,sans-Serif\" font-size=\"14.00\" fill=\"#000000\">class = class_1</text>\n</g>\n<!-- 9&#45;&gt;11 -->\n<g id=\"edge11\" class=\"edge\">\n<title>9&#45;&gt;11</title>\n<path fill=\"none\" stroke=\"#000000\" d=\"M563.4483,-103.9815C568.7501,-95.1585 574.3581,-85.8258 579.6911,-76.9506\"/>\n<polygon fill=\"#000000\" stroke=\"#000000\" points=\"582.7605,-78.638 584.9111,-68.2637 576.7604,-75.0325 582.7605,-78.638\"/>\n</g>\n<!-- 13 -->\n<g id=\"node14\" class=\"node\">\n<title>13</title>\n<path fill=\"#39e581\" stroke=\"#000000\" d=\"M748.5,-179.5C748.5,-179.5 656.5,-179.5 656.5,-179.5 650.5,-179.5 644.5,-173.5 644.5,-167.5 644.5,-167.5 644.5,-123.5 644.5,-123.5 644.5,-117.5 650.5,-111.5 656.5,-111.5 656.5,-111.5 748.5,-111.5 748.5,-111.5 754.5,-111.5 760.5,-117.5 760.5,-123.5 760.5,-123.5 760.5,-167.5 760.5,-167.5 760.5,-173.5 754.5,-179.5 748.5,-179.5\"/>\n<text text-anchor=\"start\" x=\"660\" y=\"-164.3\" font-family=\"Helvetica,sans-Serif\" font-size=\"14.00\" fill=\"#000000\">entropy = 0.0</text>\n<text text-anchor=\"start\" x=\"663\" y=\"-149.3\" font-family=\"Helvetica,sans-Serif\" font-size=\"14.00\" fill=\"#000000\">samples = 4</text>\n<text text-anchor=\"start\" x=\"653\" y=\"-134.3\" font-family=\"Helvetica,sans-Serif\" font-size=\"14.00\" fill=\"#000000\">value = [0, 4, 0]</text>\n<text text-anchor=\"start\" x=\"652.5\" y=\"-119.3\" font-family=\"Helvetica,sans-Serif\" font-size=\"14.00\" fill=\"#000000\">class = class_1</text>\n</g>\n<!-- 12&#45;&gt;13 -->\n<g id=\"edge13\" class=\"edge\">\n<title>12&#45;&gt;13</title>\n<path fill=\"none\" stroke=\"#000000\" d=\"M702.5,-222.8796C702.5,-212.2134 702.5,-200.7021 702.5,-189.9015\"/>\n<polygon fill=\"#000000\" stroke=\"#000000\" points=\"706.0001,-189.8149 702.5,-179.8149 699.0001,-189.815 706.0001,-189.8149\"/>\n</g>\n<!-- 14 -->\n<g id=\"node15\" class=\"node\">\n<title>14</title>\n<path fill=\"#e58139\" stroke=\"#000000\" d=\"M890,-179.5C890,-179.5 791,-179.5 791,-179.5 785,-179.5 779,-173.5 779,-167.5 779,-167.5 779,-123.5 779,-123.5 779,-117.5 785,-111.5 791,-111.5 791,-111.5 890,-111.5 890,-111.5 896,-111.5 902,-117.5 902,-123.5 902,-123.5 902,-167.5 902,-167.5 902,-173.5 896,-179.5 890,-179.5\"/>\n<text text-anchor=\"start\" x=\"798\" y=\"-164.3\" font-family=\"Helvetica,sans-Serif\" font-size=\"14.00\" fill=\"#000000\">entropy = 0.0</text>\n<text text-anchor=\"start\" x=\"796.5\" y=\"-149.3\" font-family=\"Helvetica,sans-Serif\" font-size=\"14.00\" fill=\"#000000\">samples = 58</text>\n<text text-anchor=\"start\" x=\"787\" y=\"-134.3\" font-family=\"Helvetica,sans-Serif\" font-size=\"14.00\" fill=\"#000000\">value = [58, 0, 0]</text>\n<text text-anchor=\"start\" x=\"790.5\" y=\"-119.3\" font-family=\"Helvetica,sans-Serif\" font-size=\"14.00\" fill=\"#000000\">class = class_0</text>\n</g>\n<!-- 12&#45;&gt;14 -->\n<g id=\"edge14\" class=\"edge\">\n<title>12&#45;&gt;14</title>\n<path fill=\"none\" stroke=\"#000000\" d=\"M750.7657,-222.8796C764.4101,-211.1138 779.2469,-198.3197 792.8546,-186.5855\"/>\n<polygon fill=\"#000000\" stroke=\"#000000\" points=\"795.4187,-188.9961 800.7062,-179.8149 790.8473,-183.6948 795.4187,-188.9961\"/>\n</g>\n</g>\n</svg>\n"
          },
          "metadata": {
            "tags": []
          },
          "execution_count": 35
        }
      ]
    }
  ]
}